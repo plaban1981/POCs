{
  "nbformat": 4,
  "nbformat_minor": 0,
  "metadata": {
    "colab": {
      "name": " Question Answering with a Fine-Tuned BERT.ipynb",
      "provenance": [],
      "collapsed_sections": [],
      "toc_visible": true,
      "machine_shape": "hm",
      "include_colab_link": true
    },
    "kernelspec": {
      "name": "python3",
      "display_name": "Python 3"
    },
    "widgets": {
      "application/vnd.jupyter.widget-state+json": {
        "e2f525aebc1b43fea980a6f4ef1accb9": {
          "model_module": "@jupyter-widgets/controls",
          "model_name": "HBoxModel",
          "model_module_version": "1.5.0",
          "state": {
            "_view_name": "HBoxView",
            "_dom_classes": [],
            "_model_name": "HBoxModel",
            "_view_module": "@jupyter-widgets/controls",
            "_model_module_version": "1.5.0",
            "_view_count": null,
            "_view_module_version": "1.5.0",
            "box_style": "",
            "layout": "IPY_MODEL_13bd45b4f7494ad4a1553ba65546c413",
            "_model_module": "@jupyter-widgets/controls",
            "children": [
              "IPY_MODEL_0fb88d4f1f3f4c00a136b003e3c9634f",
              "IPY_MODEL_f091118c6bc24571809bafdbf47a5552",
              "IPY_MODEL_bf4bfc24845346ad9628aa2cd55fb4d9"
            ]
          }
        },
        "13bd45b4f7494ad4a1553ba65546c413": {
          "model_module": "@jupyter-widgets/base",
          "model_name": "LayoutModel",
          "model_module_version": "1.2.0",
          "state": {
            "_view_name": "LayoutView",
            "grid_template_rows": null,
            "right": null,
            "justify_content": null,
            "_view_module": "@jupyter-widgets/base",
            "overflow": null,
            "_model_module_version": "1.2.0",
            "_view_count": null,
            "flex_flow": null,
            "width": null,
            "min_width": null,
            "border": null,
            "align_items": null,
            "bottom": null,
            "_model_module": "@jupyter-widgets/base",
            "top": null,
            "grid_column": null,
            "overflow_y": null,
            "overflow_x": null,
            "grid_auto_flow": null,
            "grid_area": null,
            "grid_template_columns": null,
            "flex": null,
            "_model_name": "LayoutModel",
            "justify_items": null,
            "grid_row": null,
            "max_height": null,
            "align_content": null,
            "visibility": null,
            "align_self": null,
            "height": null,
            "min_height": null,
            "padding": null,
            "grid_auto_rows": null,
            "grid_gap": null,
            "max_width": null,
            "order": null,
            "_view_module_version": "1.2.0",
            "grid_template_areas": null,
            "object_position": null,
            "object_fit": null,
            "grid_auto_columns": null,
            "margin": null,
            "display": null,
            "left": null
          }
        },
        "0fb88d4f1f3f4c00a136b003e3c9634f": {
          "model_module": "@jupyter-widgets/controls",
          "model_name": "HTMLModel",
          "model_module_version": "1.5.0",
          "state": {
            "_view_name": "HTMLView",
            "style": "IPY_MODEL_da3ba729a86a428badfa1b4ac9bfc8f9",
            "_dom_classes": [],
            "description": "",
            "_model_name": "HTMLModel",
            "placeholder": "​",
            "_view_module": "@jupyter-widgets/controls",
            "_model_module_version": "1.5.0",
            "value": "Downloading: 100%",
            "_view_count": null,
            "_view_module_version": "1.5.0",
            "description_tooltip": null,
            "_model_module": "@jupyter-widgets/controls",
            "layout": "IPY_MODEL_6b1a74d262e44cf6b6283c0880e29345"
          }
        },
        "f091118c6bc24571809bafdbf47a5552": {
          "model_module": "@jupyter-widgets/controls",
          "model_name": "FloatProgressModel",
          "model_module_version": "1.5.0",
          "state": {
            "_view_name": "ProgressView",
            "style": "IPY_MODEL_40e67b359c4b4d839fc32a1c57105a32",
            "_dom_classes": [],
            "description": "",
            "_model_name": "FloatProgressModel",
            "bar_style": "success",
            "max": 443,
            "_view_module": "@jupyter-widgets/controls",
            "_model_module_version": "1.5.0",
            "value": 443,
            "_view_count": null,
            "_view_module_version": "1.5.0",
            "orientation": "horizontal",
            "min": 0,
            "description_tooltip": null,
            "_model_module": "@jupyter-widgets/controls",
            "layout": "IPY_MODEL_3a93106ad349402bbfd04477511e4bef"
          }
        },
        "bf4bfc24845346ad9628aa2cd55fb4d9": {
          "model_module": "@jupyter-widgets/controls",
          "model_name": "HTMLModel",
          "model_module_version": "1.5.0",
          "state": {
            "_view_name": "HTMLView",
            "style": "IPY_MODEL_5cb0a45790ce473ca75a8d5727a05765",
            "_dom_classes": [],
            "description": "",
            "_model_name": "HTMLModel",
            "placeholder": "​",
            "_view_module": "@jupyter-widgets/controls",
            "_model_module_version": "1.5.0",
            "value": " 443/443 [00:00&lt;00:00, 18.3kB/s]",
            "_view_count": null,
            "_view_module_version": "1.5.0",
            "description_tooltip": null,
            "_model_module": "@jupyter-widgets/controls",
            "layout": "IPY_MODEL_fe50294f885d49ab94244ae63869df1b"
          }
        },
        "da3ba729a86a428badfa1b4ac9bfc8f9": {
          "model_module": "@jupyter-widgets/controls",
          "model_name": "DescriptionStyleModel",
          "model_module_version": "1.5.0",
          "state": {
            "_view_name": "StyleView",
            "_model_name": "DescriptionStyleModel",
            "description_width": "",
            "_view_module": "@jupyter-widgets/base",
            "_model_module_version": "1.5.0",
            "_view_count": null,
            "_view_module_version": "1.2.0",
            "_model_module": "@jupyter-widgets/controls"
          }
        },
        "6b1a74d262e44cf6b6283c0880e29345": {
          "model_module": "@jupyter-widgets/base",
          "model_name": "LayoutModel",
          "model_module_version": "1.2.0",
          "state": {
            "_view_name": "LayoutView",
            "grid_template_rows": null,
            "right": null,
            "justify_content": null,
            "_view_module": "@jupyter-widgets/base",
            "overflow": null,
            "_model_module_version": "1.2.0",
            "_view_count": null,
            "flex_flow": null,
            "width": null,
            "min_width": null,
            "border": null,
            "align_items": null,
            "bottom": null,
            "_model_module": "@jupyter-widgets/base",
            "top": null,
            "grid_column": null,
            "overflow_y": null,
            "overflow_x": null,
            "grid_auto_flow": null,
            "grid_area": null,
            "grid_template_columns": null,
            "flex": null,
            "_model_name": "LayoutModel",
            "justify_items": null,
            "grid_row": null,
            "max_height": null,
            "align_content": null,
            "visibility": null,
            "align_self": null,
            "height": null,
            "min_height": null,
            "padding": null,
            "grid_auto_rows": null,
            "grid_gap": null,
            "max_width": null,
            "order": null,
            "_view_module_version": "1.2.0",
            "grid_template_areas": null,
            "object_position": null,
            "object_fit": null,
            "grid_auto_columns": null,
            "margin": null,
            "display": null,
            "left": null
          }
        },
        "40e67b359c4b4d839fc32a1c57105a32": {
          "model_module": "@jupyter-widgets/controls",
          "model_name": "ProgressStyleModel",
          "model_module_version": "1.5.0",
          "state": {
            "_view_name": "StyleView",
            "_model_name": "ProgressStyleModel",
            "description_width": "",
            "_view_module": "@jupyter-widgets/base",
            "_model_module_version": "1.5.0",
            "_view_count": null,
            "_view_module_version": "1.2.0",
            "bar_color": null,
            "_model_module": "@jupyter-widgets/controls"
          }
        },
        "3a93106ad349402bbfd04477511e4bef": {
          "model_module": "@jupyter-widgets/base",
          "model_name": "LayoutModel",
          "model_module_version": "1.2.0",
          "state": {
            "_view_name": "LayoutView",
            "grid_template_rows": null,
            "right": null,
            "justify_content": null,
            "_view_module": "@jupyter-widgets/base",
            "overflow": null,
            "_model_module_version": "1.2.0",
            "_view_count": null,
            "flex_flow": null,
            "width": null,
            "min_width": null,
            "border": null,
            "align_items": null,
            "bottom": null,
            "_model_module": "@jupyter-widgets/base",
            "top": null,
            "grid_column": null,
            "overflow_y": null,
            "overflow_x": null,
            "grid_auto_flow": null,
            "grid_area": null,
            "grid_template_columns": null,
            "flex": null,
            "_model_name": "LayoutModel",
            "justify_items": null,
            "grid_row": null,
            "max_height": null,
            "align_content": null,
            "visibility": null,
            "align_self": null,
            "height": null,
            "min_height": null,
            "padding": null,
            "grid_auto_rows": null,
            "grid_gap": null,
            "max_width": null,
            "order": null,
            "_view_module_version": "1.2.0",
            "grid_template_areas": null,
            "object_position": null,
            "object_fit": null,
            "grid_auto_columns": null,
            "margin": null,
            "display": null,
            "left": null
          }
        },
        "5cb0a45790ce473ca75a8d5727a05765": {
          "model_module": "@jupyter-widgets/controls",
          "model_name": "DescriptionStyleModel",
          "model_module_version": "1.5.0",
          "state": {
            "_view_name": "StyleView",
            "_model_name": "DescriptionStyleModel",
            "description_width": "",
            "_view_module": "@jupyter-widgets/base",
            "_model_module_version": "1.5.0",
            "_view_count": null,
            "_view_module_version": "1.2.0",
            "_model_module": "@jupyter-widgets/controls"
          }
        },
        "fe50294f885d49ab94244ae63869df1b": {
          "model_module": "@jupyter-widgets/base",
          "model_name": "LayoutModel",
          "model_module_version": "1.2.0",
          "state": {
            "_view_name": "LayoutView",
            "grid_template_rows": null,
            "right": null,
            "justify_content": null,
            "_view_module": "@jupyter-widgets/base",
            "overflow": null,
            "_model_module_version": "1.2.0",
            "_view_count": null,
            "flex_flow": null,
            "width": null,
            "min_width": null,
            "border": null,
            "align_items": null,
            "bottom": null,
            "_model_module": "@jupyter-widgets/base",
            "top": null,
            "grid_column": null,
            "overflow_y": null,
            "overflow_x": null,
            "grid_auto_flow": null,
            "grid_area": null,
            "grid_template_columns": null,
            "flex": null,
            "_model_name": "LayoutModel",
            "justify_items": null,
            "grid_row": null,
            "max_height": null,
            "align_content": null,
            "visibility": null,
            "align_self": null,
            "height": null,
            "min_height": null,
            "padding": null,
            "grid_auto_rows": null,
            "grid_gap": null,
            "max_width": null,
            "order": null,
            "_view_module_version": "1.2.0",
            "grid_template_areas": null,
            "object_position": null,
            "object_fit": null,
            "grid_auto_columns": null,
            "margin": null,
            "display": null,
            "left": null
          }
        },
        "47b7785f3762456984e4a4ca46b23d29": {
          "model_module": "@jupyter-widgets/controls",
          "model_name": "HBoxModel",
          "model_module_version": "1.5.0",
          "state": {
            "_view_name": "HBoxView",
            "_dom_classes": [],
            "_model_name": "HBoxModel",
            "_view_module": "@jupyter-widgets/controls",
            "_model_module_version": "1.5.0",
            "_view_count": null,
            "_view_module_version": "1.5.0",
            "box_style": "",
            "layout": "IPY_MODEL_00ee7b05e72640ac8d64349bd9d55815",
            "_model_module": "@jupyter-widgets/controls",
            "children": [
              "IPY_MODEL_bfa41877ab25422a802fe63fde62d97b",
              "IPY_MODEL_e473e9a4764a42508fc369c4eee3d27f",
              "IPY_MODEL_20b95a9425db4f51993a25e30f62e79a"
            ]
          }
        },
        "00ee7b05e72640ac8d64349bd9d55815": {
          "model_module": "@jupyter-widgets/base",
          "model_name": "LayoutModel",
          "model_module_version": "1.2.0",
          "state": {
            "_view_name": "LayoutView",
            "grid_template_rows": null,
            "right": null,
            "justify_content": null,
            "_view_module": "@jupyter-widgets/base",
            "overflow": null,
            "_model_module_version": "1.2.0",
            "_view_count": null,
            "flex_flow": null,
            "width": null,
            "min_width": null,
            "border": null,
            "align_items": null,
            "bottom": null,
            "_model_module": "@jupyter-widgets/base",
            "top": null,
            "grid_column": null,
            "overflow_y": null,
            "overflow_x": null,
            "grid_auto_flow": null,
            "grid_area": null,
            "grid_template_columns": null,
            "flex": null,
            "_model_name": "LayoutModel",
            "justify_items": null,
            "grid_row": null,
            "max_height": null,
            "align_content": null,
            "visibility": null,
            "align_self": null,
            "height": null,
            "min_height": null,
            "padding": null,
            "grid_auto_rows": null,
            "grid_gap": null,
            "max_width": null,
            "order": null,
            "_view_module_version": "1.2.0",
            "grid_template_areas": null,
            "object_position": null,
            "object_fit": null,
            "grid_auto_columns": null,
            "margin": null,
            "display": null,
            "left": null
          }
        },
        "bfa41877ab25422a802fe63fde62d97b": {
          "model_module": "@jupyter-widgets/controls",
          "model_name": "HTMLModel",
          "model_module_version": "1.5.0",
          "state": {
            "_view_name": "HTMLView",
            "style": "IPY_MODEL_dc2c44a54e7b42a8b1fc9f12f7b5dadb",
            "_dom_classes": [],
            "description": "",
            "_model_name": "HTMLModel",
            "placeholder": "​",
            "_view_module": "@jupyter-widgets/controls",
            "_model_module_version": "1.5.0",
            "value": "Downloading: 100%",
            "_view_count": null,
            "_view_module_version": "1.5.0",
            "description_tooltip": null,
            "_model_module": "@jupyter-widgets/controls",
            "layout": "IPY_MODEL_e2008b9c0b874100a80e2b98ebe35e69"
          }
        },
        "e473e9a4764a42508fc369c4eee3d27f": {
          "model_module": "@jupyter-widgets/controls",
          "model_name": "FloatProgressModel",
          "model_module_version": "1.5.0",
          "state": {
            "_view_name": "ProgressView",
            "style": "IPY_MODEL_ca632c163744490e8edf2db3267a097f",
            "_dom_classes": [],
            "description": "",
            "_model_name": "FloatProgressModel",
            "bar_style": "success",
            "max": 1340675298,
            "_view_module": "@jupyter-widgets/controls",
            "_model_module_version": "1.5.0",
            "value": 1340675298,
            "_view_count": null,
            "_view_module_version": "1.5.0",
            "orientation": "horizontal",
            "min": 0,
            "description_tooltip": null,
            "_model_module": "@jupyter-widgets/controls",
            "layout": "IPY_MODEL_44b5a0e3724f468c9aef20e128e0ec20"
          }
        },
        "20b95a9425db4f51993a25e30f62e79a": {
          "model_module": "@jupyter-widgets/controls",
          "model_name": "HTMLModel",
          "model_module_version": "1.5.0",
          "state": {
            "_view_name": "HTMLView",
            "style": "IPY_MODEL_76781a81e6844ff58d5b4d416e2c00b3",
            "_dom_classes": [],
            "description": "",
            "_model_name": "HTMLModel",
            "placeholder": "​",
            "_view_module": "@jupyter-widgets/controls",
            "_model_module_version": "1.5.0",
            "value": " 1.25G/1.25G [00:23&lt;00:00, 55.5MB/s]",
            "_view_count": null,
            "_view_module_version": "1.5.0",
            "description_tooltip": null,
            "_model_module": "@jupyter-widgets/controls",
            "layout": "IPY_MODEL_fa51a20fa13847568b3da8583d09ac5c"
          }
        },
        "dc2c44a54e7b42a8b1fc9f12f7b5dadb": {
          "model_module": "@jupyter-widgets/controls",
          "model_name": "DescriptionStyleModel",
          "model_module_version": "1.5.0",
          "state": {
            "_view_name": "StyleView",
            "_model_name": "DescriptionStyleModel",
            "description_width": "",
            "_view_module": "@jupyter-widgets/base",
            "_model_module_version": "1.5.0",
            "_view_count": null,
            "_view_module_version": "1.2.0",
            "_model_module": "@jupyter-widgets/controls"
          }
        },
        "e2008b9c0b874100a80e2b98ebe35e69": {
          "model_module": "@jupyter-widgets/base",
          "model_name": "LayoutModel",
          "model_module_version": "1.2.0",
          "state": {
            "_view_name": "LayoutView",
            "grid_template_rows": null,
            "right": null,
            "justify_content": null,
            "_view_module": "@jupyter-widgets/base",
            "overflow": null,
            "_model_module_version": "1.2.0",
            "_view_count": null,
            "flex_flow": null,
            "width": null,
            "min_width": null,
            "border": null,
            "align_items": null,
            "bottom": null,
            "_model_module": "@jupyter-widgets/base",
            "top": null,
            "grid_column": null,
            "overflow_y": null,
            "overflow_x": null,
            "grid_auto_flow": null,
            "grid_area": null,
            "grid_template_columns": null,
            "flex": null,
            "_model_name": "LayoutModel",
            "justify_items": null,
            "grid_row": null,
            "max_height": null,
            "align_content": null,
            "visibility": null,
            "align_self": null,
            "height": null,
            "min_height": null,
            "padding": null,
            "grid_auto_rows": null,
            "grid_gap": null,
            "max_width": null,
            "order": null,
            "_view_module_version": "1.2.0",
            "grid_template_areas": null,
            "object_position": null,
            "object_fit": null,
            "grid_auto_columns": null,
            "margin": null,
            "display": null,
            "left": null
          }
        },
        "ca632c163744490e8edf2db3267a097f": {
          "model_module": "@jupyter-widgets/controls",
          "model_name": "ProgressStyleModel",
          "model_module_version": "1.5.0",
          "state": {
            "_view_name": "StyleView",
            "_model_name": "ProgressStyleModel",
            "description_width": "",
            "_view_module": "@jupyter-widgets/base",
            "_model_module_version": "1.5.0",
            "_view_count": null,
            "_view_module_version": "1.2.0",
            "bar_color": null,
            "_model_module": "@jupyter-widgets/controls"
          }
        },
        "44b5a0e3724f468c9aef20e128e0ec20": {
          "model_module": "@jupyter-widgets/base",
          "model_name": "LayoutModel",
          "model_module_version": "1.2.0",
          "state": {
            "_view_name": "LayoutView",
            "grid_template_rows": null,
            "right": null,
            "justify_content": null,
            "_view_module": "@jupyter-widgets/base",
            "overflow": null,
            "_model_module_version": "1.2.0",
            "_view_count": null,
            "flex_flow": null,
            "width": null,
            "min_width": null,
            "border": null,
            "align_items": null,
            "bottom": null,
            "_model_module": "@jupyter-widgets/base",
            "top": null,
            "grid_column": null,
            "overflow_y": null,
            "overflow_x": null,
            "grid_auto_flow": null,
            "grid_area": null,
            "grid_template_columns": null,
            "flex": null,
            "_model_name": "LayoutModel",
            "justify_items": null,
            "grid_row": null,
            "max_height": null,
            "align_content": null,
            "visibility": null,
            "align_self": null,
            "height": null,
            "min_height": null,
            "padding": null,
            "grid_auto_rows": null,
            "grid_gap": null,
            "max_width": null,
            "order": null,
            "_view_module_version": "1.2.0",
            "grid_template_areas": null,
            "object_position": null,
            "object_fit": null,
            "grid_auto_columns": null,
            "margin": null,
            "display": null,
            "left": null
          }
        },
        "76781a81e6844ff58d5b4d416e2c00b3": {
          "model_module": "@jupyter-widgets/controls",
          "model_name": "DescriptionStyleModel",
          "model_module_version": "1.5.0",
          "state": {
            "_view_name": "StyleView",
            "_model_name": "DescriptionStyleModel",
            "description_width": "",
            "_view_module": "@jupyter-widgets/base",
            "_model_module_version": "1.5.0",
            "_view_count": null,
            "_view_module_version": "1.2.0",
            "_model_module": "@jupyter-widgets/controls"
          }
        },
        "fa51a20fa13847568b3da8583d09ac5c": {
          "model_module": "@jupyter-widgets/base",
          "model_name": "LayoutModel",
          "model_module_version": "1.2.0",
          "state": {
            "_view_name": "LayoutView",
            "grid_template_rows": null,
            "right": null,
            "justify_content": null,
            "_view_module": "@jupyter-widgets/base",
            "overflow": null,
            "_model_module_version": "1.2.0",
            "_view_count": null,
            "flex_flow": null,
            "width": null,
            "min_width": null,
            "border": null,
            "align_items": null,
            "bottom": null,
            "_model_module": "@jupyter-widgets/base",
            "top": null,
            "grid_column": null,
            "overflow_y": null,
            "overflow_x": null,
            "grid_auto_flow": null,
            "grid_area": null,
            "grid_template_columns": null,
            "flex": null,
            "_model_name": "LayoutModel",
            "justify_items": null,
            "grid_row": null,
            "max_height": null,
            "align_content": null,
            "visibility": null,
            "align_self": null,
            "height": null,
            "min_height": null,
            "padding": null,
            "grid_auto_rows": null,
            "grid_gap": null,
            "max_width": null,
            "order": null,
            "_view_module_version": "1.2.0",
            "grid_template_areas": null,
            "object_position": null,
            "object_fit": null,
            "grid_auto_columns": null,
            "margin": null,
            "display": null,
            "left": null
          }
        },
        "2e29f963a500483481ac5d6a20599bd5": {
          "model_module": "@jupyter-widgets/controls",
          "model_name": "HBoxModel",
          "model_module_version": "1.5.0",
          "state": {
            "_view_name": "HBoxView",
            "_dom_classes": [],
            "_model_name": "HBoxModel",
            "_view_module": "@jupyter-widgets/controls",
            "_model_module_version": "1.5.0",
            "_view_count": null,
            "_view_module_version": "1.5.0",
            "box_style": "",
            "layout": "IPY_MODEL_03132192ae5a4e0fb999278b14e2f925",
            "_model_module": "@jupyter-widgets/controls",
            "children": [
              "IPY_MODEL_863ba9e002bd41d4a7b0ac810bf89990",
              "IPY_MODEL_b5a4a5b1d74d4252bc0bd37f5d5f744e",
              "IPY_MODEL_0cf2908509e94e7283673eac81f86d6e"
            ]
          }
        },
        "03132192ae5a4e0fb999278b14e2f925": {
          "model_module": "@jupyter-widgets/base",
          "model_name": "LayoutModel",
          "model_module_version": "1.2.0",
          "state": {
            "_view_name": "LayoutView",
            "grid_template_rows": null,
            "right": null,
            "justify_content": null,
            "_view_module": "@jupyter-widgets/base",
            "overflow": null,
            "_model_module_version": "1.2.0",
            "_view_count": null,
            "flex_flow": null,
            "width": null,
            "min_width": null,
            "border": null,
            "align_items": null,
            "bottom": null,
            "_model_module": "@jupyter-widgets/base",
            "top": null,
            "grid_column": null,
            "overflow_y": null,
            "overflow_x": null,
            "grid_auto_flow": null,
            "grid_area": null,
            "grid_template_columns": null,
            "flex": null,
            "_model_name": "LayoutModel",
            "justify_items": null,
            "grid_row": null,
            "max_height": null,
            "align_content": null,
            "visibility": null,
            "align_self": null,
            "height": null,
            "min_height": null,
            "padding": null,
            "grid_auto_rows": null,
            "grid_gap": null,
            "max_width": null,
            "order": null,
            "_view_module_version": "1.2.0",
            "grid_template_areas": null,
            "object_position": null,
            "object_fit": null,
            "grid_auto_columns": null,
            "margin": null,
            "display": null,
            "left": null
          }
        },
        "863ba9e002bd41d4a7b0ac810bf89990": {
          "model_module": "@jupyter-widgets/controls",
          "model_name": "HTMLModel",
          "model_module_version": "1.5.0",
          "state": {
            "_view_name": "HTMLView",
            "style": "IPY_MODEL_b50fa0d83ce34566ab8c7355c4b3e533",
            "_dom_classes": [],
            "description": "",
            "_model_name": "HTMLModel",
            "placeholder": "​",
            "_view_module": "@jupyter-widgets/controls",
            "_model_module_version": "1.5.0",
            "value": "Downloading: 100%",
            "_view_count": null,
            "_view_module_version": "1.5.0",
            "description_tooltip": null,
            "_model_module": "@jupyter-widgets/controls",
            "layout": "IPY_MODEL_06c388668d2540fc95c09173339b739c"
          }
        },
        "b5a4a5b1d74d4252bc0bd37f5d5f744e": {
          "model_module": "@jupyter-widgets/controls",
          "model_name": "FloatProgressModel",
          "model_module_version": "1.5.0",
          "state": {
            "_view_name": "ProgressView",
            "style": "IPY_MODEL_9d50b85939d54f8da87487f2764693fc",
            "_dom_classes": [],
            "description": "",
            "_model_name": "FloatProgressModel",
            "bar_style": "success",
            "max": 231508,
            "_view_module": "@jupyter-widgets/controls",
            "_model_module_version": "1.5.0",
            "value": 231508,
            "_view_count": null,
            "_view_module_version": "1.5.0",
            "orientation": "horizontal",
            "min": 0,
            "description_tooltip": null,
            "_model_module": "@jupyter-widgets/controls",
            "layout": "IPY_MODEL_50399962a0a342df80bec9133efdb210"
          }
        },
        "0cf2908509e94e7283673eac81f86d6e": {
          "model_module": "@jupyter-widgets/controls",
          "model_name": "HTMLModel",
          "model_module_version": "1.5.0",
          "state": {
            "_view_name": "HTMLView",
            "style": "IPY_MODEL_7dd68aeec06342fc975b9f14dfe47730",
            "_dom_classes": [],
            "description": "",
            "_model_name": "HTMLModel",
            "placeholder": "​",
            "_view_module": "@jupyter-widgets/controls",
            "_model_module_version": "1.5.0",
            "value": " 226k/226k [00:00&lt;00:00, 347kB/s]",
            "_view_count": null,
            "_view_module_version": "1.5.0",
            "description_tooltip": null,
            "_model_module": "@jupyter-widgets/controls",
            "layout": "IPY_MODEL_355e792d44e949099c506be945c43935"
          }
        },
        "b50fa0d83ce34566ab8c7355c4b3e533": {
          "model_module": "@jupyter-widgets/controls",
          "model_name": "DescriptionStyleModel",
          "model_module_version": "1.5.0",
          "state": {
            "_view_name": "StyleView",
            "_model_name": "DescriptionStyleModel",
            "description_width": "",
            "_view_module": "@jupyter-widgets/base",
            "_model_module_version": "1.5.0",
            "_view_count": null,
            "_view_module_version": "1.2.0",
            "_model_module": "@jupyter-widgets/controls"
          }
        },
        "06c388668d2540fc95c09173339b739c": {
          "model_module": "@jupyter-widgets/base",
          "model_name": "LayoutModel",
          "model_module_version": "1.2.0",
          "state": {
            "_view_name": "LayoutView",
            "grid_template_rows": null,
            "right": null,
            "justify_content": null,
            "_view_module": "@jupyter-widgets/base",
            "overflow": null,
            "_model_module_version": "1.2.0",
            "_view_count": null,
            "flex_flow": null,
            "width": null,
            "min_width": null,
            "border": null,
            "align_items": null,
            "bottom": null,
            "_model_module": "@jupyter-widgets/base",
            "top": null,
            "grid_column": null,
            "overflow_y": null,
            "overflow_x": null,
            "grid_auto_flow": null,
            "grid_area": null,
            "grid_template_columns": null,
            "flex": null,
            "_model_name": "LayoutModel",
            "justify_items": null,
            "grid_row": null,
            "max_height": null,
            "align_content": null,
            "visibility": null,
            "align_self": null,
            "height": null,
            "min_height": null,
            "padding": null,
            "grid_auto_rows": null,
            "grid_gap": null,
            "max_width": null,
            "order": null,
            "_view_module_version": "1.2.0",
            "grid_template_areas": null,
            "object_position": null,
            "object_fit": null,
            "grid_auto_columns": null,
            "margin": null,
            "display": null,
            "left": null
          }
        },
        "9d50b85939d54f8da87487f2764693fc": {
          "model_module": "@jupyter-widgets/controls",
          "model_name": "ProgressStyleModel",
          "model_module_version": "1.5.0",
          "state": {
            "_view_name": "StyleView",
            "_model_name": "ProgressStyleModel",
            "description_width": "",
            "_view_module": "@jupyter-widgets/base",
            "_model_module_version": "1.5.0",
            "_view_count": null,
            "_view_module_version": "1.2.0",
            "bar_color": null,
            "_model_module": "@jupyter-widgets/controls"
          }
        },
        "50399962a0a342df80bec9133efdb210": {
          "model_module": "@jupyter-widgets/base",
          "model_name": "LayoutModel",
          "model_module_version": "1.2.0",
          "state": {
            "_view_name": "LayoutView",
            "grid_template_rows": null,
            "right": null,
            "justify_content": null,
            "_view_module": "@jupyter-widgets/base",
            "overflow": null,
            "_model_module_version": "1.2.0",
            "_view_count": null,
            "flex_flow": null,
            "width": null,
            "min_width": null,
            "border": null,
            "align_items": null,
            "bottom": null,
            "_model_module": "@jupyter-widgets/base",
            "top": null,
            "grid_column": null,
            "overflow_y": null,
            "overflow_x": null,
            "grid_auto_flow": null,
            "grid_area": null,
            "grid_template_columns": null,
            "flex": null,
            "_model_name": "LayoutModel",
            "justify_items": null,
            "grid_row": null,
            "max_height": null,
            "align_content": null,
            "visibility": null,
            "align_self": null,
            "height": null,
            "min_height": null,
            "padding": null,
            "grid_auto_rows": null,
            "grid_gap": null,
            "max_width": null,
            "order": null,
            "_view_module_version": "1.2.0",
            "grid_template_areas": null,
            "object_position": null,
            "object_fit": null,
            "grid_auto_columns": null,
            "margin": null,
            "display": null,
            "left": null
          }
        },
        "7dd68aeec06342fc975b9f14dfe47730": {
          "model_module": "@jupyter-widgets/controls",
          "model_name": "DescriptionStyleModel",
          "model_module_version": "1.5.0",
          "state": {
            "_view_name": "StyleView",
            "_model_name": "DescriptionStyleModel",
            "description_width": "",
            "_view_module": "@jupyter-widgets/base",
            "_model_module_version": "1.5.0",
            "_view_count": null,
            "_view_module_version": "1.2.0",
            "_model_module": "@jupyter-widgets/controls"
          }
        },
        "355e792d44e949099c506be945c43935": {
          "model_module": "@jupyter-widgets/base",
          "model_name": "LayoutModel",
          "model_module_version": "1.2.0",
          "state": {
            "_view_name": "LayoutView",
            "grid_template_rows": null,
            "right": null,
            "justify_content": null,
            "_view_module": "@jupyter-widgets/base",
            "overflow": null,
            "_model_module_version": "1.2.0",
            "_view_count": null,
            "flex_flow": null,
            "width": null,
            "min_width": null,
            "border": null,
            "align_items": null,
            "bottom": null,
            "_model_module": "@jupyter-widgets/base",
            "top": null,
            "grid_column": null,
            "overflow_y": null,
            "overflow_x": null,
            "grid_auto_flow": null,
            "grid_area": null,
            "grid_template_columns": null,
            "flex": null,
            "_model_name": "LayoutModel",
            "justify_items": null,
            "grid_row": null,
            "max_height": null,
            "align_content": null,
            "visibility": null,
            "align_self": null,
            "height": null,
            "min_height": null,
            "padding": null,
            "grid_auto_rows": null,
            "grid_gap": null,
            "max_width": null,
            "order": null,
            "_view_module_version": "1.2.0",
            "grid_template_areas": null,
            "object_position": null,
            "object_fit": null,
            "grid_auto_columns": null,
            "margin": null,
            "display": null,
            "left": null
          }
        },
        "4ae62eb39d834844b62a45095d3e7694": {
          "model_module": "@jupyter-widgets/controls",
          "model_name": "HBoxModel",
          "model_module_version": "1.5.0",
          "state": {
            "_view_name": "HBoxView",
            "_dom_classes": [],
            "_model_name": "HBoxModel",
            "_view_module": "@jupyter-widgets/controls",
            "_model_module_version": "1.5.0",
            "_view_count": null,
            "_view_module_version": "1.5.0",
            "box_style": "",
            "layout": "IPY_MODEL_911c9ae218884dab94fb8df9a8561dbb",
            "_model_module": "@jupyter-widgets/controls",
            "children": [
              "IPY_MODEL_715a98740ac745e2868b7641d598dedd",
              "IPY_MODEL_7c7b393aef7a44a88c334515544fac8f",
              "IPY_MODEL_167689e562784e77b3d2fba28c69a56b"
            ]
          }
        },
        "911c9ae218884dab94fb8df9a8561dbb": {
          "model_module": "@jupyter-widgets/base",
          "model_name": "LayoutModel",
          "model_module_version": "1.2.0",
          "state": {
            "_view_name": "LayoutView",
            "grid_template_rows": null,
            "right": null,
            "justify_content": null,
            "_view_module": "@jupyter-widgets/base",
            "overflow": null,
            "_model_module_version": "1.2.0",
            "_view_count": null,
            "flex_flow": null,
            "width": null,
            "min_width": null,
            "border": null,
            "align_items": null,
            "bottom": null,
            "_model_module": "@jupyter-widgets/base",
            "top": null,
            "grid_column": null,
            "overflow_y": null,
            "overflow_x": null,
            "grid_auto_flow": null,
            "grid_area": null,
            "grid_template_columns": null,
            "flex": null,
            "_model_name": "LayoutModel",
            "justify_items": null,
            "grid_row": null,
            "max_height": null,
            "align_content": null,
            "visibility": null,
            "align_self": null,
            "height": null,
            "min_height": null,
            "padding": null,
            "grid_auto_rows": null,
            "grid_gap": null,
            "max_width": null,
            "order": null,
            "_view_module_version": "1.2.0",
            "grid_template_areas": null,
            "object_position": null,
            "object_fit": null,
            "grid_auto_columns": null,
            "margin": null,
            "display": null,
            "left": null
          }
        },
        "715a98740ac745e2868b7641d598dedd": {
          "model_module": "@jupyter-widgets/controls",
          "model_name": "HTMLModel",
          "model_module_version": "1.5.0",
          "state": {
            "_view_name": "HTMLView",
            "style": "IPY_MODEL_b035b013789948129c9d881aa29522ab",
            "_dom_classes": [],
            "description": "",
            "_model_name": "HTMLModel",
            "placeholder": "​",
            "_view_module": "@jupyter-widgets/controls",
            "_model_module_version": "1.5.0",
            "value": "Downloading: 100%",
            "_view_count": null,
            "_view_module_version": "1.5.0",
            "description_tooltip": null,
            "_model_module": "@jupyter-widgets/controls",
            "layout": "IPY_MODEL_307cf7920dfe49e0a4d41a533ba6ed2b"
          }
        },
        "7c7b393aef7a44a88c334515544fac8f": {
          "model_module": "@jupyter-widgets/controls",
          "model_name": "FloatProgressModel",
          "model_module_version": "1.5.0",
          "state": {
            "_view_name": "ProgressView",
            "style": "IPY_MODEL_6dbe25d789e6487ea446349b13ab6661",
            "_dom_classes": [],
            "description": "",
            "_model_name": "FloatProgressModel",
            "bar_style": "success",
            "max": 28,
            "_view_module": "@jupyter-widgets/controls",
            "_model_module_version": "1.5.0",
            "value": 28,
            "_view_count": null,
            "_view_module_version": "1.5.0",
            "orientation": "horizontal",
            "min": 0,
            "description_tooltip": null,
            "_model_module": "@jupyter-widgets/controls",
            "layout": "IPY_MODEL_b455468ec0fb4240aafdafc154ac297f"
          }
        },
        "167689e562784e77b3d2fba28c69a56b": {
          "model_module": "@jupyter-widgets/controls",
          "model_name": "HTMLModel",
          "model_module_version": "1.5.0",
          "state": {
            "_view_name": "HTMLView",
            "style": "IPY_MODEL_9ce82f4df9b1464f854c1ecfa5b8fdfd",
            "_dom_classes": [],
            "description": "",
            "_model_name": "HTMLModel",
            "placeholder": "​",
            "_view_module": "@jupyter-widgets/controls",
            "_model_module_version": "1.5.0",
            "value": " 28.0/28.0 [00:00&lt;00:00, 1.16kB/s]",
            "_view_count": null,
            "_view_module_version": "1.5.0",
            "description_tooltip": null,
            "_model_module": "@jupyter-widgets/controls",
            "layout": "IPY_MODEL_5b5799f980684cbca6483a0812e7ac0e"
          }
        },
        "b035b013789948129c9d881aa29522ab": {
          "model_module": "@jupyter-widgets/controls",
          "model_name": "DescriptionStyleModel",
          "model_module_version": "1.5.0",
          "state": {
            "_view_name": "StyleView",
            "_model_name": "DescriptionStyleModel",
            "description_width": "",
            "_view_module": "@jupyter-widgets/base",
            "_model_module_version": "1.5.0",
            "_view_count": null,
            "_view_module_version": "1.2.0",
            "_model_module": "@jupyter-widgets/controls"
          }
        },
        "307cf7920dfe49e0a4d41a533ba6ed2b": {
          "model_module": "@jupyter-widgets/base",
          "model_name": "LayoutModel",
          "model_module_version": "1.2.0",
          "state": {
            "_view_name": "LayoutView",
            "grid_template_rows": null,
            "right": null,
            "justify_content": null,
            "_view_module": "@jupyter-widgets/base",
            "overflow": null,
            "_model_module_version": "1.2.0",
            "_view_count": null,
            "flex_flow": null,
            "width": null,
            "min_width": null,
            "border": null,
            "align_items": null,
            "bottom": null,
            "_model_module": "@jupyter-widgets/base",
            "top": null,
            "grid_column": null,
            "overflow_y": null,
            "overflow_x": null,
            "grid_auto_flow": null,
            "grid_area": null,
            "grid_template_columns": null,
            "flex": null,
            "_model_name": "LayoutModel",
            "justify_items": null,
            "grid_row": null,
            "max_height": null,
            "align_content": null,
            "visibility": null,
            "align_self": null,
            "height": null,
            "min_height": null,
            "padding": null,
            "grid_auto_rows": null,
            "grid_gap": null,
            "max_width": null,
            "order": null,
            "_view_module_version": "1.2.0",
            "grid_template_areas": null,
            "object_position": null,
            "object_fit": null,
            "grid_auto_columns": null,
            "margin": null,
            "display": null,
            "left": null
          }
        },
        "6dbe25d789e6487ea446349b13ab6661": {
          "model_module": "@jupyter-widgets/controls",
          "model_name": "ProgressStyleModel",
          "model_module_version": "1.5.0",
          "state": {
            "_view_name": "StyleView",
            "_model_name": "ProgressStyleModel",
            "description_width": "",
            "_view_module": "@jupyter-widgets/base",
            "_model_module_version": "1.5.0",
            "_view_count": null,
            "_view_module_version": "1.2.0",
            "bar_color": null,
            "_model_module": "@jupyter-widgets/controls"
          }
        },
        "b455468ec0fb4240aafdafc154ac297f": {
          "model_module": "@jupyter-widgets/base",
          "model_name": "LayoutModel",
          "model_module_version": "1.2.0",
          "state": {
            "_view_name": "LayoutView",
            "grid_template_rows": null,
            "right": null,
            "justify_content": null,
            "_view_module": "@jupyter-widgets/base",
            "overflow": null,
            "_model_module_version": "1.2.0",
            "_view_count": null,
            "flex_flow": null,
            "width": null,
            "min_width": null,
            "border": null,
            "align_items": null,
            "bottom": null,
            "_model_module": "@jupyter-widgets/base",
            "top": null,
            "grid_column": null,
            "overflow_y": null,
            "overflow_x": null,
            "grid_auto_flow": null,
            "grid_area": null,
            "grid_template_columns": null,
            "flex": null,
            "_model_name": "LayoutModel",
            "justify_items": null,
            "grid_row": null,
            "max_height": null,
            "align_content": null,
            "visibility": null,
            "align_self": null,
            "height": null,
            "min_height": null,
            "padding": null,
            "grid_auto_rows": null,
            "grid_gap": null,
            "max_width": null,
            "order": null,
            "_view_module_version": "1.2.0",
            "grid_template_areas": null,
            "object_position": null,
            "object_fit": null,
            "grid_auto_columns": null,
            "margin": null,
            "display": null,
            "left": null
          }
        },
        "9ce82f4df9b1464f854c1ecfa5b8fdfd": {
          "model_module": "@jupyter-widgets/controls",
          "model_name": "DescriptionStyleModel",
          "model_module_version": "1.5.0",
          "state": {
            "_view_name": "StyleView",
            "_model_name": "DescriptionStyleModel",
            "description_width": "",
            "_view_module": "@jupyter-widgets/base",
            "_model_module_version": "1.5.0",
            "_view_count": null,
            "_view_module_version": "1.2.0",
            "_model_module": "@jupyter-widgets/controls"
          }
        },
        "5b5799f980684cbca6483a0812e7ac0e": {
          "model_module": "@jupyter-widgets/base",
          "model_name": "LayoutModel",
          "model_module_version": "1.2.0",
          "state": {
            "_view_name": "LayoutView",
            "grid_template_rows": null,
            "right": null,
            "justify_content": null,
            "_view_module": "@jupyter-widgets/base",
            "overflow": null,
            "_model_module_version": "1.2.0",
            "_view_count": null,
            "flex_flow": null,
            "width": null,
            "min_width": null,
            "border": null,
            "align_items": null,
            "bottom": null,
            "_model_module": "@jupyter-widgets/base",
            "top": null,
            "grid_column": null,
            "overflow_y": null,
            "overflow_x": null,
            "grid_auto_flow": null,
            "grid_area": null,
            "grid_template_columns": null,
            "flex": null,
            "_model_name": "LayoutModel",
            "justify_items": null,
            "grid_row": null,
            "max_height": null,
            "align_content": null,
            "visibility": null,
            "align_self": null,
            "height": null,
            "min_height": null,
            "padding": null,
            "grid_auto_rows": null,
            "grid_gap": null,
            "max_width": null,
            "order": null,
            "_view_module_version": "1.2.0",
            "grid_template_areas": null,
            "object_position": null,
            "object_fit": null,
            "grid_auto_columns": null,
            "margin": null,
            "display": null,
            "left": null
          }
        },
        "ed20b295e32743a0abdedf8d46099722": {
          "model_module": "@jupyter-widgets/controls",
          "model_name": "HBoxModel",
          "model_module_version": "1.5.0",
          "state": {
            "_view_name": "HBoxView",
            "_dom_classes": [],
            "_model_name": "HBoxModel",
            "_view_module": "@jupyter-widgets/controls",
            "_model_module_version": "1.5.0",
            "_view_count": null,
            "_view_module_version": "1.5.0",
            "box_style": "",
            "layout": "IPY_MODEL_60449fe9ed6a45b39b2ce914f419b3b8",
            "_model_module": "@jupyter-widgets/controls",
            "children": [
              "IPY_MODEL_911f4d8a219543f5a604a32503c6436e",
              "IPY_MODEL_9538661e01c9452693c56502b842e6f9",
              "IPY_MODEL_9e194c0892724bbbbca11c1812585c57"
            ]
          }
        },
        "60449fe9ed6a45b39b2ce914f419b3b8": {
          "model_module": "@jupyter-widgets/base",
          "model_name": "LayoutModel",
          "model_module_version": "1.2.0",
          "state": {
            "_view_name": "LayoutView",
            "grid_template_rows": null,
            "right": null,
            "justify_content": null,
            "_view_module": "@jupyter-widgets/base",
            "overflow": null,
            "_model_module_version": "1.2.0",
            "_view_count": null,
            "flex_flow": null,
            "width": null,
            "min_width": null,
            "border": null,
            "align_items": null,
            "bottom": null,
            "_model_module": "@jupyter-widgets/base",
            "top": null,
            "grid_column": null,
            "overflow_y": null,
            "overflow_x": null,
            "grid_auto_flow": null,
            "grid_area": null,
            "grid_template_columns": null,
            "flex": null,
            "_model_name": "LayoutModel",
            "justify_items": null,
            "grid_row": null,
            "max_height": null,
            "align_content": null,
            "visibility": null,
            "align_self": null,
            "height": null,
            "min_height": null,
            "padding": null,
            "grid_auto_rows": null,
            "grid_gap": null,
            "max_width": null,
            "order": null,
            "_view_module_version": "1.2.0",
            "grid_template_areas": null,
            "object_position": null,
            "object_fit": null,
            "grid_auto_columns": null,
            "margin": null,
            "display": null,
            "left": null
          }
        },
        "911f4d8a219543f5a604a32503c6436e": {
          "model_module": "@jupyter-widgets/controls",
          "model_name": "HTMLModel",
          "model_module_version": "1.5.0",
          "state": {
            "_view_name": "HTMLView",
            "style": "IPY_MODEL_f98ba4f6ce934931abaaf8201af71942",
            "_dom_classes": [],
            "description": "",
            "_model_name": "HTMLModel",
            "placeholder": "​",
            "_view_module": "@jupyter-widgets/controls",
            "_model_module_version": "1.5.0",
            "value": "Downloading: 100%",
            "_view_count": null,
            "_view_module_version": "1.5.0",
            "description_tooltip": null,
            "_model_module": "@jupyter-widgets/controls",
            "layout": "IPY_MODEL_1b96940fe05040978c3ac07e25eba897"
          }
        },
        "9538661e01c9452693c56502b842e6f9": {
          "model_module": "@jupyter-widgets/controls",
          "model_name": "FloatProgressModel",
          "model_module_version": "1.5.0",
          "state": {
            "_view_name": "ProgressView",
            "style": "IPY_MODEL_38cc62ae3ae3477bb605a1917c9c6b4d",
            "_dom_classes": [],
            "description": "",
            "_model_name": "FloatProgressModel",
            "bar_style": "success",
            "max": 466062,
            "_view_module": "@jupyter-widgets/controls",
            "_model_module_version": "1.5.0",
            "value": 466062,
            "_view_count": null,
            "_view_module_version": "1.5.0",
            "orientation": "horizontal",
            "min": 0,
            "description_tooltip": null,
            "_model_module": "@jupyter-widgets/controls",
            "layout": "IPY_MODEL_7f91edcd03814bf99aa617a2e3598cbc"
          }
        },
        "9e194c0892724bbbbca11c1812585c57": {
          "model_module": "@jupyter-widgets/controls",
          "model_name": "HTMLModel",
          "model_module_version": "1.5.0",
          "state": {
            "_view_name": "HTMLView",
            "style": "IPY_MODEL_9435aede65314ada82309e617d514c2a",
            "_dom_classes": [],
            "description": "",
            "_model_name": "HTMLModel",
            "placeholder": "​",
            "_view_module": "@jupyter-widgets/controls",
            "_model_module_version": "1.5.0",
            "value": " 455k/455k [00:00&lt;00:00, 682kB/s]",
            "_view_count": null,
            "_view_module_version": "1.5.0",
            "description_tooltip": null,
            "_model_module": "@jupyter-widgets/controls",
            "layout": "IPY_MODEL_491d31780dea44538733fc8a00ac4527"
          }
        },
        "f98ba4f6ce934931abaaf8201af71942": {
          "model_module": "@jupyter-widgets/controls",
          "model_name": "DescriptionStyleModel",
          "model_module_version": "1.5.0",
          "state": {
            "_view_name": "StyleView",
            "_model_name": "DescriptionStyleModel",
            "description_width": "",
            "_view_module": "@jupyter-widgets/base",
            "_model_module_version": "1.5.0",
            "_view_count": null,
            "_view_module_version": "1.2.0",
            "_model_module": "@jupyter-widgets/controls"
          }
        },
        "1b96940fe05040978c3ac07e25eba897": {
          "model_module": "@jupyter-widgets/base",
          "model_name": "LayoutModel",
          "model_module_version": "1.2.0",
          "state": {
            "_view_name": "LayoutView",
            "grid_template_rows": null,
            "right": null,
            "justify_content": null,
            "_view_module": "@jupyter-widgets/base",
            "overflow": null,
            "_model_module_version": "1.2.0",
            "_view_count": null,
            "flex_flow": null,
            "width": null,
            "min_width": null,
            "border": null,
            "align_items": null,
            "bottom": null,
            "_model_module": "@jupyter-widgets/base",
            "top": null,
            "grid_column": null,
            "overflow_y": null,
            "overflow_x": null,
            "grid_auto_flow": null,
            "grid_area": null,
            "grid_template_columns": null,
            "flex": null,
            "_model_name": "LayoutModel",
            "justify_items": null,
            "grid_row": null,
            "max_height": null,
            "align_content": null,
            "visibility": null,
            "align_self": null,
            "height": null,
            "min_height": null,
            "padding": null,
            "grid_auto_rows": null,
            "grid_gap": null,
            "max_width": null,
            "order": null,
            "_view_module_version": "1.2.0",
            "grid_template_areas": null,
            "object_position": null,
            "object_fit": null,
            "grid_auto_columns": null,
            "margin": null,
            "display": null,
            "left": null
          }
        },
        "38cc62ae3ae3477bb605a1917c9c6b4d": {
          "model_module": "@jupyter-widgets/controls",
          "model_name": "ProgressStyleModel",
          "model_module_version": "1.5.0",
          "state": {
            "_view_name": "StyleView",
            "_model_name": "ProgressStyleModel",
            "description_width": "",
            "_view_module": "@jupyter-widgets/base",
            "_model_module_version": "1.5.0",
            "_view_count": null,
            "_view_module_version": "1.2.0",
            "bar_color": null,
            "_model_module": "@jupyter-widgets/controls"
          }
        },
        "7f91edcd03814bf99aa617a2e3598cbc": {
          "model_module": "@jupyter-widgets/base",
          "model_name": "LayoutModel",
          "model_module_version": "1.2.0",
          "state": {
            "_view_name": "LayoutView",
            "grid_template_rows": null,
            "right": null,
            "justify_content": null,
            "_view_module": "@jupyter-widgets/base",
            "overflow": null,
            "_model_module_version": "1.2.0",
            "_view_count": null,
            "flex_flow": null,
            "width": null,
            "min_width": null,
            "border": null,
            "align_items": null,
            "bottom": null,
            "_model_module": "@jupyter-widgets/base",
            "top": null,
            "grid_column": null,
            "overflow_y": null,
            "overflow_x": null,
            "grid_auto_flow": null,
            "grid_area": null,
            "grid_template_columns": null,
            "flex": null,
            "_model_name": "LayoutModel",
            "justify_items": null,
            "grid_row": null,
            "max_height": null,
            "align_content": null,
            "visibility": null,
            "align_self": null,
            "height": null,
            "min_height": null,
            "padding": null,
            "grid_auto_rows": null,
            "grid_gap": null,
            "max_width": null,
            "order": null,
            "_view_module_version": "1.2.0",
            "grid_template_areas": null,
            "object_position": null,
            "object_fit": null,
            "grid_auto_columns": null,
            "margin": null,
            "display": null,
            "left": null
          }
        },
        "9435aede65314ada82309e617d514c2a": {
          "model_module": "@jupyter-widgets/controls",
          "model_name": "DescriptionStyleModel",
          "model_module_version": "1.5.0",
          "state": {
            "_view_name": "StyleView",
            "_model_name": "DescriptionStyleModel",
            "description_width": "",
            "_view_module": "@jupyter-widgets/base",
            "_model_module_version": "1.5.0",
            "_view_count": null,
            "_view_module_version": "1.2.0",
            "_model_module": "@jupyter-widgets/controls"
          }
        },
        "491d31780dea44538733fc8a00ac4527": {
          "model_module": "@jupyter-widgets/base",
          "model_name": "LayoutModel",
          "model_module_version": "1.2.0",
          "state": {
            "_view_name": "LayoutView",
            "grid_template_rows": null,
            "right": null,
            "justify_content": null,
            "_view_module": "@jupyter-widgets/base",
            "overflow": null,
            "_model_module_version": "1.2.0",
            "_view_count": null,
            "flex_flow": null,
            "width": null,
            "min_width": null,
            "border": null,
            "align_items": null,
            "bottom": null,
            "_model_module": "@jupyter-widgets/base",
            "top": null,
            "grid_column": null,
            "overflow_y": null,
            "overflow_x": null,
            "grid_auto_flow": null,
            "grid_area": null,
            "grid_template_columns": null,
            "flex": null,
            "_model_name": "LayoutModel",
            "justify_items": null,
            "grid_row": null,
            "max_height": null,
            "align_content": null,
            "visibility": null,
            "align_self": null,
            "height": null,
            "min_height": null,
            "padding": null,
            "grid_auto_rows": null,
            "grid_gap": null,
            "max_width": null,
            "order": null,
            "_view_module_version": "1.2.0",
            "grid_template_areas": null,
            "object_position": null,
            "object_fit": null,
            "grid_auto_columns": null,
            "margin": null,
            "display": null,
            "left": null
          }
        }
      }
    },
    "accelerator": "GPU"
  },
  "cells": [
    {
      "cell_type": "markdown",
      "metadata": {
        "id": "view-in-github",
        "colab_type": "text"
      },
      "source": [
        "<a href=\"https://colab.research.google.com/github/plaban1981/POCs/blob/main/Question_Answering_with_a_Fine_Tuned_BERT.ipynb\" target=\"_parent\"><img src=\"https://colab.research.google.com/assets/colab-badge.svg\" alt=\"Open In Colab\"/></a>"
      ]
    },
    {
      "cell_type": "markdown",
      "metadata": {
        "id": "W-1zl5XdYInf"
      },
      "source": [
        "# Question Answering with a Fine-Tuned BERT\n"
      ]
    },
    {
      "cell_type": "markdown",
      "metadata": {
        "id": "X2bUvKUffHNY"
      },
      "source": [
        "# Part 1: How BERT is applied to Question Answering"
      ]
    },
    {
      "cell_type": "markdown",
      "metadata": {
        "id": "Su7fixBdiUex"
      },
      "source": [
        "## The SQuAD v1.1 Benchmark"
      ]
    },
    {
      "cell_type": "markdown",
      "metadata": {
        "id": "bT5ESKDxfnLf"
      },
      "source": [
        "When someone mentions \"Question Answering\" as an application of BERT, what they are really referring to is applying BERT to the Stanford Question Answering Dataset (SQuAD).\n",
        "\n",
        "The task posed by the SQuAD benchmark is a little different than you might think. Given a question, and *a passage of text containing the answer*, BERT needs to highlight the \"span\" of text corresponding to the correct answer. \n",
        "\n",
        "The SQuAD homepage has a fantastic tool for exploring the questions and reference text for this dataset, and even shows the predictions made by top-performing models.\n",
        "\n",
        "For example, here are some [interesting examples](https://rajpurkar.github.io/SQuAD-explorer/explore/1.1/dev/Super_Bowl_50.html?model=r-net+%20(ensemble)%20(Microsoft%20Research%20Asia)&version=1.1) on the topic of Super Bowl 50.\n"
      ]
    },
    {
      "cell_type": "markdown",
      "metadata": {
        "id": "_xN5f1bxf6K_"
      },
      "source": [
        "## BERT Input Format"
      ]
    },
    {
      "cell_type": "markdown",
      "metadata": {
        "id": "Ctum5SK6f9uP"
      },
      "source": [
        "To feed a QA task into BERT, we pack both the question and the reference text into the input.\n"
      ]
    },
    {
      "cell_type": "markdown",
      "metadata": {
        "id": "EaPCFHgSOO37"
      },
      "source": [
        "\n",
        "[![Input format for QA](https://drive.google.com/uc?export=view&id=1dfgTaE_SABpr2blqwTjq9PTyhYabO8_m)](https://drive.google.com/uc?export=view&id=1dfgTaE_SABpr2blqwTjq9PTyhYabO8_m)\n"
      ]
    },
    {
      "cell_type": "markdown",
      "metadata": {
        "id": "9-SS0PucOQdt"
      },
      "source": [
        "\n",
        "The two pieces of text are separated by the special `[SEP]` token. \n",
        "\n",
        "BERT also uses \"Segment Embeddings\" to differentiate the question from the reference text. These are simply two embeddings (for segments \"A\" and \"B\") that BERT learned, and which it adds to the token embeddings before feeding them into the input layer. "
      ]
    },
    {
      "cell_type": "markdown",
      "metadata": {
        "id": "Kl6BECEXu4jH"
      },
      "source": [
        "[![BERT eBook Display Ad](https://drive.google.com/uc?export=view&id=1d6L584QYqpREpRIwAZ55Wsq8AUs5qSk1)](https://bit.ly/3isUyCt)"
      ]
    },
    {
      "cell_type": "markdown",
      "metadata": {
        "id": "xs31dcrPg5Tg"
      },
      "source": [
        "## Start & End Token Classifiers"
      ]
    },
    {
      "cell_type": "markdown",
      "metadata": {
        "id": "lvOdUa9Wg-Uv"
      },
      "source": [
        "BERT needs to highlight a \"span\" of text containing the answer--this is represented as simply predicting which token marks the start of the answer, and which token marks the end.\n",
        "\n",
        "![Start token classification](http://www.mccormickml.com/assets/BERT/SQuAD/start_token_classification.png)\n",
        "\n",
        "For every token in the text, we feed its final embedding into the start token classifier. The start token classifier only has a single set of weights (represented by the blue \"start\" rectangle in the above illustration) which it applies to every word.\n",
        "\n",
        "After taking the dot product between the output embeddings and the 'start' weights, we apply the softmax activation to produce a probability distribution over all of the words. Whichever word has the highest probability of being the start token is the one that we pick.\n",
        "\n",
        "We repeat this process for the end token--we have a separate weight vector this.\n",
        "\n",
        "![End token classification](http://www.mccormickml.com/assets/BERT/SQuAD/end_token_classification.png)"
      ]
    },
    {
      "cell_type": "markdown",
      "metadata": {
        "id": "457VPa20fZzY"
      },
      "source": [
        "# Part 2: Example Code"
      ]
    },
    {
      "cell_type": "markdown",
      "metadata": {
        "id": "9wpCLgVCkki5"
      },
      "source": [
        "In the example code below, we'll be downloading a model that's *already been fine-tuned* for question answering, and try it out on our own text.\n",
        "\n",
        "If you do want to fine-tune on your own dataset, it is possible to fine-tune BERT for question answering yourself. See [run_squad.py](https://github.com/huggingface/transformers/blob/master/examples/run_squad.py) in the `transformers` library. However,you may find that the below \"fine-tuned-on-squad\" model already does a good job, even if your text is from a different domain. \n",
        "\n",
        "> Note: The example code in this Notebook is a commented and expanded version of the short example provided in the `transformers` documentation [here](https://huggingface.co/transformers/model_doc/bert.html?highlight=bertforquestionanswering#transformers.BertForQuestionAnswering)."
      ]
    },
    {
      "cell_type": "markdown",
      "metadata": {
        "id": "gVq-TuylYRDW"
      },
      "source": [
        "## 1. Install huggingface transformers library"
      ]
    },
    {
      "cell_type": "markdown",
      "metadata": {
        "id": "f9nhy3PzGQ44"
      },
      "source": [
        "This example uses the `transformers` [library](https://github.com/huggingface/transformers/) by huggingface. We'll start by installing the package."
      ]
    },
    {
      "cell_type": "code",
      "metadata": {
        "id": "aQl0MMrOGIup",
        "colab": {
          "base_uri": "https://localhost:8080/"
        },
        "outputId": "6f5ca78a-c73b-4230-fe1e-37e8aae1a59b"
      },
      "source": [
        "!pip install --quiet transformers"
      ],
      "execution_count": 1,
      "outputs": [
        {
          "output_type": "stream",
          "name": "stdout",
          "text": [
            "\u001b[K     |████████████████████████████████| 3.1 MB 4.3 MB/s \n",
            "\u001b[K     |████████████████████████████████| 3.3 MB 52.9 MB/s \n",
            "\u001b[K     |████████████████████████████████| 895 kB 60.6 MB/s \n",
            "\u001b[K     |████████████████████████████████| 61 kB 691 kB/s \n",
            "\u001b[K     |████████████████████████████████| 596 kB 60.2 MB/s \n",
            "\u001b[?25h"
          ]
        }
      ]
    },
    {
      "cell_type": "code",
      "metadata": {
        "id": "-ONLrgJK99TQ"
      },
      "source": [
        "import torch"
      ],
      "execution_count": 2,
      "outputs": []
    },
    {
      "cell_type": "markdown",
      "metadata": {
        "id": "1WThOUtpYvG-"
      },
      "source": [
        "## 2. Load Fine-Tuned BERT-large"
      ]
    },
    {
      "cell_type": "markdown",
      "metadata": {
        "id": "AaweLnNXGhTY"
      },
      "source": [
        "For Question Answering we use the `BertForQuestionAnswering` class from the `transformers` library.\n",
        "\n",
        "This class supports fine-tuning, but for this example we will keep things simpler and load a BERT model that has already been fine-tuned for the SQuAD benchmark.\n",
        "\n",
        "The `transformers` library has a large collection of pre-trained models which you can reference by name and load easily. The full list is in their documentation [here](https://huggingface.co/transformers/pretrained_models.html).\n",
        "\n",
        "For Question Answering, they have a version of BERT-large that has already been fine-tuned for the SQuAD benchmark. \n",
        "\n",
        "BERT-large is really big... it has 24-layers and an embedding size of 1,024, for a total of 340M parameters! Altogether it is 1.34GB, so expect it to take a couple minutes to download to your Colab instance. \n",
        "\n",
        "(Note that this download is not using your own network bandwidth--it's between the Google instance and wherever the model is stored on the web).\n",
        "\n",
        "Note: I believe this model was trained on version 1 of SQuAD, since it's not outputting whether the question is \"impossible\" to answer from the text (which is part of the task in v2 of SQuAD).\n"
      ]
    },
    {
      "cell_type": "code",
      "metadata": {
        "id": "-Mnv95sX-U9K",
        "colab": {
          "base_uri": "https://localhost:8080/",
          "height": 81,
          "referenced_widgets": [
            "e2f525aebc1b43fea980a6f4ef1accb9",
            "13bd45b4f7494ad4a1553ba65546c413",
            "0fb88d4f1f3f4c00a136b003e3c9634f",
            "f091118c6bc24571809bafdbf47a5552",
            "bf4bfc24845346ad9628aa2cd55fb4d9",
            "da3ba729a86a428badfa1b4ac9bfc8f9",
            "6b1a74d262e44cf6b6283c0880e29345",
            "40e67b359c4b4d839fc32a1c57105a32",
            "3a93106ad349402bbfd04477511e4bef",
            "5cb0a45790ce473ca75a8d5727a05765",
            "fe50294f885d49ab94244ae63869df1b",
            "47b7785f3762456984e4a4ca46b23d29",
            "00ee7b05e72640ac8d64349bd9d55815",
            "bfa41877ab25422a802fe63fde62d97b",
            "e473e9a4764a42508fc369c4eee3d27f",
            "20b95a9425db4f51993a25e30f62e79a",
            "dc2c44a54e7b42a8b1fc9f12f7b5dadb",
            "e2008b9c0b874100a80e2b98ebe35e69",
            "ca632c163744490e8edf2db3267a097f",
            "44b5a0e3724f468c9aef20e128e0ec20",
            "76781a81e6844ff58d5b4d416e2c00b3",
            "fa51a20fa13847568b3da8583d09ac5c"
          ]
        },
        "outputId": "26961e3f-9db4-4e92-e6af-bf6af96b24fb"
      },
      "source": [
        "from transformers import BertForQuestionAnswering\n",
        "\n",
        "model = BertForQuestionAnswering.from_pretrained('bert-large-uncased-whole-word-masking-finetuned-squad',return_dict=False)\n"
      ],
      "execution_count": 3,
      "outputs": [
        {
          "output_type": "display_data",
          "data": {
            "application/vnd.jupyter.widget-view+json": {
              "model_id": "e2f525aebc1b43fea980a6f4ef1accb9",
              "version_minor": 0,
              "version_major": 2
            },
            "text/plain": [
              "Downloading:   0%|          | 0.00/443 [00:00<?, ?B/s]"
            ]
          },
          "metadata": {}
        },
        {
          "output_type": "display_data",
          "data": {
            "application/vnd.jupyter.widget-view+json": {
              "model_id": "47b7785f3762456984e4a4ca46b23d29",
              "version_minor": 0,
              "version_major": 2
            },
            "text/plain": [
              "Downloading:   0%|          | 0.00/1.25G [00:00<?, ?B/s]"
            ]
          },
          "metadata": {}
        }
      ]
    },
    {
      "cell_type": "markdown",
      "metadata": {
        "id": "8imoOxoqGZ0h"
      },
      "source": [
        "Load the tokenizer as well. \n",
        "\n",
        "Side note: Apparently the vocabulary of this model is identicaly to the one in bert-base-uncased. You can load the tokenizer from `bert-base-uncased` and that works just as well."
      ]
    },
    {
      "cell_type": "code",
      "metadata": {
        "id": "SFQ5f7gv-RBH",
        "colab": {
          "base_uri": "https://localhost:8080/",
          "height": 113,
          "referenced_widgets": [
            "2e29f963a500483481ac5d6a20599bd5",
            "03132192ae5a4e0fb999278b14e2f925",
            "863ba9e002bd41d4a7b0ac810bf89990",
            "b5a4a5b1d74d4252bc0bd37f5d5f744e",
            "0cf2908509e94e7283673eac81f86d6e",
            "b50fa0d83ce34566ab8c7355c4b3e533",
            "06c388668d2540fc95c09173339b739c",
            "9d50b85939d54f8da87487f2764693fc",
            "50399962a0a342df80bec9133efdb210",
            "7dd68aeec06342fc975b9f14dfe47730",
            "355e792d44e949099c506be945c43935",
            "4ae62eb39d834844b62a45095d3e7694",
            "911c9ae218884dab94fb8df9a8561dbb",
            "715a98740ac745e2868b7641d598dedd",
            "7c7b393aef7a44a88c334515544fac8f",
            "167689e562784e77b3d2fba28c69a56b",
            "b035b013789948129c9d881aa29522ab",
            "307cf7920dfe49e0a4d41a533ba6ed2b",
            "6dbe25d789e6487ea446349b13ab6661",
            "b455468ec0fb4240aafdafc154ac297f",
            "9ce82f4df9b1464f854c1ecfa5b8fdfd",
            "5b5799f980684cbca6483a0812e7ac0e",
            "ed20b295e32743a0abdedf8d46099722",
            "60449fe9ed6a45b39b2ce914f419b3b8",
            "911f4d8a219543f5a604a32503c6436e",
            "9538661e01c9452693c56502b842e6f9",
            "9e194c0892724bbbbca11c1812585c57",
            "f98ba4f6ce934931abaaf8201af71942",
            "1b96940fe05040978c3ac07e25eba897",
            "38cc62ae3ae3477bb605a1917c9c6b4d",
            "7f91edcd03814bf99aa617a2e3598cbc",
            "9435aede65314ada82309e617d514c2a",
            "491d31780dea44538733fc8a00ac4527"
          ]
        },
        "outputId": "74f5631f-b737-4b46-cbbf-b1bb40aba7aa"
      },
      "source": [
        "from transformers import BertTokenizer\n",
        "\n",
        "tokenizer = BertTokenizer.from_pretrained('bert-large-uncased-whole-word-masking-finetuned-squad')"
      ],
      "execution_count": 4,
      "outputs": [
        {
          "output_type": "display_data",
          "data": {
            "application/vnd.jupyter.widget-view+json": {
              "model_id": "2e29f963a500483481ac5d6a20599bd5",
              "version_minor": 0,
              "version_major": 2
            },
            "text/plain": [
              "Downloading:   0%|          | 0.00/226k [00:00<?, ?B/s]"
            ]
          },
          "metadata": {}
        },
        {
          "output_type": "display_data",
          "data": {
            "application/vnd.jupyter.widget-view+json": {
              "model_id": "4ae62eb39d834844b62a45095d3e7694",
              "version_minor": 0,
              "version_major": 2
            },
            "text/plain": [
              "Downloading:   0%|          | 0.00/28.0 [00:00<?, ?B/s]"
            ]
          },
          "metadata": {}
        },
        {
          "output_type": "display_data",
          "data": {
            "application/vnd.jupyter.widget-view+json": {
              "model_id": "ed20b295e32743a0abdedf8d46099722",
              "version_minor": 0,
              "version_major": 2
            },
            "text/plain": [
              "Downloading:   0%|          | 0.00/455k [00:00<?, ?B/s]"
            ]
          },
          "metadata": {}
        }
      ]
    },
    {
      "cell_type": "markdown",
      "metadata": {
        "id": "I__1ubvcZYow"
      },
      "source": [
        "## 3. Ask a Question"
      ]
    },
    {
      "cell_type": "markdown",
      "metadata": {
        "id": "o8MQ7b-GJIcM"
      },
      "source": [
        "Now we're ready to feed in an example!\n",
        "\n",
        "A QA example consists of a question and a passage of text containing the answer to that question.\n",
        "\n",
        "Let's try an example using the text in this tutorial!"
      ]
    },
    {
      "cell_type": "code",
      "metadata": {
        "id": "kWzZP4EN-Zxg"
      },
      "source": [
        "question = \"How many parameters does BERT-large have?\"\n",
        "answer_text = \"BERT-large is really big... it has 24-layers and an embedding size of 1,024, for a total of 340M parameters! Altogether it is 1.34GB, so expect it to take a couple minutes to download to your Colab instance.\""
      ],
      "execution_count": null,
      "outputs": []
    },
    {
      "cell_type": "code",
      "metadata": {
        "id": "GHh58ho5y3YJ"
      },
      "source": [
        "question = \"When was the first battle of panipat fought\"\n",
        "answer_text = \"The First Battle of Panipat, on 21 April 1526, was fought between the invading forces of Babur and the Lodi dynasty. It took place in North India and marked the beginning of the Mughal Empire and the end of the Delhi Sultanate. This was one of the earliest battles involving gunpowder firearms and field artillery in the Indian subcontinent which were introduced by Mughals in this battle.\""
      ],
      "execution_count": null,
      "outputs": []
    },
    {
      "cell_type": "code",
      "metadata": {
        "id": "Vuw5oaRZgOCx"
      },
      "source": [
        "question = \"What are the other names of Jagannath temple ?\"\n",
        "answer_text = \"Puri Jagannath Temple Odisha is known as the land of Lord Jagannath  meaning the Lord of the Universe. Shree Jagannath Temple of Puri is one of the most important  temple dedicated to Lord Jagannath, a form of Lord Vishnu, in Puri in the state of Odisha .The greatest attraction of Puri is the world famous temple of Jagannatha. It is known by many , names, viz., the Puri temple, the Srimandira, the Bada Deu1a or simply, the Jagannatha temple.The temple of Jagannatha is one of the tallest monuments in the entire. sub-continent of India and its height is about 214 feet from the ground (road) level. It stands on a 'raised platform of stone, measuring about ten acres. It. is located in the hear! of the town and presents an imposing sight. The temple is bounded by two compound walls, the outer one known as Meghanada Pracira & the inner one known as Kurma Pracira. The present temple was built in the 12th century A.D. The temple structure is full of excellent carvings and lovely pieces of sculpture and is a fine specimen of Kalinga style of architecture. It is now maintained by the Archaeological Survey of India. Only orthodox Hindus are allowed to enter into the Temple. But the others can see portions of the enclosure from the top of the Emar Matha building, located near the east facing gate of the temple\""
      ],
      "execution_count": 8,
      "outputs": []
    },
    {
      "cell_type": "markdown",
      "metadata": {
        "id": "llLvxhScKLZn"
      },
      "source": [
        "We'll need to run the BERT tokenizer against both the `question` and the `answer_text`. To feed these into BERT, we actually concatenate them together and place the special [SEP] token in between.\n"
      ]
    },
    {
      "cell_type": "code",
      "metadata": {
        "id": "tYoX33CfKGsr",
        "colab": {
          "base_uri": "https://localhost:8080/"
        },
        "outputId": "e3a5758f-6ba9-4b04-ea9a-1fd922eac0f5"
      },
      "source": [
        "# Apply the tokenizer to the input text, treating them as a text-pair.\n",
        "input_ids = tokenizer.encode(question, answer_text)\n",
        "\n",
        "print('The input has a total of {:} tokens.'.format(len(input_ids)))"
      ],
      "execution_count": null,
      "outputs": [
        {
          "output_type": "stream",
          "name": "stdout",
          "text": [
            "The input has a total of 70 tokens.\n"
          ]
        }
      ]
    },
    {
      "cell_type": "code",
      "metadata": {
        "colab": {
          "base_uri": "https://localhost:8080/"
        },
        "id": "G2gCO4XWlFo4",
        "outputId": "ae40ef20-9520-4027-f9bf-9c65eb4e9259"
      },
      "source": [
        "# Apply the tokenizer to the input text, treating them as a text-pair.\n",
        "encoded_dict = tokenizer.encode_plus(text=question,text_pair=answer_text)\n",
        "print('The input has a total of {:} tokens.'.format(len(encoded_dict['input_ids'])))"
      ],
      "execution_count": null,
      "outputs": [
        {
          "output_type": "stream",
          "name": "stdout",
          "text": [
            "The input has a total of 91 tokens.\n"
          ]
        }
      ]
    },
    {
      "cell_type": "markdown",
      "metadata": {
        "id": "pNRVuaKSNFG8"
      },
      "source": [
        "Just to see exactly what the tokenizer is doing, let's print out the tokens with their IDs."
      ]
    },
    {
      "cell_type": "code",
      "metadata": {
        "id": "wKfzhkIJ4uJf"
      },
      "source": [
        "input_ids = encoded_dict['input_ids']\n",
        "segment_ids = encoded_dict['token_type_ids']\n",
        "# There should be a segment_id for every input token.\n",
        "assert len(segment_ids) == len(input_ids)"
      ],
      "execution_count": null,
      "outputs": []
    },
    {
      "cell_type": "code",
      "metadata": {
        "id": "Iow838yPNDTv",
        "colab": {
          "base_uri": "https://localhost:8080/"
        },
        "outputId": "3cb61407-50de-4857-d1aa-61474f40b174"
      },
      "source": [
        "# BERT only needs the token IDs, but for the purpose of inspecting the \n",
        "# tokenizer's behavior, let's also get the token strings and display them.\n",
        "tokens = tokenizer.convert_ids_to_tokens(input_ids)\n",
        "\n",
        "# For each token and its id...\n",
        "for token, id in zip(tokens, input_ids):\n",
        "    \n",
        "    # If this is the [SEP] token, add some space around it to make it stand out.\n",
        "    if id == tokenizer.sep_token_id:\n",
        "        print('')\n",
        "    \n",
        "    # Print the token string and its ID in two columns.\n",
        "    print('{:<12} {:>6,}'.format(token, id))\n",
        "\n",
        "    if id == tokenizer.sep_token_id:\n",
        "        print('')\n",
        "    "
      ],
      "execution_count": null,
      "outputs": [
        {
          "output_type": "stream",
          "name": "stdout",
          "text": [
            "[CLS]           101\n",
            "when          2,043\n",
            "was           2,001\n",
            "the           1,996\n",
            "first         2,034\n",
            "battle        2,645\n",
            "of            1,997\n",
            "pan           6,090\n",
            "##ip         11,514\n",
            "##at          4,017\n",
            "fought        4,061\n",
            "\n",
            "[SEP]           102\n",
            "\n",
            "the           1,996\n",
            "first         2,034\n",
            "battle        2,645\n",
            "of            1,997\n",
            "pan           6,090\n",
            "##ip         11,514\n",
            "##at          4,017\n",
            ",             1,010\n",
            "on            2,006\n",
            "21            2,538\n",
            "april         2,258\n",
            "152          15,017\n",
            "##6           2,575\n",
            ",             1,010\n",
            "was           2,001\n",
            "fought        4,061\n",
            "between       2,090\n",
            "the           1,996\n",
            "invading     17,657\n",
            "forces        2,749\n",
            "of            1,997\n",
            "babu         20,948\n",
            "##r           2,099\n",
            "and           1,998\n",
            "the           1,996\n",
            "lo            8,840\n",
            "##di          4,305\n",
            "dynasty       5,321\n",
            ".             1,012\n",
            "it            2,009\n",
            "took          2,165\n",
            "place         2,173\n",
            "in            1,999\n",
            "north         2,167\n",
            "india         2,634\n",
            "and           1,998\n",
            "marked        4,417\n",
            "the           1,996\n",
            "beginning     2,927\n",
            "of            1,997\n",
            "the           1,996\n",
            "mughal       17,877\n",
            "empire        3,400\n",
            "and           1,998\n",
            "the           1,996\n",
            "end           2,203\n",
            "of            1,997\n",
            "the           1,996\n",
            "delhi         6,768\n",
            "sultanate    21,308\n",
            ".             1,012\n",
            "this          2,023\n",
            "was           2,001\n",
            "one           2,028\n",
            "of            1,997\n",
            "the           1,996\n",
            "earliest      5,700\n",
            "battles       7,465\n",
            "involving     5,994\n",
            "gunpowder    22,220\n",
            "firearms     13,780\n",
            "and           1,998\n",
            "field         2,492\n",
            "artillery     4,893\n",
            "in            1,999\n",
            "the           1,996\n",
            "indian        2,796\n",
            "subcontinent 26,125\n",
            "which         2,029\n",
            "were          2,020\n",
            "introduced    3,107\n",
            "by            2,011\n",
            "mughal       17,877\n",
            "##s           2,015\n",
            "in            1,999\n",
            "this          2,023\n",
            "battle        2,645\n",
            ".             1,012\n",
            "\n",
            "[SEP]           102\n",
            "\n"
          ]
        }
      ]
    },
    {
      "cell_type": "markdown",
      "metadata": {
        "id": "zm208EApN16k"
      },
      "source": [
        "We've concatenated the `question` and `answer_text` together, but BERT still needs a way to distinguish them. BERT has two special \"Segment\" embeddings, one for segment \"A\" and one for segment \"B\". Before the word embeddings go into the BERT layers, the segment A embedding needs to be added to the `question` tokens, and the segment B embedding needs to be added to each of the `answer_text` tokens. \n",
        "\n",
        "These additions are handled for us by the `transformer` library, and all we need to do is specify a '0' or '1' for each token. \n",
        "\n",
        "Note: In the `transformers` library, huggingface likes to call these `token_type_ids`, but I'm going with `segment_ids` since this seems clearer, and is consistent with the BERT paper."
      ]
    },
    {
      "cell_type": "code",
      "metadata": {
        "colab": {
          "base_uri": "https://localhost:8080/"
        },
        "id": "erio8yEM3xh7",
        "outputId": "d1b13bd7-e099-4602-c086-73015b792332"
      },
      "source": [
        "encoded_dict"
      ],
      "execution_count": null,
      "outputs": [
        {
          "output_type": "execute_result",
          "data": {
            "text/plain": [
              "{'input_ids': [101, 2043, 2001, 1996, 2034, 2645, 1997, 6090, 11514, 4017, 4061, 102, 1996, 2034, 2645, 1997, 6090, 11514, 4017, 1010, 2006, 2538, 2258, 15017, 2575, 1010, 2001, 4061, 2090, 1996, 17657, 2749, 1997, 20948, 2099, 1998, 1996, 8840, 4305, 5321, 1012, 2009, 2165, 2173, 1999, 2167, 2634, 1998, 4417, 1996, 2927, 1997, 1996, 17877, 3400, 1998, 1996, 2203, 1997, 1996, 6768, 21308, 1012, 2023, 2001, 2028, 1997, 1996, 5700, 7465, 5994, 22220, 13780, 1998, 2492, 4893, 1999, 1996, 2796, 26125, 2029, 2020, 3107, 2011, 17877, 2015, 1999, 2023, 2645, 1012, 102], 'token_type_ids': [0, 0, 0, 0, 0, 0, 0, 0, 0, 0, 0, 0, 1, 1, 1, 1, 1, 1, 1, 1, 1, 1, 1, 1, 1, 1, 1, 1, 1, 1, 1, 1, 1, 1, 1, 1, 1, 1, 1, 1, 1, 1, 1, 1, 1, 1, 1, 1, 1, 1, 1, 1, 1, 1, 1, 1, 1, 1, 1, 1, 1, 1, 1, 1, 1, 1, 1, 1, 1, 1, 1, 1, 1, 1, 1, 1, 1, 1, 1, 1, 1, 1, 1, 1, 1, 1, 1, 1, 1, 1, 1], 'attention_mask': [1, 1, 1, 1, 1, 1, 1, 1, 1, 1, 1, 1, 1, 1, 1, 1, 1, 1, 1, 1, 1, 1, 1, 1, 1, 1, 1, 1, 1, 1, 1, 1, 1, 1, 1, 1, 1, 1, 1, 1, 1, 1, 1, 1, 1, 1, 1, 1, 1, 1, 1, 1, 1, 1, 1, 1, 1, 1, 1, 1, 1, 1, 1, 1, 1, 1, 1, 1, 1, 1, 1, 1, 1, 1, 1, 1, 1, 1, 1, 1, 1, 1, 1, 1, 1, 1, 1, 1, 1, 1, 1]}"
            ]
          },
          "metadata": {},
          "execution_count": 9
        }
      ]
    },
    {
      "cell_type": "markdown",
      "metadata": {
        "id": "1ORa5G3iz0ig"
      },
      "source": [
        "## Not Required"
      ]
    },
    {
      "cell_type": "code",
      "metadata": {
        "id": "uJ7PRx2dKqFN"
      },
      "source": [
        "# Search the input_ids for the first instance of the `[SEP]` token.\n",
        "sep_index = input_ids.index(tokenizer.sep_token_id)\n",
        "\n",
        "# The number of segment A tokens includes the [SEP] token istelf.\n",
        "num_seg_a = sep_index + 1\n",
        "\n",
        "# The remainder are segment B.\n",
        "num_seg_b = len(input_ids) - num_seg_a\n",
        "\n",
        "# Construct the list of 0s and 1s.\n",
        "segment_ids = [0]*num_seg_a + [1]*num_seg_b\n",
        "\n",
        "# There should be a segment_id for every input token.\n",
        "assert len(segment_ids) == len(input_ids)"
      ],
      "execution_count": null,
      "outputs": []
    },
    {
      "cell_type": "markdown",
      "metadata": {
        "id": "a30sBTcqQv6X"
      },
      "source": [
        ">*Side Note: Where's the padding?*\n",
        ">\n",
        "> The original [example code](https://huggingface.co/transformers/model_doc/bert.html?highlight=bertforquestionanswering#transformers.BertForQuestionAnswering) does not perform any padding. I suspect that this is because we are only feeding in a *single example*. If we instead fed in a batch of examples, then we would need to pad or truncate all of the samples in the batch to a single length, and supply an attention mask to tell BERT to ignore the padding tokens. "
      ]
    },
    {
      "cell_type": "markdown",
      "metadata": {
        "id": "CNwhEw0kQPBN"
      },
      "source": [
        "We're ready to feed our example into the model!\n",
        "\n",
        "Note: The result object is of type [QuestionAnsweringModelOutput](https://huggingface.co/transformers/main_classes/output.html#transformers.modeling_outputs.QuestionAnsweringModelOutput)\n",
        "\n"
      ]
    },
    {
      "cell_type": "code",
      "metadata": {
        "id": "DQiKr6Aw-YTg"
      },
      "source": [
        "# Run our example through the model.\n",
        "import torch\n",
        "outputs = model(torch.tensor([input_ids]), # The tokens representing our input text.\n",
        "                             token_type_ids=torch.tensor([segment_ids]), # The segment IDs to differentiate question from answer_text\n",
        "                             return_dict=True) \n",
        "\n",
        "start_scores = outputs.start_logits\n",
        "end_scores = outputs.end_logits\n"
      ],
      "execution_count": null,
      "outputs": []
    },
    {
      "cell_type": "code",
      "metadata": {
        "colab": {
          "base_uri": "https://localhost:8080/"
        },
        "id": "z2GPaxbt6DTN",
        "outputId": "ede65421-4b48-4ecc-8cbe-6e78c6f95b9f"
      },
      "source": [
        "start_scores"
      ],
      "execution_count": null,
      "outputs": [
        {
          "output_type": "execute_result",
          "data": {
            "text/plain": [
              "tensor([[-6.1921, -7.8888, -8.4645, -8.1532, -8.2352, -8.0632, -8.7318, -8.1105,\n",
              "         -8.2547, -9.1396, -9.1980, -6.1920,  3.5754,  1.0137, -0.6775, -3.4296,\n",
              "         -0.8084, -4.3873, -4.1665, -2.1391,  3.9576,  7.3590,  1.6369,  2.0753,\n",
              "         -1.1646, -4.4231, -1.2428, -0.2542, -1.3991, -3.7001, -2.8558, -4.5216,\n",
              "         -6.7074, -2.1165, -6.4115, -6.9660, -5.0379, -4.0100, -7.1945, -4.9442,\n",
              "         -6.1919,  0.7952, -1.8639, -3.8503, -1.9429, -1.1616, -2.0966, -5.1343,\n",
              "         -0.8202, -3.3836, -3.6776, -6.0500, -4.4275, -3.2622, -5.4394, -6.8803,\n",
              "         -4.3243, -4.4168, -7.5424, -6.5254, -3.7600, -5.2122, -5.6785, -0.5037,\n",
              "         -6.0402, -2.5273, -6.6063, -6.3269, -4.0668, -4.5432, -6.2146, -4.8752,\n",
              "         -5.8722, -8.2681, -6.3960, -6.5612, -7.8046, -7.5089, -4.3424, -6.7015,\n",
              "         -7.7564, -7.8805, -4.9072, -7.8354, -4.7692, -8.0552, -6.0533, -4.6642,\n",
              "         -4.3043, -8.7412, -6.1921]], grad_fn=<CloneBackward0>)"
            ]
          },
          "metadata": {},
          "execution_count": 11
        }
      ]
    },
    {
      "cell_type": "code",
      "metadata": {
        "colab": {
          "base_uri": "https://localhost:8080/"
        },
        "id": "igs_IhEx6GSQ",
        "outputId": "ccb6e041-bf15-47aa-cd6c-63c1f941fbe2"
      },
      "source": [
        "end_scores"
      ],
      "execution_count": null,
      "outputs": [
        {
          "output_type": "execute_result",
          "data": {
            "text/plain": [
              "tensor([[-1.2906, -7.6076, -7.6274, -7.9695, -7.5565, -7.5547, -7.5955, -7.6814,\n",
              "         -6.9985, -6.2216, -8.6514, -1.2904, -4.4938, -3.8245, -4.1108, -5.8563,\n",
              "         -4.6906, -4.2343,  2.3269,  0.4567, -2.3111, -1.1959, -0.0603, -0.8008,\n",
              "          8.3731,  4.1742, -2.9604, -1.5729, -4.1726, -6.0517, -4.4152, -1.9234,\n",
              "         -6.3897, -5.9848, -1.9510, -6.2458, -7.0643, -6.8189, -3.5232,  1.4079,\n",
              "         -1.2904, -5.2609, -5.9797, -2.1445, -5.8484, -5.1173,  1.1486, -4.9378,\n",
              "         -5.5935, -7.0867, -4.9104, -6.6911, -7.2202, -4.7570, -1.4974, -7.0718,\n",
              "         -7.1866, -5.3730, -6.6655, -7.3449, -4.7993, -0.6807,  0.2394, -6.3728,\n",
              "         -7.3108, -7.4306, -7.5641, -7.9508, -5.7352, -5.9379, -7.4450, -5.9270,\n",
              "         -3.3975, -7.5637, -7.2660, -2.6211, -7.5153, -7.7844, -5.4956, -1.4396,\n",
              "         -6.3828, -7.7750, -6.2637, -8.0213, -7.1848, -4.2321, -7.5771, -7.5525,\n",
              "         -1.8090, -2.9398, -1.2907]], grad_fn=<CloneBackward0>)"
            ]
          },
          "metadata": {},
          "execution_count": 12
        }
      ]
    },
    {
      "cell_type": "markdown",
      "metadata": {
        "id": "mBdS_QkIbDzh"
      },
      "source": [
        "Now we can highlight the answer just by looking at the most probable start and end words. "
      ]
    },
    {
      "cell_type": "code",
      "metadata": {
        "id": "LeUQ44hAJmn9",
        "colab": {
          "base_uri": "https://localhost:8080/"
        },
        "outputId": "d7b4e4d1-a62c-425c-cca5-fabcd5d5753d"
      },
      "source": [
        "# Find the tokens with the highest `start` and `end` scores.\n",
        "answer_start = torch.argmax(start_scores)\n",
        "answer_end = torch.argmax(end_scores)\n",
        "\n",
        "# Combine the tokens in the answer and print it out.\n",
        "answer = ' '.join(tokens[answer_start:answer_end+1])\n",
        "\n",
        "print('Answer: \"' + answer + '\"')"
      ],
      "execution_count": null,
      "outputs": [
        {
          "output_type": "stream",
          "name": "stdout",
          "text": [
            "Answer: \"21 april 152 ##6\"\n"
          ]
        }
      ]
    },
    {
      "cell_type": "markdown",
      "metadata": {
        "id": "twMUWmr2brRw"
      },
      "source": [
        "It got it right! Awesome :)"
      ]
    },
    {
      "cell_type": "markdown",
      "metadata": {
        "id": "cERYCGKMbOXX"
      },
      "source": [
        "> *Side Note: It's a little naive to pick the highest scores for start and end--what if it predicts an end word that's before the start word?! The correct implementation is to pick the highest total score for which end >= start.*"
      ]
    },
    {
      "cell_type": "markdown",
      "metadata": {
        "id": "N6j2znkwXYsn"
      },
      "source": [
        "With a little more effort, we can reconstruct any words that got broken down into subwords."
      ]
    },
    {
      "cell_type": "code",
      "metadata": {
        "id": "Khral6HZXCuI",
        "colab": {
          "base_uri": "https://localhost:8080/"
        },
        "outputId": "42d6ec51-e840-4ae2-b5d2-4fb665f6e9e4"
      },
      "source": [
        "# Start with the first token.\n",
        "answer = tokens[answer_start]\n",
        "\n",
        "# Select the remaining answer tokens and join them with whitespace.\n",
        "for i in range(answer_start + 1, answer_end + 1):\n",
        "    \n",
        "    # If it's a subword token, then recombine it with the previous token.\n",
        "    if tokens[i][0:2] == '##':\n",
        "        answer += tokens[i][2:]\n",
        "    \n",
        "    # Otherwise, add a space then the token.\n",
        "    else:\n",
        "        answer += ' ' + tokens[i]\n",
        "\n",
        "print('Answer: \"' + answer + '\"')"
      ],
      "execution_count": null,
      "outputs": [
        {
          "output_type": "stream",
          "name": "stdout",
          "text": [
            "Answer: \"21 april 1526\"\n"
          ]
        }
      ]
    },
    {
      "cell_type": "markdown",
      "metadata": {
        "id": "-hh6nkIdXq-O"
      },
      "source": [
        "## 4. Visualizing Scores"
      ]
    },
    {
      "cell_type": "markdown",
      "metadata": {
        "id": "-hG2YCHYXtg-"
      },
      "source": [
        "I was curious to see what the scores were for all of the words. The following cells generate bar plots showing the start and end scores for every word in the input."
      ]
    },
    {
      "cell_type": "code",
      "metadata": {
        "id": "gkKFa73eJkPE"
      },
      "source": [
        "import matplotlib.pyplot as plt\n",
        "import seaborn as sns\n",
        "\n",
        "# Use plot styling from seaborn.\n",
        "sns.set(style='darkgrid')\n",
        "\n",
        "# Increase the plot size and font size.\n",
        "#sns.set(font_scale=1.5)\n",
        "plt.rcParams[\"figure.figsize\"] = (16,8)"
      ],
      "execution_count": null,
      "outputs": []
    },
    {
      "cell_type": "markdown",
      "metadata": {
        "id": "W7kazkb2iEuQ"
      },
      "source": [
        "Retrieve all of the start and end scores, and use all of the tokens as x-axis labels."
      ]
    },
    {
      "cell_type": "code",
      "metadata": {
        "id": "C56AtMg2UBxN"
      },
      "source": [
        "# Pull the scores out of PyTorch Tensors and convert them to 1D numpy arrays.\n",
        "s_scores = start_scores.detach().numpy().flatten()\n",
        "e_scores = end_scores.detach().numpy().flatten()\n",
        "\n",
        "# We'll use the tokens as the x-axis labels. In order to do that, they all need\n",
        "# to be unique, so we'll add the token index to the end of each one.\n",
        "token_labels = []\n",
        "for (i, token) in enumerate(tokens):\n",
        "    token_labels.append('{:} - {:>2}'.format(token, i))\n"
      ],
      "execution_count": null,
      "outputs": []
    },
    {
      "cell_type": "markdown",
      "metadata": {
        "id": "NIaW7RyTiLeu"
      },
      "source": [
        "Create a bar plot showing the score for every input word being the \"start\" word."
      ]
    },
    {
      "cell_type": "code",
      "metadata": {
        "id": "y6OAV1dL3-UB",
        "colab": {
          "base_uri": "https://localhost:8080/",
          "height": 589
        },
        "outputId": "47ff9a4f-f679-4ab1-bc0d-ade5aff50488"
      },
      "source": [
        "# Create a barplot showing the start word score for all of the tokens.\n",
        "ax = sns.barplot(x=token_labels, y=s_scores, ci=None)\n",
        "\n",
        "# Turn the xlabels vertical.\n",
        "ax.set_xticklabels(ax.get_xticklabels(), rotation=90, ha=\"center\")\n",
        "\n",
        "# Turn on the vertical grid to help align words to scores.\n",
        "ax.grid(True)\n",
        "\n",
        "plt.title('Start Word Scores')\n",
        "\n",
        "plt.show()"
      ],
      "execution_count": null,
      "outputs": [
        {
          "output_type": "display_data",
          "data": {
            "image/png": "[encoded data removed]",
            "text/plain": [
              "<Figure size 1152x576 with 1 Axes>"
            ]
          },
          "metadata": {}
        }
      ]
    },
    {
      "cell_type": "markdown",
      "metadata": {
        "id": "zIwrF7y6iS1l"
      },
      "source": [
        "Create a second bar plot showing the score for every input word being the \"end\" word."
      ]
    },
    {
      "cell_type": "code",
      "metadata": {
        "id": "6tXEqIp-Tzou",
        "colab": {
          "base_uri": "https://localhost:8080/",
          "height": 589
        },
        "outputId": "052541ab-7950-4cb9-ac7b-ac176433bfb8"
      },
      "source": [
        "# Create a barplot showing the end word score for all of the tokens.\n",
        "ax = sns.barplot(x=token_labels, y=e_scores, ci=None)\n",
        "\n",
        "# Turn the xlabels vertical.\n",
        "ax.set_xticklabels(ax.get_xticklabels(), rotation=90, ha=\"center\")\n",
        "\n",
        "# Turn on the vertical grid to help align words to scores.\n",
        "ax.grid(True)\n",
        "\n",
        "plt.title('End Word Scores')\n",
        "\n",
        "plt.show()"
      ],
      "execution_count": null,
      "outputs": [
        {
          "output_type": "display_data",
          "data": {
            "image/png": "[encoded data removed]",
            "text/plain": [
              "<Figure size 1152x576 with 1 Axes>"
            ]
          },
          "metadata": {}
        }
      ]
    },
    {
      "cell_type": "markdown",
      "metadata": {
        "id": "awgi7Z_a9KSq"
      },
      "source": [
        "**Alternate View**\n",
        "\n",
        "I also tried visualizing both the start and end scores on a single bar plot, but I think it may actually be more confusing then seeing them separately. "
      ]
    },
    {
      "cell_type": "code",
      "metadata": {
        "id": "m4VUk6R05uXS"
      },
      "source": [
        "import pandas as pd\n",
        "\n",
        "# Store the tokens and scores in a DataFrame. \n",
        "# Each token will have two rows, one for its start score and one for its end\n",
        "# score. The \"marker\" column will differentiate them. A little wacky, I know.\n",
        "scores = []\n",
        "for (i, token_label) in enumerate(token_labels):\n",
        "\n",
        "    # Add the token's start score as one row.\n",
        "    scores.append({'token_label': token_label, \n",
        "                   'score': s_scores[i],\n",
        "                   'marker': 'start'})\n",
        "    \n",
        "    # Add  the token's end score as another row.\n",
        "    scores.append({'token_label': token_label, \n",
        "                   'score': e_scores[i],\n",
        "                   'marker': 'end'})\n",
        "    \n",
        "df = pd.DataFrame(scores)\n"
      ],
      "execution_count": null,
      "outputs": []
    },
    {
      "cell_type": "code",
      "metadata": {
        "id": "07xyo-I97Ntt",
        "colab": {
          "base_uri": "https://localhost:8080/",
          "height": 333
        },
        "outputId": "c94e5d70-9f61-4443-fda5-4ffdd93d51c9"
      },
      "source": [
        "# Draw a grouped barplot to show start and end scores for each word.\n",
        "# The \"hue\" parameter is where we tell it which datapoints belong to which\n",
        "# of the two series.\n",
        "g = sns.catplot(x=\"token_label\", y=\"score\", hue=\"marker\", data=df,\n",
        "                kind=\"bar\", height=6, aspect=4)\n",
        "\n",
        "# Turn the xlabels vertical.\n",
        "g.set_xticklabels(g.ax.get_xticklabels(), rotation=90, ha=\"center\")\n",
        "\n",
        "# Turn on the vertical grid to help align words to scores.\n",
        "g.ax.grid(True)\n"
      ],
      "execution_count": null,
      "outputs": [
        {
          "output_type": "display_data",
          "data": {
            "image/png": "[encoded data removed]",
            "text/plain": [
              "<Figure size 1793.47x432 with 1 Axes>"
            ]
          },
          "metadata": {}
        }
      ]
    },
    {
      "cell_type": "markdown",
      "metadata": {
        "id": "8UyBYNmeegGf"
      },
      "source": [
        "## 5. More Examples"
      ]
    },
    {
      "cell_type": "markdown",
      "metadata": {
        "id": "MWtcRpPef-Ce"
      },
      "source": [
        "Turn the QA process into a function so we can easily try out other examples."
      ]
    },
    {
      "cell_type": "code",
      "metadata": {
        "id": "rH8NbBlsfxZ_"
      },
      "source": [
        "def answer_question(question, answer_text):\n",
        "    '''\n",
        "    Takes a `question` string and an `answer_text` string (which contains the\n",
        "    answer), and identifies the words within the `answer_text` that are the\n",
        "    answer. Prints them out.\n",
        "    '''\n",
        "    # ======== Tokenize ========\n",
        "    # Apply the tokenizer to the input text, treating them as a text-pair.\n",
        "    encoded_dict = tokenizer.encode_plus(text=question,text_pair=answer_text)\n",
        "    input_ids = encoded_dict['input_ids']\n",
        "    segment_ids = encoded_dict['token_type_ids']\n",
        "    # There should be a segment_id for every input token.\n",
        "    assert len(segment_ids) == len(input_ids)\n",
        "    # Report how long the input sequence is.\n",
        "    print('Query has {:,} tokens.\\n'.format(len(input_ids)))\n",
        "    # ======== Evaluate ========\n",
        "    # Run our example through the model.\n",
        "    outputs = model(torch.tensor([input_ids]), # The tokens representing our input text.\n",
        "                    token_type_ids=torch.tensor([segment_ids]), # The segment IDs to differentiate question from answer_text\n",
        "                    return_dict=True) \n",
        "\n",
        "    start_scores = outputs.start_logits\n",
        "    end_scores = outputs.end_logits\n",
        "\n",
        "    # ======== Reconstruct Answer ========\n",
        "    # Find the tokens with the highest `start` and `end` scores.\n",
        "    answer_start = torch.argmax(start_scores)\n",
        "    answer_end = torch.argmax(end_scores)\n",
        "\n",
        "    # Get the string versions of the input tokens.\n",
        "    tokens = tokenizer.convert_ids_to_tokens(input_ids)\n",
        "\n",
        "    # Start with the first token.\n",
        "    answer = tokens[answer_start]\n",
        "\n",
        "    # Select the remaining answer tokens and join them with whitespace.\n",
        "    for i in range(answer_start + 1, answer_end + 1):\n",
        "        \n",
        "        # If it's a subword token, then recombine it with the previous token.\n",
        "        if tokens[i][0:2] == '##':\n",
        "            answer += tokens[i][2:]\n",
        "        \n",
        "        # Otherwise, add a space then the token.\n",
        "        else:\n",
        "            answer += ' ' + tokens[i]\n",
        "\n",
        "    print('Answer: \"' + answer + '\"')\n",
        "    return answer"
      ],
      "execution_count": 5,
      "outputs": []
    },
    {
      "cell_type": "code",
      "metadata": {
        "colab": {
          "base_uri": "https://localhost:8080/",
          "height": 88
        },
        "id": "-G189uW81Kog",
        "outputId": "bbd0cfc7-e5e6-45c8-8720-f79850484ce5"
      },
      "source": [
        "answer_question(question, answer_text)"
      ],
      "execution_count": 9,
      "outputs": [
        {
          "output_type": "stream",
          "name": "stdout",
          "text": [
            "Query has 322 tokens.\n",
            "\n",
            "Answer: \"puri temple , the srimandira , the bada deu1a or simply , the jagannatha temple\"\n"
          ]
        },
        {
          "output_type": "execute_result",
          "data": {
            "application/vnd.google.colaboratory.intrinsic+json": {
              "type": "string"
            },
            "text/plain": [
              "'puri temple , the srimandira , the bada deu1a or simply , the jagannatha temple'"
            ]
          },
          "metadata": {},
          "execution_count": 9
        }
      ]
    },
    {
      "cell_type": "markdown",
      "metadata": {
        "id": "DVlKTK-njWrX"
      },
      "source": [
        "As our reference text, I've taken the Abstract of the [BERT paper](https://arxiv.org/pdf/1810.04805.pdf).\n"
      ]
    },
    {
      "cell_type": "code",
      "metadata": {
        "id": "y4VPq6FdjxyX",
        "colab": {
          "base_uri": "https://localhost:8080/"
        },
        "outputId": "45222d8e-9d5b-41e1-ae0f-db5b5b087dac"
      },
      "source": [
        "import textwrap\n",
        "\n",
        "# Wrap text to 80 characters.\n",
        "wrapper = textwrap.TextWrapper(width=80) \n",
        "\n",
        "bert_abstract = \"We introduce a new language representation model called BERT, which stands for Bidirectional Encoder Representations from Transformers. Unlike recent language representation models (Peters et al., 2018a; Radford et al., 2018), BERT is designed to pretrain deep bidirectional representations from unlabeled text by jointly conditioning on both left and right context in all layers. As a result, the pre-trained BERT model can be finetuned with just one additional output layer to create state-of-the-art models for a wide range of tasks, such as question answering and language inference, without substantial taskspecific architecture modifications. BERT is conceptually simple and empirically powerful. It obtains new state-of-the-art results on eleven natural language processing tasks, including pushing the GLUE score to 80.5% (7.7% point absolute improvement), MultiNLI accuracy to 86.7% (4.6% absolute improvement), SQuAD v1.1 question answering Test F1 to 93.2 (1.5 point absolute improvement) and SQuAD v2.0 Test F1 to 83.1 (5.1 point absolute improvement).\"\n",
        "\n",
        "print(wrapper.fill(bert_abstract))"
      ],
      "execution_count": null,
      "outputs": [
        {
          "output_type": "stream",
          "name": "stdout",
          "text": [
            "We introduce a new language representation model called BERT, which stands for\n",
            "Bidirectional Encoder Representations from Transformers. Unlike recent language\n",
            "representation models (Peters et al., 2018a; Radford et al., 2018), BERT is\n",
            "designed to pretrain deep bidirectional representations from unlabeled text by\n",
            "jointly conditioning on both left and right context in all layers. As a result,\n",
            "the pre-trained BERT model can be finetuned with just one additional output\n",
            "layer to create state-of-the-art models for a wide range of tasks, such as\n",
            "question answering and language inference, without substantial taskspecific\n",
            "architecture modifications. BERT is conceptually simple and empirically\n",
            "powerful. It obtains new state-of-the-art results on eleven natural language\n",
            "processing tasks, including pushing the GLUE score to 80.5% (7.7% point absolute\n",
            "improvement), MultiNLI accuracy to 86.7% (4.6% absolute improvement), SQuAD v1.1\n",
            "question answering Test F1 to 93.2 (1.5 point absolute improvement) and SQuAD\n",
            "v2.0 Test F1 to 83.1 (5.1 point absolute improvement).\n"
          ]
        }
      ]
    },
    {
      "cell_type": "markdown",
      "metadata": {
        "id": "tEB654YCknYv"
      },
      "source": [
        "-----------------------------\n",
        "Ask BERT what its name stands for (the answer is in the first sentence of the abstract)."
      ]
    },
    {
      "cell_type": "code",
      "metadata": {
        "id": "wfntqRCBegGj",
        "colab": {
          "base_uri": "https://localhost:8080/"
        },
        "outputId": "6339073a-07da-4e4e-b228-8af755d7402b"
      },
      "source": [
        "question = \"What does the 'B' in BERT stand for?\"\n",
        "\n",
        "answer_question(question, bert_abstract)"
      ],
      "execution_count": null,
      "outputs": [
        {
          "output_type": "stream",
          "name": "stdout",
          "text": [
            "Query has 258 tokens.\n",
            "\n",
            "Answer: \"bidirectional encoder representations from transformers\"\n"
          ]
        }
      ]
    },
    {
      "cell_type": "markdown",
      "metadata": {
        "id": "B6HcijzxkTO9"
      },
      "source": [
        "---------------------\n",
        "Ask BERT about example applications of itself :)\n",
        "\n",
        "The answer to the question comes from this passage from the abstract: \n",
        "\n",
        "> \"...BERT model can be finetuned with just one additional output\n",
        "layer to create state-of-the-art models for **a wide range of tasks, such as\n",
        "question answering and language inference,** without substantial taskspecific\n",
        "architecture modifications.\""
      ]
    },
    {
      "cell_type": "code",
      "metadata": {
        "id": "MVNVGN5-gI06",
        "colab": {
          "base_uri": "https://localhost:8080/"
        },
        "outputId": "3686bf5e-19cc-454d-cd93-11f072ad1b20"
      },
      "source": [
        "question = \"What are some example applications of BERT?\"\n",
        "\n",
        "answer_question(question, bert_abstract)"
      ],
      "execution_count": null,
      "outputs": [
        {
          "output_type": "stream",
          "name": "stdout",
          "text": [
            "Query has 255 tokens.\n",
            "\n",
            "Answer: \"question answering and language inference\"\n"
          ]
        }
      ]
    },
    {
      "cell_type": "markdown",
      "metadata": {
        "id": "ql6i1Iiz1X-g"
      },
      "source": [
        "## Building a prtotype using Gradio Web APP"
      ]
    },
    {
      "cell_type": "code",
      "metadata": {
        "colab": {
          "base_uri": "https://localhost:8080/"
        },
        "id": "oYUuy8nd1ghE",
        "outputId": "11532976-dba2-44a5-d7dd-c4d95f04dfa4"
      },
      "source": [
        "! pip install --quiet gradio"
      ],
      "execution_count": 10,
      "outputs": [
        {
          "output_type": "stream",
          "name": "stdout",
          "text": [
            "\u001b[K     |████████████████████████████████| 979 kB 4.0 MB/s \n",
            "\u001b[K     |████████████████████████████████| 2.0 MB 58.9 MB/s \n",
            "\u001b[K     |████████████████████████████████| 206 kB 73.6 MB/s \n",
            "\u001b[K     |████████████████████████████████| 3.6 MB 67.8 MB/s \n",
            "\u001b[K     |████████████████████████████████| 63 kB 3.1 MB/s \n",
            "\u001b[K     |████████████████████████████████| 961 kB 73.6 MB/s \n",
            "\u001b[?25h  Building wheel for ffmpy (setup.py) ... \u001b[?25l\u001b[?25hdone\n",
            "  Building wheel for flask-cachebuster (setup.py) ... \u001b[?25l\u001b[?25hdone\n"
          ]
        }
      ]
    },
    {
      "cell_type": "code",
      "metadata": {
        "colab": {
          "base_uri": "https://localhost:8080/",
          "height": 643
        },
        "id": "HBfQQlT21jzD",
        "outputId": "81001af4-1788-4d5d-c997-3f6d8aa77f17"
      },
      "source": [
        "import gradio as gr\n",
        "interface = gr.Interface(fn=answer_question,inputs=[\"text\",gr.inputs.Textbox(lines=10,placeholder=\"enter context here\")],outputs=\"text\")\n",
        "interface.launch()"
      ],
      "execution_count": 11,
      "outputs": [
        {
          "output_type": "stream",
          "name": "stdout",
          "text": [
            "Colab notebook detected. To show errors in colab notebook, set `debug=True` in `launch()`\n",
            "Running on public URL: https://20561.gradio.app\n",
            "\n",
            "This share link will expire in 72 hours. To get longer links, send an email to: support@gradio.app\n"
          ]
        },
        {
          "output_type": "display_data",
          "data": {
            "text/html": [
              "\n",
              "        <iframe\n",
              "            width=\"900\"\n",
              "            height=\"500\"\n",
              "            src=\"https://20561.gradio.app\"\n",
              "            frameborder=\"0\"\n",
              "            allowfullscreen\n",
              "        ></iframe>\n",
              "        "
            ],
            "text/plain": [
              "<IPython.lib.display.IFrame at 0x7f27a5336fd0>"
            ]
          },
          "metadata": {}
        },
        {
          "output_type": "execute_result",
          "data": {
            "text/plain": [
              "(<Flask 'gradio.networking'>,\n",
              " 'http://127.0.0.1:7860/',\n",
              " 'https://20561.gradio.app')"
            ]
          },
          "metadata": {},
          "execution_count": 11
        }
      ]
    },
    {
      "cell_type": "markdown",
      "metadata": {
        "id": "71QgHlwpilix"
      },
      "source": [
        "##Gradio Web App"
      ]
    },
    {
      "cell_type": "markdown",
      "metadata": {
        "id": "Hj0uM7Byib2b"
      },
      "source": [
        "![image.png](data:image/png;base64,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)"
      ]
    },
    {
      "cell_type": "markdown",
      "metadata": {
        "id": "lZbbv6H4iRd5"
      },
      "source": [
        "![image.png](data:image/png;base64,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)"
      ]
    }
  ]
}