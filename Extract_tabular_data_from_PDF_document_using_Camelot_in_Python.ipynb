{
  "nbformat": 4,
  "nbformat_minor": 0,
  "metadata": {
    "colab": {
      "name": "Extract tabular data from PDF document using Camelot in Python.ipynb",
      "provenance": [],
      "authorship_tag": "ABX9TyPPUlGkhgEW4+BT1M4WJIkz",
      "include_colab_link": true
    },
    "kernelspec": {
      "name": "python3",
      "display_name": "Python 3"
    },
    "language_info": {
      "name": "python"
    }
  },
  "cells": [
    {
      "cell_type": "markdown",
      "metadata": {
        "id": "view-in-github",
        "colab_type": "text"
      },
      "source": [
        "<a href=\"https://colab.research.google.com/github/plaban1981/POCs/blob/main/Extract_tabular_data_from_PDF_document_using_Camelot_in_Python.ipynb\" target=\"_parent\"><img src=\"https://colab.research.google.com/assets/colab-badge.svg\" alt=\"Open In Colab\"/></a>"
      ]
    },
    {
      "cell_type": "markdown",
      "metadata": {
        "id": "H4hO41TBnGeN"
      },
      "source": [
        "## Camelot \n",
        "\n",
        "* Camelot is an open-source Python library, that enables developers to extract all tables from the PDF document and convert it to Pandas Dataframe format. The extracted table can also be exported in a structured form as CSV, JSON, Excel, or other formats, and can be used for modeling.\n",
        "\n",
        "* Camelot only works with text-based PDFs and not scanned documents. (As Tabula explains, \"If you can click and drag to select text in your table in a PDF viewer, then your PDF is text-based\".)\n",
        "\n",
        "\n",
        "* For large files, the camelot library tends to outperform tabula-py. However, sometimes you'll encounter a NotImplementedError for some PDFs using the camelot library, you can use tabula-py as an alternative."
      ]
    },
    {
      "cell_type": "code",
      "metadata": {
        "colab": {
          "base_uri": "https://localhost:8080/"
        },
        "id": "cMQVS9OC1EQf",
        "outputId": "2787822f-dd84-47d2-cc44-bf1cb3f53a24"
      },
      "source": [
        "pip install \"camelot-py[cv]\""
      ],
      "execution_count": 1,
      "outputs": [
        {
          "output_type": "stream",
          "name": "stdout",
          "text": [
            "Collecting camelot-py[cv]\n",
            "  Downloading camelot_py-0.10.1-py3-none-any.whl (40 kB)\n",
            "\u001b[K     |████████████████████████████████| 40 kB 28 kB/s \n",
            "\u001b[?25hCollecting pdfminer.six>=20200726\n",
            "  Downloading pdfminer.six-20201018-py3-none-any.whl (5.6 MB)\n",
            "\u001b[K     |████████████████████████████████| 5.6 MB 57.7 MB/s \n",
            "\u001b[?25hRequirement already satisfied: click>=6.7 in /usr/local/lib/python3.7/dist-packages (from camelot-py[cv]) (7.1.2)\n",
            "Requirement already satisfied: numpy>=1.13.3 in /usr/local/lib/python3.7/dist-packages (from camelot-py[cv]) (1.19.5)\n",
            "Requirement already satisfied: pandas>=0.23.4 in /usr/local/lib/python3.7/dist-packages (from camelot-py[cv]) (1.1.5)\n",
            "Requirement already satisfied: tabulate>=0.8.9 in /usr/local/lib/python3.7/dist-packages (from camelot-py[cv]) (0.8.9)\n",
            "Requirement already satisfied: openpyxl>=2.5.8 in /usr/local/lib/python3.7/dist-packages (from camelot-py[cv]) (2.5.9)\n",
            "Requirement already satisfied: chardet>=3.0.4 in /usr/local/lib/python3.7/dist-packages (from camelot-py[cv]) (3.0.4)\n",
            "Collecting PyPDF2>=1.26.0\n",
            "  Downloading PyPDF2-1.26.0.tar.gz (77 kB)\n",
            "\u001b[K     |████████████████████████████████| 77 kB 6.2 MB/s \n",
            "\u001b[?25hCollecting pdftopng>=0.2.3\n",
            "  Downloading pdftopng-0.2.3-cp37-cp37m-manylinux2010_x86_64.whl (11.7 MB)\n",
            "\u001b[K     |████████████████████████████████| 11.7 MB 31.1 MB/s \n",
            "\u001b[?25hCollecting ghostscript>=0.7\n",
            "  Downloading ghostscript-0.7-py2.py3-none-any.whl (25 kB)\n",
            "Requirement already satisfied: opencv-python>=3.4.2.17 in /usr/local/lib/python3.7/dist-packages (from camelot-py[cv]) (4.1.2.30)\n",
            "Requirement already satisfied: setuptools>=38.6.0 in /usr/local/lib/python3.7/dist-packages (from ghostscript>=0.7->camelot-py[cv]) (57.4.0)\n",
            "Requirement already satisfied: jdcal in /usr/local/lib/python3.7/dist-packages (from openpyxl>=2.5.8->camelot-py[cv]) (1.4.1)\n",
            "Requirement already satisfied: et-xmlfile in /usr/local/lib/python3.7/dist-packages (from openpyxl>=2.5.8->camelot-py[cv]) (1.1.0)\n",
            "Requirement already satisfied: python-dateutil>=2.7.3 in /usr/local/lib/python3.7/dist-packages (from pandas>=0.23.4->camelot-py[cv]) (2.8.2)\n",
            "Requirement already satisfied: pytz>=2017.2 in /usr/local/lib/python3.7/dist-packages (from pandas>=0.23.4->camelot-py[cv]) (2018.9)\n",
            "Requirement already satisfied: sortedcontainers in /usr/local/lib/python3.7/dist-packages (from pdfminer.six>=20200726->camelot-py[cv]) (2.4.0)\n",
            "Collecting cryptography\n",
            "  Downloading cryptography-3.4.8-cp36-abi3-manylinux_2_24_x86_64.whl (3.0 MB)\n",
            "\u001b[K     |████████████████████████████████| 3.0 MB 35.2 MB/s \n",
            "\u001b[?25hRequirement already satisfied: six>=1.5 in /usr/local/lib/python3.7/dist-packages (from python-dateutil>=2.7.3->pandas>=0.23.4->camelot-py[cv]) (1.15.0)\n",
            "Requirement already satisfied: cffi>=1.12 in /usr/local/lib/python3.7/dist-packages (from cryptography->pdfminer.six>=20200726->camelot-py[cv]) (1.14.6)\n",
            "Requirement already satisfied: pycparser in /usr/local/lib/python3.7/dist-packages (from cffi>=1.12->cryptography->pdfminer.six>=20200726->camelot-py[cv]) (2.20)\n",
            "Building wheels for collected packages: PyPDF2\n",
            "  Building wheel for PyPDF2 (setup.py) ... \u001b[?25l\u001b[?25hdone\n",
            "  Created wheel for PyPDF2: filename=PyPDF2-1.26.0-py3-none-any.whl size=61101 sha256=9a52f4af99f8da97a30398ebeaf0e329ac19f5beb86dfafeb46d6d1f2daddc40\n",
            "  Stored in directory: /root/.cache/pip/wheels/80/1a/24/648467ade3a77ed20f35cfd2badd32134e96dd25ca811e64b3\n",
            "Successfully built PyPDF2\n",
            "Installing collected packages: cryptography, PyPDF2, pdfminer.six, pdftopng, ghostscript, camelot-py\n",
            "Successfully installed PyPDF2-1.26.0 camelot-py-0.10.1 cryptography-3.4.8 ghostscript-0.7 pdfminer.six-20201018 pdftopng-0.2.3\n"
          ]
        }
      ]
    },
    {
      "cell_type": "markdown",
      "metadata": {
        "id": "4HidfRNO1ZbI"
      },
      "source": [
        "## Import Drive"
      ]
    },
    {
      "cell_type": "code",
      "metadata": {
        "colab": {
          "base_uri": "https://localhost:8080/"
        },
        "id": "capYP8k-1hrp",
        "outputId": "a14f521c-5743-4985-9899-9680fc94d44f"
      },
      "source": [
        "from google.colab import drive\n",
        "drive.mount(\"/content/drive\")"
      ],
      "execution_count": 2,
      "outputs": [
        {
          "output_type": "stream",
          "name": "stdout",
          "text": [
            "Mounted at /content/drive\n"
          ]
        }
      ]
    },
    {
      "cell_type": "code",
      "metadata": {
        "id": "TwgEhRX81nGw"
      },
      "source": [
        "import camelot"
      ],
      "execution_count": 18,
      "outputs": []
    },
    {
      "cell_type": "code",
      "metadata": {
        "colab": {
          "base_uri": "https://localhost:8080/"
        },
        "id": "YoXpkKIh3rdR",
        "outputId": "3f4e4c4b-022b-44ba-d661-c50521620860"
      },
      "source": [
        "tables2=camelot.read_pdf('/content/drive/MyDrive/ZeoanAI_Poc/4Q19-Press-Release.pdf', flavor='stream', pages='0-4')\n",
        "tables2"
      ],
      "execution_count": 10,
      "outputs": [
        {
          "output_type": "execute_result",
          "data": {
            "text/plain": [
              "<TableList n=5>"
            ]
          },
          "metadata": {},
          "execution_count": 10
        }
      ]
    },
    {
      "cell_type": "code",
      "metadata": {
        "colab": {
          "base_uri": "https://localhost:8080/"
        },
        "id": "d3YSy2vX33Xo",
        "outputId": "cafc246a-5a6f-46cb-c60e-274ba06e71aa"
      },
      "source": [
        "tables2[0]"
      ],
      "execution_count": 19,
      "outputs": [
        {
          "output_type": "execute_result",
          "data": {
            "text/plain": [
              "<Table shape=(15, 3)>"
            ]
          },
          "metadata": {},
          "execution_count": 19
        }
      ]
    },
    {
      "cell_type": "markdown",
      "metadata": {
        "id": "ypxKMHDQfHeb"
      },
      "source": [
        "## Parsing report:"
      ]
    },
    {
      "cell_type": "code",
      "metadata": {
        "colab": {
          "base_uri": "https://localhost:8080/"
        },
        "id": "Z9bCGBPyejJb",
        "outputId": "02e1922d-f0a6-4dd7-d4e8-2c404e84a627"
      },
      "source": [
        "for i in range(tables2.n):\n",
        "    print(tables2[i].parsing_report)"
      ],
      "execution_count": 21,
      "outputs": [
        {
          "output_type": "stream",
          "name": "stdout",
          "text": [
            "{'accuracy': 98.29, 'whitespace': 15.56, 'order': 1, 'page': 0}\n",
            "{'accuracy': 97.97, 'whitespace': 31.25, 'order': 1, 'page': 1}\n",
            "{'accuracy': 96.87, 'whitespace': 21.21, 'order': 1, 'page': 2}\n",
            "{'accuracy': 97.91, 'whitespace': 28.57, 'order': 1, 'page': 3}\n",
            "{'accuracy': 97.55, 'whitespace': 32.65, 'order': 1, 'page': 4}\n"
          ]
        }
      ]
    },
    {
      "cell_type": "markdown",
      "metadata": {
        "id": "8iXb6gCfezT5"
      },
      "source": [
        "## The number of rows & the number of columns associated with each table extracted"
      ]
    },
    {
      "cell_type": "code",
      "metadata": {
        "colab": {
          "base_uri": "https://localhost:8080/"
        },
        "id": "2DCl-KvG35sR",
        "outputId": "6e8d8ff7-8d17-4470-d522-3a2080a31741"
      },
      "source": [
        "for i in range(tables2.n):\n",
        "    print(tables2[i])"
      ],
      "execution_count": 22,
      "outputs": [
        {
          "output_type": "stream",
          "name": "stdout",
          "text": [
            "<Table shape=(15, 3)>\n",
            "<Table shape=(16, 7)>\n",
            "<Table shape=(11, 3)>\n",
            "<Table shape=(8, 7)>\n",
            "<Table shape=(7, 7)>\n"
          ]
        }
      ]
    },
    {
      "cell_type": "markdown",
      "metadata": {
        "id": "6r_Hjc5pjiB9"
      },
      "source": [
        "## Export the table to a dataframe"
      ]
    },
    {
      "cell_type": "code",
      "metadata": {
        "colab": {
          "base_uri": "https://localhost:8080/",
          "height": 511
        },
        "id": "CWisb-Cz5eTE",
        "outputId": "d29c00b9-7f53-45e1-a81d-e0215f6b4034"
      },
      "source": [
        "df0=tables2[0].df\n",
        "df0  "
      ],
      "execution_count": 15,
      "outputs": [
        {
          "output_type": "execute_result",
          "data": {
            "text/html": [
              "<div>\n",
              "<style scoped>\n",
              "    .dataframe tbody tr th:only-of-type {\n",
              "        vertical-align: middle;\n",
              "    }\n",
              "\n",
              "    .dataframe tbody tr th {\n",
              "        vertical-align: top;\n",
              "    }\n",
              "\n",
              "    .dataframe thead th {\n",
              "        text-align: right;\n",
              "    }\n",
              "</style>\n",
              "<table border=\"1\" class=\"dataframe\">\n",
              "  <thead>\n",
              "    <tr style=\"text-align: right;\">\n",
              "      <th></th>\n",
              "      <th>0</th>\n",
              "      <th>1</th>\n",
              "      <th>2</th>\n",
              "    </tr>\n",
              "  </thead>\n",
              "  <tbody>\n",
              "    <tr>\n",
              "      <th>0</th>\n",
              "      <td>(loss)/earnings from operations, operating mar...</td>\n",
              "      <td></td>\n",
              "      <td></td>\n",
              "    </tr>\n",
              "    <tr>\n",
              "      <th>1</th>\n",
              "      <td>for additional information on the use of these...</td>\n",
              "      <td></td>\n",
              "      <td></td>\n",
              "    </tr>\n",
              "    <tr>\n",
              "      <th>2</th>\n",
              "      <td>(Dollars in millions, except per share data)</td>\n",
              "      <td>Full Year 2019</td>\n",
              "      <td>Full Year 2018</td>\n",
              "    </tr>\n",
              "    <tr>\n",
              "      <th>3</th>\n",
              "      <td></td>\n",
              "      <td>$ millions\\nPer Share</td>\n",
              "      <td>$ millions\\nPer Share</td>\n",
              "    </tr>\n",
              "    <tr>\n",
              "      <th>4</th>\n",
              "      <td>Revenues</td>\n",
              "      <td>76,559</td>\n",
              "      <td>101,127</td>\n",
              "    </tr>\n",
              "    <tr>\n",
              "      <th>5</th>\n",
              "      <td>(Loss)/earnings from operations (GAAP)</td>\n",
              "      <td>(1,975)</td>\n",
              "      <td>11,987</td>\n",
              "    </tr>\n",
              "    <tr>\n",
              "      <th>6</th>\n",
              "      <td>Operating margin (GAAP)</td>\n",
              "      <td>(2.6)%</td>\n",
              "      <td>11.9%</td>\n",
              "    </tr>\n",
              "    <tr>\n",
              "      <th>7</th>\n",
              "      <td>FAS/CAS service cost adjustment:</td>\n",
              "      <td></td>\n",
              "      <td></td>\n",
              "    </tr>\n",
              "    <tr>\n",
              "      <th>8</th>\n",
              "      <td>Pension FAS/CAS service cost adjustment</td>\n",
              "      <td>(1,071)</td>\n",
              "      <td>(1,005)</td>\n",
              "    </tr>\n",
              "    <tr>\n",
              "      <th>9</th>\n",
              "      <td>Postretirement FAS/CAS service cost adjustment</td>\n",
              "      <td>(344)</td>\n",
              "      <td>(322)</td>\n",
              "    </tr>\n",
              "    <tr>\n",
              "      <th>10</th>\n",
              "      <td>FAS/CAS service cost adjustment</td>\n",
              "      <td>(1,415)</td>\n",
              "      <td>(1,327)</td>\n",
              "    </tr>\n",
              "    <tr>\n",
              "      <th>11</th>\n",
              "      <td>Core operating (loss)/earnings (non-GAAP)</td>\n",
              "      <td>($3,390)</td>\n",
              "      <td>$10,660</td>\n",
              "    </tr>\n",
              "    <tr>\n",
              "      <th>12</th>\n",
              "      <td>Core operating margin (non-GAAP)</td>\n",
              "      <td>(4.4)%</td>\n",
              "      <td>10.5%</td>\n",
              "    </tr>\n",
              "    <tr>\n",
              "      <th>13</th>\n",
              "      <td>Diluted (loss)/earnings per share (GAAP)</td>\n",
              "      <td>($1.12)</td>\n",
              "      <td>$17.85</td>\n",
              "    </tr>\n",
              "    <tr>\n",
              "      <th>14</th>\n",
              "      <td>Pension FAS/CAS service cost adjustment</td>\n",
              "      <td>($1,071)\\n(1.89)</td>\n",
              "      <td>($1,005)\\n(1.71)</td>\n",
              "    </tr>\n",
              "  </tbody>\n",
              "</table>\n",
              "</div>"
            ],
            "text/plain": [
              "                                                    0  ...                      2\n",
              "0   (loss)/earnings from operations, operating mar...  ...                       \n",
              "1   for additional information on the use of these...  ...                       \n",
              "2        (Dollars in millions, except per share data)  ...         Full Year 2018\n",
              "3                                                      ...  $ millions\\nPer Share\n",
              "4                                            Revenues  ...                101,127\n",
              "5              (Loss)/earnings from operations (GAAP)  ...                 11,987\n",
              "6                             Operating margin (GAAP)  ...                  11.9%\n",
              "7                    FAS/CAS service cost adjustment:  ...                       \n",
              "8             Pension FAS/CAS service cost adjustment  ...                (1,005)\n",
              "9      Postretirement FAS/CAS service cost adjustment  ...                  (322)\n",
              "10                    FAS/CAS service cost adjustment  ...                (1,327)\n",
              "11          Core operating (loss)/earnings (non-GAAP)  ...                $10,660\n",
              "12                   Core operating margin (non-GAAP)  ...                  10.5%\n",
              "13           Diluted (loss)/earnings per share (GAAP)  ...                 $17.85\n",
              "14            Pension FAS/CAS service cost adjustment  ...       ($1,005)\\n(1.71)\n",
              "\n",
              "[15 rows x 3 columns]"
            ]
          },
          "metadata": {},
          "execution_count": 15
        }
      ]
    },
    {
      "cell_type": "code",
      "metadata": {
        "id": "bpFvG764gnxx"
      },
      "source": [
        "temp_df = tables2[0].df \n",
        "temp_df = temp_df.rename(columns=temp_df.iloc[2]).drop(temp_df.iloc[:2])"
      ],
      "execution_count": 26,
      "outputs": []
    },
    {
      "cell_type": "code",
      "metadata": {
        "colab": {
          "base_uri": "https://localhost:8080/",
          "height": 418
        },
        "id": "pru-eHsQisGm",
        "outputId": "10afb4a2-b087-4acd-bff4-e43f4aa28d8b"
      },
      "source": [
        "temp_df"
      ],
      "execution_count": 27,
      "outputs": [
        {
          "output_type": "execute_result",
          "data": {
            "text/html": [
              "<div>\n",
              "<style scoped>\n",
              "    .dataframe tbody tr th:only-of-type {\n",
              "        vertical-align: middle;\n",
              "    }\n",
              "\n",
              "    .dataframe tbody tr th {\n",
              "        vertical-align: top;\n",
              "    }\n",
              "\n",
              "    .dataframe thead th {\n",
              "        text-align: right;\n",
              "    }\n",
              "</style>\n",
              "<table border=\"1\" class=\"dataframe\">\n",
              "  <thead>\n",
              "    <tr style=\"text-align: right;\">\n",
              "      <th></th>\n",
              "      <th>(Dollars in millions, except per share data)</th>\n",
              "      <th>Full Year 2019</th>\n",
              "      <th>Full Year 2018</th>\n",
              "    </tr>\n",
              "  </thead>\n",
              "  <tbody>\n",
              "    <tr>\n",
              "      <th>3</th>\n",
              "      <td></td>\n",
              "      <td>$ millions\\nPer Share</td>\n",
              "      <td>$ millions\\nPer Share</td>\n",
              "    </tr>\n",
              "    <tr>\n",
              "      <th>4</th>\n",
              "      <td>Revenues</td>\n",
              "      <td>76,559</td>\n",
              "      <td>101,127</td>\n",
              "    </tr>\n",
              "    <tr>\n",
              "      <th>5</th>\n",
              "      <td>(Loss)/earnings from operations (GAAP)</td>\n",
              "      <td>(1,975)</td>\n",
              "      <td>11,987</td>\n",
              "    </tr>\n",
              "    <tr>\n",
              "      <th>6</th>\n",
              "      <td>Operating margin (GAAP)</td>\n",
              "      <td>(2.6)%</td>\n",
              "      <td>11.9%</td>\n",
              "    </tr>\n",
              "    <tr>\n",
              "      <th>7</th>\n",
              "      <td>FAS/CAS service cost adjustment:</td>\n",
              "      <td></td>\n",
              "      <td></td>\n",
              "    </tr>\n",
              "    <tr>\n",
              "      <th>8</th>\n",
              "      <td>Pension FAS/CAS service cost adjustment</td>\n",
              "      <td>(1,071)</td>\n",
              "      <td>(1,005)</td>\n",
              "    </tr>\n",
              "    <tr>\n",
              "      <th>9</th>\n",
              "      <td>Postretirement FAS/CAS service cost adjustment</td>\n",
              "      <td>(344)</td>\n",
              "      <td>(322)</td>\n",
              "    </tr>\n",
              "    <tr>\n",
              "      <th>10</th>\n",
              "      <td>FAS/CAS service cost adjustment</td>\n",
              "      <td>(1,415)</td>\n",
              "      <td>(1,327)</td>\n",
              "    </tr>\n",
              "    <tr>\n",
              "      <th>11</th>\n",
              "      <td>Core operating (loss)/earnings (non-GAAP)</td>\n",
              "      <td>($3,390)</td>\n",
              "      <td>$10,660</td>\n",
              "    </tr>\n",
              "    <tr>\n",
              "      <th>12</th>\n",
              "      <td>Core operating margin (non-GAAP)</td>\n",
              "      <td>(4.4)%</td>\n",
              "      <td>10.5%</td>\n",
              "    </tr>\n",
              "    <tr>\n",
              "      <th>13</th>\n",
              "      <td>Diluted (loss)/earnings per share (GAAP)</td>\n",
              "      <td>($1.12)</td>\n",
              "      <td>$17.85</td>\n",
              "    </tr>\n",
              "    <tr>\n",
              "      <th>14</th>\n",
              "      <td>Pension FAS/CAS service cost adjustment</td>\n",
              "      <td>($1,071)\\n(1.89)</td>\n",
              "      <td>($1,005)\\n(1.71)</td>\n",
              "    </tr>\n",
              "  </tbody>\n",
              "</table>\n",
              "</div>"
            ],
            "text/plain": [
              "      (Dollars in millions, except per share data)  ...         Full Year 2018\n",
              "3                                                   ...  $ millions\\nPer Share\n",
              "4                                         Revenues  ...                101,127\n",
              "5           (Loss)/earnings from operations (GAAP)  ...                 11,987\n",
              "6                          Operating margin (GAAP)  ...                  11.9%\n",
              "7                 FAS/CAS service cost adjustment:  ...                       \n",
              "8          Pension FAS/CAS service cost adjustment  ...                (1,005)\n",
              "9   Postretirement FAS/CAS service cost adjustment  ...                  (322)\n",
              "10                 FAS/CAS service cost adjustment  ...                (1,327)\n",
              "11       Core operating (loss)/earnings (non-GAAP)  ...                $10,660\n",
              "12                Core operating margin (non-GAAP)  ...                  10.5%\n",
              "13        Diluted (loss)/earnings per share (GAAP)  ...                 $17.85\n",
              "14         Pension FAS/CAS service cost adjustment  ...       ($1,005)\\n(1.71)\n",
              "\n",
              "[12 rows x 3 columns]"
            ]
          },
          "metadata": {},
          "execution_count": 27
        }
      ]
    },
    {
      "cell_type": "markdown",
      "metadata": {
        "id": "_5ZHRW4Gjdr3"
      },
      "source": [
        "## Export the tables  to a .csv file"
      ]
    },
    {
      "cell_type": "code",
      "metadata": {
        "id": "4tvvVFHejWEO"
      },
      "source": [
        "temp_df.to_csv('table1.csv')"
      ],
      "execution_count": 29,
      "outputs": []
    },
    {
      "cell_type": "code",
      "metadata": {
        "colab": {
          "base_uri": "https://localhost:8080/",
          "height": 542
        },
        "id": "EE4sgXPS4UcT",
        "outputId": "dbadb181-1cc3-47bd-e33d-5bb4bbc6e98c"
      },
      "source": [
        "df1=tables2[1].df\n",
        "df1 "
      ],
      "execution_count": 14,
      "outputs": [
        {
          "output_type": "execute_result",
          "data": {
            "text/html": [
              "<div>\n",
              "<style scoped>\n",
              "    .dataframe tbody tr th:only-of-type {\n",
              "        vertical-align: middle;\n",
              "    }\n",
              "\n",
              "    .dataframe tbody tr th {\n",
              "        vertical-align: top;\n",
              "    }\n",
              "\n",
              "    .dataframe thead th {\n",
              "        text-align: right;\n",
              "    }\n",
              "</style>\n",
              "<table border=\"1\" class=\"dataframe\">\n",
              "  <thead>\n",
              "    <tr style=\"text-align: right;\">\n",
              "      <th></th>\n",
              "      <th>0</th>\n",
              "      <th>1</th>\n",
              "      <th>2</th>\n",
              "      <th>3</th>\n",
              "      <th>4</th>\n",
              "      <th>5</th>\n",
              "      <th>6</th>\n",
              "    </tr>\n",
              "  </thead>\n",
              "  <tbody>\n",
              "    <tr>\n",
              "      <th>0</th>\n",
              "      <td>Table 1.  Summary Financial</td>\n",
              "      <td></td>\n",
              "      <td></td>\n",
              "      <td></td>\n",
              "      <td></td>\n",
              "      <td></td>\n",
              "      <td></td>\n",
              "    </tr>\n",
              "    <tr>\n",
              "      <th>1</th>\n",
              "      <td></td>\n",
              "      <td>Fourth Quarter</td>\n",
              "      <td></td>\n",
              "      <td></td>\n",
              "      <td>Full Year</td>\n",
              "      <td></td>\n",
              "      <td></td>\n",
              "    </tr>\n",
              "    <tr>\n",
              "      <th>2</th>\n",
              "      <td>Results</td>\n",
              "      <td></td>\n",
              "      <td></td>\n",
              "      <td></td>\n",
              "      <td></td>\n",
              "      <td></td>\n",
              "      <td></td>\n",
              "    </tr>\n",
              "    <tr>\n",
              "      <th>3</th>\n",
              "      <td>(Dollars in Millions, except per share data)</td>\n",
              "      <td>2019</td>\n",
              "      <td>2018</td>\n",
              "      <td>Change</td>\n",
              "      <td>2019</td>\n",
              "      <td>2018</td>\n",
              "      <td>Change</td>\n",
              "    </tr>\n",
              "    <tr>\n",
              "      <th>4</th>\n",
              "      <td>Revenues</td>\n",
              "      <td>$17,911</td>\n",
              "      <td>$28,341</td>\n",
              "      <td>(37)%</td>\n",
              "      <td>$76,559</td>\n",
              "      <td>$101,127</td>\n",
              "      <td>(24)%</td>\n",
              "    </tr>\n",
              "    <tr>\n",
              "      <th>5</th>\n",
              "      <td>GAAP</td>\n",
              "      <td></td>\n",
              "      <td></td>\n",
              "      <td></td>\n",
              "      <td></td>\n",
              "      <td></td>\n",
              "      <td></td>\n",
              "    </tr>\n",
              "    <tr>\n",
              "      <th>6</th>\n",
              "      <td>(Loss)/Earnings From Operations</td>\n",
              "      <td>($2,204)</td>\n",
              "      <td>$4,175</td>\n",
              "      <td>NM</td>\n",
              "      <td>($1,975)</td>\n",
              "      <td>$11,987</td>\n",
              "      <td>NM</td>\n",
              "    </tr>\n",
              "    <tr>\n",
              "      <th>7</th>\n",
              "      <td>Operating Margin</td>\n",
              "      <td>(12.3)%</td>\n",
              "      <td>14.7%</td>\n",
              "      <td>NM</td>\n",
              "      <td>(2.6)%</td>\n",
              "      <td>11.9%</td>\n",
              "      <td>NM</td>\n",
              "    </tr>\n",
              "    <tr>\n",
              "      <th>8</th>\n",
              "      <td>Net (Loss)/Earnings</td>\n",
              "      <td>($1,010)</td>\n",
              "      <td>$3,424</td>\n",
              "      <td>NM</td>\n",
              "      <td>($636)</td>\n",
              "      <td>$10,460</td>\n",
              "      <td>NM</td>\n",
              "    </tr>\n",
              "    <tr>\n",
              "      <th>9</th>\n",
              "      <td>(Loss)/Earnings Per Share</td>\n",
              "      <td>($1.79)</td>\n",
              "      <td>$5.93</td>\n",
              "      <td>NM</td>\n",
              "      <td>($1.12)</td>\n",
              "      <td>$17.85</td>\n",
              "      <td>NM</td>\n",
              "    </tr>\n",
              "    <tr>\n",
              "      <th>10</th>\n",
              "      <td>Operating Cash Flow</td>\n",
              "      <td>($2,220)</td>\n",
              "      <td>$2,947</td>\n",
              "      <td>NM</td>\n",
              "      <td>($2,446)</td>\n",
              "      <td>$15,322</td>\n",
              "      <td>NM</td>\n",
              "    </tr>\n",
              "    <tr>\n",
              "      <th>11</th>\n",
              "      <td>Non-GAAP*</td>\n",
              "      <td></td>\n",
              "      <td></td>\n",
              "      <td></td>\n",
              "      <td></td>\n",
              "      <td></td>\n",
              "      <td></td>\n",
              "    </tr>\n",
              "    <tr>\n",
              "      <th>12</th>\n",
              "      <td>Core Operating (Loss)/Earnings</td>\n",
              "      <td>($2,526)</td>\n",
              "      <td>$3,867</td>\n",
              "      <td>NM</td>\n",
              "      <td>($3,390)</td>\n",
              "      <td>$10,660</td>\n",
              "      <td>NM</td>\n",
              "    </tr>\n",
              "    <tr>\n",
              "      <th>13</th>\n",
              "      <td>Core Operating Margin</td>\n",
              "      <td>(14.1)%</td>\n",
              "      <td>13.6%</td>\n",
              "      <td>NM</td>\n",
              "      <td>(4.4)%</td>\n",
              "      <td>10.5%</td>\n",
              "      <td>NM</td>\n",
              "    </tr>\n",
              "    <tr>\n",
              "      <th>14</th>\n",
              "      <td>Core (Loss)/Earnings Per Share</td>\n",
              "      <td>($2.33)</td>\n",
              "      <td>$5.48</td>\n",
              "      <td>NM</td>\n",
              "      <td>($3.47)</td>\n",
              "      <td>$16.01</td>\n",
              "      <td>NM</td>\n",
              "    </tr>\n",
              "    <tr>\n",
              "      <th>15</th>\n",
              "      <td>*Non-GAAP measure; complete definitions of Boe...</td>\n",
              "      <td></td>\n",
              "      <td></td>\n",
              "      <td></td>\n",
              "      <td></td>\n",
              "      <td></td>\n",
              "      <td></td>\n",
              "    </tr>\n",
              "  </tbody>\n",
              "</table>\n",
              "</div>"
            ],
            "text/plain": [
              "                                                    0  ...       6\n",
              "0                         Table 1.  Summary Financial  ...        \n",
              "1                                                      ...        \n",
              "2                                             Results  ...        \n",
              "3        (Dollars in Millions, except per share data)  ...  Change\n",
              "4                                            Revenues  ...   (24)%\n",
              "5                                                GAAP  ...        \n",
              "6                     (Loss)/Earnings From Operations  ...      NM\n",
              "7                                    Operating Margin  ...      NM\n",
              "8                                 Net (Loss)/Earnings  ...      NM\n",
              "9                           (Loss)/Earnings Per Share  ...      NM\n",
              "10                                Operating Cash Flow  ...      NM\n",
              "11                                          Non-GAAP*  ...        \n",
              "12                     Core Operating (Loss)/Earnings  ...      NM\n",
              "13                              Core Operating Margin  ...      NM\n",
              "14                     Core (Loss)/Earnings Per Share  ...      NM\n",
              "15  *Non-GAAP measure; complete definitions of Boe...  ...        \n",
              "\n",
              "[16 rows x 7 columns]"
            ]
          },
          "metadata": {},
          "execution_count": 14
        }
      ]
    },
    {
      "cell_type": "code",
      "metadata": {
        "colab": {
          "base_uri": "https://localhost:8080/",
          "height": 388
        },
        "id": "CzQ2enH13-PN",
        "outputId": "b95ecb97-e6d1-4f57-a6e1-df20f04b626b"
      },
      "source": [
        "df2=tables2[2].df\n",
        "df2  "
      ],
      "execution_count": 13,
      "outputs": [
        {
          "output_type": "execute_result",
          "data": {
            "text/html": [
              "<div>\n",
              "<style scoped>\n",
              "    .dataframe tbody tr th:only-of-type {\n",
              "        vertical-align: middle;\n",
              "    }\n",
              "\n",
              "    .dataframe tbody tr th {\n",
              "        vertical-align: top;\n",
              "    }\n",
              "\n",
              "    .dataframe thead th {\n",
              "        text-align: right;\n",
              "    }\n",
              "</style>\n",
              "<table border=\"1\" class=\"dataframe\">\n",
              "  <thead>\n",
              "    <tr style=\"text-align: right;\">\n",
              "      <th></th>\n",
              "      <th>0</th>\n",
              "      <th>1</th>\n",
              "      <th>2</th>\n",
              "    </tr>\n",
              "  </thead>\n",
              "  <tbody>\n",
              "    <tr>\n",
              "      <th>0</th>\n",
              "      <td>of dividends.</td>\n",
              "      <td></td>\n",
              "      <td></td>\n",
              "    </tr>\n",
              "    <tr>\n",
              "      <th>1</th>\n",
              "      <td>Table 3. Cash, Marketable Securities and Debt ...</td>\n",
              "      <td></td>\n",
              "      <td>Quarter-End</td>\n",
              "    </tr>\n",
              "    <tr>\n",
              "      <th>2</th>\n",
              "      <td>(Billions)</td>\n",
              "      <td>Q4 19</td>\n",
              "      <td>Q3 19</td>\n",
              "    </tr>\n",
              "    <tr>\n",
              "      <th>3</th>\n",
              "      <td>Cash</td>\n",
              "      <td>$9.5</td>\n",
              "      <td>$9.8</td>\n",
              "    </tr>\n",
              "    <tr>\n",
              "      <th>4</th>\n",
              "      <td>Marketable Securities1</td>\n",
              "      <td>$0.5</td>\n",
              "      <td>$1.1</td>\n",
              "    </tr>\n",
              "    <tr>\n",
              "      <th>5</th>\n",
              "      <td>Total</td>\n",
              "      <td>$10.0</td>\n",
              "      <td>$10.9</td>\n",
              "    </tr>\n",
              "    <tr>\n",
              "      <th>6</th>\n",
              "      <td>Debt Balances:</td>\n",
              "      <td></td>\n",
              "      <td></td>\n",
              "    </tr>\n",
              "    <tr>\n",
              "      <th>7</th>\n",
              "      <td>The Boeing Company, net of intercompany loans ...</td>\n",
              "      <td>$25.3</td>\n",
              "      <td>$22.8</td>\n",
              "    </tr>\n",
              "    <tr>\n",
              "      <th>8</th>\n",
              "      <td>Boeing Capital, including intercompany loans</td>\n",
              "      <td>$2.0</td>\n",
              "      <td>$1.9</td>\n",
              "    </tr>\n",
              "    <tr>\n",
              "      <th>9</th>\n",
              "      <td>Total Consolidated Debt</td>\n",
              "      <td>$27.3</td>\n",
              "      <td>$24.7</td>\n",
              "    </tr>\n",
              "    <tr>\n",
              "      <th>10</th>\n",
              "      <td>1 Marketable securities consists primarily of ...</td>\n",
              "      <td></td>\n",
              "      <td></td>\n",
              "    </tr>\n",
              "  </tbody>\n",
              "</table>\n",
              "</div>"
            ],
            "text/plain": [
              "                                                    0      1            2\n",
              "0                                       of dividends.                    \n",
              "1   Table 3. Cash, Marketable Securities and Debt ...         Quarter-End\n",
              "2                                          (Billions)  Q4 19        Q3 19\n",
              "3                                                Cash   $9.5         $9.8\n",
              "4                              Marketable Securities1   $0.5         $1.1\n",
              "5                                               Total  $10.0        $10.9\n",
              "6                                      Debt Balances:                    \n",
              "7   The Boeing Company, net of intercompany loans ...  $25.3        $22.8\n",
              "8        Boeing Capital, including intercompany loans   $2.0         $1.9\n",
              "9                             Total Consolidated Debt  $27.3        $24.7\n",
              "10  1 Marketable securities consists primarily of ...                    "
            ]
          },
          "metadata": {},
          "execution_count": 13
        }
      ]
    },
    {
      "cell_type": "code",
      "metadata": {
        "colab": {
          "base_uri": "https://localhost:8080/",
          "height": 295
        },
        "id": "uTENQmQE4DHd",
        "outputId": "b9924ec1-bb4c-41d2-ee1b-051cec6b591a"
      },
      "source": [
        "df3=tables2[3].df\n",
        "df3  "
      ],
      "execution_count": 16,
      "outputs": [
        {
          "output_type": "execute_result",
          "data": {
            "text/html": [
              "<div>\n",
              "<style scoped>\n",
              "    .dataframe tbody tr th:only-of-type {\n",
              "        vertical-align: middle;\n",
              "    }\n",
              "\n",
              "    .dataframe tbody tr th {\n",
              "        vertical-align: top;\n",
              "    }\n",
              "\n",
              "    .dataframe thead th {\n",
              "        text-align: right;\n",
              "    }\n",
              "</style>\n",
              "<table border=\"1\" class=\"dataframe\">\n",
              "  <thead>\n",
              "    <tr style=\"text-align: right;\">\n",
              "      <th></th>\n",
              "      <th>0</th>\n",
              "      <th>1</th>\n",
              "      <th>2</th>\n",
              "      <th>3</th>\n",
              "      <th>4</th>\n",
              "      <th>5</th>\n",
              "      <th>6</th>\n",
              "    </tr>\n",
              "  </thead>\n",
              "  <tbody>\n",
              "    <tr>\n",
              "      <th>0</th>\n",
              "      <td>Segment Results</td>\n",
              "      <td></td>\n",
              "      <td></td>\n",
              "      <td></td>\n",
              "      <td></td>\n",
              "      <td></td>\n",
              "      <td></td>\n",
              "    </tr>\n",
              "    <tr>\n",
              "      <th>1</th>\n",
              "      <td>Commercial Airplanes</td>\n",
              "      <td></td>\n",
              "      <td></td>\n",
              "      <td></td>\n",
              "      <td></td>\n",
              "      <td></td>\n",
              "      <td></td>\n",
              "    </tr>\n",
              "    <tr>\n",
              "      <th>2</th>\n",
              "      <td>Table 4. Commercial Airplanes</td>\n",
              "      <td>Fourth Quarter</td>\n",
              "      <td></td>\n",
              "      <td></td>\n",
              "      <td>Full Year</td>\n",
              "      <td></td>\n",
              "      <td></td>\n",
              "    </tr>\n",
              "    <tr>\n",
              "      <th>3</th>\n",
              "      <td>(Dollars in Millions)</td>\n",
              "      <td>2019</td>\n",
              "      <td>2018</td>\n",
              "      <td>Change</td>\n",
              "      <td>2019</td>\n",
              "      <td>2018</td>\n",
              "      <td>Change</td>\n",
              "    </tr>\n",
              "    <tr>\n",
              "      <th>4</th>\n",
              "      <td>Commercial Airplanes Deliveries</td>\n",
              "      <td>79</td>\n",
              "      <td>238</td>\n",
              "      <td>(67)%</td>\n",
              "      <td>380</td>\n",
              "      <td>806</td>\n",
              "      <td>(53)%</td>\n",
              "    </tr>\n",
              "    <tr>\n",
              "      <th>5</th>\n",
              "      <td>Revenues</td>\n",
              "      <td>$7,462</td>\n",
              "      <td>$16,531</td>\n",
              "      <td>(55)%</td>\n",
              "      <td>$32,255</td>\n",
              "      <td>$57,499</td>\n",
              "      <td>(44)%</td>\n",
              "    </tr>\n",
              "    <tr>\n",
              "      <th>6</th>\n",
              "      <td>(Loss)/Earnings from Operations</td>\n",
              "      <td>($2,844)</td>\n",
              "      <td>$2,600</td>\n",
              "      <td>NM</td>\n",
              "      <td>($6,657)</td>\n",
              "      <td>$7,830</td>\n",
              "      <td>NM</td>\n",
              "    </tr>\n",
              "    <tr>\n",
              "      <th>7</th>\n",
              "      <td>Operating Margin</td>\n",
              "      <td>(38.1)%</td>\n",
              "      <td>15.7%</td>\n",
              "      <td>NM</td>\n",
              "      <td>(20.6)%</td>\n",
              "      <td>13.6%</td>\n",
              "      <td>NM</td>\n",
              "    </tr>\n",
              "  </tbody>\n",
              "</table>\n",
              "</div>"
            ],
            "text/plain": [
              "                                 0               1  ...        5       6\n",
              "0                  Segment Results                  ...                 \n",
              "1             Commercial Airplanes                  ...                 \n",
              "2    Table 4. Commercial Airplanes  Fourth Quarter  ...                 \n",
              "3            (Dollars in Millions)            2019  ...     2018  Change\n",
              "4  Commercial Airplanes Deliveries              79  ...      806   (53)%\n",
              "5                         Revenues          $7,462  ...  $57,499   (44)%\n",
              "6  (Loss)/Earnings from Operations        ($2,844)  ...   $7,830      NM\n",
              "7                 Operating Margin         (38.1)%  ...    13.6%      NM\n",
              "\n",
              "[8 rows x 7 columns]"
            ]
          },
          "metadata": {},
          "execution_count": 16
        }
      ]
    },
    {
      "cell_type": "code",
      "metadata": {
        "colab": {
          "base_uri": "https://localhost:8080/",
          "height": 265
        },
        "id": "_fXZL7zs7JzL",
        "outputId": "ca3aee12-a760-4324-e102-0c6e000013cd"
      },
      "source": [
        "df4=tables2[4].df\n",
        "df4  "
      ],
      "execution_count": 17,
      "outputs": [
        {
          "output_type": "execute_result",
          "data": {
            "text/html": [
              "<div>\n",
              "<style scoped>\n",
              "    .dataframe tbody tr th:only-of-type {\n",
              "        vertical-align: middle;\n",
              "    }\n",
              "\n",
              "    .dataframe tbody tr th {\n",
              "        vertical-align: top;\n",
              "    }\n",
              "\n",
              "    .dataframe thead th {\n",
              "        text-align: right;\n",
              "    }\n",
              "</style>\n",
              "<table border=\"1\" class=\"dataframe\">\n",
              "  <thead>\n",
              "    <tr style=\"text-align: right;\">\n",
              "      <th></th>\n",
              "      <th>0</th>\n",
              "      <th>1</th>\n",
              "      <th>2</th>\n",
              "      <th>3</th>\n",
              "      <th>4</th>\n",
              "      <th>5</th>\n",
              "      <th>6</th>\n",
              "    </tr>\n",
              "  </thead>\n",
              "  <tbody>\n",
              "    <tr>\n",
              "      <th>0</th>\n",
              "      <td>Defense, Space &amp; Security</td>\n",
              "      <td></td>\n",
              "      <td></td>\n",
              "      <td></td>\n",
              "      <td></td>\n",
              "      <td></td>\n",
              "      <td></td>\n",
              "    </tr>\n",
              "    <tr>\n",
              "      <th>1</th>\n",
              "      <td>Table 5. Defense, Space &amp;</td>\n",
              "      <td></td>\n",
              "      <td></td>\n",
              "      <td></td>\n",
              "      <td></td>\n",
              "      <td></td>\n",
              "      <td></td>\n",
              "    </tr>\n",
              "    <tr>\n",
              "      <th>2</th>\n",
              "      <td>Security</td>\n",
              "      <td>Fourth Quarter</td>\n",
              "      <td></td>\n",
              "      <td></td>\n",
              "      <td>Full Year</td>\n",
              "      <td></td>\n",
              "      <td></td>\n",
              "    </tr>\n",
              "    <tr>\n",
              "      <th>3</th>\n",
              "      <td>(Dollars in Millions)</td>\n",
              "      <td>2019</td>\n",
              "      <td>2018</td>\n",
              "      <td>Change</td>\n",
              "      <td>2019</td>\n",
              "      <td>2018</td>\n",
              "      <td>Change</td>\n",
              "    </tr>\n",
              "    <tr>\n",
              "      <th>4</th>\n",
              "      <td>Revenues</td>\n",
              "      <td>$5,962</td>\n",
              "      <td>$6,874</td>\n",
              "      <td>(13)%</td>\n",
              "      <td>$26,227</td>\n",
              "      <td>$26,392</td>\n",
              "      <td>(1%)</td>\n",
              "    </tr>\n",
              "    <tr>\n",
              "      <th>5</th>\n",
              "      <td>Earnings from Operations</td>\n",
              "      <td>$31</td>\n",
              "      <td>$771</td>\n",
              "      <td>(96)%</td>\n",
              "      <td>$2,608</td>\n",
              "      <td>$1,657</td>\n",
              "      <td>57%</td>\n",
              "    </tr>\n",
              "    <tr>\n",
              "      <th>6</th>\n",
              "      <td>Operating Margin</td>\n",
              "      <td>0.5%</td>\n",
              "      <td>11.2%</td>\n",
              "      <td>(10.7) Pts</td>\n",
              "      <td>9.9%</td>\n",
              "      <td>6.3%</td>\n",
              "      <td>3.6 Pts</td>\n",
              "    </tr>\n",
              "  </tbody>\n",
              "</table>\n",
              "</div>"
            ],
            "text/plain": [
              "                           0               1  ...        5        6\n",
              "0  Defense, Space & Security                  ...                  \n",
              "1  Table 5. Defense, Space &                  ...                  \n",
              "2                   Security  Fourth Quarter  ...                  \n",
              "3      (Dollars in Millions)            2019  ...     2018   Change\n",
              "4                   Revenues          $5,962  ...  $26,392     (1%)\n",
              "5   Earnings from Operations             $31  ...   $1,657      57%\n",
              "6           Operating Margin            0.5%  ...     6.3%  3.6 Pts\n",
              "\n",
              "[7 rows x 7 columns]"
            ]
          },
          "metadata": {},
          "execution_count": 17
        }
      ]
    },
    {
      "cell_type": "markdown",
      "metadata": {
        "id": "NdiIjuHepcNJ"
      },
      "source": [
        "## Referrences:\n",
        "* https://www.thepythoncode.com/article/extract-pdf-tables-in-python-camelot\n",
        "\n",
        "* https://www.thepythoncode.com/article/optical-character-recognition-pytesseract-python\n",
        "\n",
        "* https://www.thepythoncode.com/article/extract-text-from-images-or-scanned-pdf-python"
      ]
    },
    {
      "cell_type": "code",
      "metadata": {
        "id": "-4FHeE7ZAeI3"
      },
      "source": [
        ""
      ],
      "execution_count": null,
      "outputs": []
    }
  ]
}