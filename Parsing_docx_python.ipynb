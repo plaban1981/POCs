{
  "nbformat": 4,
  "nbformat_minor": 0,
  "metadata": {
    "colab": {
      "name": "Parsing_docx_python.ipynb",
      "provenance": [],
      "authorship_tag": "ABX9TyMOZT+LUjKYjV2GIdTq2E2d",
      "include_colab_link": true
    },
    "kernelspec": {
      "name": "python3",
      "display_name": "Python 3"
    },
    "language_info": {
      "name": "python"
    }
  },
  "cells": [
    {
      "cell_type": "markdown",
      "metadata": {
        "id": "view-in-github",
        "colab_type": "text"
      },
      "source": [
        "<a href=\"https://colab.research.google.com/github/plaban1981/POCs/blob/main/Parsing_docx_python.ipynb\" target=\"_parent\"><img src=\"https://colab.research.google.com/assets/colab-badge.svg\" alt=\"Open In Colab\"/></a>"
      ]
    },
    {
      "cell_type": "code",
      "metadata": {
        "colab": {
          "base_uri": "https://localhost:8080/"
        },
        "id": "-HRr8xcCp823",
        "outputId": "f63d815b-fc62-4459-afd2-f0b015801c0d"
      },
      "source": [
        " !pip install python-docx"
      ],
      "execution_count": 1,
      "outputs": [
        {
          "output_type": "stream",
          "name": "stdout",
          "text": [
            "Collecting python-docx\n",
            "  Downloading python-docx-0.8.11.tar.gz (5.6 MB)\n",
            "\u001b[K     |████████████████████████████████| 5.6 MB 4.9 MB/s \n",
            "\u001b[?25hRequirement already satisfied: lxml>=2.3.2 in /usr/local/lib/python3.7/dist-packages (from python-docx) (4.2.6)\n",
            "Building wheels for collected packages: python-docx\n",
            "  Building wheel for python-docx (setup.py) ... \u001b[?25l\u001b[?25hdone\n",
            "  Created wheel for python-docx: filename=python_docx-0.8.11-py3-none-any.whl size=184508 sha256=dba5c9c585abb63dad77216c54a6b73f28d3838c8a9a9837421cb8664c498c38\n",
            "  Stored in directory: /root/.cache/pip/wheels/f6/6f/b9/d798122a8b55b74ad30b5f52b01482169b445fbb84a11797a6\n",
            "Successfully built python-docx\n",
            "Installing collected packages: python-docx\n",
            "Successfully installed python-docx-0.8.11\n"
          ]
        }
      ]
    },
    {
      "cell_type": "code",
      "metadata": {
        "colab": {
          "base_uri": "https://localhost:8080/"
        },
        "id": "8DoK5Je9t0KN",
        "outputId": "f3252f5a-7a10-462b-b4f7-dba8707bbbf6"
      },
      "source": [
        "from google.colab import drive\n",
        "drive.mount(\"/content/drive \")"
      ],
      "execution_count": 2,
      "outputs": [
        {
          "output_type": "stream",
          "name": "stdout",
          "text": [
            "Mounted at /content/drive\n"
          ]
        }
      ]
    },
    {
      "cell_type": "code",
      "metadata": {
        "colab": {
          "base_uri": "https://localhost:8080/"
        },
        "id": "QNxCPG4gxMHn",
        "outputId": "685b0669-67cc-454b-8bc4-ef7a15671c6b"
      },
      "source": [
        "!unzip \"/content/drive/MyDrive/ZeoanAI_Poc/fwgazettewordfilesforaimcqtrials.zip\" -d \"/content/drive/MyDrive/ZeoanAI_Poc\""
      ],
      "execution_count": 3,
      "outputs": [
        {
          "output_type": "stream",
          "name": "stdout",
          "text": [
            "Archive:  /content/drive/MyDrive/ZeoanAI_Poc/fwgazettewordfilesforaimcqtrials.zip\n",
            "  inflating: /content/drive/MyDrive/ZeoanAI_Poc/Final Newsletter 1st Nov, 2021.docx  \n",
            "  inflating: /content/drive/MyDrive/ZeoanAI_Poc/Final Newsletter 2nd Nov, 2021.docx  \n",
            "  inflating: /content/drive/MyDrive/ZeoanAI_Poc/Final Newsletter 3rd Nov, 2021.docx  \n",
            "  inflating: /content/drive/MyDrive/ZeoanAI_Poc/Final Newsletter 8th Nov, 2021.docx  \n",
            "  inflating: /content/drive/MyDrive/ZeoanAI_Poc/Final Newsletter 9th Nov, 2021.docx  \n",
            "  inflating: /content/drive/MyDrive/ZeoanAI_Poc/Final Newsletter 10th Nov, 2021.docx  \n",
            "  inflating: /content/drive/MyDrive/ZeoanAI_Poc/Final Newsletter 11th Nov, 2021.docx  \n",
            "  inflating: /content/drive/MyDrive/ZeoanAI_Poc/Final Newsletter  - 27th Oct, 2021.docx  \n",
            "  inflating: /content/drive/MyDrive/ZeoanAI_Poc/Final Newsletter  - 28th Oct, 2021.docx  \n",
            "  inflating: /content/drive/MyDrive/ZeoanAI_Poc/Final Newsletter  - 29th Oct, 2021.docx  \n"
          ]
        }
      ]
    },
    {
      "cell_type": "code",
      "metadata": {
        "id": "DQ3m8n5fxQ_L"
      },
      "source": [
        "from docx import Document\n",
        "doc_name = \"/content/drive/MyDrive/ZeoanAI_Poc/Final Newsletter 3rd Nov, 2021.docx\"\n",
        "document = Document(doc_name)"
      ],
      "execution_count": 4,
      "outputs": []
    },
    {
      "cell_type": "markdown",
      "metadata": {
        "id": "qEMRURwFxov6"
      },
      "source": [
        "## 1.Paragraph parsing:"
      ]
    },
    {
      "cell_type": "code",
      "metadata": {
        "colab": {
          "base_uri": "https://localhost:8080/"
        },
        "id": "oDytzIPvxgiQ",
        "outputId": "29a4c687-5fd3-45b1-a0bf-23e58631903f"
      },
      "source": [
        "for para in document.paragraphs:\n",
        "    print(para.text)"
      ],
      "execution_count": 5,
      "outputs": [
        {
          "output_type": "stream",
          "name": "stdout",
          "text": [
            "Featured News of the Day\n",
            "State and Cyber-Surveillance: The SC Judgement\n",
            "In News\n",
            "The Supreme Court has constituted a technical committee to investigate alleged use of Pegasus spyware.\n",
            "About the News\n",
            "A three-judge bench of the Supreme Court constituted a technical committee to undertake an independent investigation into the allegations that the central government used the Pegasus spyware to spy on its citizens in an unauthorised manner.\n",
            "Writ petitions alleged that the central government had misused a spyware named Pegasus produced by an Israeli technology firm, named NSO.\n",
            "Journalists, opposition leaders, a constitutional authority, businesspersons and two serving ministers in the government are some of the alleged targets of a purported surveillance operation.\n",
            "NSO Group has said that it builds Pegasus solely for governments to use in counterterrorism and law enforcement work. \n",
            "The company markets it as a targeted spying tool to track criminals and terrorists and not for mass surveillance. The company does not disclose its clients.\n",
            "The government has denied allegations regarding government surveillance on specific people and said that the Government agencies had a well-established protocol for interception.\n",
            "What is Cyber-Surveillance and related legal framework? \n",
            "Meaning: Cyber surveillance is a tool used by government for intelligence gathering, prevention of crime, the protection of a process, person, group or object, or the investigation of crime. \n",
            "ICT-powered surveillance tools developed and marketed by private companies are employed to monitor and track down political opponents, human rights campaigners and journalists.\n",
            "Law for Surveillance in India: The Indian Telegraph Act, 1885 empowers the Central Government and State Governments of India to order the interception of messages in in the occurrence of any “public emergency” or in the interest of “public safety”.  The government can carry out surveillance under the conditions of:\n",
            "The sovereignty or integrity of India, defense of India;  Security of the State;  Friendly relations with foreign States; Public order; and preventing incitement to the commission of any cognizable offense relating to the above; and for the investigation of any offense.\n",
            "The Law also entails that there should be a written order for such an action and should satisfy the above conditionalities.\n",
            "What have been the questions raised by the Supreme Court against the alleged surveillance?\n",
            "The technical committee formed by the SC will need to enquire into the allegations and government’s status on it. \n",
            "\n",
            "\n",
            "\n",
            "\n",
            "\n",
            "\n",
            "\n",
            "\n",
            "\n",
            "\n",
            "\n",
            "What are the concerns associated with Cyber-Surveillance by the State? \n",
            "Violation of Laws: The unauthorised nature of infiltration of Pegasus spyware in devices, without the consent and knowledge of the target constitutes violation of Section 66 and Section 43 of the IT Act.\n",
            "Compromises Democracy: Information obtained illegally through cyber-surveillance can be used to compromise institutions, to steal elections, sabotage Opposition campaigns, and even dislodge an Opposition government. This is antithetical to the basic tenets of democracy.\n",
            "Privacy and free speech: Surveillance system impacts the right to privacy and the exercise of freedom of speech and personal liberty under Articles 19 and 21 of the constitution, respectively. \n",
            "No Oversight Mechanism: In the absence of parliamentary or judicial oversight, electronic surveillance gives the executive the power to influence both the subject of surveillance and all classes of individuals, resulting in a chilling effect on free speech. \n",
            "Separation of Power: Constitutional functionaries such as a sitting judge of the Supreme Court have reportedly been surveilled under Pegasus without any checks outside the executive wing of government. Vesting such disproportionate power with one wing of the government threatens the separation of powers of the government. \n",
            "Due Process of Law Violation: Such surveillance, when carried out entirely by the executive, curtails Articles 32 and 226 of the Constitution (empowering the Supreme Court and High Courts, respectively, to issue certain writs) as it happens in secret.\n",
            "Thus, the affected person is unable to show a breach of their rights. This violates not only the ideals of due process and the separation of powers but also goes against the requirement of procedural safeguards as mandated in K.S. Puttaswamy (Retd) v. Union of India (2017).\n",
            "Way Forward\n",
            "The SC committee has been asked to recommend: \n",
            "Amendments to existing laws or enactment of a new legal framework for surveillance to prevent invasion of privacy and improve the cyber security of the nation\n",
            "Establishing a mechanism for citizens to raise grievances if they suspect illegal surveillance of their devices.\n",
            "Setting up an independent agency to assess cyber security vulnerabilities and investigate cyber-attacks.\n",
            "In order to satisfy the ideal of “due process of law”, to maintain an effective separation of powers and to fulfill the requirements of procedural safeguards and natural justice, there needs to be oversight from another branch of the government. \n",
            "Only the judiciary can be competent to decide whether specific instances of surveillance are proportionate, whether less onerous alternatives are available, and to balance the necessity of the government’s objectives with the rights of the impacted individuals.\n",
            "Surveillance reform is the need of the hour in India. Not only are existing protections weak but the proposed legislation related to the personal data protection of Indian citizens fails to consider surveillance while also providing wide exemptions to government authorities. \n",
            "Conclusion: The “state and surveillance” is a far more complex equation than it may at first appear. Developments in political economy — neoliberal public-private partnerships, for example — and in new data-enabled practices of analytics, machine learning and AI all complicate relationships. This makes it hard to know what exactly transpires within the agencies — security and policing — that are early adopters of new technological and analytic styles of operation. While genuine benefits may well emerge from CSE’s new analytic method or from predictive policing, current trends indicate there is a significant trust deficit and a sense of unfairness, in both procedures and outcomes.\n",
            "Question: What are the concerns related to Cyber Surveillance? Enumerate the steps needed to resolve these concerns.\n",
            "Sources:\n",
            "Indian supreme court orders inquiry into state’s use of Pegasus spyware: \n",
            "Supreme Court constitutes technical committee to investigate alleged use of Pegasus spyware: \n",
            "State and Surveillance: \n",
            "The Govt. must come clean on the issues raised by revelations of phone surveillance: \n",
            "Cyberattack on rights: \n",
            "state-of-cyber-security-and-surveillance-in-india: \n",
            "Surveillance reform is the need of the hour: \n",
            "Cyber Surveillance Technology, Unchecked – Can the Global Export Control Regime be a Stabiliser?: \n",
            "Explained: Why was Pegasus panel needed, what it will do now — and how: \n",
            "Tags: Cyber Surveillance, right to privacy, state surveillance, free speech, fundamental right, unconstitutional, Pegasus spyware, GS Paper 1, Science and technology, GS Paper 3\n",
            "This Day in History\n",
            "Times of India \n",
            "On November 3, 1838, the Times of India is an Indian English-language daily was launched. The journey of The Times of India started as The Bombay Times and Journal of Commerce. It was originally published to cater to the British residents of Western India. It was published twice a week on Wednesdays and Saturdays under the direction of Raobahadur Narayan Dinanath Velkar, a Maharashtrian Reformist. It is a national daily which is published from all the major cities of the country. It is the largest selling English newspaper in the world and the third-largest circulated newspaper in India. The Times of India is the second oldest newspaper in India still in circulation. It is owned and published by Bennett, Coleman & Co. Ltd. which is owned by the Sahu Jain family.\n",
            "Source:\n",
            "The History of The Times of India Newspaper: \n",
            "Tags: Times of India, newspaper, daily, history, media, journalism, GS paper 1\n",
            "News Snapshot\n",
            "PSB staff accountability\n",
            "In News\n",
            "The Finance Ministry has issued new guidelines to guide state-owned banks in adopting a uniform Staff Accountability Framework for non-performing assets (NPAs) up to Rs 50 crore.\n",
            "About the News\n",
            "About the Guidelines: The aim of the new norms is to protect employees for their bona fide actions and at the same time make them accountable for any wrongdoing or any inaction on their part.\n",
            "The guidelines will be implemented with effect from April 1, 2022, for accounts that turn NPAs beginning the next financial year.\n",
            "It advises public-sector banks to revise their staff accountability policies and frame procedures with approval of their respective boards.\n",
            "What is the New Framework?\n",
            "Need for the new framework\n",
            "Slow decisions on credit sanctions: Series of frauds led to an environment in which PSU banks became extremely cautious and risk -averse on decisions on credit sanctions. \n",
            "Bankers fear the 3Cs – CBI (Central Bureau of Investigation), CVC (Central Vigilance Commission) and CAG (Comptroller and Auditor General) as they may come after them if the accounts turn NPA. \n",
            "Protect Bonafide action: To protect bankers from undue harassment from probes into their lending decisions and remove their fears of being investigated for bona fide business decisions gone wrong.\n",
            "Stalling credit growth: Bankers reluctance about taking exposure in new units or projects stalled credit deployment as small units. This has adversely affected the economic growth.\n",
            "Strain on bank’s resources: The above fears puts a huge strain on the bank’s resources as punitive action needs to be taken against the officers having mala fide intent/involvement, but it is also essential to ensure that bona fide mistakes are dealt with compassion.\n",
            "No uniform framework: Currently, different banks are following different procedures for staff accountability exercises in respect of all accounts that turn NPA. \n",
            "Sources:\n",
            "Explained: When can PSU bank staff be probed for NPAs?: \n",
            "PSBs told to revise staff accountability policies for NPAs: \n",
            "Tags: NPAs, PSU reforms, staff accountability, governance, GS Paper 1, Banking reforms, GS Paper 3, Economy\n",
            "Prompt Corrective Action (PCA) Guidelines\n",
            "In News\n",
            "The RBI has revised the PCA framework for Scheduled Commercial Banks, which would come to effect from 1 Jan 2022.\n",
            "About the News\n",
            "As per the new framework, a bank will generally be placed under PCA Framework based on the Audited Annual Financial Results and the ongoing Supervisory Assessment made by RBI.\n",
            "Capital, Asset Quality and Leverage will be the key areas for monitoring in the revised framework.\n",
            "The PCA framework would apply to all banks operating in India including foreign banks operating through branches or subsidiaries based on breach of risk thresholds of identified indicators.\n",
            "RBI said negative return on assets (RoA) criteria for determining risk threshold removed in the revised rules.\n",
            "Details of the New PCA Framework\n",
            "Parameters: Indicators to be tracked for Capital, Asset Quality and Leverage would be CRAR/ Common Equity Tier I Ratio, Net NPA Ratio and Tier I Leverage Ratio respectively.\n",
            "Trigger points: If CRAR falls below a certain level, RBI initiates Risk Threshold 1 and asks the designated bank to submit a capital restoration plan, restrict dividend payments, etc.\n",
            "Similarly, if the NPA levels rise beyond a certain range or leverage falls below a certain range, RBI initiates Risk Threshold 1.\n",
            "For further aggravated financial conditions, Risk Threshold 2 and 3 are initiated.\n",
            "It could include bringing in a new management, appointing consultants for business restructuring, taking steps to change ownership/merger, impose a moratorium on the bank or credit-risk management policies to reduce loan concentration\n",
            "Exit provisions: The bank would be permitted to exit PCA framework if no breaches in risk thresholds in any of the parameters are observed as per four continuous quarterly financial statements.\n",
            "It would be based on supervisory comfort of the RBI, including an assessment on sustainability of profitability of the bank.\n",
            "\n",
            "About the PCA\n",
            "The RBI’s PCA Framework was introduced in December 2002 as a structured early intervention mechanism for banks along the lines of the US Federal Deposit Insurance Corporation’s PCA framework.\n",
            "The objective of the PCA framework is to enable supervisory intervention at appropriate time and require the supervised entity to initiate and implement remedial measures in a timely manner, so as to restore its financial health.\n",
            "The regulator imposes restrictions like curbs on lending on banks with increased vulnerability in financial ecosystem. The PCA Framework applies only to commercial banks and does not cover cooperative banks and non-banking financial companies.\n",
            "The restrictions enable supervisory intervention, initiate and implement remedial measures in a timely manner to restore bank’s financial health.\n",
            "\n",
            "Sources:\n",
            "RBI Notification: \n",
            "RBI comes up with new prompts corrective action framework for banks: \n",
            "Explained|Indian Overseas Bank comes out of RBI’s Prompt Corrective Action Framework. What is PCA all about? : \n",
            "Tags: Prompts corrective action, PCA, Banking reforms, RBI, Economy, GS Paper 3\n",
            "Public Affairs Index rankings 2021\n",
            "In News\n",
            "Public Affairs Index 202, the 6th edition of the flagship Project of the Public Affairs Centre, was recently released.\n",
            " PAI 2021 ranks the States and Union Territories on the basis of their performance in the Sub-national governance for the overarching sustainable development pillars of Equity, Growth and Sustainability. \n",
            "PAI 2021 constitutes of 3 Pillars (Equity, Growth and Sustainability), 5 Themes (Voice and Accountability, Government Effectiveness, Regulatory Quality, Rule of Law and Control of Corruption), 14 SDGs (SDG- 1,2,3,4,5,6,7,8,9,10,11,12,15 and 16) and 43 Indicators.\n",
            "This year the report has included two new components apart from the Governance Model- Scheme Analysis and the COVID-19 Response Index.\n",
            "The COVID-19 Response Index subsumes 2 thematic areas - Preparedness and Containment containing 4 and 3 indicators respectively.\n",
            " It also features analysis of five Centre-sponsored schemes that aid in key development parameters of health, education and livelihoods namely:\n",
            "Mahatma Gandhi Rural Employment Guarantee Scheme\n",
            "National Health Mission\n",
            "Integrated Child Development Services\n",
            "Samagra Siksha Abhiyan and \n",
            "Midday Meal Scheme\n",
            "The report also includes ranking of the states on the basis of their performance during the COVID-19 pandemic.\n",
            "Highlights of the Report\n",
            "Overall Performance: Kerala was ranked first, while, Uttar Pradesh was the last ranked.\n",
            "Equity: The pillar of Equity examines the political economy of exclusion from the perspective of the states and UTs. The pillar subsumes all the five themes of PAI 2020 and uses 23 component indicators to assess performance on equity along three dimensions economic, social and gender.\n",
            "Gujarat was first, followed by Kerala. Odisha and Karnataka were ranked last.\n",
            "Growth: The Growth pillar dwells on India’s growth challenge and the concerns that need attention for sustainable development. The pillar subsumes two themes and uses 20 component indicators to rank the performance of states and UTs on growth.\n",
            "Kerala continues to lead the way in terms of growth rankings.\n",
            "Sustainability: The Sustainability pillar analyses the access to and usage of resources that has an impact on environment, economy and humankind. The pillar subsumes two themes and uses 7 indicators to measure the effectiveness of government efforts with regards to sustainability.\n",
            "Kerala tops here too.\n",
            "Source:\n",
            "PAI 2020 Summary Report: \n",
            "Picture Source:\n",
            "Himachal slips to 3rd position in Public Affairs Index\n",
            "\n",
            "Tags: Public Affairs Index, governance, states and uts, GS paper 1\n",
            "\n",
            "\n",
            "Image of the Day\n",
            "Tug of War\n",
            "Climate activists dressed as world leaders play tug of war during a protest at the Clyde Arc bridge during the Cop26 summit at Glasgow, UK. Informal reports and documents reveal the diverging interests of various participating governments and an increased opposition to the inaction and inadequate mechanism for climate action.\n",
            "Tags- Climate Change, COP 26, GS Paper 3, International Relations, GS Paper 2, Glasgow\n",
            "Terms and Concepts\n",
            "Green Crackers\n",
            "Context: The Delhi government will not allow any firecrackers, including “green crackers”, to be sold and used in the Capital in wake of Covid-19 and the deteriorating air quality.\n",
            "Green crackers are eco-friendly crackers that are manufactured from alternative raw materials to leave a lesser impact on the environment and pose lesser health risks.\n",
            "They don't contain aluminium, barium (Barium Nitrate is responsible for heavy smoke and emissions), potassium nitrate or carbon thus causing less air pollution (30% less polluting) than the regular variety.\n",
            "While regular crackers emit about 160 decibels of sound, green crackers have a sound level of 110-125 decibels.\n",
            "For all their advantages, these eco-friendly firecrackers are more expensive than the regular ones.\n",
            "\n",
            "Source:\n",
            "What are green crackers and what makes them eco-friendly and less polluting \n",
            "‘Call taken due to Covid, pollution’: Delhi doubles down on cracker ban\n",
            " \n",
            "Picture source:\n",
            "Lucknow: Where are Green crackers? Its all sound and fury\n",
            "\n",
            "Tags: Green crackers, environmental, air pollution, ecology, Delhi winter pollution, eco-friendly, less polluting, health, respiratory problems, GS Paper 2, GS Paper 3\n",
            "\n",
            "Relay planting, Strip cropping\n",
            "Context: A recent study has shown that integrated farming with intercropping increases food production while reducing environmental footprint. Example, Relay and Strip cropping.\n",
            "Relay Planting: Relay planting means the planting of different crops in the same plot, one right after another, in the same season. Examples: planting rice (or wheat), cauliflower, onion, and summer gourd (or potato onion, lady’s fingers and maize), in the same season. \n",
            "It is less risky as we do not have to depend on one crop alone. It also means better distribution of labour, less insects spread, and legumes adding nitrogen to the soil.\n",
            "Strip cropping: Strip cropping is where wheat is grown along with corn and soyabean, in the same farm in an alternative manner. In India, where there are large fields the land is divided into strips, and strips of grass are left to grow between the crops. \n",
            "Western Karnataka (and the nearby Telangana and Northern Tamil Nadu) which are the dry belts with frequent droughts, 80% of the farmers depend on strip cropping.\n",
            "These cropping patterns were found to increase the annual crop yield up by 15.6% to 49.9%, and decreased the environmental footprint by 17.3%, compared with traditional monoculture cropping.\n",
            "\n",
            "Source:\n",
            "Indian farming practices: Learning from elsewhere in the world: \n",
            "Picture source:\n",
            "Strip crop - A ray of hope for dry land farmers: \n",
            "Tags: Farming practices, Relay farming, Strip cropping, Indian, farming practices, agriculture, high yield, productivity, GS Paper 3\n",
            "Invasive Alien Species\n",
            "Context: A number of environmentalists have come together to form a forum called Movement Against Biological Invasions (MABI) to curb the spread invasive alien species (IAS).\n",
            "MABI is a green movement aimed at systematically charting and rooting out invasive species.\n",
            "The Convention on Biological Diversity (CBD) defines IAS as “an alien species whose introduction and spread threaten ecosystems, habitats, or species with socio-cultural, economic and environmental harm and harm to human health”.\n",
            "The local food chain gets afflicted with the IAS competing for space and light with native flora. It is also a large threat to livestock health as it hampers the growth of native grasses which are fodder species for herbivores and livestock.\n",
            "It is baneful for soil health as it is prone to faster deterioration. Cosmos sulphureus, Lantana camara etc. are some of the IAS species that cost huge sum of the farmers’ budget in eradicating them through spraying of insecticide. \n",
            "Source:\n",
            "A movement to root out invasive alien species\n",
            "\n",
            "A movement to root out invasive alien species\n",
            "\n",
            "Picture source:\n",
            "‘Separate outfit needed to curb invasive alien species’\n",
            "\n",
            "Tags: Invasive species, invasive alien species, Movement Against Biological Invasions (MABI), ecology, environment, GS Paper 3\n",
            "New Abortion Rules\n",
            "Context: The new abortion rules have been notified by the Government recently.\n",
            "The Medical Termination of Pregnancy Amendment Rules, 2021 have defined new categories of vulnerable women who are allowed termination up to 24 weeks upon meeting certain conditions and with the permission of two doctors. \n",
            "These include minors, survivors of sexual assault and those with foetal malformation among others.\n",
            "Others may seek abortion up to 20 weeks with the permission of one doctor upon meeting certain criteria.\n",
            "Earlier the permission of one doctor for termination up to 12 weeks, and two doctors for 12 to 20 weeks was required. \n",
            "The amended law also provides for setting up of State-level medical boards to decide if a pregnancy may be terminated after 24 weeks in cases of substantial foetal abnormalities.\n",
            "Globally, according to the Center for Reproductive Rights, India is behind 32 countries that allow abortion on request with varying gestational limits. \n",
            "\n",
            "Source:\n",
            "New abortion rules recognise minors as vulnerable, seek to make services more accessible to them\n",
            "\n",
            "New abortion rules recognise minors as vulnerable, seek to make services more accessible to them: \n",
            "Picture source:\n",
            "Proposed Law set to allow abortion upto 24 weeks\n",
            "\n",
            "Tags: new abortion rules, Medical Termination of Pregnancy, Health, Society and Social Issues, reproductive rights, maternal health, GS Paper 2, GS Paper 1\n",
            "Editorials of the Day\n",
            "Ensuring that policy outcome matches the intent- IE\n",
            "Essence: The article speaks about financial management system of the government highlighting the reality that a portion of government spending is lost between intent and outcome. It is due to corruption and limitations in the structural design of the Union and the state governments of India. The attention that policy differences get in legislature and political rallies is missing when it comes to debating the outcomes of policies and laws. Some of the limitations are- the final accounts for a financial year are presented to the legislature 18 to 24 months after that year’s budget is approved and archaic cash accounting followed by governments.\n",
            "The author states that the Tamil Nadu government has taken steps to initiative to identify and retrieve unutilised funds and identified Rs. 2,000 crore of funds have been verified as “lapsed”. They are also establishing new procedures and systems to ensure that parking of funds cannot happen outside of the finance department’s oversight and undertaking data-integrity project to identify ghost beneficiaries.\n",
            "\n",
            "Why you should read this article?\n",
            "To understand about the limitation for the mismatch between the policy intent and outcomes.\n",
            "To know about the steps being taken by the government of Tamil Nadu to overcome some of these limitations and their five-step approach for reform and improvements. \n",
            "\n",
            "Source:\n",
            "Ensuring that policy outcome matches the intent\n",
            "\n",
            "Tags- Economy, GS Paper 2, Budget, Financial management, Frugality\n",
            "\n",
            "Trade and Climate: The Pivot for India US ties- TH\n",
            "Essence: India and the United States have an opportunity to influence history of the 21st century by collaborating on two areas – climate and trade. Even though recent high level bilateral visits and attempts to forge partnerships shows signs of progress, many thorny issues like climate justice and issues in WTO remains to be ironed out. Failure to arrive at consensus by these two large democracies gives opportunity to China to dominate global affairs.\n",
            "Climate action and trade reforms between India and USA are mutually connected and reinforcing. Transfer of technology and trade of items that aid climate reforms like solar panels, resolution of WTO dispute would go a long way to serve the cause. Concerted action on both the climate and trade fronts is mutually beneficial and will lend additional strength to the foundation of a true partnership for the coming century.\n",
            "\n",
            "Why should you read this article?\n",
            "To appreciate historic opportunity India and US have, by forging an alliance on climate and trade related issues.\n",
            "To understand the progress made in this direction and conflicting interests of two countries on trade and climate related issues.\n",
            "To understand how trade and climate issues are interconnected and related.\n",
            "\n",
            "Source:\n",
            "Trade and Climate: The Pivot for India US ties \n",
            "\n",
            "Tag: India US relations, Climate justice, GS Paper 3, GS Paper 2, Climate Change, International Trade, Economy, International Relations\n",
            "\n",
            "Need to boost rainfed farming- HBL\n",
            "Essence: The editorial focuses on productivity and nutrition benefits of crops in rainfed areas in India. According to the IPCC assessment, India may face climate extremes in the near future, making it critical to maintain and strengthen its food security. Because India is predominantly dependent on the south-west monsoon and has around half its agricultural area as rainfed, the country's sensitivity to climate change is exacerbated. \n",
            "To address this, we must be prepared to adapt to climate change and mitigate it through agro-ecology. The methodology is adapt to climate change, utilise natural resources responsibly, and protect biodiversity. Agro-ecology as an important policy initiative, especially in rain-fed areas could lead to a brighter future in India’s agriculture sector. Seeds must be the starting point for such interventions, and markets must be the destination. \n",
            "\n",
            "Why should you read this article?\n",
            "To gain a better understanding of India's agricultural climate change susceptibility.\n",
            "To comprehend the importance of agro-ecology, particularly in rain-fed areas, and what efforts India should take to address the issue. \n",
            "\n",
            "Source:\n",
            "Need to boost rainfed farming\n",
            "\n",
            "Tags- Rainfed Farming, GS Paper 3, Agriculture, Nutrition Security\n",
            "\n",
            "Case Study of the Day\n",
            "Fruit of Success\n",
            "Background\n",
            "Environment and genetic conservation is the burning agenda in the times of climate change.\n",
            "KR Jayan of Kerala has been working towards this after he could witness the danger of Jackfruit extinction.\n",
            "\n",
            "Efforts that bore the fruit of success\n",
            "As a child Jayan’s family survived on jackfruit as a source of food and livelihood.\n",
            "During his profession as an auto-rickshaw driver, he could see the deterioration of the plant around the State.\n",
            "So, he decided to plant the saplings on his own along the roadside, or government spaces as he did not possess any property of his own.\n",
            "People mocked him while he was taking care of the plants and nurturing them.\n",
            "But soon the efforts bore the fruits of success and he went on to develop Plavu Grams, with 44 varieties in total plantation.\n",
            "Even the Government recognized his efforts and awarded him the Plant Genome Saviour Community Award for conserving biodiversity and reviving a wide variety of the jackfruit plant.\n",
            "\n",
            "Quote: “Continuous effort– not strength or intelligence – is the key to unlocking our potential. -Winston Churchill\n",
            "\n",
            "\n",
            "Source: Without Owning Land, Kerala Man Sets Up ‘Jackfruit Villages’ With 20,000 Trees: \n",
            "\n",
            "Tags:\n",
            "UPSC, GS, Paper, Environmental conservation, Biodiversity, Perseverance, Case Study\n",
            "\n"
          ]
        }
      ]
    },
    {
      "cell_type": "markdown",
      "metadata": {
        "id": "LAde0gl2x2tE"
      },
      "source": [
        "## 2. Heading Parsing"
      ]
    },
    {
      "cell_type": "code",
      "metadata": {
        "colab": {
          "base_uri": "https://localhost:8080/"
        },
        "id": "L8-QVXzgxu1H",
        "outputId": "e0c5f8f8-ebf6-4bd7-c56b-54ad5f31fcc8"
      },
      "source": [
        " for content in document.paragraphs:\n",
        "    if content.style.name=='Heading 1' or content.style.name=='Heading 2' or content.style.name=='Heading 3':\n",
        "      print(content.text)"
      ],
      "execution_count": 6,
      "outputs": [
        {
          "output_type": "stream",
          "name": "stdout",
          "text": [
            "Featured News of the Day\n",
            "State and Cyber-Surveillance: The SC Judgement\n",
            "This Day in History\n",
            "Times of India \n",
            "News Snapshot\n",
            "PSB staff accountability\n",
            "Prompt Corrective Action (PCA) Guidelines\n",
            "Public Affairs Index rankings 2021\n",
            "Image of the Day\n",
            "Tug of War\n",
            "Terms and Concepts\n",
            "Green Crackers\n",
            "Relay planting, Strip cropping\n",
            "Invasive Alien Species\n",
            "New Abortion Rules\n",
            "Editorials of the Day\n",
            "Ensuring that policy outcome matches the intent- IE\n",
            "Trade and Climate: The Pivot for India US ties- TH\n",
            "Need to boost rainfed farming- HBL\n",
            "Case Study of the Day\n",
            "Fruit of Success\n"
          ]
        }
      ]
    },
    {
      "cell_type": "markdown",
      "metadata": {
        "id": "_eXl59VmyKTI"
      },
      "source": [
        "## 3.Table parsing"
      ]
    },
    {
      "cell_type": "code",
      "metadata": {
        "id": "LTMjNZa1x9Hv"
      },
      "source": [
        "for table in document.tables:\n",
        "  for row in table.rows:\n",
        "    for cell in row.cells:\n",
        "      for para in cell.paragraphs:\n",
        "        print(para.text)"
      ],
      "execution_count": 7,
      "outputs": []
    },
    {
      "cell_type": "markdown",
      "metadata": {
        "id": "41IknNyi7guV"
      },
      "source": [
        "## processing  headers as different documents"
      ]
    },
    {
      "cell_type": "code",
      "metadata": {
        "colab": {
          "base_uri": "https://localhost:8080/"
        },
        "id": "uEKORDkXyUUw",
        "outputId": "14dc5759-ac3a-4335-b1d4-e261f002cc81"
      },
      "source": [
        "for content in document.paragraphs:\n",
        "    if content.style.name=='Heading 1':\n",
        "      print(content.text)"
      ],
      "execution_count": 8,
      "outputs": [
        {
          "output_type": "stream",
          "name": "stdout",
          "text": [
            "Featured News of the Day\n",
            "This Day in History\n",
            "News Snapshot\n",
            "Image of the Day\n",
            "Terms and Concepts\n",
            "Editorials of the Day\n",
            "Case Study of the Day\n"
          ]
        }
      ]
    },
    {
      "cell_type": "code",
      "metadata": {
        "colab": {
          "base_uri": "https://localhost:8080/"
        },
        "id": "9lOPwPk5CogJ",
        "outputId": "1f640255-7e69-493d-a61b-4dcc83e0b2a7"
      },
      "source": [
        "header1 = []\n",
        "header2 = []\n",
        "header3 = []\n",
        "for content in document.paragraphs:\n",
        "    if content.style.name=='Heading 1':\n",
        "      header1.append(content.text)\n",
        "      print(content.text)\n",
        "    if content.style.name=='Heading 2':\n",
        "      header2.append(content.text)\n",
        "      print(content.text)\n",
        "    if content.style.name=='Heading 3':\n",
        "      header3.append(content.text)\n",
        "      print(content.text)"
      ],
      "execution_count": 9,
      "outputs": [
        {
          "output_type": "stream",
          "name": "stdout",
          "text": [
            "Featured News of the Day\n",
            "State and Cyber-Surveillance: The SC Judgement\n",
            "This Day in History\n",
            "Times of India \n",
            "News Snapshot\n",
            "PSB staff accountability\n",
            "Prompt Corrective Action (PCA) Guidelines\n",
            "Public Affairs Index rankings 2021\n",
            "Image of the Day\n",
            "Tug of War\n",
            "Terms and Concepts\n",
            "Green Crackers\n",
            "Relay planting, Strip cropping\n",
            "Invasive Alien Species\n",
            "New Abortion Rules\n",
            "Editorials of the Day\n",
            "Ensuring that policy outcome matches the intent- IE\n",
            "Trade and Climate: The Pivot for India US ties- TH\n",
            "Need to boost rainfed farming- HBL\n",
            "Case Study of the Day\n",
            "Fruit of Success\n"
          ]
        }
      ]
    },
    {
      "cell_type": "code",
      "metadata": {
        "colab": {
          "base_uri": "https://localhost:8080/"
        },
        "id": "QV8qaT-ZE2eG",
        "outputId": "effa085e-2def-49bc-ab4e-7ae2c0117ed4"
      },
      "source": [
        "len(header1),len(header2),len(header3)"
      ],
      "execution_count": 10,
      "outputs": [
        {
          "output_type": "execute_result",
          "data": {
            "text/plain": [
              "(7, 14, 0)"
            ]
          },
          "metadata": {},
          "execution_count": 10
        }
      ]
    },
    {
      "cell_type": "code",
      "metadata": {
        "colab": {
          "base_uri": "https://localhost:8080/"
        },
        "id": "AwJwY3I4OsGe",
        "outputId": "7b082197-86e1-41b7-887c-0ff1b9e4e28c"
      },
      "source": [
        "header1"
      ],
      "execution_count": 16,
      "outputs": [
        {
          "output_type": "execute_result",
          "data": {
            "text/plain": [
              "['Featured News of the Day',\n",
              " 'This Day in History',\n",
              " 'News Snapshot',\n",
              " 'Image of the Day',\n",
              " 'Terms and Concepts',\n",
              " 'Editorials of the Day',\n",
              " 'Case Study of the Day']"
            ]
          },
          "metadata": {},
          "execution_count": 16
        }
      ]
    },
    {
      "cell_type": "code",
      "metadata": {
        "id": "8p-HPPuGE8yE"
      },
      "source": [
        "documents = []\n",
        "for i in range(len(header1)):\n",
        "  tmp = []\n",
        "  for para in document.paragraphs:\n",
        "    if para.style.name=='Heading 1':\n",
        "      tmp_header = para.text\n",
        " \n",
        "\n",
        "    if tmp_header == header1[i]:\n",
        "  \n",
        "      tmp.append(para.text)\n",
        "    \n",
        "  documents.append(\" \".join(tmp))\n",
        "\n"
      ],
      "execution_count": 61,
      "outputs": []
    },
    {
      "cell_type": "code",
      "metadata": {
        "colab": {
          "base_uri": "https://localhost:8080/"
        },
        "id": "OilNqPIRNdas",
        "outputId": "12488484-5cba-4dd1-d561-0b52dfaa5963"
      },
      "source": [
        "len(documents)"
      ],
      "execution_count": 62,
      "outputs": [
        {
          "output_type": "execute_result",
          "data": {
            "text/plain": [
              "7"
            ]
          },
          "metadata": {},
          "execution_count": 62
        }
      ]
    },
    {
      "cell_type": "code",
      "metadata": {
        "colab": {
          "base_uri": "https://localhost:8080/",
          "height": 137
        },
        "id": "97v6UnhFTVYO",
        "outputId": "5c2f0c18-f2b3-4a8c-9386-c571969bd34b"
      },
      "source": [
        "documents[0]"
      ],
      "execution_count": 63,
      "outputs": [
        {
          "output_type": "execute_result",
          "data": {
            "application/vnd.google.colaboratory.intrinsic+json": {
              "type": "string"
            },
            "text/plain": [
              "'Featured News of the Day State and Cyber-Surveillance: The SC Judgement In News The Supreme Court has constituted a technical committee to investigate alleged use of Pegasus spyware. About the News A three-judge bench of the Supreme Court constituted a technical committee to undertake an independent investigation into the allegations that the central government used the Pegasus spyware to spy on its citizens in an unauthorised manner. Writ petitions alleged that the central government had misused a spyware named Pegasus produced by an Israeli technology firm, named NSO. Journalists, opposition leaders, a constitutional authority, businesspersons and two serving ministers in the government are some of the alleged targets of a purported surveillance operation. NSO Group has said that it builds Pegasus solely for governments to use in counterterrorism and law enforcement work.  The company markets it as a targeted spying tool to track criminals and terrorists and not for mass surveillance. The company does not disclose its clients. The government has denied allegations regarding government surveillance on specific people and said that the Government agencies had a well-established protocol for interception. What is Cyber-Surveillance and related legal framework?  Meaning: Cyber surveillance is a tool used by government for intelligence gathering, prevention of crime, the protection of a process, person, group or object, or the investigation of crime.  ICT-powered surveillance tools developed and marketed by private companies are employed to monitor and track down political opponents, human rights campaigners and journalists. Law for Surveillance in India: The Indian Telegraph Act, 1885 empowers the Central Government and State Governments of India to order the interception of messages in in the occurrence of any “public emergency” or in the interest of “public safety”.  The government can carry out surveillance under the conditions of: The sovereignty or integrity of India, defense of India;  Security of the State;  Friendly relations with foreign States; Public order; and preventing incitement to the commission of any cognizable offense relating to the above; and for the investigation of any offense. The Law also entails that there should be a written order for such an action and should satisfy the above conditionalities. What have been the questions raised by the Supreme Court against the alleged surveillance? The technical committee formed by the SC will need to enquire into the allegations and government’s status on it.             What are the concerns associated with Cyber-Surveillance by the State?  Violation of Laws: The unauthorised nature of infiltration of Pegasus spyware in devices, without the consent and knowledge of the target constitutes violation of Section 66 and Section 43 of the IT Act. Compromises Democracy: Information obtained illegally through cyber-surveillance can be used to compromise institutions, to steal elections, sabotage Opposition campaigns, and even dislodge an Opposition government. This is antithetical to the basic tenets of democracy. Privacy and free speech: Surveillance system impacts the right to privacy and the exercise of freedom of speech and personal liberty under Articles 19 and 21 of the constitution, respectively.  No Oversight Mechanism: In the absence of parliamentary or judicial oversight, electronic surveillance gives the executive the power to influence both the subject of surveillance and all classes of individuals, resulting in a chilling effect on free speech.  Separation of Power: Constitutional functionaries such as a sitting judge of the Supreme Court have reportedly been surveilled under Pegasus without any checks outside the executive wing of government. Vesting such disproportionate power with one wing of the government threatens the separation of powers of the government.  Due Process of Law Violation: Such surveillance, when carried out entirely by the executive, curtails Articles 32 and 226 of the Constitution (empowering the Supreme Court and High Courts, respectively, to issue certain writs) as it happens in secret. Thus, the affected person is unable to show a breach of their rights. This violates not only the ideals of due process and the separation of powers but also goes against the requirement of procedural safeguards as mandated in K.S. Puttaswamy (Retd) v. Union of India (2017). Way Forward The SC committee has been asked to recommend:  Amendments to existing laws or enactment of a new legal framework for surveillance to prevent invasion of privacy and improve the cyber security of the nation Establishing a mechanism for citizens to raise grievances if they suspect illegal surveillance of their devices. Setting up an independent agency to assess cyber security vulnerabilities and investigate cyber-attacks. In order to satisfy the ideal of “due process of law”, to maintain an effective separation of powers and to fulfill the requirements of procedural safeguards and natural justice, there needs to be oversight from another branch of the government.  Only the judiciary can be competent to decide whether specific instances of surveillance are proportionate, whether less onerous alternatives are available, and to balance the necessity of the government’s objectives with the rights of the impacted individuals. Surveillance reform is the need of the hour in India. Not only are existing protections weak but the proposed legislation related to the personal data protection of Indian citizens fails to consider surveillance while also providing wide exemptions to government authorities.  Conclusion: The “state and surveillance” is a far more complex equation than it may at first appear. Developments in political economy — neoliberal public-private partnerships, for example — and in new data-enabled practices of analytics, machine learning and AI all complicate relationships. This makes it hard to know what exactly transpires within the agencies — security and policing — that are early adopters of new technological and analytic styles of operation. While genuine benefits may well emerge from CSE’s new analytic method or from predictive policing, current trends indicate there is a significant trust deficit and a sense of unfairness, in both procedures and outcomes. Question: What are the concerns related to Cyber Surveillance? Enumerate the steps needed to resolve these concerns. Sources: Indian supreme court orders inquiry into state’s use of Pegasus spyware:  Supreme Court constitutes technical committee to investigate alleged use of Pegasus spyware:  State and Surveillance:  The Govt. must come clean on the issues raised by revelations of phone surveillance:  Cyberattack on rights:  state-of-cyber-security-and-surveillance-in-india:  Surveillance reform is the need of the hour:  Cyber Surveillance Technology, Unchecked – Can the Global Export Control Regime be a Stabiliser?:  Explained: Why was Pegasus panel needed, what it will do now — and how:  Tags: Cyber Surveillance, right to privacy, state surveillance, free speech, fundamental right, unconstitutional, Pegasus spyware, GS Paper 1, Science and technology, GS Paper 3'"
            ]
          },
          "metadata": {},
          "execution_count": 63
        }
      ]
    },
    {
      "cell_type": "code",
      "metadata": {
        "colab": {
          "base_uri": "https://localhost:8080/",
          "height": 137
        },
        "id": "FvRyYlz1ew0K",
        "outputId": "4343482a-c520-4ded-e2f8-ab06c969794d"
      },
      "source": [
        "documents[6]"
      ],
      "execution_count": 64,
      "outputs": [
        {
          "output_type": "execute_result",
          "data": {
            "application/vnd.google.colaboratory.intrinsic+json": {
              "type": "string"
            },
            "text/plain": [
              "'Case Study of the Day Fruit of Success Background Environment and genetic conservation is the burning agenda in the times of climate change. KR Jayan of Kerala has been working towards this after he could witness the danger of Jackfruit extinction.  Efforts that bore the fruit of success As a child Jayan’s family survived on jackfruit as a source of food and livelihood. During his profession as an auto-rickshaw driver, he could see the deterioration of the plant around the State. So, he decided to plant the saplings on his own along the roadside, or government spaces as he did not possess any property of his own. People mocked him while he was taking care of the plants and nurturing them. But soon the efforts bore the fruits of success and he went on to develop Plavu Grams, with 44 varieties in total plantation. Even the Government recognized his efforts and awarded him the Plant Genome Saviour Community Award for conserving biodiversity and reviving a wide variety of the jackfruit plant.  Quote: “Continuous effort– not strength or intelligence – is the key to unlocking our potential. -Winston Churchill   Source: Without Owning Land, Kerala Man Sets Up ‘Jackfruit Villages’ With 20,000 Trees:   Tags: UPSC, GS, Paper, Environmental conservation, Biodiversity, Perseverance, Case Study '"
            ]
          },
          "metadata": {},
          "execution_count": 64
        }
      ]
    },
    {
      "cell_type": "markdown",
      "metadata": {
        "id": "ayk2GhynjiWQ"
      },
      "source": [
        "## Main Processing Logic"
      ]
    },
    {
      "cell_type": "code",
      "metadata": {
        "id": "hk6tl-52j2zP"
      },
      "source": [
        "from docx import Document\n",
        "doc_name = \"/content/drive/MyDrive/ZeoanAI_Poc/Final Newsletter 3rd Nov, 2021.docx\"\n"
      ],
      "execution_count": 66,
      "outputs": []
    },
    {
      "cell_type": "code",
      "metadata": {
        "id": "Ps5RQEMfe0QK"
      },
      "source": [
        "def retrieve_header1(document_path):\n",
        "  document = Document(document_path)\n",
        "  header1 = []\n",
        "  for content in document.paragraphs:\n",
        "    if content.style.name=='Heading 1':\n",
        "      header1.append(content.text)\n",
        "  return header1\n"
      ],
      "execution_count": 65,
      "outputs": []
    },
    {
      "cell_type": "code",
      "metadata": {
        "id": "uR9S5atVk3rY"
      },
      "source": [
        "h = retrieve_header1(doc_name)"
      ],
      "execution_count": 72,
      "outputs": []
    },
    {
      "cell_type": "code",
      "metadata": {
        "id": "H7zZRq1sk5zt"
      },
      "source": [
        "documents = []\n",
        "for i in range(len(header1)):\n",
        "  tmp = []\n",
        "  for para in document.paragraphs:\n",
        "    if para.style.name=='Heading 1':\n",
        "      tmp_header = para.text\n",
        " \n",
        "\n",
        "    if tmp_header == header1[i]:\n",
        "  \n",
        "      tmp.append(para.text)\n",
        "    \n",
        "  documents.append(\" \".join(tmp))\n"
      ],
      "execution_count": null,
      "outputs": []
    },
    {
      "cell_type": "code",
      "metadata": {
        "id": "fVKYd_1uk_8n"
      },
      "source": [
        "def retrieve_header_doc(header,doc_path):\n",
        "  documents = []\n",
        "  for i in range(len(header1)):\n",
        "    tmp = []\n",
        "    for para in document.paragraphs:\n",
        "      if para.style.name=='Heading 1':\n",
        "        tmp_header = para.text\n",
        " \n",
        "      if tmp_header == header1[i]:\n",
        "        tmp.append(para.text)\n",
        "    \n",
        "    documents.append(\" \".join(tmp))\n",
        "  return documents\n"
      ],
      "execution_count": 74,
      "outputs": []
    },
    {
      "cell_type": "code",
      "metadata": {
        "id": "6GVW_giOlk55"
      },
      "source": [
        "doc_list = retrieve_header_doc(h,doc_name)"
      ],
      "execution_count": 76,
      "outputs": []
    },
    {
      "cell_type": "code",
      "metadata": {
        "colab": {
          "base_uri": "https://localhost:8080/"
        },
        "id": "cQTgPHYCl0-0",
        "outputId": "ed8c16ab-1e83-4558-a76a-31382b76d43e"
      },
      "source": [
        "len(doc_list)"
      ],
      "execution_count": 77,
      "outputs": [
        {
          "output_type": "execute_result",
          "data": {
            "text/plain": [
              "7"
            ]
          },
          "metadata": {},
          "execution_count": 77
        }
      ]
    },
    {
      "cell_type": "code",
      "metadata": {
        "colab": {
          "base_uri": "https://localhost:8080/",
          "height": 137
        },
        "id": "DrLDinWomGoM",
        "outputId": "60268e22-2d95-41ea-e67b-a1aae933ad4b"
      },
      "source": [
        "doc_list[0]\n"
      ],
      "execution_count": 78,
      "outputs": [
        {
          "output_type": "execute_result",
          "data": {
            "application/vnd.google.colaboratory.intrinsic+json": {
              "type": "string"
            },
            "text/plain": [
              "'Featured News of the Day State and Cyber-Surveillance: The SC Judgement In News The Supreme Court has constituted a technical committee to investigate alleged use of Pegasus spyware. About the News A three-judge bench of the Supreme Court constituted a technical committee to undertake an independent investigation into the allegations that the central government used the Pegasus spyware to spy on its citizens in an unauthorised manner. Writ petitions alleged that the central government had misused a spyware named Pegasus produced by an Israeli technology firm, named NSO. Journalists, opposition leaders, a constitutional authority, businesspersons and two serving ministers in the government are some of the alleged targets of a purported surveillance operation. NSO Group has said that it builds Pegasus solely for governments to use in counterterrorism and law enforcement work.  The company markets it as a targeted spying tool to track criminals and terrorists and not for mass surveillance. The company does not disclose its clients. The government has denied allegations regarding government surveillance on specific people and said that the Government agencies had a well-established protocol for interception. What is Cyber-Surveillance and related legal framework?  Meaning: Cyber surveillance is a tool used by government for intelligence gathering, prevention of crime, the protection of a process, person, group or object, or the investigation of crime.  ICT-powered surveillance tools developed and marketed by private companies are employed to monitor and track down political opponents, human rights campaigners and journalists. Law for Surveillance in India: The Indian Telegraph Act, 1885 empowers the Central Government and State Governments of India to order the interception of messages in in the occurrence of any “public emergency” or in the interest of “public safety”.  The government can carry out surveillance under the conditions of: The sovereignty or integrity of India, defense of India;  Security of the State;  Friendly relations with foreign States; Public order; and preventing incitement to the commission of any cognizable offense relating to the above; and for the investigation of any offense. The Law also entails that there should be a written order for such an action and should satisfy the above conditionalities. What have been the questions raised by the Supreme Court against the alleged surveillance? The technical committee formed by the SC will need to enquire into the allegations and government’s status on it.             What are the concerns associated with Cyber-Surveillance by the State?  Violation of Laws: The unauthorised nature of infiltration of Pegasus spyware in devices, without the consent and knowledge of the target constitutes violation of Section 66 and Section 43 of the IT Act. Compromises Democracy: Information obtained illegally through cyber-surveillance can be used to compromise institutions, to steal elections, sabotage Opposition campaigns, and even dislodge an Opposition government. This is antithetical to the basic tenets of democracy. Privacy and free speech: Surveillance system impacts the right to privacy and the exercise of freedom of speech and personal liberty under Articles 19 and 21 of the constitution, respectively.  No Oversight Mechanism: In the absence of parliamentary or judicial oversight, electronic surveillance gives the executive the power to influence both the subject of surveillance and all classes of individuals, resulting in a chilling effect on free speech.  Separation of Power: Constitutional functionaries such as a sitting judge of the Supreme Court have reportedly been surveilled under Pegasus without any checks outside the executive wing of government. Vesting such disproportionate power with one wing of the government threatens the separation of powers of the government.  Due Process of Law Violation: Such surveillance, when carried out entirely by the executive, curtails Articles 32 and 226 of the Constitution (empowering the Supreme Court and High Courts, respectively, to issue certain writs) as it happens in secret. Thus, the affected person is unable to show a breach of their rights. This violates not only the ideals of due process and the separation of powers but also goes against the requirement of procedural safeguards as mandated in K.S. Puttaswamy (Retd) v. Union of India (2017). Way Forward The SC committee has been asked to recommend:  Amendments to existing laws or enactment of a new legal framework for surveillance to prevent invasion of privacy and improve the cyber security of the nation Establishing a mechanism for citizens to raise grievances if they suspect illegal surveillance of their devices. Setting up an independent agency to assess cyber security vulnerabilities and investigate cyber-attacks. In order to satisfy the ideal of “due process of law”, to maintain an effective separation of powers and to fulfill the requirements of procedural safeguards and natural justice, there needs to be oversight from another branch of the government.  Only the judiciary can be competent to decide whether specific instances of surveillance are proportionate, whether less onerous alternatives are available, and to balance the necessity of the government’s objectives with the rights of the impacted individuals. Surveillance reform is the need of the hour in India. Not only are existing protections weak but the proposed legislation related to the personal data protection of Indian citizens fails to consider surveillance while also providing wide exemptions to government authorities.  Conclusion: The “state and surveillance” is a far more complex equation than it may at first appear. Developments in political economy — neoliberal public-private partnerships, for example — and in new data-enabled practices of analytics, machine learning and AI all complicate relationships. This makes it hard to know what exactly transpires within the agencies — security and policing — that are early adopters of new technological and analytic styles of operation. While genuine benefits may well emerge from CSE’s new analytic method or from predictive policing, current trends indicate there is a significant trust deficit and a sense of unfairness, in both procedures and outcomes. Question: What are the concerns related to Cyber Surveillance? Enumerate the steps needed to resolve these concerns. Sources: Indian supreme court orders inquiry into state’s use of Pegasus spyware:  Supreme Court constitutes technical committee to investigate alleged use of Pegasus spyware:  State and Surveillance:  The Govt. must come clean on the issues raised by revelations of phone surveillance:  Cyberattack on rights:  state-of-cyber-security-and-surveillance-in-india:  Surveillance reform is the need of the hour:  Cyber Surveillance Technology, Unchecked – Can the Global Export Control Regime be a Stabiliser?:  Explained: Why was Pegasus panel needed, what it will do now — and how:  Tags: Cyber Surveillance, right to privacy, state surveillance, free speech, fundamental right, unconstitutional, Pegasus spyware, GS Paper 1, Science and technology, GS Paper 3'"
            ]
          },
          "metadata": {},
          "execution_count": 78
        }
      ]
    },
    {
      "cell_type": "code",
      "metadata": {
        "colab": {
          "base_uri": "https://localhost:8080/",
          "height": 136
        },
        "id": "jLcUb-7jtc04",
        "outputId": "42a9a513-6c64-4e11-9fe6-3b592834c782"
      },
      "source": [
        "doc_list[1]"
      ],
      "execution_count": 79,
      "outputs": [
        {
          "output_type": "execute_result",
          "data": {
            "application/vnd.google.colaboratory.intrinsic+json": {
              "type": "string"
            },
            "text/plain": [
              "'This Day in History Times of India  On November 3, 1838, the Times of India is an Indian English-language daily was launched. The journey of The Times of India started as The Bombay Times and Journal of Commerce. It was originally published to cater to the British residents of Western India. It was published twice a week on Wednesdays and Saturdays under the direction of Raobahadur Narayan Dinanath Velkar, a Maharashtrian Reformist. It is a national daily which is published from all the major cities of the country. It is the largest selling English newspaper in the world and the third-largest circulated newspaper in India. The Times of India is the second oldest newspaper in India still in circulation. It is owned and published by Bennett, Coleman & Co. Ltd. which is owned by the Sahu Jain family. Source: The History of The Times of India Newspaper:  Tags: Times of India, newspaper, daily, history, media, journalism, GS paper 1'"
            ]
          },
          "metadata": {},
          "execution_count": 79
        }
      ]
    },
    {
      "cell_type": "code",
      "metadata": {
        "colab": {
          "base_uri": "https://localhost:8080/",
          "height": 69
        },
        "id": "pZXRkvgyteQY",
        "outputId": "422f9d0b-311a-4333-b1c0-61ad705a9e3a"
      },
      "source": [
        "doc_list[3]"
      ],
      "execution_count": 80,
      "outputs": [
        {
          "output_type": "execute_result",
          "data": {
            "application/vnd.google.colaboratory.intrinsic+json": {
              "type": "string"
            },
            "text/plain": [
              "'Image of the Day Tug of War Climate activists dressed as world leaders play tug of war during a protest at the Clyde Arc bridge during the Cop26 summit at Glasgow, UK. Informal reports and documents reveal the diverging interests of various participating governments and an increased opposition to the inaction and inadequate mechanism for climate action. Tags- Climate Change, COP 26, GS Paper 3, International Relations, GS Paper 2, Glasgow'"
            ]
          },
          "metadata": {},
          "execution_count": 80
        }
      ]
    },
    {
      "cell_type": "code",
      "metadata": {
        "colab": {
          "base_uri": "https://localhost:8080/",
          "height": 137
        },
        "id": "CQD3S0OitifA",
        "outputId": "377e4be3-831e-4b4e-dfff-9d2af73ba099"
      },
      "source": [
        "doc_list[4]"
      ],
      "execution_count": 81,
      "outputs": [
        {
          "output_type": "execute_result",
          "data": {
            "application/vnd.google.colaboratory.intrinsic+json": {
              "type": "string"
            },
            "text/plain": [
              "\"Terms and Concepts Green Crackers Context: The Delhi government will not allow any firecrackers, including “green crackers”, to be sold and used in the Capital in wake of Covid-19 and the deteriorating air quality. Green crackers are eco-friendly crackers that are manufactured from alternative raw materials to leave a lesser impact on the environment and pose lesser health risks. They don't contain aluminium, barium (Barium Nitrate is responsible for heavy smoke and emissions), potassium nitrate or carbon thus causing less air pollution (30% less polluting) than the regular variety. While regular crackers emit about 160 decibels of sound, green crackers have a sound level of 110-125 decibels. For all their advantages, these eco-friendly firecrackers are more expensive than the regular ones.  Source: What are green crackers and what makes them eco-friendly and less polluting  ‘Call taken due to Covid, pollution’: Delhi doubles down on cracker ban   Picture source: Lucknow: Where are Green crackers? Its all sound and fury  Tags: Green crackers, environmental, air pollution, ecology, Delhi winter pollution, eco-friendly, less polluting, health, respiratory problems, GS Paper 2, GS Paper 3  Relay planting, Strip cropping Context: A recent study has shown that integrated farming with intercropping increases food production while reducing environmental footprint. Example, Relay and Strip cropping. Relay Planting: Relay planting means the planting of different crops in the same plot, one right after another, in the same season. Examples: planting rice (or wheat), cauliflower, onion, and summer gourd (or potato onion, lady’s fingers and maize), in the same season.\\xa0 It is less risky as we do not have to depend on one crop alone. It also means better distribution of labour, less insects spread, and legumes adding nitrogen to the soil. Strip cropping: Strip cropping is where wheat is grown along with corn and soyabean, in the same farm in an alternative manner. In India, where there are large fields the land is divided into strips, and strips of grass are left to grow between the crops.  Western Karnataka (and the nearby Telangana and Northern Tamil Nadu) which are the dry belts with frequent droughts, 80% of the farmers depend on strip cropping. These cropping patterns were found to increase the annual crop yield up by 15.6% to 49.9%, and decreased the environmental footprint by 17.3%, compared with traditional monoculture cropping.  Source: Indian farming practices: Learning from elsewhere in the world:  Picture source: Strip crop - A ray of hope for dry land farmers:  Tags: Farming practices, Relay farming, Strip cropping, Indian, farming practices, agriculture, high yield, productivity, GS Paper 3 Invasive Alien Species Context: A number of environmentalists have come together to form a forum called Movement Against Biological Invasions (MABI) to curb the spread invasive alien species (IAS). MABI is a green movement aimed at systematically charting and rooting out invasive species. The Convention on Biological Diversity (CBD) defines IAS as “an alien species whose introduction and spread threaten ecosystems, habitats, or species with socio-cultural, economic and environmental harm and harm to human health”. The local food chain gets afflicted with the IAS competing for space and light with native flora. It is also a large threat to livestock health as it hampers the growth of native grasses which are fodder species for herbivores and livestock. It is baneful for soil health as it is prone to faster deterioration. Cosmos sulphureus, Lantana camara etc. are some of the IAS species that cost huge sum of the farmers’ budget in eradicating them through spraying of insecticide.  Source: A movement to root out invasive alien species  A movement to root out invasive alien species  Picture source: ‘Separate outfit needed to curb invasive alien species’  Tags: Invasive species, invasive alien species, Movement Against Biological Invasions (MABI), ecology, environment, GS Paper 3 New Abortion Rules Context: The new abortion rules have been notified by the Government recently. The Medical Termination of Pregnancy Amendment Rules, 2021 have defined new categories of vulnerable women who are allowed termination up to 24 weeks upon meeting certain conditions and with the permission of two doctors.  These include minors, survivors of sexual assault and those with foetal malformation among others. Others may seek abortion up to 20 weeks with the permission of one doctor upon meeting certain criteria. Earlier the permission of one doctor for termination up to 12 weeks, and two doctors for 12 to 20 weeks was required.  The amended law also provides for setting up of State-level medical boards to decide if a pregnancy may be terminated after 24 weeks in cases of substantial foetal abnormalities. Globally, according to the Center for Reproductive Rights, India is behind 32 countries that allow abortion on request with varying gestational limits.   Source: New abortion rules recognise minors as vulnerable, seek to make services more accessible to them  New abortion rules recognise minors as vulnerable, seek to make services more accessible to them:  Picture source: Proposed Law set to allow abortion upto 24 weeks  Tags: new abortion rules, Medical Termination of Pregnancy, Health, Society and Social Issues, reproductive rights, maternal health, GS Paper 2, GS Paper 1\""
            ]
          },
          "metadata": {},
          "execution_count": 81
        }
      ]
    },
    {
      "cell_type": "code",
      "metadata": {
        "colab": {
          "base_uri": "https://localhost:8080/",
          "height": 137
        },
        "id": "PQrocqX5tlVQ",
        "outputId": "7a380faf-67a3-4358-b733-02aa0a3312f3"
      },
      "source": [
        "doc_list[5]"
      ],
      "execution_count": 82,
      "outputs": [
        {
          "output_type": "execute_result",
          "data": {
            "application/vnd.google.colaboratory.intrinsic+json": {
              "type": "string"
            },
            "text/plain": [
              "\"Editorials of the Day Ensuring that policy outcome matches the intent- IE Essence: The article speaks about financial management system of the government highlighting the reality that a portion of government spending is lost between intent and outcome. It is due to corruption and limitations in the structural design of the Union and the state governments of India. The attention that policy differences get in legislature and political rallies is missing when it comes to debating the outcomes of policies and laws. Some of the limitations are- the final accounts for a financial year are presented to the legislature 18 to 24 months after that year’s budget is approved and archaic cash accounting followed by governments. The author states that the Tamil Nadu government has taken steps to initiative to identify and retrieve unutilised funds and identified Rs. 2,000 crore of funds have been verified as “lapsed”. They are also establishing new procedures and systems to ensure that parking of funds cannot happen outside of the finance department’s oversight and undertaking data-integrity project to identify ghost beneficiaries.  Why you should read this article? To understand about the limitation for the mismatch between the policy intent and outcomes. To know about the steps being taken by the government of Tamil Nadu to overcome some of these limitations and their five-step approach for reform and improvements.   Source: Ensuring that policy outcome matches the intent  Tags- Economy, GS Paper 2, Budget, Financial management, Frugality  Trade and Climate: The Pivot for India US ties- TH Essence: India and the United States have an opportunity to influence history of the 21st century by collaborating on two areas – climate and trade. Even though recent high level bilateral visits and attempts to forge partnerships shows signs of progress, many thorny issues like climate justice and issues in WTO remains to be ironed out. Failure to arrive at consensus by these two large democracies gives opportunity to China to dominate global affairs. Climate action and trade reforms between India and USA are mutually connected and reinforcing. Transfer of technology and trade of items that aid climate reforms like solar panels, resolution of WTO dispute would go a long way to serve the cause. Concerted action on both the climate and trade fronts is mutually beneficial and will lend additional strength to the foundation of a true partnership for the coming century.  Why should you read this article? To appreciate historic opportunity India and US have, by forging an alliance on climate and trade related issues. To understand the progress made in this direction and conflicting interests of two countries on trade and climate related issues. To understand how trade and climate issues are interconnected and related.  Source: Trade and Climate: The Pivot for India US ties   Tag: India US relations, Climate justice, GS Paper 3, GS Paper 2, Climate Change, International Trade, Economy, International Relations  Need to boost rainfed farming- HBL Essence: The editorial focuses on productivity and nutrition benefits of crops in rainfed areas in India. According to the IPCC assessment, India may face climate extremes in the near future, making it critical to maintain and strengthen its food security. Because India is predominantly dependent on the south-west monsoon and has around half its agricultural area as rainfed, the country's sensitivity to climate change is exacerbated.  To address this, we must be prepared to adapt to climate change and mitigate it through agro-ecology. The methodology is adapt to climate change, utilise natural resources responsibly, and protect biodiversity. Agro-ecology as an important policy initiative, especially in rain-fed areas could lead to a brighter future in India’s agriculture sector. Seeds must be the starting point for such interventions, and markets must be the destination.   Why should you read this article? To gain a better understanding of India's agricultural climate change susceptibility. To comprehend the importance of agro-ecology, particularly in rain-fed areas, and what efforts India should take to address the issue.   Source: Need to boost rainfed farming  Tags- Rainfed Farming, GS Paper 3, Agriculture, Nutrition Security \""
            ]
          },
          "metadata": {},
          "execution_count": 82
        }
      ]
    },
    {
      "cell_type": "code",
      "metadata": {
        "colab": {
          "base_uri": "https://localhost:8080/",
          "height": 137
        },
        "id": "Y_5qy7_0tnnX",
        "outputId": "2afc3d3c-5d39-4a77-bdb4-0e58541f308a"
      },
      "source": [
        "doc_list[6]"
      ],
      "execution_count": 83,
      "outputs": [
        {
          "output_type": "execute_result",
          "data": {
            "application/vnd.google.colaboratory.intrinsic+json": {
              "type": "string"
            },
            "text/plain": [
              "'Case Study of the Day Fruit of Success Background Environment and genetic conservation is the burning agenda in the times of climate change. KR Jayan of Kerala has been working towards this after he could witness the danger of Jackfruit extinction.  Efforts that bore the fruit of success As a child Jayan’s family survived on jackfruit as a source of food and livelihood. During his profession as an auto-rickshaw driver, he could see the deterioration of the plant around the State. So, he decided to plant the saplings on his own along the roadside, or government spaces as he did not possess any property of his own. People mocked him while he was taking care of the plants and nurturing them. But soon the efforts bore the fruits of success and he went on to develop Plavu Grams, with 44 varieties in total plantation. Even the Government recognized his efforts and awarded him the Plant Genome Saviour Community Award for conserving biodiversity and reviving a wide variety of the jackfruit plant.  Quote: “Continuous effort– not strength or intelligence – is the key to unlocking our potential. -Winston Churchill   Source: Without Owning Land, Kerala Man Sets Up ‘Jackfruit Villages’ With 20,000 Trees:   Tags: UPSC, GS, Paper, Environmental conservation, Biodiversity, Perseverance, Case Study '"
            ]
          },
          "metadata": {},
          "execution_count": 83
        }
      ]
    },
    {
      "cell_type": "code",
      "metadata": {
        "id": "eWF5D54itpm4"
      },
      "source": [
        ""
      ],
      "execution_count": null,
      "outputs": []
    }
  ]
}