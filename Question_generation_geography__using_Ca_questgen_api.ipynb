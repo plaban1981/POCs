{
  "nbformat": 4,
  "nbformat_minor": 0,
  "metadata": {
    "colab": {
      "name": "Question_generation_geography_ using Ca_questgen_api.ipynb",
      "provenance": [],
      "collapsed_sections": [],
      "include_colab_link": true
    },
    "kernelspec": {
      "name": "python3",
      "display_name": "Python 3"
    },
    "language_info": {
      "name": "python"
    },
    "widgets": {
      "application/vnd.jupyter.widget-state+json": {
        "bd47faf3b0854cc6bc472791c1082fd5": {
          "model_module": "@jupyter-widgets/controls",
          "model_name": "HBoxModel",
          "model_module_version": "1.5.0",
          "state": {
            "_view_name": "HBoxView",
            "_dom_classes": [],
            "_model_name": "HBoxModel",
            "_view_module": "@jupyter-widgets/controls",
            "_model_module_version": "1.5.0",
            "_view_count": null,
            "_view_module_version": "1.5.0",
            "box_style": "",
            "layout": "IPY_MODEL_4fceced8c0944d3b8f874e71bccf8909",
            "_model_module": "@jupyter-widgets/controls",
            "children": [
              "IPY_MODEL_265055b0898c4d03b9b0496f18c4e11f",
              "IPY_MODEL_7b499d91ce21434783f56da9b7b1a35a",
              "IPY_MODEL_a8fc2c843ba24ea0a036d240926e26cb"
            ]
          }
        },
        "4fceced8c0944d3b8f874e71bccf8909": {
          "model_module": "@jupyter-widgets/base",
          "model_name": "LayoutModel",
          "model_module_version": "1.2.0",
          "state": {
            "_view_name": "LayoutView",
            "grid_template_rows": null,
            "right": null,
            "justify_content": null,
            "_view_module": "@jupyter-widgets/base",
            "overflow": null,
            "_model_module_version": "1.2.0",
            "_view_count": null,
            "flex_flow": null,
            "width": null,
            "min_width": null,
            "border": null,
            "align_items": null,
            "bottom": null,
            "_model_module": "@jupyter-widgets/base",
            "top": null,
            "grid_column": null,
            "overflow_y": null,
            "overflow_x": null,
            "grid_auto_flow": null,
            "grid_area": null,
            "grid_template_columns": null,
            "flex": null,
            "_model_name": "LayoutModel",
            "justify_items": null,
            "grid_row": null,
            "max_height": null,
            "align_content": null,
            "visibility": null,
            "align_self": null,
            "height": null,
            "min_height": null,
            "padding": null,
            "grid_auto_rows": null,
            "grid_gap": null,
            "max_width": null,
            "order": null,
            "_view_module_version": "1.2.0",
            "grid_template_areas": null,
            "object_position": null,
            "object_fit": null,
            "grid_auto_columns": null,
            "margin": null,
            "display": null,
            "left": null
          }
        },
        "265055b0898c4d03b9b0496f18c4e11f": {
          "model_module": "@jupyter-widgets/controls",
          "model_name": "HTMLModel",
          "model_module_version": "1.5.0",
          "state": {
            "_view_name": "HTMLView",
            "style": "IPY_MODEL_4a5c1447f407456ba7cd4dfe5c861432",
            "_dom_classes": [],
            "description": "",
            "_model_name": "HTMLModel",
            "placeholder": "​",
            "_view_module": "@jupyter-widgets/controls",
            "_model_module_version": "1.5.0",
            "value": "Downloading: 100%",
            "_view_count": null,
            "_view_module_version": "1.5.0",
            "description_tooltip": null,
            "_model_module": "@jupyter-widgets/controls",
            "layout": "IPY_MODEL_f8e0a584253b436d83a56f6c9ffe5319"
          }
        },
        "7b499d91ce21434783f56da9b7b1a35a": {
          "model_module": "@jupyter-widgets/controls",
          "model_name": "FloatProgressModel",
          "model_module_version": "1.5.0",
          "state": {
            "_view_name": "ProgressView",
            "style": "IPY_MODEL_314d914e88ee42d6ac15f7058265c59e",
            "_dom_classes": [],
            "description": "",
            "_model_name": "FloatProgressModel",
            "bar_style": "success",
            "max": 791656,
            "_view_module": "@jupyter-widgets/controls",
            "_model_module_version": "1.5.0",
            "value": 791656,
            "_view_count": null,
            "_view_module_version": "1.5.0",
            "orientation": "horizontal",
            "min": 0,
            "description_tooltip": null,
            "_model_module": "@jupyter-widgets/controls",
            "layout": "IPY_MODEL_06936d745b184334a65ead9eb9fe63f6"
          }
        },
        "a8fc2c843ba24ea0a036d240926e26cb": {
          "model_module": "@jupyter-widgets/controls",
          "model_name": "HTMLModel",
          "model_module_version": "1.5.0",
          "state": {
            "_view_name": "HTMLView",
            "style": "IPY_MODEL_6a4481d5ff884a269969b2dc7694cd7a",
            "_dom_classes": [],
            "description": "",
            "_model_name": "HTMLModel",
            "placeholder": "​",
            "_view_module": "@jupyter-widgets/controls",
            "_model_module_version": "1.5.0",
            "value": " 792k/792k [00:00&lt;00:00, 2.29MB/s]",
            "_view_count": null,
            "_view_module_version": "1.5.0",
            "description_tooltip": null,
            "_model_module": "@jupyter-widgets/controls",
            "layout": "IPY_MODEL_9dc02e7c876e47c1977b1b7e63976a4d"
          }
        },
        "4a5c1447f407456ba7cd4dfe5c861432": {
          "model_module": "@jupyter-widgets/controls",
          "model_name": "DescriptionStyleModel",
          "model_module_version": "1.5.0",
          "state": {
            "_view_name": "StyleView",
            "_model_name": "DescriptionStyleModel",
            "description_width": "",
            "_view_module": "@jupyter-widgets/base",
            "_model_module_version": "1.5.0",
            "_view_count": null,
            "_view_module_version": "1.2.0",
            "_model_module": "@jupyter-widgets/controls"
          }
        },
        "f8e0a584253b436d83a56f6c9ffe5319": {
          "model_module": "@jupyter-widgets/base",
          "model_name": "LayoutModel",
          "model_module_version": "1.2.0",
          "state": {
            "_view_name": "LayoutView",
            "grid_template_rows": null,
            "right": null,
            "justify_content": null,
            "_view_module": "@jupyter-widgets/base",
            "overflow": null,
            "_model_module_version": "1.2.0",
            "_view_count": null,
            "flex_flow": null,
            "width": null,
            "min_width": null,
            "border": null,
            "align_items": null,
            "bottom": null,
            "_model_module": "@jupyter-widgets/base",
            "top": null,
            "grid_column": null,
            "overflow_y": null,
            "overflow_x": null,
            "grid_auto_flow": null,
            "grid_area": null,
            "grid_template_columns": null,
            "flex": null,
            "_model_name": "LayoutModel",
            "justify_items": null,
            "grid_row": null,
            "max_height": null,
            "align_content": null,
            "visibility": null,
            "align_self": null,
            "height": null,
            "min_height": null,
            "padding": null,
            "grid_auto_rows": null,
            "grid_gap": null,
            "max_width": null,
            "order": null,
            "_view_module_version": "1.2.0",
            "grid_template_areas": null,
            "object_position": null,
            "object_fit": null,
            "grid_auto_columns": null,
            "margin": null,
            "display": null,
            "left": null
          }
        },
        "314d914e88ee42d6ac15f7058265c59e": {
          "model_module": "@jupyter-widgets/controls",
          "model_name": "ProgressStyleModel",
          "model_module_version": "1.5.0",
          "state": {
            "_view_name": "StyleView",
            "_model_name": "ProgressStyleModel",
            "description_width": "",
            "_view_module": "@jupyter-widgets/base",
            "_model_module_version": "1.5.0",
            "_view_count": null,
            "_view_module_version": "1.2.0",
            "bar_color": null,
            "_model_module": "@jupyter-widgets/controls"
          }
        },
        "06936d745b184334a65ead9eb9fe63f6": {
          "model_module": "@jupyter-widgets/base",
          "model_name": "LayoutModel",
          "model_module_version": "1.2.0",
          "state": {
            "_view_name": "LayoutView",
            "grid_template_rows": null,
            "right": null,
            "justify_content": null,
            "_view_module": "@jupyter-widgets/base",
            "overflow": null,
            "_model_module_version": "1.2.0",
            "_view_count": null,
            "flex_flow": null,
            "width": null,
            "min_width": null,
            "border": null,
            "align_items": null,
            "bottom": null,
            "_model_module": "@jupyter-widgets/base",
            "top": null,
            "grid_column": null,
            "overflow_y": null,
            "overflow_x": null,
            "grid_auto_flow": null,
            "grid_area": null,
            "grid_template_columns": null,
            "flex": null,
            "_model_name": "LayoutModel",
            "justify_items": null,
            "grid_row": null,
            "max_height": null,
            "align_content": null,
            "visibility": null,
            "align_self": null,
            "height": null,
            "min_height": null,
            "padding": null,
            "grid_auto_rows": null,
            "grid_gap": null,
            "max_width": null,
            "order": null,
            "_view_module_version": "1.2.0",
            "grid_template_areas": null,
            "object_position": null,
            "object_fit": null,
            "grid_auto_columns": null,
            "margin": null,
            "display": null,
            "left": null
          }
        },
        "6a4481d5ff884a269969b2dc7694cd7a": {
          "model_module": "@jupyter-widgets/controls",
          "model_name": "DescriptionStyleModel",
          "model_module_version": "1.5.0",
          "state": {
            "_view_name": "StyleView",
            "_model_name": "DescriptionStyleModel",
            "description_width": "",
            "_view_module": "@jupyter-widgets/base",
            "_model_module_version": "1.5.0",
            "_view_count": null,
            "_view_module_version": "1.2.0",
            "_model_module": "@jupyter-widgets/controls"
          }
        },
        "9dc02e7c876e47c1977b1b7e63976a4d": {
          "model_module": "@jupyter-widgets/base",
          "model_name": "LayoutModel",
          "model_module_version": "1.2.0",
          "state": {
            "_view_name": "LayoutView",
            "grid_template_rows": null,
            "right": null,
            "justify_content": null,
            "_view_module": "@jupyter-widgets/base",
            "overflow": null,
            "_model_module_version": "1.2.0",
            "_view_count": null,
            "flex_flow": null,
            "width": null,
            "min_width": null,
            "border": null,
            "align_items": null,
            "bottom": null,
            "_model_module": "@jupyter-widgets/base",
            "top": null,
            "grid_column": null,
            "overflow_y": null,
            "overflow_x": null,
            "grid_auto_flow": null,
            "grid_area": null,
            "grid_template_columns": null,
            "flex": null,
            "_model_name": "LayoutModel",
            "justify_items": null,
            "grid_row": null,
            "max_height": null,
            "align_content": null,
            "visibility": null,
            "align_self": null,
            "height": null,
            "min_height": null,
            "padding": null,
            "grid_auto_rows": null,
            "grid_gap": null,
            "max_width": null,
            "order": null,
            "_view_module_version": "1.2.0",
            "grid_template_areas": null,
            "object_position": null,
            "object_fit": null,
            "grid_auto_columns": null,
            "margin": null,
            "display": null,
            "left": null
          }
        },
        "68b0173fa3c042dba2d7bc2fa4759e21": {
          "model_module": "@jupyter-widgets/controls",
          "model_name": "HBoxModel",
          "model_module_version": "1.5.0",
          "state": {
            "_view_name": "HBoxView",
            "_dom_classes": [],
            "_model_name": "HBoxModel",
            "_view_module": "@jupyter-widgets/controls",
            "_model_module_version": "1.5.0",
            "_view_count": null,
            "_view_module_version": "1.5.0",
            "box_style": "",
            "layout": "IPY_MODEL_5890025f0ff64407bd7b86eec39817ca",
            "_model_module": "@jupyter-widgets/controls",
            "children": [
              "IPY_MODEL_c62061c2fade490f861a0b70096b7c3d",
              "IPY_MODEL_0f62f78516e74cf69ae1ac4c83299e74",
              "IPY_MODEL_d4aad38ce7974a8d8dea2e86b9c6ce45"
            ]
          }
        },
        "5890025f0ff64407bd7b86eec39817ca": {
          "model_module": "@jupyter-widgets/base",
          "model_name": "LayoutModel",
          "model_module_version": "1.2.0",
          "state": {
            "_view_name": "LayoutView",
            "grid_template_rows": null,
            "right": null,
            "justify_content": null,
            "_view_module": "@jupyter-widgets/base",
            "overflow": null,
            "_model_module_version": "1.2.0",
            "_view_count": null,
            "flex_flow": null,
            "width": null,
            "min_width": null,
            "border": null,
            "align_items": null,
            "bottom": null,
            "_model_module": "@jupyter-widgets/base",
            "top": null,
            "grid_column": null,
            "overflow_y": null,
            "overflow_x": null,
            "grid_auto_flow": null,
            "grid_area": null,
            "grid_template_columns": null,
            "flex": null,
            "_model_name": "LayoutModel",
            "justify_items": null,
            "grid_row": null,
            "max_height": null,
            "align_content": null,
            "visibility": null,
            "align_self": null,
            "height": null,
            "min_height": null,
            "padding": null,
            "grid_auto_rows": null,
            "grid_gap": null,
            "max_width": null,
            "order": null,
            "_view_module_version": "1.2.0",
            "grid_template_areas": null,
            "object_position": null,
            "object_fit": null,
            "grid_auto_columns": null,
            "margin": null,
            "display": null,
            "left": null
          }
        },
        "c62061c2fade490f861a0b70096b7c3d": {
          "model_module": "@jupyter-widgets/controls",
          "model_name": "HTMLModel",
          "model_module_version": "1.5.0",
          "state": {
            "_view_name": "HTMLView",
            "style": "IPY_MODEL_299c3ca6092646909a0c1485f205eb0c",
            "_dom_classes": [],
            "description": "",
            "_model_name": "HTMLModel",
            "placeholder": "​",
            "_view_module": "@jupyter-widgets/controls",
            "_model_module_version": "1.5.0",
            "value": "Downloading: 100%",
            "_view_count": null,
            "_view_module_version": "1.5.0",
            "description_tooltip": null,
            "_model_module": "@jupyter-widgets/controls",
            "layout": "IPY_MODEL_7a9dff7609794c6990754eccab586ebb"
          }
        },
        "0f62f78516e74cf69ae1ac4c83299e74": {
          "model_module": "@jupyter-widgets/controls",
          "model_name": "FloatProgressModel",
          "model_module_version": "1.5.0",
          "state": {
            "_view_name": "ProgressView",
            "style": "IPY_MODEL_b707885a55d44aba9b8163ac0e04ab9d",
            "_dom_classes": [],
            "description": "",
            "_model_name": "FloatProgressModel",
            "bar_style": "success",
            "max": 1208,
            "_view_module": "@jupyter-widgets/controls",
            "_model_module_version": "1.5.0",
            "value": 1208,
            "_view_count": null,
            "_view_module_version": "1.5.0",
            "orientation": "horizontal",
            "min": 0,
            "description_tooltip": null,
            "_model_module": "@jupyter-widgets/controls",
            "layout": "IPY_MODEL_04ecf1c8f6714589bed925b4bb532d4d"
          }
        },
        "d4aad38ce7974a8d8dea2e86b9c6ce45": {
          "model_module": "@jupyter-widgets/controls",
          "model_name": "HTMLModel",
          "model_module_version": "1.5.0",
          "state": {
            "_view_name": "HTMLView",
            "style": "IPY_MODEL_0b1464ff0b254d28a68fd85337f86f57",
            "_dom_classes": [],
            "description": "",
            "_model_name": "HTMLModel",
            "placeholder": "​",
            "_view_module": "@jupyter-widgets/controls",
            "_model_module_version": "1.5.0",
            "value": " 1.21k/1.21k [00:00&lt;00:00, 26.3kB/s]",
            "_view_count": null,
            "_view_module_version": "1.5.0",
            "description_tooltip": null,
            "_model_module": "@jupyter-widgets/controls",
            "layout": "IPY_MODEL_5172f9ee62a349eda41b894ebe54a773"
          }
        },
        "299c3ca6092646909a0c1485f205eb0c": {
          "model_module": "@jupyter-widgets/controls",
          "model_name": "DescriptionStyleModel",
          "model_module_version": "1.5.0",
          "state": {
            "_view_name": "StyleView",
            "_model_name": "DescriptionStyleModel",
            "description_width": "",
            "_view_module": "@jupyter-widgets/base",
            "_model_module_version": "1.5.0",
            "_view_count": null,
            "_view_module_version": "1.2.0",
            "_model_module": "@jupyter-widgets/controls"
          }
        },
        "7a9dff7609794c6990754eccab586ebb": {
          "model_module": "@jupyter-widgets/base",
          "model_name": "LayoutModel",
          "model_module_version": "1.2.0",
          "state": {
            "_view_name": "LayoutView",
            "grid_template_rows": null,
            "right": null,
            "justify_content": null,
            "_view_module": "@jupyter-widgets/base",
            "overflow": null,
            "_model_module_version": "1.2.0",
            "_view_count": null,
            "flex_flow": null,
            "width": null,
            "min_width": null,
            "border": null,
            "align_items": null,
            "bottom": null,
            "_model_module": "@jupyter-widgets/base",
            "top": null,
            "grid_column": null,
            "overflow_y": null,
            "overflow_x": null,
            "grid_auto_flow": null,
            "grid_area": null,
            "grid_template_columns": null,
            "flex": null,
            "_model_name": "LayoutModel",
            "justify_items": null,
            "grid_row": null,
            "max_height": null,
            "align_content": null,
            "visibility": null,
            "align_self": null,
            "height": null,
            "min_height": null,
            "padding": null,
            "grid_auto_rows": null,
            "grid_gap": null,
            "max_width": null,
            "order": null,
            "_view_module_version": "1.2.0",
            "grid_template_areas": null,
            "object_position": null,
            "object_fit": null,
            "grid_auto_columns": null,
            "margin": null,
            "display": null,
            "left": null
          }
        },
        "b707885a55d44aba9b8163ac0e04ab9d": {
          "model_module": "@jupyter-widgets/controls",
          "model_name": "ProgressStyleModel",
          "model_module_version": "1.5.0",
          "state": {
            "_view_name": "StyleView",
            "_model_name": "ProgressStyleModel",
            "description_width": "",
            "_view_module": "@jupyter-widgets/base",
            "_model_module_version": "1.5.0",
            "_view_count": null,
            "_view_module_version": "1.2.0",
            "bar_color": null,
            "_model_module": "@jupyter-widgets/controls"
          }
        },
        "04ecf1c8f6714589bed925b4bb532d4d": {
          "model_module": "@jupyter-widgets/base",
          "model_name": "LayoutModel",
          "model_module_version": "1.2.0",
          "state": {
            "_view_name": "LayoutView",
            "grid_template_rows": null,
            "right": null,
            "justify_content": null,
            "_view_module": "@jupyter-widgets/base",
            "overflow": null,
            "_model_module_version": "1.2.0",
            "_view_count": null,
            "flex_flow": null,
            "width": null,
            "min_width": null,
            "border": null,
            "align_items": null,
            "bottom": null,
            "_model_module": "@jupyter-widgets/base",
            "top": null,
            "grid_column": null,
            "overflow_y": null,
            "overflow_x": null,
            "grid_auto_flow": null,
            "grid_area": null,
            "grid_template_columns": null,
            "flex": null,
            "_model_name": "LayoutModel",
            "justify_items": null,
            "grid_row": null,
            "max_height": null,
            "align_content": null,
            "visibility": null,
            "align_self": null,
            "height": null,
            "min_height": null,
            "padding": null,
            "grid_auto_rows": null,
            "grid_gap": null,
            "max_width": null,
            "order": null,
            "_view_module_version": "1.2.0",
            "grid_template_areas": null,
            "object_position": null,
            "object_fit": null,
            "grid_auto_columns": null,
            "margin": null,
            "display": null,
            "left": null
          }
        },
        "0b1464ff0b254d28a68fd85337f86f57": {
          "model_module": "@jupyter-widgets/controls",
          "model_name": "DescriptionStyleModel",
          "model_module_version": "1.5.0",
          "state": {
            "_view_name": "StyleView",
            "_model_name": "DescriptionStyleModel",
            "description_width": "",
            "_view_module": "@jupyter-widgets/base",
            "_model_module_version": "1.5.0",
            "_view_count": null,
            "_view_module_version": "1.2.0",
            "_model_module": "@jupyter-widgets/controls"
          }
        },
        "5172f9ee62a349eda41b894ebe54a773": {
          "model_module": "@jupyter-widgets/base",
          "model_name": "LayoutModel",
          "model_module_version": "1.2.0",
          "state": {
            "_view_name": "LayoutView",
            "grid_template_rows": null,
            "right": null,
            "justify_content": null,
            "_view_module": "@jupyter-widgets/base",
            "overflow": null,
            "_model_module_version": "1.2.0",
            "_view_count": null,
            "flex_flow": null,
            "width": null,
            "min_width": null,
            "border": null,
            "align_items": null,
            "bottom": null,
            "_model_module": "@jupyter-widgets/base",
            "top": null,
            "grid_column": null,
            "overflow_y": null,
            "overflow_x": null,
            "grid_auto_flow": null,
            "grid_area": null,
            "grid_template_columns": null,
            "flex": null,
            "_model_name": "LayoutModel",
            "justify_items": null,
            "grid_row": null,
            "max_height": null,
            "align_content": null,
            "visibility": null,
            "align_self": null,
            "height": null,
            "min_height": null,
            "padding": null,
            "grid_auto_rows": null,
            "grid_gap": null,
            "max_width": null,
            "order": null,
            "_view_module_version": "1.2.0",
            "grid_template_areas": null,
            "object_position": null,
            "object_fit": null,
            "grid_auto_columns": null,
            "margin": null,
            "display": null,
            "left": null
          }
        },
        "ec7ce6da783c44fd84b6d8ad7cefed71": {
          "model_module": "@jupyter-widgets/controls",
          "model_name": "HBoxModel",
          "model_module_version": "1.5.0",
          "state": {
            "_view_name": "HBoxView",
            "_dom_classes": [],
            "_model_name": "HBoxModel",
            "_view_module": "@jupyter-widgets/controls",
            "_model_module_version": "1.5.0",
            "_view_count": null,
            "_view_module_version": "1.5.0",
            "box_style": "",
            "layout": "IPY_MODEL_76aba6cadbea4bce8af1207c9f1b2f53",
            "_model_module": "@jupyter-widgets/controls",
            "children": [
              "IPY_MODEL_a0ade4fed2504f9293daab570748d92a",
              "IPY_MODEL_743c9809713d44dc9d7b0c47e52c32b0",
              "IPY_MODEL_5bd1e8d8c82e4fe09299a0bbbe2e56ad"
            ]
          }
        },
        "76aba6cadbea4bce8af1207c9f1b2f53": {
          "model_module": "@jupyter-widgets/base",
          "model_name": "LayoutModel",
          "model_module_version": "1.2.0",
          "state": {
            "_view_name": "LayoutView",
            "grid_template_rows": null,
            "right": null,
            "justify_content": null,
            "_view_module": "@jupyter-widgets/base",
            "overflow": null,
            "_model_module_version": "1.2.0",
            "_view_count": null,
            "flex_flow": null,
            "width": null,
            "min_width": null,
            "border": null,
            "align_items": null,
            "bottom": null,
            "_model_module": "@jupyter-widgets/base",
            "top": null,
            "grid_column": null,
            "overflow_y": null,
            "overflow_x": null,
            "grid_auto_flow": null,
            "grid_area": null,
            "grid_template_columns": null,
            "flex": null,
            "_model_name": "LayoutModel",
            "justify_items": null,
            "grid_row": null,
            "max_height": null,
            "align_content": null,
            "visibility": null,
            "align_self": null,
            "height": null,
            "min_height": null,
            "padding": null,
            "grid_auto_rows": null,
            "grid_gap": null,
            "max_width": null,
            "order": null,
            "_view_module_version": "1.2.0",
            "grid_template_areas": null,
            "object_position": null,
            "object_fit": null,
            "grid_auto_columns": null,
            "margin": null,
            "display": null,
            "left": null
          }
        },
        "a0ade4fed2504f9293daab570748d92a": {
          "model_module": "@jupyter-widgets/controls",
          "model_name": "HTMLModel",
          "model_module_version": "1.5.0",
          "state": {
            "_view_name": "HTMLView",
            "style": "IPY_MODEL_8787476abc0c45db930e8fd85a570694",
            "_dom_classes": [],
            "description": "",
            "_model_name": "HTMLModel",
            "placeholder": "​",
            "_view_module": "@jupyter-widgets/controls",
            "_model_module_version": "1.5.0",
            "value": "Downloading: 100%",
            "_view_count": null,
            "_view_module_version": "1.5.0",
            "description_tooltip": null,
            "_model_module": "@jupyter-widgets/controls",
            "layout": "IPY_MODEL_d5a51aca5be24428b41188912bdd6a44"
          }
        },
        "743c9809713d44dc9d7b0c47e52c32b0": {
          "model_module": "@jupyter-widgets/controls",
          "model_name": "FloatProgressModel",
          "model_module_version": "1.5.0",
          "state": {
            "_view_name": "ProgressView",
            "style": "IPY_MODEL_c63e83755d614b71bb322266cbef1e7b",
            "_dom_classes": [],
            "description": "",
            "_model_name": "FloatProgressModel",
            "bar_style": "success",
            "max": 891695056,
            "_view_module": "@jupyter-widgets/controls",
            "_model_module_version": "1.5.0",
            "value": 891695056,
            "_view_count": null,
            "_view_module_version": "1.5.0",
            "orientation": "horizontal",
            "min": 0,
            "description_tooltip": null,
            "_model_module": "@jupyter-widgets/controls",
            "layout": "IPY_MODEL_8a688c9ccb464b418f529dec98866b0b"
          }
        },
        "5bd1e8d8c82e4fe09299a0bbbe2e56ad": {
          "model_module": "@jupyter-widgets/controls",
          "model_name": "HTMLModel",
          "model_module_version": "1.5.0",
          "state": {
            "_view_name": "HTMLView",
            "style": "IPY_MODEL_06deb4d7d9cf4d81b312ef055566dbe2",
            "_dom_classes": [],
            "description": "",
            "_model_name": "HTMLModel",
            "placeholder": "​",
            "_view_module": "@jupyter-widgets/controls",
            "_model_module_version": "1.5.0",
            "value": " 892M/892M [00:28&lt;00:00, 35.2MB/s]",
            "_view_count": null,
            "_view_module_version": "1.5.0",
            "description_tooltip": null,
            "_model_module": "@jupyter-widgets/controls",
            "layout": "IPY_MODEL_cff098999bc0472e852588bbd3c42078"
          }
        },
        "8787476abc0c45db930e8fd85a570694": {
          "model_module": "@jupyter-widgets/controls",
          "model_name": "DescriptionStyleModel",
          "model_module_version": "1.5.0",
          "state": {
            "_view_name": "StyleView",
            "_model_name": "DescriptionStyleModel",
            "description_width": "",
            "_view_module": "@jupyter-widgets/base",
            "_model_module_version": "1.5.0",
            "_view_count": null,
            "_view_module_version": "1.2.0",
            "_model_module": "@jupyter-widgets/controls"
          }
        },
        "d5a51aca5be24428b41188912bdd6a44": {
          "model_module": "@jupyter-widgets/base",
          "model_name": "LayoutModel",
          "model_module_version": "1.2.0",
          "state": {
            "_view_name": "LayoutView",
            "grid_template_rows": null,
            "right": null,
            "justify_content": null,
            "_view_module": "@jupyter-widgets/base",
            "overflow": null,
            "_model_module_version": "1.2.0",
            "_view_count": null,
            "flex_flow": null,
            "width": null,
            "min_width": null,
            "border": null,
            "align_items": null,
            "bottom": null,
            "_model_module": "@jupyter-widgets/base",
            "top": null,
            "grid_column": null,
            "overflow_y": null,
            "overflow_x": null,
            "grid_auto_flow": null,
            "grid_area": null,
            "grid_template_columns": null,
            "flex": null,
            "_model_name": "LayoutModel",
            "justify_items": null,
            "grid_row": null,
            "max_height": null,
            "align_content": null,
            "visibility": null,
            "align_self": null,
            "height": null,
            "min_height": null,
            "padding": null,
            "grid_auto_rows": null,
            "grid_gap": null,
            "max_width": null,
            "order": null,
            "_view_module_version": "1.2.0",
            "grid_template_areas": null,
            "object_position": null,
            "object_fit": null,
            "grid_auto_columns": null,
            "margin": null,
            "display": null,
            "left": null
          }
        },
        "c63e83755d614b71bb322266cbef1e7b": {
          "model_module": "@jupyter-widgets/controls",
          "model_name": "ProgressStyleModel",
          "model_module_version": "1.5.0",
          "state": {
            "_view_name": "StyleView",
            "_model_name": "ProgressStyleModel",
            "description_width": "",
            "_view_module": "@jupyter-widgets/base",
            "_model_module_version": "1.5.0",
            "_view_count": null,
            "_view_module_version": "1.2.0",
            "bar_color": null,
            "_model_module": "@jupyter-widgets/controls"
          }
        },
        "8a688c9ccb464b418f529dec98866b0b": {
          "model_module": "@jupyter-widgets/base",
          "model_name": "LayoutModel",
          "model_module_version": "1.2.0",
          "state": {
            "_view_name": "LayoutView",
            "grid_template_rows": null,
            "right": null,
            "justify_content": null,
            "_view_module": "@jupyter-widgets/base",
            "overflow": null,
            "_model_module_version": "1.2.0",
            "_view_count": null,
            "flex_flow": null,
            "width": null,
            "min_width": null,
            "border": null,
            "align_items": null,
            "bottom": null,
            "_model_module": "@jupyter-widgets/base",
            "top": null,
            "grid_column": null,
            "overflow_y": null,
            "overflow_x": null,
            "grid_auto_flow": null,
            "grid_area": null,
            "grid_template_columns": null,
            "flex": null,
            "_model_name": "LayoutModel",
            "justify_items": null,
            "grid_row": null,
            "max_height": null,
            "align_content": null,
            "visibility": null,
            "align_self": null,
            "height": null,
            "min_height": null,
            "padding": null,
            "grid_auto_rows": null,
            "grid_gap": null,
            "max_width": null,
            "order": null,
            "_view_module_version": "1.2.0",
            "grid_template_areas": null,
            "object_position": null,
            "object_fit": null,
            "grid_auto_columns": null,
            "margin": null,
            "display": null,
            "left": null
          }
        },
        "06deb4d7d9cf4d81b312ef055566dbe2": {
          "model_module": "@jupyter-widgets/controls",
          "model_name": "DescriptionStyleModel",
          "model_module_version": "1.5.0",
          "state": {
            "_view_name": "StyleView",
            "_model_name": "DescriptionStyleModel",
            "description_width": "",
            "_view_module": "@jupyter-widgets/base",
            "_model_module_version": "1.5.0",
            "_view_count": null,
            "_view_module_version": "1.2.0",
            "_model_module": "@jupyter-widgets/controls"
          }
        },
        "cff098999bc0472e852588bbd3c42078": {
          "model_module": "@jupyter-widgets/base",
          "model_name": "LayoutModel",
          "model_module_version": "1.2.0",
          "state": {
            "_view_name": "LayoutView",
            "grid_template_rows": null,
            "right": null,
            "justify_content": null,
            "_view_module": "@jupyter-widgets/base",
            "overflow": null,
            "_model_module_version": "1.2.0",
            "_view_count": null,
            "flex_flow": null,
            "width": null,
            "min_width": null,
            "border": null,
            "align_items": null,
            "bottom": null,
            "_model_module": "@jupyter-widgets/base",
            "top": null,
            "grid_column": null,
            "overflow_y": null,
            "overflow_x": null,
            "grid_auto_flow": null,
            "grid_area": null,
            "grid_template_columns": null,
            "flex": null,
            "_model_name": "LayoutModel",
            "justify_items": null,
            "grid_row": null,
            "max_height": null,
            "align_content": null,
            "visibility": null,
            "align_self": null,
            "height": null,
            "min_height": null,
            "padding": null,
            "grid_auto_rows": null,
            "grid_gap": null,
            "max_width": null,
            "order": null,
            "_view_module_version": "1.2.0",
            "grid_template_areas": null,
            "object_position": null,
            "object_fit": null,
            "grid_auto_columns": null,
            "margin": null,
            "display": null,
            "left": null
          }
        },
        "4e2e9430aeb94f45aba7a58bfe9cb2f2": {
          "model_module": "@jupyter-widgets/controls",
          "model_name": "HBoxModel",
          "model_module_version": "1.5.0",
          "state": {
            "_view_name": "HBoxView",
            "_dom_classes": [],
            "_model_name": "HBoxModel",
            "_view_module": "@jupyter-widgets/controls",
            "_model_module_version": "1.5.0",
            "_view_count": null,
            "_view_module_version": "1.5.0",
            "box_style": "",
            "layout": "IPY_MODEL_7332f81ff20d408f9356fcd2cbb5385c",
            "_model_module": "@jupyter-widgets/controls",
            "children": [
              "IPY_MODEL_9fb2649efc0648b3953ae1fa4446c77f",
              "IPY_MODEL_f48c1a0975124d39bb7902cdd6b0a6b9",
              "IPY_MODEL_00522cbcc49c48daa94e0458f41f865d"
            ]
          }
        },
        "7332f81ff20d408f9356fcd2cbb5385c": {
          "model_module": "@jupyter-widgets/base",
          "model_name": "LayoutModel",
          "model_module_version": "1.2.0",
          "state": {
            "_view_name": "LayoutView",
            "grid_template_rows": null,
            "right": null,
            "justify_content": null,
            "_view_module": "@jupyter-widgets/base",
            "overflow": null,
            "_model_module_version": "1.2.0",
            "_view_count": null,
            "flex_flow": null,
            "width": null,
            "min_width": null,
            "border": null,
            "align_items": null,
            "bottom": null,
            "_model_module": "@jupyter-widgets/base",
            "top": null,
            "grid_column": null,
            "overflow_y": null,
            "overflow_x": null,
            "grid_auto_flow": null,
            "grid_area": null,
            "grid_template_columns": null,
            "flex": null,
            "_model_name": "LayoutModel",
            "justify_items": null,
            "grid_row": null,
            "max_height": null,
            "align_content": null,
            "visibility": null,
            "align_self": null,
            "height": null,
            "min_height": null,
            "padding": null,
            "grid_auto_rows": null,
            "grid_gap": null,
            "max_width": null,
            "order": null,
            "_view_module_version": "1.2.0",
            "grid_template_areas": null,
            "object_position": null,
            "object_fit": null,
            "grid_auto_columns": null,
            "margin": null,
            "display": null,
            "left": null
          }
        },
        "9fb2649efc0648b3953ae1fa4446c77f": {
          "model_module": "@jupyter-widgets/controls",
          "model_name": "HTMLModel",
          "model_module_version": "1.5.0",
          "state": {
            "_view_name": "HTMLView",
            "style": "IPY_MODEL_57e6afa6b7a54678a8ba929e2b89b2c9",
            "_dom_classes": [],
            "description": "",
            "_model_name": "HTMLModel",
            "placeholder": "​",
            "_view_module": "@jupyter-widgets/controls",
            "_model_module_version": "1.5.0",
            "value": "Downloading: 100%",
            "_view_count": null,
            "_view_module_version": "1.5.0",
            "description_tooltip": null,
            "_model_module": "@jupyter-widgets/controls",
            "layout": "IPY_MODEL_c4c58b85213b4445ad3d2ea8c3146768"
          }
        },
        "f48c1a0975124d39bb7902cdd6b0a6b9": {
          "model_module": "@jupyter-widgets/controls",
          "model_name": "FloatProgressModel",
          "model_module_version": "1.5.0",
          "state": {
            "_view_name": "ProgressView",
            "style": "IPY_MODEL_6d885a7011b84439aac11b09fa226587",
            "_dom_classes": [],
            "description": "",
            "_model_name": "FloatProgressModel",
            "bar_style": "success",
            "max": 1208,
            "_view_module": "@jupyter-widgets/controls",
            "_model_module_version": "1.5.0",
            "value": 1208,
            "_view_count": null,
            "_view_module_version": "1.5.0",
            "orientation": "horizontal",
            "min": 0,
            "description_tooltip": null,
            "_model_module": "@jupyter-widgets/controls",
            "layout": "IPY_MODEL_8b732eb9e7ca4311a17060c41f5a7525"
          }
        },
        "00522cbcc49c48daa94e0458f41f865d": {
          "model_module": "@jupyter-widgets/controls",
          "model_name": "HTMLModel",
          "model_module_version": "1.5.0",
          "state": {
            "_view_name": "HTMLView",
            "style": "IPY_MODEL_79290bafd28f41aabd48d565841f143a",
            "_dom_classes": [],
            "description": "",
            "_model_name": "HTMLModel",
            "placeholder": "​",
            "_view_module": "@jupyter-widgets/controls",
            "_model_module_version": "1.5.0",
            "value": " 1.21k/1.21k [00:00&lt;00:00, 24.9kB/s]",
            "_view_count": null,
            "_view_module_version": "1.5.0",
            "description_tooltip": null,
            "_model_module": "@jupyter-widgets/controls",
            "layout": "IPY_MODEL_2f01ba59aa2447afaf9116007bd9cd88"
          }
        },
        "57e6afa6b7a54678a8ba929e2b89b2c9": {
          "model_module": "@jupyter-widgets/controls",
          "model_name": "DescriptionStyleModel",
          "model_module_version": "1.5.0",
          "state": {
            "_view_name": "StyleView",
            "_model_name": "DescriptionStyleModel",
            "description_width": "",
            "_view_module": "@jupyter-widgets/base",
            "_model_module_version": "1.5.0",
            "_view_count": null,
            "_view_module_version": "1.2.0",
            "_model_module": "@jupyter-widgets/controls"
          }
        },
        "c4c58b85213b4445ad3d2ea8c3146768": {
          "model_module": "@jupyter-widgets/base",
          "model_name": "LayoutModel",
          "model_module_version": "1.2.0",
          "state": {
            "_view_name": "LayoutView",
            "grid_template_rows": null,
            "right": null,
            "justify_content": null,
            "_view_module": "@jupyter-widgets/base",
            "overflow": null,
            "_model_module_version": "1.2.0",
            "_view_count": null,
            "flex_flow": null,
            "width": null,
            "min_width": null,
            "border": null,
            "align_items": null,
            "bottom": null,
            "_model_module": "@jupyter-widgets/base",
            "top": null,
            "grid_column": null,
            "overflow_y": null,
            "overflow_x": null,
            "grid_auto_flow": null,
            "grid_area": null,
            "grid_template_columns": null,
            "flex": null,
            "_model_name": "LayoutModel",
            "justify_items": null,
            "grid_row": null,
            "max_height": null,
            "align_content": null,
            "visibility": null,
            "align_self": null,
            "height": null,
            "min_height": null,
            "padding": null,
            "grid_auto_rows": null,
            "grid_gap": null,
            "max_width": null,
            "order": null,
            "_view_module_version": "1.2.0",
            "grid_template_areas": null,
            "object_position": null,
            "object_fit": null,
            "grid_auto_columns": null,
            "margin": null,
            "display": null,
            "left": null
          }
        },
        "6d885a7011b84439aac11b09fa226587": {
          "model_module": "@jupyter-widgets/controls",
          "model_name": "ProgressStyleModel",
          "model_module_version": "1.5.0",
          "state": {
            "_view_name": "StyleView",
            "_model_name": "ProgressStyleModel",
            "description_width": "",
            "_view_module": "@jupyter-widgets/base",
            "_model_module_version": "1.5.0",
            "_view_count": null,
            "_view_module_version": "1.2.0",
            "bar_color": null,
            "_model_module": "@jupyter-widgets/controls"
          }
        },
        "8b732eb9e7ca4311a17060c41f5a7525": {
          "model_module": "@jupyter-widgets/base",
          "model_name": "LayoutModel",
          "model_module_version": "1.2.0",
          "state": {
            "_view_name": "LayoutView",
            "grid_template_rows": null,
            "right": null,
            "justify_content": null,
            "_view_module": "@jupyter-widgets/base",
            "overflow": null,
            "_model_module_version": "1.2.0",
            "_view_count": null,
            "flex_flow": null,
            "width": null,
            "min_width": null,
            "border": null,
            "align_items": null,
            "bottom": null,
            "_model_module": "@jupyter-widgets/base",
            "top": null,
            "grid_column": null,
            "overflow_y": null,
            "overflow_x": null,
            "grid_auto_flow": null,
            "grid_area": null,
            "grid_template_columns": null,
            "flex": null,
            "_model_name": "LayoutModel",
            "justify_items": null,
            "grid_row": null,
            "max_height": null,
            "align_content": null,
            "visibility": null,
            "align_self": null,
            "height": null,
            "min_height": null,
            "padding": null,
            "grid_auto_rows": null,
            "grid_gap": null,
            "max_width": null,
            "order": null,
            "_view_module_version": "1.2.0",
            "grid_template_areas": null,
            "object_position": null,
            "object_fit": null,
            "grid_auto_columns": null,
            "margin": null,
            "display": null,
            "left": null
          }
        },
        "79290bafd28f41aabd48d565841f143a": {
          "model_module": "@jupyter-widgets/controls",
          "model_name": "DescriptionStyleModel",
          "model_module_version": "1.5.0",
          "state": {
            "_view_name": "StyleView",
            "_model_name": "DescriptionStyleModel",
            "description_width": "",
            "_view_module": "@jupyter-widgets/base",
            "_model_module_version": "1.5.0",
            "_view_count": null,
            "_view_module_version": "1.2.0",
            "_model_module": "@jupyter-widgets/controls"
          }
        },
        "2f01ba59aa2447afaf9116007bd9cd88": {
          "model_module": "@jupyter-widgets/base",
          "model_name": "LayoutModel",
          "model_module_version": "1.2.0",
          "state": {
            "_view_name": "LayoutView",
            "grid_template_rows": null,
            "right": null,
            "justify_content": null,
            "_view_module": "@jupyter-widgets/base",
            "overflow": null,
            "_model_module_version": "1.2.0",
            "_view_count": null,
            "flex_flow": null,
            "width": null,
            "min_width": null,
            "border": null,
            "align_items": null,
            "bottom": null,
            "_model_module": "@jupyter-widgets/base",
            "top": null,
            "grid_column": null,
            "overflow_y": null,
            "overflow_x": null,
            "grid_auto_flow": null,
            "grid_area": null,
            "grid_template_columns": null,
            "flex": null,
            "_model_name": "LayoutModel",
            "justify_items": null,
            "grid_row": null,
            "max_height": null,
            "align_content": null,
            "visibility": null,
            "align_self": null,
            "height": null,
            "min_height": null,
            "padding": null,
            "grid_auto_rows": null,
            "grid_gap": null,
            "max_width": null,
            "order": null,
            "_view_module_version": "1.2.0",
            "grid_template_areas": null,
            "object_position": null,
            "object_fit": null,
            "grid_auto_columns": null,
            "margin": null,
            "display": null,
            "left": null
          }
        },
        "80cc5d818b4746d68eada529c8d540fa": {
          "model_module": "@jupyter-widgets/controls",
          "model_name": "HBoxModel",
          "model_module_version": "1.5.0",
          "state": {
            "_view_name": "HBoxView",
            "_dom_classes": [],
            "_model_name": "HBoxModel",
            "_view_module": "@jupyter-widgets/controls",
            "_model_module_version": "1.5.0",
            "_view_count": null,
            "_view_module_version": "1.5.0",
            "box_style": "",
            "layout": "IPY_MODEL_49973d3444de4210a8578114ae732e68",
            "_model_module": "@jupyter-widgets/controls",
            "children": [
              "IPY_MODEL_c9f80c3131ec443c803aae0b998e3e96",
              "IPY_MODEL_7974bac7c0344cd6a17b89d9dc8bf6ff",
              "IPY_MODEL_1e8a74438b8444cf9d44cb405f2e427d"
            ]
          }
        },
        "49973d3444de4210a8578114ae732e68": {
          "model_module": "@jupyter-widgets/base",
          "model_name": "LayoutModel",
          "model_module_version": "1.2.0",
          "state": {
            "_view_name": "LayoutView",
            "grid_template_rows": null,
            "right": null,
            "justify_content": null,
            "_view_module": "@jupyter-widgets/base",
            "overflow": null,
            "_model_module_version": "1.2.0",
            "_view_count": null,
            "flex_flow": null,
            "width": null,
            "min_width": null,
            "border": null,
            "align_items": null,
            "bottom": null,
            "_model_module": "@jupyter-widgets/base",
            "top": null,
            "grid_column": null,
            "overflow_y": null,
            "overflow_x": null,
            "grid_auto_flow": null,
            "grid_area": null,
            "grid_template_columns": null,
            "flex": null,
            "_model_name": "LayoutModel",
            "justify_items": null,
            "grid_row": null,
            "max_height": null,
            "align_content": null,
            "visibility": null,
            "align_self": null,
            "height": null,
            "min_height": null,
            "padding": null,
            "grid_auto_rows": null,
            "grid_gap": null,
            "max_width": null,
            "order": null,
            "_view_module_version": "1.2.0",
            "grid_template_areas": null,
            "object_position": null,
            "object_fit": null,
            "grid_auto_columns": null,
            "margin": null,
            "display": null,
            "left": null
          }
        },
        "c9f80c3131ec443c803aae0b998e3e96": {
          "model_module": "@jupyter-widgets/controls",
          "model_name": "HTMLModel",
          "model_module_version": "1.5.0",
          "state": {
            "_view_name": "HTMLView",
            "style": "IPY_MODEL_8e7bfd09726f47268ed8af8be3e0a683",
            "_dom_classes": [],
            "description": "",
            "_model_name": "HTMLModel",
            "placeholder": "​",
            "_view_module": "@jupyter-widgets/controls",
            "_model_module_version": "1.5.0",
            "value": "Downloading: 100%",
            "_view_count": null,
            "_view_module_version": "1.5.0",
            "description_tooltip": null,
            "_model_module": "@jupyter-widgets/controls",
            "layout": "IPY_MODEL_cc9c1bfec62f4275adf2a4165deaa13f"
          }
        },
        "7974bac7c0344cd6a17b89d9dc8bf6ff": {
          "model_module": "@jupyter-widgets/controls",
          "model_name": "FloatProgressModel",
          "model_module_version": "1.5.0",
          "state": {
            "_view_name": "ProgressView",
            "style": "IPY_MODEL_2728e57353494d999d9f12b2278bac14",
            "_dom_classes": [],
            "description": "",
            "_model_name": "FloatProgressModel",
            "bar_style": "success",
            "max": 891691413,
            "_view_module": "@jupyter-widgets/controls",
            "_model_module_version": "1.5.0",
            "value": 891691413,
            "_view_count": null,
            "_view_module_version": "1.5.0",
            "orientation": "horizontal",
            "min": 0,
            "description_tooltip": null,
            "_model_module": "@jupyter-widgets/controls",
            "layout": "IPY_MODEL_dda35ae55398482884036fa5c3160ec4"
          }
        },
        "1e8a74438b8444cf9d44cb405f2e427d": {
          "model_module": "@jupyter-widgets/controls",
          "model_name": "HTMLModel",
          "model_module_version": "1.5.0",
          "state": {
            "_view_name": "HTMLView",
            "style": "IPY_MODEL_e2ef1e6524cf4c6c9012bd5a63ed6c3e",
            "_dom_classes": [],
            "description": "",
            "_model_name": "HTMLModel",
            "placeholder": "​",
            "_view_module": "@jupyter-widgets/controls",
            "_model_module_version": "1.5.0",
            "value": " 892M/892M [00:24&lt;00:00, 42.6MB/s]",
            "_view_count": null,
            "_view_module_version": "1.5.0",
            "description_tooltip": null,
            "_model_module": "@jupyter-widgets/controls",
            "layout": "IPY_MODEL_5fec4e4ca0b946fa857642867202cbd4"
          }
        },
        "8e7bfd09726f47268ed8af8be3e0a683": {
          "model_module": "@jupyter-widgets/controls",
          "model_name": "DescriptionStyleModel",
          "model_module_version": "1.5.0",
          "state": {
            "_view_name": "StyleView",
            "_model_name": "DescriptionStyleModel",
            "description_width": "",
            "_view_module": "@jupyter-widgets/base",
            "_model_module_version": "1.5.0",
            "_view_count": null,
            "_view_module_version": "1.2.0",
            "_model_module": "@jupyter-widgets/controls"
          }
        },
        "cc9c1bfec62f4275adf2a4165deaa13f": {
          "model_module": "@jupyter-widgets/base",
          "model_name": "LayoutModel",
          "model_module_version": "1.2.0",
          "state": {
            "_view_name": "LayoutView",
            "grid_template_rows": null,
            "right": null,
            "justify_content": null,
            "_view_module": "@jupyter-widgets/base",
            "overflow": null,
            "_model_module_version": "1.2.0",
            "_view_count": null,
            "flex_flow": null,
            "width": null,
            "min_width": null,
            "border": null,
            "align_items": null,
            "bottom": null,
            "_model_module": "@jupyter-widgets/base",
            "top": null,
            "grid_column": null,
            "overflow_y": null,
            "overflow_x": null,
            "grid_auto_flow": null,
            "grid_area": null,
            "grid_template_columns": null,
            "flex": null,
            "_model_name": "LayoutModel",
            "justify_items": null,
            "grid_row": null,
            "max_height": null,
            "align_content": null,
            "visibility": null,
            "align_self": null,
            "height": null,
            "min_height": null,
            "padding": null,
            "grid_auto_rows": null,
            "grid_gap": null,
            "max_width": null,
            "order": null,
            "_view_module_version": "1.2.0",
            "grid_template_areas": null,
            "object_position": null,
            "object_fit": null,
            "grid_auto_columns": null,
            "margin": null,
            "display": null,
            "left": null
          }
        },
        "2728e57353494d999d9f12b2278bac14": {
          "model_module": "@jupyter-widgets/controls",
          "model_name": "ProgressStyleModel",
          "model_module_version": "1.5.0",
          "state": {
            "_view_name": "StyleView",
            "_model_name": "ProgressStyleModel",
            "description_width": "",
            "_view_module": "@jupyter-widgets/base",
            "_model_module_version": "1.5.0",
            "_view_count": null,
            "_view_module_version": "1.2.0",
            "bar_color": null,
            "_model_module": "@jupyter-widgets/controls"
          }
        },
        "dda35ae55398482884036fa5c3160ec4": {
          "model_module": "@jupyter-widgets/base",
          "model_name": "LayoutModel",
          "model_module_version": "1.2.0",
          "state": {
            "_view_name": "LayoutView",
            "grid_template_rows": null,
            "right": null,
            "justify_content": null,
            "_view_module": "@jupyter-widgets/base",
            "overflow": null,
            "_model_module_version": "1.2.0",
            "_view_count": null,
            "flex_flow": null,
            "width": null,
            "min_width": null,
            "border": null,
            "align_items": null,
            "bottom": null,
            "_model_module": "@jupyter-widgets/base",
            "top": null,
            "grid_column": null,
            "overflow_y": null,
            "overflow_x": null,
            "grid_auto_flow": null,
            "grid_area": null,
            "grid_template_columns": null,
            "flex": null,
            "_model_name": "LayoutModel",
            "justify_items": null,
            "grid_row": null,
            "max_height": null,
            "align_content": null,
            "visibility": null,
            "align_self": null,
            "height": null,
            "min_height": null,
            "padding": null,
            "grid_auto_rows": null,
            "grid_gap": null,
            "max_width": null,
            "order": null,
            "_view_module_version": "1.2.0",
            "grid_template_areas": null,
            "object_position": null,
            "object_fit": null,
            "grid_auto_columns": null,
            "margin": null,
            "display": null,
            "left": null
          }
        },
        "e2ef1e6524cf4c6c9012bd5a63ed6c3e": {
          "model_module": "@jupyter-widgets/controls",
          "model_name": "DescriptionStyleModel",
          "model_module_version": "1.5.0",
          "state": {
            "_view_name": "StyleView",
            "_model_name": "DescriptionStyleModel",
            "description_width": "",
            "_view_module": "@jupyter-widgets/base",
            "_model_module_version": "1.5.0",
            "_view_count": null,
            "_view_module_version": "1.2.0",
            "_model_module": "@jupyter-widgets/controls"
          }
        },
        "5fec4e4ca0b946fa857642867202cbd4": {
          "model_module": "@jupyter-widgets/base",
          "model_name": "LayoutModel",
          "model_module_version": "1.2.0",
          "state": {
            "_view_name": "LayoutView",
            "grid_template_rows": null,
            "right": null,
            "justify_content": null,
            "_view_module": "@jupyter-widgets/base",
            "overflow": null,
            "_model_module_version": "1.2.0",
            "_view_count": null,
            "flex_flow": null,
            "width": null,
            "min_width": null,
            "border": null,
            "align_items": null,
            "bottom": null,
            "_model_module": "@jupyter-widgets/base",
            "top": null,
            "grid_column": null,
            "overflow_y": null,
            "overflow_x": null,
            "grid_auto_flow": null,
            "grid_area": null,
            "grid_template_columns": null,
            "flex": null,
            "_model_name": "LayoutModel",
            "justify_items": null,
            "grid_row": null,
            "max_height": null,
            "align_content": null,
            "visibility": null,
            "align_self": null,
            "height": null,
            "min_height": null,
            "padding": null,
            "grid_auto_rows": null,
            "grid_gap": null,
            "max_width": null,
            "order": null,
            "_view_module_version": "1.2.0",
            "grid_template_areas": null,
            "object_position": null,
            "object_fit": null,
            "grid_auto_columns": null,
            "margin": null,
            "display": null,
            "left": null
          }
        }
      }
    }
  },
  "cells": [
    {
      "cell_type": "markdown",
      "metadata": {
        "id": "view-in-github",
        "colab_type": "text"
      },
      "source": [
        "<a href=\"https://colab.research.google.com/github/plaban1981/POCs/blob/main/Question_generation_geography__using_Ca_questgen_api.ipynb\" target=\"_parent\"><img src=\"https://colab.research.google.com/assets/colab-badge.svg\" alt=\"Open In Colab\"/></a>"
      ]
    },
    {
      "cell_type": "markdown",
      "metadata": {
        "id": "2N4myz86J-LA"
      },
      "source": [
        "##PyPDF"
      ]
    },
    {
      "cell_type": "code",
      "metadata": {
        "id": "pdlbsb4rYriy",
        "colab": {
          "base_uri": "https://localhost:8080/"
        },
        "outputId": "7c2ffad3-adfe-4077-f4d6-c7c34cc6915a"
      },
      "source": [
        "!pip install install PyPDF2"
      ],
      "execution_count": 3,
      "outputs": [
        {
          "output_type": "stream",
          "name": "stdout",
          "text": [
            "Collecting install\n",
            "  Downloading install-1.3.4-py3-none-any.whl (3.1 kB)\n",
            "Collecting PyPDF2\n",
            "  Downloading PyPDF2-1.26.0.tar.gz (77 kB)\n",
            "\u001b[K     |████████████████████████████████| 77 kB 3.2 MB/s \n",
            "\u001b[?25hBuilding wheels for collected packages: PyPDF2\n",
            "  Building wheel for PyPDF2 (setup.py) ... \u001b[?25l\u001b[?25hdone\n",
            "  Created wheel for PyPDF2: filename=PyPDF2-1.26.0-py3-none-any.whl size=61101 sha256=1b44476da5f48eb35e5d24f38ea5ba269b9187827f63f14b7ec895c4a3155d72\n",
            "  Stored in directory: /root/.cache/pip/wheels/80/1a/24/648467ade3a77ed20f35cfd2badd32134e96dd25ca811e64b3\n",
            "Successfully built PyPDF2\n",
            "Installing collected packages: PyPDF2, install\n",
            "Successfully installed PyPDF2-1.26.0 install-1.3.4\n"
          ]
        }
      ]
    },
    {
      "cell_type": "markdown",
      "metadata": {
        "id": "w2HdyfIULZTP"
      },
      "source": [
        "## Questgen Api"
      ]
    },
    {
      "cell_type": "code",
      "metadata": {
        "id": "iMW5FH7OLbDV"
      },
      "source": [
        "%%capture\n",
        "!pip install git+https://github.com/ramsrigouthamg/Questgen.ai"
      ],
      "execution_count": 68,
      "outputs": []
    },
    {
      "cell_type": "code",
      "metadata": {
        "colab": {
          "base_uri": "https://localhost:8080/"
        },
        "id": "pWURyKwTLl31",
        "outputId": "6620e722-6471-4264-defb-4a1fb15265bc"
      },
      "source": [
        "!pip install --quiet git+https://github.com/boudinfl/pke.git"
      ],
      "execution_count": 69,
      "outputs": [
        {
          "output_type": "stream",
          "name": "stdout",
          "text": [
            "  Building wheel for pke (setup.py) ... \u001b[?25l\u001b[?25hdone\n"
          ]
        }
      ]
    },
    {
      "cell_type": "code",
      "metadata": {
        "id": "6qPGc2n2Ly8m"
      },
      "source": [
        "%%capture\n",
        "!wget https://github.com/explosion/sense2vec/releases/download/v1.0.0/s2v_reddit_2015_md.tar.gz"
      ],
      "execution_count": 71,
      "outputs": []
    },
    {
      "cell_type": "code",
      "metadata": {
        "colab": {
          "base_uri": "https://localhost:8080/"
        },
        "id": "b0DbbNnaL8ru",
        "outputId": "792df32b-9402-42ee-9686-350ba36edcce"
      },
      "source": [
        "!tar -xvf  s2v_reddit_2015_md.tar.gz"
      ],
      "execution_count": 72,
      "outputs": [
        {
          "output_type": "stream",
          "name": "stdout",
          "text": [
            "./._s2v_old\n",
            "./s2v_old/\n",
            "./s2v_old/._freqs.json\n",
            "./s2v_old/freqs.json\n",
            "./s2v_old/._vectors\n",
            "./s2v_old/vectors\n",
            "./s2v_old/._cfg\n",
            "./s2v_old/cfg\n",
            "./s2v_old/._strings.json\n",
            "./s2v_old/strings.json\n",
            "./s2v_old/._key2row\n",
            "./s2v_old/key2row\n"
          ]
        }
      ]
    },
    {
      "cell_type": "code",
      "metadata": {
        "colab": {
          "base_uri": "https://localhost:8080/"
        },
        "id": "9PH0lTQIL_kt",
        "outputId": "a5bab6a9-d75b-464a-a88c-b9c306b20f43"
      },
      "source": [
        "!ls s2v_old"
      ],
      "execution_count": 73,
      "outputs": [
        {
          "output_type": "stream",
          "name": "stdout",
          "text": [
            "cfg  freqs.json  key2row  strings.json\tvectors\n"
          ]
        }
      ]
    },
    {
      "cell_type": "code",
      "metadata": {
        "colab": {
          "base_uri": "https://localhost:8080/"
        },
        "id": "ymWiZzhkMBys",
        "outputId": "3bfb7fb8-5088-4879-ffde-8504bb38d657"
      },
      "source": [
        "import nltk\n",
        "nltk.download('stopwords')"
      ],
      "execution_count": 74,
      "outputs": [
        {
          "output_type": "stream",
          "name": "stdout",
          "text": [
            "[nltk_data] Downloading package stopwords to /root/nltk_data...\n",
            "[nltk_data]   Unzipping corpora/stopwords.zip.\n"
          ]
        },
        {
          "output_type": "execute_result",
          "data": {
            "text/plain": [
              "True"
            ]
          },
          "metadata": {},
          "execution_count": 74
        }
      ]
    },
    {
      "cell_type": "markdown",
      "metadata": {
        "id": "ZQ6FjNNNLolF"
      },
      "source": [
        "## Download sense2vec in order to generate multiple choices"
      ]
    },
    {
      "cell_type": "code",
      "metadata": {
        "id": "NrCI5gdyLpg5"
      },
      "source": [
        "%%capture\n",
        "!python -m nltk.downloader universal_tagset\n",
        "!python -m spacy download en"
      ],
      "execution_count": 70,
      "outputs": []
    },
    {
      "cell_type": "markdown",
      "metadata": {
        "id": "4HidfRNO1ZbI"
      },
      "source": [
        "## Import Drive"
      ]
    },
    {
      "cell_type": "code",
      "metadata": {
        "colab": {
          "base_uri": "https://localhost:8080/"
        },
        "id": "capYP8k-1hrp",
        "outputId": "0cb85448-da38-4409-d495-48d0f6439e82"
      },
      "source": [
        "from google.colab import drive\n",
        "drive.mount(\"/content/drive\")"
      ],
      "execution_count": 1,
      "outputs": [
        {
          "output_type": "stream",
          "name": "stdout",
          "text": [
            "Mounted at /content/drive\n"
          ]
        }
      ]
    },
    {
      "cell_type": "markdown",
      "metadata": {
        "id": "pPp4LzzGU6IM"
      },
      "source": [
        "## Extract the number of pages in PDF file "
      ]
    },
    {
      "cell_type": "code",
      "metadata": {
        "id": "eNXobkCJUw0G"
      },
      "source": [
        "from PyPDF2 import PdfFileReader\n",
        "path = '/content/drive/MyDrive/ZeoanAI_Poc/geography_tutorial.pdf'\n",
        "def get_pdf_page_count(path):\n",
        "  with open(path, 'rb') as fl:\n",
        "    reader = PdfFileReader(fl)\n",
        "    return reader.getNumPages()"
      ],
      "execution_count": 30,
      "outputs": []
    },
    {
      "cell_type": "code",
      "metadata": {
        "colab": {
          "base_uri": "https://localhost:8080/"
        },
        "id": "1NzrTE6mkFht",
        "outputId": "0a905497-cea8-46d9-b988-899b14394960"
      },
      "source": [
        "get_pdf_page_count(path)"
      ],
      "execution_count": 5,
      "outputs": [
        {
          "output_type": "execute_result",
          "data": {
            "text/plain": [
              "167"
            ]
          },
          "metadata": {},
          "execution_count": 5
        }
      ]
    },
    {
      "cell_type": "code",
      "metadata": {
        "id": "wIUViwdpa3KN",
        "colab": {
          "base_uri": "https://localhost:8080/"
        },
        "outputId": "237080ba-bdbd-48d0-a7c4-432099eeffc8"
      },
      "source": [
        "file=open(path,\"rb\") \n",
        "reader=PdfFileReader(file)\n",
        "page1=reader.getPage(7)\n",
        "pdfData=page1.extractText()\n",
        "print(type(pdfData))\n",
        "print(pdfData.replace(\".\",\"\").strip().replace(\"\\n\",\"\"))\n"
      ],
      "execution_count": 27,
      "outputs": [
        {
          "output_type": "stream",
          "name": "stdout",
          "text": [
            "<class 'str'>\n",
            "Geography 7    India is located entirely in the northern hemisphere; specifically in the south-central part of the continent of Asia    The mainland of India extends between latitudes 80and 370 and longitudes 680and 970 (as shown in the map given below) The southern boundary extends up to 6°45' N latitude in the Bay of Bengal    With an area of 328 million square km, India is the 7th largest country of the world   The six largest countries of the world in decreasing order are Russia, Canada, USA, China, Brazil, and Australia    India accounts for about 24 percent of the total geographical area of the world   India has a total land boundary of about 15,200 km  1 INDIA - Introduction\n"
          ]
        }
      ]
    },
    {
      "cell_type": "code",
      "metadata": {
        "id": "ULiZEUxJbEQe"
      },
      "source": [
        "num_pages = get_pdf_page_count(path)"
      ],
      "execution_count": 31,
      "outputs": []
    },
    {
      "cell_type": "markdown",
      "metadata": {
        "id": "yE4atxwGd0r3"
      },
      "source": [
        "## Extract the Table of Contents"
      ]
    },
    {
      "cell_type": "code",
      "metadata": {
        "id": "g0upjMRpbHUX",
        "colab": {
          "base_uri": "https://localhost:8080/",
          "height": 35
        },
        "outputId": "e94eea77-c883-4858-d964-8d8f08bad71a"
      },
      "source": [
        "pages = '1-'+str(num_pages)\n",
        "pages"
      ],
      "execution_count": 32,
      "outputs": [
        {
          "output_type": "execute_result",
          "data": {
            "application/vnd.google.colaboratory.intrinsic+json": {
              "type": "string"
            },
            "text/plain": [
              "'1-167'"
            ]
          },
          "metadata": {},
          "execution_count": 32
        }
      ]
    },
    {
      "cell_type": "code",
      "metadata": {
        "id": "QG3MaZaILe8Y"
      },
      "source": [
        "def read_pdf(path,page_num):\n",
        "  with open(path, \"rb\") as filehandle:\n",
        "    pdf = PdfFileReader(filehandle)\n",
        "    page1 = pdf.getPage(page_num)\n",
        "    content = page1.extractText()\n",
        "    return content"
      ],
      "execution_count": 34,
      "outputs": []
    },
    {
      "cell_type": "code",
      "metadata": {
        "colab": {
          "base_uri": "https://localhost:8080/",
          "height": 136
        },
        "id": "xOqZkUsrNbT1",
        "outputId": "7f483607-9f09-4ead-ee84-a92cce51d4b6"
      },
      "source": [
        "read_pdf(path,7)"
      ],
      "execution_count": 36,
      "outputs": [
        {
          "output_type": "execute_result",
          "data": {
            "application/vnd.google.colaboratory.intrinsic+json": {
              "type": "string"
            },
            "text/plain": [
              "\"Geography\\n \\n7\\n \\n \\n\\n\\n\\n\\n \\n\\n \\nIndia is located entirely in the \\nnorthern hemisphere\\n; specifically\\n \\nin the \\nsouth\\n-\\ncentral part of the continent of Asia.\\n \\n \\n \\n\\n \\nThe main\\nland of India extends between latitudes \\n8\\n0\\n\\nand\\n \\n37\\n0\\n\\n \\nand \\nlongitudes \\n68\\n0\\n\\nand\\n \\n97\\n0\\n\\n \\n(as shown in the map given\\n \\nbelow)\\n.\\n \\nT\\nhe \\nsouthern boundary extends up to \\n6°45' N\\n \\nlatitude in the Bay of Bengal.\\n \\n \\n\\n\\n\\n\\n \\n\\n \\nWith an area \\nof 3.28 million square km\\n, India is \\nthe \\n7\\nth\\n \\nlargest country of the \\nworld.\\n \\n \\n\\n \\nThe \\nsix\\n \\nlargest countries of the world in decreasing order are Russia,\\n \\nCanada, \\nUSA, China, Brazil, and Australia. \\n \\n \\n\\n \\nIndia accounts\\n \\nfor about\\n \\n2.4 percent\\n \\nof the total geographical area of the \\nworld\\n.\\n \\n \\n\\n \\nIndia has \\na \\ntotal land boundary \\nof about\\n \\n15,200 km\\n.\\n \\n \\n1.\\n \\nINDIA \\n-\\n \\nIntroduction\\n \\n\""
            ]
          },
          "metadata": {},
          "execution_count": 36
        }
      ]
    },
    {
      "cell_type": "markdown",
      "metadata": {
        "id": "yoogvOIf-c6U"
      },
      "source": [
        "## Define helper functions"
      ]
    },
    {
      "cell_type": "markdown",
      "metadata": {
        "id": "2TEwH3T8N15F"
      },
      "source": [
        "1. get number of pages in the pdf file"
      ]
    },
    {
      "cell_type": "code",
      "metadata": {
        "id": "4yQ53aPNN1Ey"
      },
      "source": [
        "def get_pdf_page_count(path):\n",
        "  with open(path, 'rb') as fl:\n",
        "    reader = PdfFileReader(fl)\n",
        "    return reader.getNumPages()"
      ],
      "execution_count": 37,
      "outputs": []
    },
    {
      "cell_type": "markdown",
      "metadata": {
        "id": "80DIGI0gN6Ce"
      },
      "source": [
        "2. Read the content of the pdf that has no tables"
      ]
    },
    {
      "cell_type": "code",
      "metadata": {
        "id": "Q_t-cLcBOCIb"
      },
      "source": [
        "def read_pdf(path,page_num):\n",
        "  with open(path, \"rb\") as filehandle:\n",
        "    pdf = PdfFileReader(filehandle)\n",
        "    page1 = pdf.getPage(page_num)\n",
        "    content = page1.extractText()\n",
        "    return content"
      ],
      "execution_count": 38,
      "outputs": []
    },
    {
      "cell_type": "markdown",
      "metadata": {
        "id": "_l0ostxYGT6-"
      },
      "source": [
        "3. function to remove html tag if any"
      ]
    },
    {
      "cell_type": "code",
      "metadata": {
        "id": "16efhjTGGXbR"
      },
      "source": [
        "from bs4 import BeautifulSoup\n",
        "def remove_tag(text):\n",
        "  cleantext = BeautifulSoup(text, \"lxml\").text\n",
        "  return cleantext"
      ],
      "execution_count": 39,
      "outputs": []
    },
    {
      "cell_type": "markdown",
      "metadata": {
        "id": "L2TnBz6NGaKo"
      },
      "source": [
        "4. function to remove punctuations"
      ]
    },
    {
      "cell_type": "code",
      "metadata": {
        "id": "nHegCB8sGcQ5"
      },
      "source": [
        "import string,re\n",
        "def remove_punc(text):\n",
        "  #clean_text = \" \".join([word for word in text.split() if word not in string.punctuation])\n",
        "  #clean_text = text.translate(str.maketrans('', '', string.punctuation))\n",
        "  clean_text = re.sub(r\"[-()\\\"#/@;:<>{}`+=~|!?,]\", \"\", text)\n",
        "  return clean_text"
      ],
      "execution_count": 40,
      "outputs": []
    },
    {
      "cell_type": "markdown",
      "metadata": {
        "id": "QoCN3DjBG7GL"
      },
      "source": [
        "5. function to clean special characters in the pdf"
      ]
    },
    {
      "cell_type": "code",
      "metadata": {
        "id": "JIuAEs-rHA0o"
      },
      "source": [
        "def clean_pdf_text(path,page_num):\n",
        "  pdf_text = read_pdf(path,page_num)\n",
        "  clean_text = remove_tag(pdf_text)\n",
        "  clean_text = remove_punc(clean_text)\n",
        "  clean_text = clean_text.replace(\"\\n\",\"\")\n",
        "  return clean_text[1:].rstrip()\n"
      ],
      "execution_count": 61,
      "outputs": []
    },
    {
      "cell_type": "code",
      "metadata": {
        "colab": {
          "base_uri": "https://localhost:8080/"
        },
        "id": "J9Yyhx8OHeiC",
        "outputId": "2ecf5693-4ece-4946-ee94-cd4832a8af71"
      },
      "source": [
        "path = \"/content/drive/MyDrive/ZeoanAI_Poc/CRR_SRR.pdf\"\n",
        "num_pages = get_pdf_page_count(path)\n",
        "print(num_pages)\n",
        "document_list = []\n",
        "for i in range (2,num_pages):\n",
        "  document_list.append(clean_pdf_text(path,i))\n"
      ],
      "execution_count": 65,
      "outputs": [
        {
          "output_type": "stream",
          "name": "stdout",
          "text": [
            "14\n"
          ]
        }
      ]
    },
    {
      "cell_type": "code",
      "metadata": {
        "colab": {
          "base_uri": "https://localhost:8080/"
        },
        "id": "nM4WoHlXLFDL",
        "outputId": "50089d9a-4287-4aa9-f4ad-590a3a88aa56"
      },
      "source": [
        "document_list"
      ],
      "execution_count": 66,
      "outputs": [
        {
          "output_type": "execute_result",
          "data": {
            "text/plain": [
              "['Master Circular    Cash  Reserve Ratio CRR andStatutory Liquidity Ratio SLR1. GeneralWith a view to monitoring compliance with statutory reserve requirements viz. Cash Reserve Ratioand Statutory Liquidity Ratio by the Scheduled Commercial Banks Reserve Bank of India hasprescribed statutory returns i.e. Form A return for CRR under Section 42 2 of the RBI Act 1934and Form VIII return for SLR under Section 24 of the Banking Regulation Act 1949. The broaddetails of the reserve requirements are summarised below.2.  Cash Reserve Ratio CRR2.1 Maintenance of CRRIn terms of Section 421 of the RBI Act 1934 Scheduled Commercial Banks are required tomaintain with RBI an average cash balance the amount of which shall not be less than three percent of the total of the Net Demand and Time Liabilities NDTL in India on a fortnightly basis andRBI is empowered to increase the said rate of CRR to such higher rate not exceeding twentypercent of the Net Demand and Time Liabilities NDTL under the RBI Act 1934. At   presenteffective from the fortnight beginning June 14 2003 the rate of CRR is 4.50 per cent of the NDTL.2.2 Maintenance of incremental CRRIn terms of Section 421A of RBI Act 1934 the Scheduled Commercial Banks are required tomaintain in addition to the balances prescribed under Section 421 of the Act an additionalaverage daily balance the amount of which shall not be less than the rate specified by the RBI inthe notification published in the Gazette of India such additional balance being calculated withreference to the excess of the total of the NDTL of the bank as shown in the return referred to insection 422 of the RBI Act 1934 over the total of its NDTL at the close of the business on thedate specified in the notification.At present no incremental CRR is required to be maintained by the Scheduled Commercial Banks.2.3   Computation of Demand and Time LiabilitiesLiabilities of a bank may be in the form of demand or time deposits or borrowings or othermiscellaneous items of liabilities. Liabilities of the banks may be towards banking system as',\n",
              " \"defined under Section 42 of RBI Act 1934 or towards others in the form of Demand and Timedeposits or borrowings or other miscellaneous items of liabilities. Reserve Bank of India has beenauthorized in terms of Section 42 1C of the RBI Act 1934 to classify any particular liability andhence for any doubt regarding classification of a particular liability the banks are advised toapproach RBI for necessary clarification.2.3.1 Demand Liabilities'Demand Liabilities' include all liabilities which are payable on demand and they include currentdeposits demand liabilities portion of savings bank deposits margins held against letters ofcreditguarantees balances in overdue fixed deposits cash certificates and cumulativerecurringdeposits outstanding Telegraphic Transfers TTs Mail Transfer MTs Demand Drafts DDsunclaimed deposits credit balances in the Cash Credit account and deposits held as security foradvances which are payable on demand. Money at Call and Short Notice from outside the BankingSystem should be shown against liability to others.2.3.2  Time LiabilitiesTime Liabilities are those which are payable otherwise than on demand and they include fixeddeposits cash certificates cumulative and recurring deposits time liabilities portion of savingsbank deposits staff security deposits margin held against letters of credit if not payable ondemand deposits held as securities for advances which are not payable on demand IndiaMillennium Deposits and Gold Deposits.2.3.3  Borrowings from banks abroadLoansborrowings from abroad by banks in India will be considered as 'liabilitiesto others' and will be subject to reserve requirements.2.3.4  Arrangements with correspondent banks for remittance facilitiesWhen a bank accepts funds from a client under its remittance facilities scheme it becomes aliability liability to others in its books. The liability of the bank accepting funds will extinguish onlywhen the correspondent bank honours the drafts issued by the accepting bank to its customers. Assuch the balance amount in respect of the drafts issued by the accepting bank on its\",\n",
              " \"correspondent bank under the remittance facilities scheme and remaining unpaid should bereflected in the accepting bank's books as an outside liability and the same should also be takeninto account for computation of NDTL for CRRSLR purpose.The amount received by correspondent banks has to be shown as 'Liability to the Banking System'by them and not as 'Liability to others' and this liability could be netted off by the correspondentbanks against the interbank assets. Likewise sums placed by banks issuingdraftsinterestdividend warrants are to be treated as 'Assets with Banking System' in their booksand can be netted off from their interbank liabilities.2.3.5 Other Demand and Time Liabilities ODTLOther Demand and Time Liabilities ODTL include interest accrued on deposits bills payableunpaid dividends suspense account balances representing amounts due to other banks or publicnet credit balances in branch adjustment account any amounts due to the Banking Systemwhich are not in the nature of deposits or borrowing. Such liabilities may arise due to items like icollection of bills on behalf of other banks ii interest due to other banks and so on. If a bankcannot segregate from the total of Other Demand and Time Liabilities ODTL the liabilities to thebanking system the entire 'Other Demand and Time Liabilities' may be shown against item II  c 'Other Demand  and  Time Liabilities' of  the  return  in  Form 'A'  and average  CRR  isrequired to be maintained on it by all Scheduled Commercial Banks Participation Certificateissued to other banks the balances outstanding in the blocked account pertaining to segregatedoutstanding credit entries for more than  5 years  in  inter branch  adjustment  account the  marginmoney on  billspurchased  discounted and gold borrowed by banks from abroad also should be included inODTL.2.3.6 Liabilities not to be included for DTLNDTL computationThe undernoted liabilities will not form part of liabilities for the purpose of CRR a Paid up capital reserves any credit balance in the Profit & Loss Account of   the bankamount availed of as refinance from the RBI and apex financial institutions like Exim BankIDBI NABARD NHB SIDBI etc.b Amount of provision for income tax in excess of the actual estimated liabilities.\",\n",
              " \"c Amount received from DICGC towards claims and held by banks pending adjustmentsthereof.d Amount received from ECGC by invoking the guarantee.e Amount received from insurance company on adhoc settlement of claims pendingJudgment of the Court.f Amount received from the Court Receiver.g The liabilities arising on account of utilization of limits under Bankers Acceptance FacilityBAFh Inter bank term depositsterm borrowing liabilities of original maturity of 15 days and aboveand upto one year with effect from fortnight beginning August 11 2001.2.3.7  Exempted CategoriesScheduled Commercial Banks are exempted from maintaining average CRR on the followingliabilities i Liabilities to the banking system in India as computed under Clause d of theExplanation to Section 421 of the RBI Act 1934.ii Credit balances in ACU US$ Accounts.iii Transactions in Collateralized Borrowing and Lending Obligation     CBLO with Clearing Corporation of India Ltd. CCIL.iv Demand and Time Liabilities in respect of their Offshore Banking Units OBUs.Although Scheduled Commercial Banks are exempted from maintaining average CRR on theabove liabilities they are required to maintain 3 per cent statutory reserve thereon.  ScheduledCommercial Banks are not required to include interbank term deposits  term borrowing liabilitiesof original maturities of 15 days and above and upto one year in 'Liabilities to the Banking System'item I of Form 'A'. Similarly banks should exclude their interbank assets of term deposits andterm lending of original maturity of 15 days and above and up to one year in 'Assets with theBanking System' item III of form A for the purpose of maintenance of CRR. This concession isnot available for maintenance of SLR.2.3.8  Loans  out of FCNR B  Deposits  and IBFC Deposits\",\n",
              " 'Loans out of Foreign Currency Non ŒResident Accounts Banks FCNR [B] Deposits Schemeand InterBank Foreign Currency IBFC Deposits should be included as part of bank credit whilereporting in Form ™A™. For the purpose of reporting banks should convert their FCNR B DepositsOverseas foreign currency assets and bank credit in India in foreign currency in 4 major currenciesinto rupees at FEDAI noon mean rate on the reporting Friday.2.3.9  Assets with the Banking SystemAssets with banking system include balances with banks in current accounts balances with banksand notified financial institutions in other accounts funds made available to banking system byway of loans or deposits repayable at call or short notice of a fortnight or less and loans other thanmoney at call and short notice made available to the Banking System. Any other amounts duefrom banking system which cannot be classified under any of the above items are also to be takenas assets with the banking system.2.3.10  Procedure for calculation of CRRIn order to improve the cash management by banks as a measure of simplification a lag of onefortnight in the maintenance of stipulated CRR by banks has been introduced with effect from thefortnight beginning 6th November  1999.   Thus  all  Scheduled   Commercial Banks  arerequired   tomaintain the prescribed Cash Reserve Ratio  4.50 per cent with effect from the fortnightbeginning June 14 2003 based on their NDTL as on the last Friday of the second precedingfortnight.2.3.11 Maintenance of CRR  on daily basisWith a view to providing flexibility to banks in choosing an optimum strategy of holding reservesdepending upon their intra period cash flows all Scheduled Commercial Banks are required tomaintain minimum CRR balances upto 70 per cent of the total CRR requirement on all days of thefortnight with effect from the fortnight beginning December 28 2002.  If any ScheduledCommercial Bank fails to observe the minimum level of CRR on any days during the relevant',\n",
              " 'fortnight the bank will not be paid interest to the extent of one fourteenth of the eligible amount ofinterest even if there is no shortfall in the CRR on average basis.2.3.12 Payment of interest on eligible cash balances maintained by SCBs with RBI underCRRi  All Scheduled Commercial Banks are paid interest on all eligible cash balances maintainedwith RBI under proviso to Section 42 1 and Section 42 1A of the RBI Act 1934 at BankRate   from the fortnight   beginning November 3 2001. The rate of interest on CRRbalances has been linked to Bank Rate as announced by RBI from time to timeii The Scheduled Commercial Banks were paid 100 per cent interest on CRR balances onreceipt of the quarterly interest claim statements in a prescribed proforma. From themonth of April 2003 onwards Scheduled Commercial Banks were paid interest on CRRbalances on monthly basis on receipt of interest claim statements. With effect fromAugust 2004 interest on CRR balances would be paid without obtaining interest claimstatements from Scheduled Commercial Banks.iii The amount of interest payable at Bank Rate is to be worked out on the  eligible portion ofCRR balances for a period of 14 days. In case the CRR balances held with RBI is lessthan the amount required to be maintained for  any of  the fortnights eligible  interestwill be  paid for  that  defaultedfortnight only after working out cost of shortfall  at the rate  of  25 per cent per annum andsubtracting the amount so worked out from interest payable amount.2.3.13  PenaltiesShortfall if any observed in the maintenance of the CRR is reckoned against the eligible cashbalances required to be maintained on the NDTL. The total amount of interest payable so arrivedat is being reduced by an amount calculated at the rate of 25 per cent per annum on the amount ofshortfall. In a situation where shortfall exceeds the level at which no interest becomes payable oneligible balances held by a bank on net basis i.e. after interest deduction on the amount of CRRshortfall the penal interest under subsection 3 of Section 42 of the RBI Act 1934 is madeapplicable.',\n",
              " \"The Scheduled Commercial Banks are required to furnish the particulars such as date amountpercentage reason for default in maintenance of requisite CRR and also action taken to avoidrecurrence of such default.2.3.14  Fortnightly return in Form ‚A™Under section 42 2 of RBI Act 1934 all Scheduled Commercial Banks are required to submit toRBI a provisional return in Form 'A' within 7 days from the expiry of the relevant fortnight. It is usedfor preparing press communiqué. The final Form 'A' is required to be sent to RBI within 20 daysfrom expiry of the relevant fortnight. Based on the recommendation of the Working Group onMoney Supply Analytics and Methodology of Compilation all Scheduled Commercial Banks inIndia are required to submit from the fortnight beginning October 9 1998 Memorandum to form 'A'giving details about paidup capital reserves time deposits comprising of short term and longterm certificates of deposits NDTL total CRR requirement etc. Annexure A to form ‚A™ returnshowing all foreign currency liabilities and assets and Annexure B to form ‚A™ return giving detailsabout investment in approved securities investment in nonapproved securities memo items suchas subscription to shares debentures  bonds in primary market and subscriptions through privateplacement.For reporting in Form 'A' return banks should convert their overseas foreign currency assets andbank credit in India in foreign currency in four major currencies viz. US dollar GBP Japanese Yenand Euro at the FEDAI noon mean rate on reporting Friday.There is no change in the existing format of fortnightly returns in Form ‚A™ and the method ofcomputing DTL in Form ‚A™ i.e. if IIII is positive then [IIII plus II] otherwise only II.The explanations to item No's. I II and III of the return in form 'A' are given belowItem  I   Liabilities to the Banking System in India .Item  II  Liabilities to Others  in India.Item  III  Assets with the Banking System in India.In terms of Clause d of explanation to Section 42 1 of RBI Act 1934 the amount of net interbank liabilities is to be calculated after reducing assets with banking system from liabilities to the\",\n",
              " '0banking system. Inter bank deposits and borrowings within the banking system of maturity periodof 15 days and above and upto one year are totally excluded from liabilities to the bankingsystems with effect from the fortnight beginning August 11 2001. For the purpose of working outliabilities to be subjected to CRR at rates prescribed from time to time at present 4.5 per cent witheffect from the fortnight beginning June 14 2003 under section 42 1 of RBI Act 1934 if net interbank liabilities are positive they should be deducted from total net demand and time liabilities.However for the purpose of working out Statutory minimum CRR of 3 per cent on total net demandand time liabilities net interbank liabilities should be included.3.  Statutory Liquidity Ratio SLRIn terms of Section 24 2A of the B.R. Act 1949 all Scheduled Commercial Banks in addition tothe average daily balance which they are required to maintain under Section 42 of the RBI Act1934 are required to maintain in India     a in cash orb in gold valued at a price not exceeding the current market price                                or         c in unencumbered approved securities valued at a price as specified             by the RBI from time to time.an amount of which  shall not at the close of the business  on any day be less than 25 per cent orsuch other percentage not exceeding 40 per cent as the RBI may from time to time by notificationin gazette of India specify of the total of its demand and time liabilities in India as on the lastFriday of the second preceding fortnightAt present all Scheduled Commercial Banks are required to maintain a uniform SLR of 25 per centof the total of their demand and time liabilities in India as on the last Friday of the secondpreceding fortnight which is stipulated under section 24 of the B.R. Act 1949.3.1 Procedure for computation of demand and time liabilities for SLRThe procedure to compute total net demand and time liabilities for the purpose of SLR underSection 24 2 B of B.R. Act 1949 is similar to the procedure followed for CRR purpose. Howeverit is clarified that Scheduled Commercial Banks are required to include interbank term deposits',\n",
              " \"1term borrowing liabilities of original maturities of 15 days and above and up to one year in'Liabilities to the Banking System'. Similarly banks should include their interbank assets of termdeposits and term lending of original maturity of 15 days and above and up to one year in 'Assetswith the Banking System' for the purpose of maintenance of SLR. However both the aboveliabilities and assets are not to be included in liabilitiesassets to the banking system forcomputationof DTLNDTL for the purpose of CRR as mentioned in paragraph 2.3.7 above.3.2  Valuation of approved securities for SLRThe entire investment portfolio of the banks including SLR Securities will be classified underthree categories viz.' Held to Maturity' 'Available for sale' and 'Held for Trading'.Investment classified under Held to Maturity category need not be marked to market and willbe carried at acquisition cost unless it is more than the face value. In such a case the premiumshould be amortised over a period remaining to maturity.Individual scrips in the Available for Sale category will be marked to market at the yearend orat more frequent intervals. The net depreciation under each classification should be recognizedand fully provided for and any appreciation should be ignored. The book value of the individualsecurities would not undergo any change after the revaluation.The individual scrips in the Held for Trading category will be revalued at monthly or at morefrequent intervals and net appreciationdepreciation under each classification will berecognized in income account. The book value of the individual scrip will be changed withrevaluation.3.3  PenaltiesIf a banking company fails to maintain the required amount of SLR it shall be liable to pay to RBIin respect of that default the penal interest for that day at the rate of 3 per cent per annum abovethe bank rate on the shortfall and if the default continues on the next succeeding working day thepenal interest may be increased to a rate of 5 percent per annum above the Bank Rate for theconcerned days of default on the shortfall.\",\n",
              " \"23.4 Return in Form VIII SLR to be submitted to RBIi Banks should submit to the RBI before 20th day of every month a return in form VIIIshowing the amounts of SLR held on alternate Fridays during immediate precedingmonth with particulars of their DTL in India held on such Fridays or if any such Friday isa public holiday under the Negotiable Instruments Act 1881 at the close of business onthe preceding working day.ii Banks should also submit a statement as annexure to form VIII giving daily  position  ofa  value  of   securities  held  for  the  purpose   ofcompliance with SLR and b the excess cash balances maintained by them with RBI inthe prescribed format.3.5 Correctness of computation of demand and time liabilities to be certified by StatutoryAuditors.The Statutory Auditors should verify and certify that all items of outside liabilities as per the bank'sbooks had been duly compiled by the bank and correctly reflected under DTLNDTL in thefortnightlymonthly statutory returns submitted to RBI for the financial year.\",\n",
              " '3AppendixMaster CircularCash Reserve Ratio CRR and Statutory Liquidity Ratio SLRList of circulars consolidated by the Master CircularSr.No.Circular NoDateSubjectCorrespondingparagraphnumber in thismaster circular1DBOD.No.Leg.BC. 34C.233A8523031985Demand Liabilities Timeliability ODTL2.3.1 2.3.22.3.5 3.4 i2DBOD.No.BC.11112.02.0019713101997Borrowings under paragraph5.B.81 of Exchange ControlManual Maintenance ofreserve requirement2.3.33DBOD.No.Ret.BC.1412.01.00120030421082003Computation of Net Demandand Time Liabilities NDTLfor the purpose ofmaintenance of CRRSLR2.3.44DBOD.No.149C.236G7127121971Participation Certificate to beincluded in ODTL2.3.55DBOD.No.BC.5812.02.001949513051995Margin money on billspurchased2.3.56DBOD.No.Ret.BC.40c.236GSpl8627031986Amount received from DICGC2.3.6 c7DBOD.No.RetBC.98C.96Ret8612091986Exclusion from NDTLReceiptfrom Court ReceiverInsurance and ECGC2.3.6 d e f8DBOD.No.BC.19112.01.001932111993Rediscounting of Export Billsabroad2.3.6 g9DBOD.No.BC.512.01.0012001027082001Reporting of Interbankliabilities in Form A2.3.6h 2.3.710DBOD.No.BC.8212.01.0012001200226032002Maintenance of CRRACUDollar FundsExemption of2.3.7ii11DBOD.No.Ret.BC.6312.01.00120030414012004Maintenance of CRRSLR ontransaction in CollateralisedBorrowing and LendingObligation CBLO2.3.7iii12DBOD.IBS.BC.8823.13.00420020327032003Offshore Banking UnitsOBUs in Special EconomicZones SEZs2.3.7 iv      –2',\n",
              " \"413DBOD.No.BC5012.01.0012000017112000Collection of Data fromScheduled Commercial Banksin Annexure A and B2.3.814DBOD.No.Ret.BC.9912.01.00120020329042003Maintenance of Cash ReserveRatio CRR2.3.1015DBOD.No.BC.5412.01.00120020327122002Relaxation in Daily MinimumCash Reserve MaintenanceRequirement2.3.1116DBOD.No.BC.3412.01.00120010222102001Maintenance of Cash ReserveRatioCRR2.3.1217DBOD.No.BC.3412.01.00120010222102001Maintenance of Cash ReserveRatio CRR2.3.12118DBOD.Ret.BC.No.7912.01.001200220037032004Payment of interest on eligibleCRR balances on monthlybasisRevision in the format forsubmission of interest claimIntroduction of New software forForm A2.3.12 ii19DBOD.No.Ret.BC.9812.01.00120030418062004Revision of procedure forpayment of interest on theeligible CRR balances onmonthly basis2.3.12 ii20DBOD.No.Ret.BC.61C.96 Ret9024121990Shortfall in the maintenance ofCash Reserve Ratio CRRScheme of Graduated InterestRates2.3.12iii21DBOD.BC.8912.01.001989924081998Return in Form 'A'2.3.1422DBOD.No.BC.11712.02.01979821101997Rationalisation of StatutoryLiquidity Ratio SLR323DBOD.No.BP.BC.3221.04.0482000200116102000Guidelines for Classificationand Valuation of Investmentsby banks3.224DBOD.No.BC.8712.02.0012001200210042002Valuation of Securities for thepurpose of SLR3.225CPC.BC.69279A8420101984Provisional data onmaintenance of StatutoryLiquidity RequirementSupplemental information to thespecial Return3.4ii\"]"
            ]
          },
          "metadata": {},
          "execution_count": 66
        }
      ]
    },
    {
      "cell_type": "markdown",
      "metadata": {
        "id": "5N3hug0U2C56"
      },
      "source": [
        "## Main Function \n",
        "\n",
        "Function to check if table exists in a pdf, if exists check for tables.\n",
        "If table found store the details into dcuments list else store it in a no_pd_list"
      ]
    },
    {
      "cell_type": "code",
      "metadata": {
        "id": "0mMjfVF12JAe"
      },
      "source": [
        "def generate_questions(question_list):\n",
        "  mcq_questions_list = []\n",
        "  short_questions_list = []\n",
        "  boolean_questions_list = []\n",
        "  for question in question_list:\n",
        "    print(f'context : {question}')\n",
        "    print(\"\\n\")\n",
        "    # remove html tag\n",
        "    print(\"Remove HTML tags ......\")\n",
        "    print(\"\\n\")\n",
        "    clean_text = remove_tag(question)\n",
        "    print(f'cleaned_text : {clean_text}')\n",
        "    print(\"\\n\")\n",
        "    # remove punctuations\n",
        "    print('Remove punctuations from the text........')\n",
        "    print(\"\\n\")\n",
        "    clean_text = remove_punc(clean_text)\n",
        "    print(f\"cleaned texts :{clean_text}\")\n",
        "    print(\"\\n\")\n",
        "    # generate payload\n",
        "    print('Genearting payload ................')\n",
        "    print(\"\\n\")\n",
        "    payload = {\"input_text\":clean_text}\n",
        "    # boolean questions\n",
        "    print(\"Generating boolean questions ......\")\n",
        "    print(\"\\n\")\n",
        "    boolean_questions_list.append(generate_boolq_list(payload))\n",
        "    # short questions\n",
        "    print('Generating short questions .........')\n",
        "    print(\"\\n\")\n",
        "    short_questions_list.append(generate_shortq_list(payload))\n",
        "    # multiple choice question\n",
        "    print('Generating Multiple Choice Questions .....')\n",
        "    print(\"\\n\")\n",
        "    mcq_questions_list.append(generate_mcq_list(payload))\n",
        "  return mcq_questions_list,short_questions_list,boolean_questions_list"
      ],
      "execution_count": 41,
      "outputs": []
    },
    {
      "cell_type": "markdown",
      "metadata": {
        "id": "IsOj0U5UUJen"
      },
      "source": [
        "## Invoke the main function"
      ]
    },
    {
      "cell_type": "code",
      "metadata": {
        "colab": {
          "base_uri": "https://localhost:8080/"
        },
        "id": "zdr1P69hMJk8",
        "outputId": "9657a400-4d55-49e9-ac9c-e79f509f5d4d"
      },
      "source": [
        "import pandas as pd\n",
        "from pprint import pprint\n",
        "from Questgen import main"
      ],
      "execution_count": 75,
      "outputs": [
        {
          "output_type": "stream",
          "name": "stdout",
          "text": [
            "[nltk_data] Downloading package brown to /root/nltk_data...\n",
            "[nltk_data]   Unzipping corpora/brown.zip.\n",
            "[nltk_data] Downloading package stopwords to /root/nltk_data...\n",
            "[nltk_data]   Package stopwords is already up-to-date!\n",
            "[nltk_data] Downloading collection 'popular'\n",
            "[nltk_data]    | \n",
            "[nltk_data]    | Downloading package cmudict to /root/nltk_data...\n",
            "[nltk_data]    |   Unzipping corpora/cmudict.zip.\n",
            "[nltk_data]    | Downloading package gazetteers to /root/nltk_data...\n",
            "[nltk_data]    |   Unzipping corpora/gazetteers.zip.\n",
            "[nltk_data]    | Downloading package genesis to /root/nltk_data...\n",
            "[nltk_data]    |   Unzipping corpora/genesis.zip.\n",
            "[nltk_data]    | Downloading package gutenberg to /root/nltk_data...\n",
            "[nltk_data]    |   Unzipping corpora/gutenberg.zip.\n",
            "[nltk_data]    | Downloading package inaugural to /root/nltk_data...\n",
            "[nltk_data]    |   Unzipping corpora/inaugural.zip.\n",
            "[nltk_data]    | Downloading package movie_reviews to\n",
            "[nltk_data]    |     /root/nltk_data...\n",
            "[nltk_data]    |   Unzipping corpora/movie_reviews.zip.\n",
            "[nltk_data]    | Downloading package names to /root/nltk_data...\n",
            "[nltk_data]    |   Unzipping corpora/names.zip.\n",
            "[nltk_data]    | Downloading package shakespeare to /root/nltk_data...\n",
            "[nltk_data]    |   Unzipping corpora/shakespeare.zip.\n",
            "[nltk_data]    | Downloading package stopwords to /root/nltk_data...\n",
            "[nltk_data]    |   Package stopwords is already up-to-date!\n",
            "[nltk_data]    | Downloading package treebank to /root/nltk_data...\n",
            "[nltk_data]    |   Unzipping corpora/treebank.zip.\n",
            "[nltk_data]    | Downloading package twitter_samples to\n",
            "[nltk_data]    |     /root/nltk_data...\n",
            "[nltk_data]    |   Unzipping corpora/twitter_samples.zip.\n",
            "[nltk_data]    | Downloading package omw to /root/nltk_data...\n",
            "[nltk_data]    |   Unzipping corpora/omw.zip.\n",
            "[nltk_data]    | Downloading package wordnet to /root/nltk_data...\n",
            "[nltk_data]    |   Unzipping corpora/wordnet.zip.\n",
            "[nltk_data]    | Downloading package wordnet31 to /root/nltk_data...\n",
            "[nltk_data]    |   Unzipping corpora/wordnet31.zip.\n",
            "[nltk_data]    | Downloading package wordnet_ic to /root/nltk_data...\n",
            "[nltk_data]    |   Unzipping corpora/wordnet_ic.zip.\n",
            "[nltk_data]    | Downloading package words to /root/nltk_data...\n",
            "[nltk_data]    |   Unzipping corpora/words.zip.\n",
            "[nltk_data]    | Downloading package maxent_ne_chunker to\n",
            "[nltk_data]    |     /root/nltk_data...\n",
            "[nltk_data]    |   Unzipping chunkers/maxent_ne_chunker.zip.\n",
            "[nltk_data]    | Downloading package punkt to /root/nltk_data...\n",
            "[nltk_data]    |   Unzipping tokenizers/punkt.zip.\n",
            "[nltk_data]    | Downloading package snowball_data to\n",
            "[nltk_data]    |     /root/nltk_data...\n",
            "[nltk_data]    | Downloading package averaged_perceptron_tagger to\n",
            "[nltk_data]    |     /root/nltk_data...\n",
            "[nltk_data]    |   Unzipping taggers/averaged_perceptron_tagger.zip.\n",
            "[nltk_data]    | \n",
            "[nltk_data]  Done downloading collection popular\n",
            "[nltk_data] Downloading package brown to /root/nltk_data...\n",
            "[nltk_data]   Package brown is already up-to-date!\n",
            "[nltk_data] Downloading package stopwords to /root/nltk_data...\n",
            "[nltk_data]   Package stopwords is already up-to-date!\n",
            "[nltk_data] Downloading collection 'popular'\n",
            "[nltk_data]    | \n",
            "[nltk_data]    | Downloading package cmudict to /root/nltk_data...\n",
            "[nltk_data]    |   Package cmudict is already up-to-date!\n",
            "[nltk_data]    | Downloading package gazetteers to /root/nltk_data...\n",
            "[nltk_data]    |   Package gazetteers is already up-to-date!\n",
            "[nltk_data]    | Downloading package genesis to /root/nltk_data...\n",
            "[nltk_data]    |   Package genesis is already up-to-date!\n",
            "[nltk_data]    | Downloading package gutenberg to /root/nltk_data...\n",
            "[nltk_data]    |   Package gutenberg is already up-to-date!\n",
            "[nltk_data]    | Downloading package inaugural to /root/nltk_data...\n",
            "[nltk_data]    |   Package inaugural is already up-to-date!\n",
            "[nltk_data]    | Downloading package movie_reviews to\n",
            "[nltk_data]    |     /root/nltk_data...\n",
            "[nltk_data]    |   Package movie_reviews is already up-to-date!\n",
            "[nltk_data]    | Downloading package names to /root/nltk_data...\n",
            "[nltk_data]    |   Package names is already up-to-date!\n",
            "[nltk_data]    | Downloading package shakespeare to /root/nltk_data...\n",
            "[nltk_data]    |   Package shakespeare is already up-to-date!\n",
            "[nltk_data]    | Downloading package stopwords to /root/nltk_data...\n",
            "[nltk_data]    |   Package stopwords is already up-to-date!\n",
            "[nltk_data]    | Downloading package treebank to /root/nltk_data...\n",
            "[nltk_data]    |   Package treebank is already up-to-date!\n",
            "[nltk_data]    | Downloading package twitter_samples to\n",
            "[nltk_data]    |     /root/nltk_data...\n",
            "[nltk_data]    |   Package twitter_samples is already up-to-date!\n",
            "[nltk_data]    | Downloading package omw to /root/nltk_data...\n",
            "[nltk_data]    |   Package omw is already up-to-date!\n",
            "[nltk_data]    | Downloading package wordnet to /root/nltk_data...\n",
            "[nltk_data]    |   Package wordnet is already up-to-date!\n",
            "[nltk_data]    | Downloading package wordnet31 to /root/nltk_data...\n",
            "[nltk_data]    |   Package wordnet31 is already up-to-date!\n",
            "[nltk_data]    | Downloading package wordnet_ic to /root/nltk_data...\n",
            "[nltk_data]    |   Package wordnet_ic is already up-to-date!\n",
            "[nltk_data]    | Downloading package words to /root/nltk_data...\n",
            "[nltk_data]    |   Package words is already up-to-date!\n",
            "[nltk_data]    | Downloading package maxent_ne_chunker to\n",
            "[nltk_data]    |     /root/nltk_data...\n",
            "[nltk_data]    |   Package maxent_ne_chunker is already up-to-date!\n",
            "[nltk_data]    | Downloading package punkt to /root/nltk_data...\n",
            "[nltk_data]    |   Package punkt is already up-to-date!\n",
            "[nltk_data]    | Downloading package snowball_data to\n",
            "[nltk_data]    |     /root/nltk_data...\n",
            "[nltk_data]    |   Package snowball_data is already up-to-date!\n",
            "[nltk_data]    | Downloading package averaged_perceptron_tagger to\n",
            "[nltk_data]    |     /root/nltk_data...\n",
            "[nltk_data]    |   Package averaged_perceptron_tagger is already up-\n",
            "[nltk_data]    |       to-date!\n",
            "[nltk_data]    | \n",
            "[nltk_data]  Done downloading collection popular\n"
          ]
        }
      ]
    },
    {
      "cell_type": "markdown",
      "metadata": {
        "id": "Wnl0_AlvOMwd"
      },
      "source": [
        "## Generate MCQ Questions"
      ]
    },
    {
      "cell_type": "code",
      "metadata": {
        "colab": {
          "base_uri": "https://localhost:8080/",
          "height": 113,
          "referenced_widgets": [
            "bd47faf3b0854cc6bc472791c1082fd5",
            "4fceced8c0944d3b8f874e71bccf8909",
            "265055b0898c4d03b9b0496f18c4e11f",
            "7b499d91ce21434783f56da9b7b1a35a",
            "a8fc2c843ba24ea0a036d240926e26cb",
            "4a5c1447f407456ba7cd4dfe5c861432",
            "f8e0a584253b436d83a56f6c9ffe5319",
            "314d914e88ee42d6ac15f7058265c59e",
            "06936d745b184334a65ead9eb9fe63f6",
            "6a4481d5ff884a269969b2dc7694cd7a",
            "9dc02e7c876e47c1977b1b7e63976a4d",
            "68b0173fa3c042dba2d7bc2fa4759e21",
            "5890025f0ff64407bd7b86eec39817ca",
            "c62061c2fade490f861a0b70096b7c3d",
            "0f62f78516e74cf69ae1ac4c83299e74",
            "d4aad38ce7974a8d8dea2e86b9c6ce45",
            "299c3ca6092646909a0c1485f205eb0c",
            "7a9dff7609794c6990754eccab586ebb",
            "b707885a55d44aba9b8163ac0e04ab9d",
            "04ecf1c8f6714589bed925b4bb532d4d",
            "0b1464ff0b254d28a68fd85337f86f57",
            "5172f9ee62a349eda41b894ebe54a773",
            "ec7ce6da783c44fd84b6d8ad7cefed71",
            "76aba6cadbea4bce8af1207c9f1b2f53",
            "a0ade4fed2504f9293daab570748d92a",
            "743c9809713d44dc9d7b0c47e52c32b0",
            "5bd1e8d8c82e4fe09299a0bbbe2e56ad",
            "8787476abc0c45db930e8fd85a570694",
            "d5a51aca5be24428b41188912bdd6a44",
            "c63e83755d614b71bb322266cbef1e7b",
            "8a688c9ccb464b418f529dec98866b0b",
            "06deb4d7d9cf4d81b312ef055566dbe2",
            "cff098999bc0472e852588bbd3c42078"
          ]
        },
        "id": "8-C2vetcONuS",
        "outputId": "db5611d6-ee91-4817-e3e8-6df22bd16ddb"
      },
      "source": [
        "qg = main.QGen()"
      ],
      "execution_count": 77,
      "outputs": [
        {
          "output_type": "display_data",
          "data": {
            "application/vnd.jupyter.widget-view+json": {
              "model_id": "bd47faf3b0854cc6bc472791c1082fd5",
              "version_minor": 0,
              "version_major": 2
            },
            "text/plain": [
              "Downloading:   0%|          | 0.00/792k [00:00<?, ?B/s]"
            ]
          },
          "metadata": {}
        },
        {
          "output_type": "display_data",
          "data": {
            "application/vnd.jupyter.widget-view+json": {
              "model_id": "68b0173fa3c042dba2d7bc2fa4759e21",
              "version_minor": 0,
              "version_major": 2
            },
            "text/plain": [
              "Downloading:   0%|          | 0.00/1.21k [00:00<?, ?B/s]"
            ]
          },
          "metadata": {}
        },
        {
          "output_type": "display_data",
          "data": {
            "application/vnd.jupyter.widget-view+json": {
              "model_id": "ec7ce6da783c44fd84b6d8ad7cefed71",
              "version_minor": 0,
              "version_major": 2
            },
            "text/plain": [
              "Downloading:   0%|          | 0.00/892M [00:00<?, ?B/s]"
            ]
          },
          "metadata": {}
        }
      ]
    },
    {
      "cell_type": "code",
      "metadata": {
        "colab": {
          "base_uri": "https://localhost:8080/",
          "height": 81,
          "referenced_widgets": [
            "4e2e9430aeb94f45aba7a58bfe9cb2f2",
            "7332f81ff20d408f9356fcd2cbb5385c",
            "9fb2649efc0648b3953ae1fa4446c77f",
            "f48c1a0975124d39bb7902cdd6b0a6b9",
            "00522cbcc49c48daa94e0458f41f865d",
            "57e6afa6b7a54678a8ba929e2b89b2c9",
            "c4c58b85213b4445ad3d2ea8c3146768",
            "6d885a7011b84439aac11b09fa226587",
            "8b732eb9e7ca4311a17060c41f5a7525",
            "79290bafd28f41aabd48d565841f143a",
            "2f01ba59aa2447afaf9116007bd9cd88",
            "80cc5d818b4746d68eada529c8d540fa",
            "49973d3444de4210a8578114ae732e68",
            "c9f80c3131ec443c803aae0b998e3e96",
            "7974bac7c0344cd6a17b89d9dc8bf6ff",
            "1e8a74438b8444cf9d44cb405f2e427d",
            "8e7bfd09726f47268ed8af8be3e0a683",
            "cc9c1bfec62f4275adf2a4165deaa13f",
            "2728e57353494d999d9f12b2278bac14",
            "dda35ae55398482884036fa5c3160ec4",
            "e2ef1e6524cf4c6c9012bd5a63ed6c3e",
            "5fec4e4ca0b946fa857642867202cbd4"
          ]
        },
        "id": "ceu3PG2fOcB3",
        "outputId": "d7e59e92-c940-44f5-af40-b2b3d0e6b48b"
      },
      "source": [
        "qe= main.BoolQGen()"
      ],
      "execution_count": 82,
      "outputs": [
        {
          "output_type": "display_data",
          "data": {
            "application/vnd.jupyter.widget-view+json": {
              "model_id": "4e2e9430aeb94f45aba7a58bfe9cb2f2",
              "version_minor": 0,
              "version_major": 2
            },
            "text/plain": [
              "Downloading:   0%|          | 0.00/1.21k [00:00<?, ?B/s]"
            ]
          },
          "metadata": {}
        },
        {
          "output_type": "display_data",
          "data": {
            "application/vnd.jupyter.widget-view+json": {
              "model_id": "80cc5d818b4746d68eada529c8d540fa",
              "version_minor": 0,
              "version_major": 2
            },
            "text/plain": [
              "Downloading:   0%|          | 0.00/892M [00:00<?, ?B/s]"
            ]
          },
          "metadata": {}
        }
      ]
    },
    {
      "cell_type": "markdown",
      "metadata": {
        "id": "SUzeSXA8Oihq"
      },
      "source": [
        "## Function to generate multiple choice questions"
      ]
    },
    {
      "cell_type": "code",
      "metadata": {
        "id": "uP1H1qIUOpAc"
      },
      "source": [
        "def generate_mcq_list(text):\n",
        "  output = qg.predict_mcq(text)\n",
        "  mcq_questions_list = []\n",
        "  if len(output) > 0:\n",
        "    for items in output['questions']:\n",
        "      mcq_questions_list.append(items['question_statement'])\n",
        "  return mcq_questions_list"
      ],
      "execution_count": 78,
      "outputs": []
    },
    {
      "cell_type": "markdown",
      "metadata": {
        "id": "EQiF8hQEOsaD"
      },
      "source": [
        "## Function to generate short questions"
      ]
    },
    {
      "cell_type": "code",
      "metadata": {
        "id": "Pwle4_tDOth1"
      },
      "source": [
        "def generate_shortq_list(text):\n",
        "  output = qg.predict_shortq(text)\n",
        "  short_questions_list = []\n",
        "  if len(output) > 0:\n",
        "    for items in output['questions']:\n",
        "      short_questions_list.append(items['Question'])\n",
        "  return short_questions_list"
      ],
      "execution_count": 79,
      "outputs": []
    },
    {
      "cell_type": "markdown",
      "metadata": {
        "id": "6-s7XTOfO0zv"
      },
      "source": [
        "## Function to generate boolean questions"
      ]
    },
    {
      "cell_type": "code",
      "metadata": {
        "id": "xJ9LVhuGO1yN"
      },
      "source": [
        "def generate_boolq_list(text):\n",
        "  output = qe.predict_boolq(text)\n",
        "  if len(output) > 0 :\n",
        "    boolean_questions_list = output['Boolean Questions']\n",
        "  else:\n",
        "    boolean_questions_list = []\n",
        "\n",
        "  return boolean_questions_list"
      ],
      "execution_count": 80,
      "outputs": []
    },
    {
      "cell_type": "code",
      "metadata": {
        "id": "GvnhG_Vz6SoO",
        "colab": {
          "base_uri": "https://localhost:8080/"
        },
        "outputId": "64dac5ff-65af-463f-9821-23190ed1d33d"
      },
      "source": [
        "import time\n",
        "start = time.time()\n",
        "%timeit\n",
        "mcq_questions_list,short_questions_list,boolean_questions_list = generate_questions(document_list)\n",
        "end  = time.time()\n",
        "print(f\"Time taken to complete the entire task in seconds : {end - start}\")"
      ],
      "execution_count": 83,
      "outputs": [
        {
          "output_type": "stream",
          "name": "stdout",
          "text": [
            "context : Master Circular    Cash  Reserve Ratio CRR andStatutory Liquidity Ratio SLR1. GeneralWith a view to monitoring compliance with statutory reserve requirements viz. Cash Reserve Ratioand Statutory Liquidity Ratio by the Scheduled Commercial Banks Reserve Bank of India hasprescribed statutory returns i.e. Form A return for CRR under Section 42 2 of the RBI Act 1934and Form VIII return for SLR under Section 24 of the Banking Regulation Act 1949. The broaddetails of the reserve requirements are summarised below.2.  Cash Reserve Ratio CRR2.1 Maintenance of CRRIn terms of Section 421 of the RBI Act 1934 Scheduled Commercial Banks are required tomaintain with RBI an average cash balance the amount of which shall not be less than three percent of the total of the Net Demand and Time Liabilities NDTL in India on a fortnightly basis andRBI is empowered to increase the said rate of CRR to such higher rate not exceeding twentypercent of the Net Demand and Time Liabilities NDTL under the RBI Act 1934. At   presenteffective from the fortnight beginning June 14 2003 the rate of CRR is 4.50 per cent of the NDTL.2.2 Maintenance of incremental CRRIn terms of Section 421A of RBI Act 1934 the Scheduled Commercial Banks are required tomaintain in addition to the balances prescribed under Section 421 of the Act an additionalaverage daily balance the amount of which shall not be less than the rate specified by the RBI inthe notification published in the Gazette of India such additional balance being calculated withreference to the excess of the total of the NDTL of the bank as shown in the return referred to insection 422 of the RBI Act 1934 over the total of its NDTL at the close of the business on thedate specified in the notification.At present no incremental CRR is required to be maintained by the Scheduled Commercial Banks.2.3   Computation of Demand and Time LiabilitiesLiabilities of a bank may be in the form of demand or time deposits or borrowings or othermiscellaneous items of liabilities. Liabilities of the banks may be towards banking system as\n",
            "\n",
            "\n",
            "Remove HTML tags ......\n",
            "\n",
            "\n",
            "cleaned_text : Master Circular    Cash  Reserve Ratio CRR andStatutory Liquidity Ratio SLR1. GeneralWith a view to monitoring compliance with statutory reserve requirements viz. Cash Reserve Ratioand Statutory Liquidity Ratio by the Scheduled Commercial Banks Reserve Bank of India hasprescribed statutory returns i.e. Form A return for CRR under Section 42 2 of the RBI Act 1934and Form VIII return for SLR under Section 24 of the Banking Regulation Act 1949. The broaddetails of the reserve requirements are summarised below.2.  Cash Reserve Ratio CRR2.1 Maintenance of CRRIn terms of Section 421 of the RBI Act 1934 Scheduled Commercial Banks are required tomaintain with RBI an average cash balance the amount of which shall not be less than three percent of the total of the Net Demand and Time Liabilities NDTL in India on a fortnightly basis andRBI is empowered to increase the said rate of CRR to such higher rate not exceeding twentypercent of the Net Demand and Time Liabilities NDTL under the RBI Act 1934. At   presenteffective from the fortnight beginning June 14 2003 the rate of CRR is 4.50 per cent of the NDTL.2.2 Maintenance of incremental CRRIn terms of Section 421A of RBI Act 1934 the Scheduled Commercial Banks are required tomaintain in addition to the balances prescribed under Section 421 of the Act an additionalaverage daily balance the amount of which shall not be less than the rate specified by the RBI inthe notification published in the Gazette of India such additional balance being calculated withreference to the excess of the total of the NDTL of the bank as shown in the return referred to insection 422 of the RBI Act 1934 over the total of its NDTL at the close of the business on thedate specified in the notification.At present no incremental CRR is required to be maintained by the Scheduled Commercial Banks.2.3   Computation of Demand and Time LiabilitiesLiabilities of a bank may be in the form of demand or time deposits or borrowings or othermiscellaneous items of liabilities. Liabilities of the banks may be towards banking system as\n",
            "\n",
            "\n",
            "Remove punctuations from the text........\n",
            "\n",
            "\n",
            "cleaned texts :Master Circular    Cash  Reserve Ratio CRR andStatutory Liquidity Ratio SLR1. GeneralWith a view to monitoring compliance with statutory reserve requirements viz. Cash Reserve Ratioand Statutory Liquidity Ratio by the Scheduled Commercial Banks Reserve Bank of India hasprescribed statutory returns i.e. Form A return for CRR under Section 42 2 of the RBI Act 1934and Form VIII return for SLR under Section 24 of the Banking Regulation Act 1949. The broaddetails of the reserve requirements are summarised below.2.  Cash Reserve Ratio CRR2.1 Maintenance of CRRIn terms of Section 421 of the RBI Act 1934 Scheduled Commercial Banks are required tomaintain with RBI an average cash balance the amount of which shall not be less than three percent of the total of the Net Demand and Time Liabilities NDTL in India on a fortnightly basis andRBI is empowered to increase the said rate of CRR to such higher rate not exceeding twentypercent of the Net Demand and Time Liabilities NDTL under the RBI Act 1934. At   presenteffective from the fortnight beginning June 14 2003 the rate of CRR is 4.50 per cent of the NDTL.2.2 Maintenance of incremental CRRIn terms of Section 421A of RBI Act 1934 the Scheduled Commercial Banks are required tomaintain in addition to the balances prescribed under Section 421 of the Act an additionalaverage daily balance the amount of which shall not be less than the rate specified by the RBI inthe notification published in the Gazette of India such additional balance being calculated withreference to the excess of the total of the NDTL of the bank as shown in the return referred to insection 422 of the RBI Act 1934 over the total of its NDTL at the close of the business on thedate specified in the notification.At present no incremental CRR is required to be maintained by the Scheduled Commercial Banks.2.3   Computation of Demand and Time LiabilitiesLiabilities of a bank may be in the form of demand or time deposits or borrowings or othermiscellaneous items of liabilities. Liabilities of the banks may be towards banking system as\n",
            "\n",
            "\n",
            "Genearting payload ................\n",
            "\n",
            "\n",
            "Generating boolean questions ......\n",
            "\n",
            "\n"
          ]
        },
        {
          "output_type": "stream",
          "name": "stderr",
          "text": [
            "UserWarning: floor_divide is deprecated, and will be removed in a future version of pytorch. It currently rounds toward 0 (like the 'trunc' function NOT 'floor'). This results in incorrect rounding for negative values.\n",
            "To keep the current behavior, use torch.div(a, b, rounding_mode='trunc'), or for actual floor division, use torch.div(a, b, rounding_mode='floor'). (Triggered internally at  /pytorch/aten/src/ATen/native/BinaryOps.cpp:467.) [_tensor.py:575]\n"
          ]
        },
        {
          "output_type": "stream",
          "name": "stdout",
          "text": [
            "Generating short questions .........\n",
            "\n",
            "\n",
            "Running model for generation\n",
            "{'questions': [{'Question': \"What is the RBI's statutory return for the year 2003?\", 'Answer': 'india', 'id': 1, 'context': 'At   presenteffective from the fortnight beginning June 14 2003 the rate of CRR is 4.50 per cent of the NDTL.2.2 Maintenance of incremental CRRIn terms of Section 421A of RBI Act 1934 the Scheduled Commercial Banks are required tomaintain in addition to the balances prescribed under Section 421 of the Act an additionalaverage daily balance the amount of which shall not be less than the rate specified by the RBI inthe notification published in the Gazette of India such additional balance being calculated withreference to the excess of the total of the NDTL of the bank as shown in the return referred to insection 422 of the RBI Act 1934 over the total of its NDTL at the close of the business on thedate specified in the notification.At present no incremental CRR is required to be maintained by the Scheduled Commercial Banks.2.3   Computation of Demand and Time LiabilitiesLiabilities of a bank may be in the form of demand or time deposits or borrowings or othermiscellaneous items of liabilities. Cash Reserve Ratio CRR2.1 Maintenance of CRRIn terms of Section 421 of the RBI Act 1934 Scheduled Commercial Banks are required tomaintain with RBI an average cash balance the amount of which shall not be less than three percent of the total of the Net Demand and Time Liabilities NDTL in India on a fortnightly basis andRBI is empowered to increase the said rate of CRR to such higher rate not exceeding twentypercent of the Net Demand and Time Liabilities NDTL under the RBI Act 1934. Cash Reserve Ratioand Statutory Liquidity Ratio by the Scheduled Commercial Banks Reserve Bank of India hasprescribed statutory returns i.e.'}]}\n",
            "Generating Multiple Choice Questions .....\n",
            "\n",
            "\n",
            "Running model for generation\n",
            " Sense2vec_distractors successful for word :  india\n",
            "context : defined under Section 42 of RBI Act 1934 or towards others in the form of Demand and Timedeposits or borrowings or other miscellaneous items of liabilities. Reserve Bank of India has beenauthorized in terms of Section 42 1C of the RBI Act 1934 to classify any particular liability andhence for any doubt regarding classification of a particular liability the banks are advised toapproach RBI for necessary clarification.2.3.1 Demand Liabilities'Demand Liabilities' include all liabilities which are payable on demand and they include currentdeposits demand liabilities portion of savings bank deposits margins held against letters ofcreditguarantees balances in overdue fixed deposits cash certificates and cumulativerecurringdeposits outstanding Telegraphic Transfers TTs Mail Transfer MTs Demand Drafts DDsunclaimed deposits credit balances in the Cash Credit account and deposits held as security foradvances which are payable on demand. Money at Call and Short Notice from outside the BankingSystem should be shown against liability to others.2.3.2  Time LiabilitiesTime Liabilities are those which are payable otherwise than on demand and they include fixeddeposits cash certificates cumulative and recurring deposits time liabilities portion of savingsbank deposits staff security deposits margin held against letters of credit if not payable ondemand deposits held as securities for advances which are not payable on demand IndiaMillennium Deposits and Gold Deposits.2.3.3  Borrowings from banks abroadLoansborrowings from abroad by banks in India will be considered as 'liabilitiesto others' and will be subject to reserve requirements.2.3.4  Arrangements with correspondent banks for remittance facilitiesWhen a bank accepts funds from a client under its remittance facilities scheme it becomes aliability liability to others in its books. The liability of the bank accepting funds will extinguish onlywhen the correspondent bank honours the drafts issued by the accepting bank to its customers. Assuch the balance amount in respect of the drafts issued by the accepting bank on its\n",
            "\n",
            "\n",
            "Remove HTML tags ......\n",
            "\n",
            "\n",
            "cleaned_text : defined under Section 42 of RBI Act 1934 or towards others in the form of Demand and Timedeposits or borrowings or other miscellaneous items of liabilities. Reserve Bank of India has beenauthorized in terms of Section 42 1C of the RBI Act 1934 to classify any particular liability andhence for any doubt regarding classification of a particular liability the banks are advised toapproach RBI for necessary clarification.2.3.1 Demand Liabilities'Demand Liabilities' include all liabilities which are payable on demand and they include currentdeposits demand liabilities portion of savings bank deposits margins held against letters ofcreditguarantees balances in overdue fixed deposits cash certificates and cumulativerecurringdeposits outstanding Telegraphic Transfers TTs Mail Transfer MTs Demand Drafts DDsunclaimed deposits credit balances in the Cash Credit account and deposits held as security foradvances which are payable on demand. Money at Call and Short Notice from outside the BankingSystem should be shown against liability to others.2.3.2  Time LiabilitiesTime Liabilities are those which are payable otherwise than on demand and they include fixeddeposits cash certificates cumulative and recurring deposits time liabilities portion of savingsbank deposits staff security deposits margin held against letters of credit if not payable ondemand deposits held as securities for advances which are not payable on demand IndiaMillennium Deposits and Gold Deposits.2.3.3  Borrowings from banks abroadLoansborrowings from abroad by banks in India will be considered as 'liabilitiesto others' and will be subject to reserve requirements.2.3.4  Arrangements with correspondent banks for remittance facilitiesWhen a bank accepts funds from a client under its remittance facilities scheme it becomes aliability liability to others in its books. The liability of the bank accepting funds will extinguish onlywhen the correspondent bank honours the drafts issued by the accepting bank to its customers. Assuch the balance amount in respect of the drafts issued by the accepting bank on its\n",
            "\n",
            "\n",
            "Remove punctuations from the text........\n",
            "\n",
            "\n",
            "cleaned texts :defined under Section 42 of RBI Act 1934 or towards others in the form of Demand and Timedeposits or borrowings or other miscellaneous items of liabilities. Reserve Bank of India has beenauthorized in terms of Section 42 1C of the RBI Act 1934 to classify any particular liability andhence for any doubt regarding classification of a particular liability the banks are advised toapproach RBI for necessary clarification.2.3.1 Demand Liabilities'Demand Liabilities' include all liabilities which are payable on demand and they include currentdeposits demand liabilities portion of savings bank deposits margins held against letters ofcreditguarantees balances in overdue fixed deposits cash certificates and cumulativerecurringdeposits outstanding Telegraphic Transfers TTs Mail Transfer MTs Demand Drafts DDsunclaimed deposits credit balances in the Cash Credit account and deposits held as security foradvances which are payable on demand. Money at Call and Short Notice from outside the BankingSystem should be shown against liability to others.2.3.2  Time LiabilitiesTime Liabilities are those which are payable otherwise than on demand and they include fixeddeposits cash certificates cumulative and recurring deposits time liabilities portion of savingsbank deposits staff security deposits margin held against letters of credit if not payable ondemand deposits held as securities for advances which are not payable on demand IndiaMillennium Deposits and Gold Deposits.2.3.3  Borrowings from banks abroadLoansborrowings from abroad by banks in India will be considered as 'liabilitiesto others' and will be subject to reserve requirements.2.3.4  Arrangements with correspondent banks for remittance facilitiesWhen a bank accepts funds from a client under its remittance facilities scheme it becomes aliability liability to others in its books. The liability of the bank accepting funds will extinguish onlywhen the correspondent bank honours the drafts issued by the accepting bank to its customers. Assuch the balance amount in respect of the drafts issued by the accepting bank on its\n",
            "\n",
            "\n",
            "Genearting payload ................\n",
            "\n",
            "\n",
            "Generating boolean questions ......\n",
            "\n",
            "\n",
            "Generating short questions .........\n",
            "\n",
            "\n",
            "Running model for generation\n",
            "{'questions': [{'Question': 'What is the name of the Reserve Bank of India?', 'Answer': 'reserve bank', 'id': 1, 'context': \"Reserve Bank of India has beenauthorized in terms of Section 42 1C of the RBI Act 1934 to classify any particular liability andhence for any doubt regarding classification of a particular liability the banks are advised toapproach RBI for necessary clarification.2.3.1 Demand Liabilities'Demand Liabilities' include all liabilities which are payable on demand and they include currentdeposits demand liabilities portion of savings bank deposits margins held against letters ofcreditguarantees balances in overdue fixed deposits cash certificates and cumulativerecurringdeposits outstanding Telegraphic Transfers TTs Mail Transfer MTs Demand Drafts DDsunclaimed deposits credit balances in the Cash Credit account and deposits held as security foradvances which are payable on demand.\"}, {'Question': 'What is the name of the country where the Reserve Bank of India is based?', 'Answer': 'india', 'id': 2, 'context': \"Money at Call and Short Notice from outside the BankingSystem should be shown against liability to others.2.3.2  Time LiabilitiesTime Liabilities are those which are payable otherwise than on demand and they include fixeddeposits cash certificates cumulative and recurring deposits time liabilities portion of savingsbank deposits staff security deposits margin held against letters of credit if not payable ondemand deposits held as securities for advances which are not payable on demand IndiaMillennium Deposits and Gold Deposits.2.3.3  Borrowings from banks abroadLoansborrowings from abroad by banks in India will be considered as 'liabilitiesto others' and will be subject to reserve requirements.2.3.4  Arrangements with correspondent banks for remittance facilitiesWhen a bank accepts funds from a client under its remittance facilities scheme it becomes aliability liability to others in its books. Reserve Bank of India has beenauthorized in terms of Section 42 1C of the RBI Act 1934 to classify any particular liability andhence for any doubt regarding classification of a particular liability the banks are advised toapproach RBI for necessary clarification.2.3.1 Demand Liabilities'Demand Liabilities' include all liabilities which are payable on demand and they include currentdeposits demand liabilities portion of savings bank deposits margins held against letters ofcreditguarantees balances in overdue fixed deposits cash certificates and cumulativerecurringdeposits outstanding Telegraphic Transfers TTs Mail Transfer MTs Demand Drafts DDsunclaimed deposits credit balances in the Cash Credit account and deposits held as security foradvances which are payable on demand.\"}]}\n",
            "Generating Multiple Choice Questions .....\n",
            "\n",
            "\n",
            "Running model for generation\n",
            " Sense2vec_distractors successful for word :  reserve bank\n"
          ]
        },
        {
          "output_type": "stream",
          "name": "stderr",
          "text": [
            "Token indices sequence length is longer than the specified maximum sequence length for this model (526 > 512). Running this sequence through the model will result in indexing errors\n"
          ]
        },
        {
          "output_type": "stream",
          "name": "stdout",
          "text": [
            " Sense2vec_distractors successful for word :  india\n",
            "context : correspondent bank under the remittance facilities scheme and remaining unpaid should bereflected in the accepting bank's books as an outside liability and the same should also be takeninto account for computation of NDTL for CRRSLR purpose.The amount received by correspondent banks has to be shown as 'Liability to the Banking System'by them and not as 'Liability to others' and this liability could be netted off by the correspondentbanks against the interbank assets. Likewise sums placed by banks issuingdraftsinterestdividend warrants are to be treated as 'Assets with Banking System' in their booksand can be netted off from their interbank liabilities.2.3.5 Other Demand and Time Liabilities ODTLOther Demand and Time Liabilities ODTL include interest accrued on deposits bills payableunpaid dividends suspense account balances representing amounts due to other banks or publicnet credit balances in branch adjustment account any amounts due to the Banking Systemwhich are not in the nature of deposits or borrowing. Such liabilities may arise due to items like icollection of bills on behalf of other banks ii interest due to other banks and so on. If a bankcannot segregate from the total of Other Demand and Time Liabilities ODTL the liabilities to thebanking system the entire 'Other Demand and Time Liabilities' may be shown against item II  c 'Other Demand  and  Time Liabilities' of  the  return  in  Form 'A'  and average  CRR  isrequired to be maintained on it by all Scheduled Commercial Banks Participation Certificateissued to other banks the balances outstanding in the blocked account pertaining to segregatedoutstanding credit entries for more than  5 years  in  inter branch  adjustment  account the  marginmoney on  billspurchased  discounted and gold borrowed by banks from abroad also should be included inODTL.2.3.6 Liabilities not to be included for DTLNDTL computationThe undernoted liabilities will not form part of liabilities for the purpose of CRR a Paid up capital reserves any credit balance in the Profit & Loss Account of   the bankamount availed of as refinance from the RBI and apex financial institutions like Exim BankIDBI NABARD NHB SIDBI etc.b Amount of provision for income tax in excess of the actual estimated liabilities.\n",
            "\n",
            "\n",
            "Remove HTML tags ......\n",
            "\n",
            "\n",
            "cleaned_text : correspondent bank under the remittance facilities scheme and remaining unpaid should bereflected in the accepting bank's books as an outside liability and the same should also be takeninto account for computation of NDTL for CRRSLR purpose.The amount received by correspondent banks has to be shown as 'Liability to the Banking System'by them and not as 'Liability to others' and this liability could be netted off by the correspondentbanks against the interbank assets. Likewise sums placed by banks issuingdraftsinterestdividend warrants are to be treated as 'Assets with Banking System' in their booksand can be netted off from their interbank liabilities.2.3.5 Other Demand and Time Liabilities ODTLOther Demand and Time Liabilities ODTL include interest accrued on deposits bills payableunpaid dividends suspense account balances representing amounts due to other banks or publicnet credit balances in branch adjustment account any amounts due to the Banking Systemwhich are not in the nature of deposits or borrowing. Such liabilities may arise due to items like icollection of bills on behalf of other banks ii interest due to other banks and so on. If a bankcannot segregate from the total of Other Demand and Time Liabilities ODTL the liabilities to thebanking system the entire 'Other Demand and Time Liabilities' may be shown against item II  c 'Other Demand  and  Time Liabilities' of  the  return  in  Form 'A'  and average  CRR  isrequired to be maintained on it by all Scheduled Commercial Banks Participation Certificateissued to other banks the balances outstanding in the blocked account pertaining to segregatedoutstanding credit entries for more than  5 years  in  inter branch  adjustment  account the  marginmoney on  billspurchased  discounted and gold borrowed by banks from abroad also should be included inODTL.2.3.6 Liabilities not to be included for DTLNDTL computationThe undernoted liabilities will not form part of liabilities for the purpose of CRR a Paid up capital reserves any credit balance in the Profit & Loss Account of   the bankamount availed of as refinance from the RBI and apex financial institutions like Exim BankIDBI NABARD NHB SIDBI etc.b Amount of provision for income tax in excess of the actual estimated liabilities.\n",
            "\n",
            "\n",
            "Remove punctuations from the text........\n",
            "\n",
            "\n",
            "cleaned texts :correspondent bank under the remittance facilities scheme and remaining unpaid should bereflected in the accepting bank's books as an outside liability and the same should also be takeninto account for computation of NDTL for CRRSLR purpose.The amount received by correspondent banks has to be shown as 'Liability to the Banking System'by them and not as 'Liability to others' and this liability could be netted off by the correspondentbanks against the interbank assets. Likewise sums placed by banks issuingdraftsinterestdividend warrants are to be treated as 'Assets with Banking System' in their booksand can be netted off from their interbank liabilities.2.3.5 Other Demand and Time Liabilities ODTLOther Demand and Time Liabilities ODTL include interest accrued on deposits bills payableunpaid dividends suspense account balances representing amounts due to other banks or publicnet credit balances in branch adjustment account any amounts due to the Banking Systemwhich are not in the nature of deposits or borrowing. Such liabilities may arise due to items like icollection of bills on behalf of other banks ii interest due to other banks and so on. If a bankcannot segregate from the total of Other Demand and Time Liabilities ODTL the liabilities to thebanking system the entire 'Other Demand and Time Liabilities' may be shown against item II  c 'Other Demand  and  Time Liabilities' of  the  return  in  Form 'A'  and average  CRR  isrequired to be maintained on it by all Scheduled Commercial Banks Participation Certificateissued to other banks the balances outstanding in the blocked account pertaining to segregatedoutstanding credit entries for more than  5 years  in  inter branch  adjustment  account the  marginmoney on  billspurchased  discounted and gold borrowed by banks from abroad also should be included inODTL.2.3.6 Liabilities not to be included for DTLNDTL computationThe undernoted liabilities will not form part of liabilities for the purpose of CRR a Paid up capital reserves any credit balance in the Profit & Loss Account of   the bankamount availed of as refinance from the RBI and apex financial institutions like Exim BankIDBI NABARD NHB SIDBI etc.b Amount of provision for income tax in excess of the actual estimated liabilities.\n",
            "\n",
            "\n",
            "Genearting payload ................\n",
            "\n",
            "\n",
            "Generating boolean questions ......\n",
            "\n",
            "\n",
            "Generating short questions .........\n",
            "\n",
            "\n",
            "ZERO\n",
            "Generating Multiple Choice Questions .....\n",
            "\n",
            "\n",
            "context : c Amount received from DICGC towards claims and held by banks pending adjustmentsthereof.d Amount received from ECGC by invoking the guarantee.e Amount received from insurance company on adhoc settlement of claims pendingJudgment of the Court.f Amount received from the Court Receiver.g The liabilities arising on account of utilization of limits under Bankers Acceptance FacilityBAFh Inter bank term depositsterm borrowing liabilities of original maturity of 15 days and aboveand upto one year with effect from fortnight beginning August 11 2001.2.3.7  Exempted CategoriesScheduled Commercial Banks are exempted from maintaining average CRR on the followingliabilities i Liabilities to the banking system in India as computed under Clause d of theExplanation to Section 421 of the RBI Act 1934.ii Credit balances in ACU US$ Accounts.iii Transactions in Collateralized Borrowing and Lending Obligation     CBLO with Clearing Corporation of India Ltd. CCIL.iv Demand and Time Liabilities in respect of their Offshore Banking Units OBUs.Although Scheduled Commercial Banks are exempted from maintaining average CRR on theabove liabilities they are required to maintain 3 per cent statutory reserve thereon.  ScheduledCommercial Banks are not required to include interbank term deposits  term borrowing liabilitiesof original maturities of 15 days and above and upto one year in 'Liabilities to the Banking System'item I of Form 'A'. Similarly banks should exclude their interbank assets of term deposits andterm lending of original maturity of 15 days and above and up to one year in 'Assets with theBanking System' item III of form A for the purpose of maintenance of CRR. This concession isnot available for maintenance of SLR.2.3.8  Loans  out of FCNR B  Deposits  and IBFC Deposits\n",
            "\n",
            "\n",
            "Remove HTML tags ......\n",
            "\n",
            "\n",
            "cleaned_text : c Amount received from DICGC towards claims and held by banks pending adjustmentsthereof.d Amount received from ECGC by invoking the guarantee.e Amount received from insurance company on adhoc settlement of claims pendingJudgment of the Court.f Amount received from the Court Receiver.g The liabilities arising on account of utilization of limits under Bankers Acceptance FacilityBAFh Inter bank term depositsterm borrowing liabilities of original maturity of 15 days and aboveand upto one year with effect from fortnight beginning August 11 2001.2.3.7  Exempted CategoriesScheduled Commercial Banks are exempted from maintaining average CRR on the followingliabilities i Liabilities to the banking system in India as computed under Clause d of theExplanation to Section 421 of the RBI Act 1934.ii Credit balances in ACU US$ Accounts.iii Transactions in Collateralized Borrowing and Lending Obligation     CBLO with Clearing Corporation of India Ltd. CCIL.iv Demand and Time Liabilities in respect of their Offshore Banking Units OBUs.Although Scheduled Commercial Banks are exempted from maintaining average CRR on theabove liabilities they are required to maintain 3 per cent statutory reserve thereon.  ScheduledCommercial Banks are not required to include interbank term deposits  term borrowing liabilitiesof original maturities of 15 days and above and upto one year in 'Liabilities to the Banking System'item I of Form 'A'. Similarly banks should exclude their interbank assets of term deposits andterm lending of original maturity of 15 days and above and up to one year in 'Assets with theBanking System' item III of form A for the purpose of maintenance of CRR. This concession isnot available for maintenance of SLR.2.3.8  Loans  out of FCNR B  Deposits  and IBFC Deposits\n",
            "\n",
            "\n",
            "Remove punctuations from the text........\n",
            "\n",
            "\n",
            "cleaned texts :c Amount received from DICGC towards claims and held by banks pending adjustmentsthereof.d Amount received from ECGC by invoking the guarantee.e Amount received from insurance company on adhoc settlement of claims pendingJudgment of the Court.f Amount received from the Court Receiver.g The liabilities arising on account of utilization of limits under Bankers Acceptance FacilityBAFh Inter bank term depositsterm borrowing liabilities of original maturity of 15 days and aboveand upto one year with effect from fortnight beginning August 11 2001.2.3.7  Exempted CategoriesScheduled Commercial Banks are exempted from maintaining average CRR on the followingliabilities i Liabilities to the banking system in India as computed under Clause d of theExplanation to Section 421 of the RBI Act 1934.ii Credit balances in ACU US$ Accounts.iii Transactions in Collateralized Borrowing and Lending Obligation     CBLO with Clearing Corporation of India Ltd. CCIL.iv Demand and Time Liabilities in respect of their Offshore Banking Units OBUs.Although Scheduled Commercial Banks are exempted from maintaining average CRR on theabove liabilities they are required to maintain 3 per cent statutory reserve thereon.  ScheduledCommercial Banks are not required to include interbank term deposits  term borrowing liabilitiesof original maturities of 15 days and above and upto one year in 'Liabilities to the Banking System'item I of Form 'A'. Similarly banks should exclude their interbank assets of term deposits andterm lending of original maturity of 15 days and above and up to one year in 'Assets with theBanking System' item III of form A for the purpose of maintenance of CRR. This concession isnot available for maintenance of SLR.2.3.8  Loans  out of FCNR B  Deposits  and IBFC Deposits\n",
            "\n",
            "\n",
            "Genearting payload ................\n",
            "\n",
            "\n",
            "Generating boolean questions ......\n",
            "\n",
            "\n",
            "Generating short questions .........\n",
            "\n",
            "\n"
          ]
        },
        {
          "output_type": "stream",
          "name": "stderr",
          "text": [
            "Token indices sequence length is longer than the specified maximum sequence length for this model (882 > 512). Running this sequence through the model will result in indexing errors\n"
          ]
        },
        {
          "output_type": "stream",
          "name": "stdout",
          "text": [
            "Running model for generation\n",
            "{'questions': [{'Question': 'What are the liabilities arising on account of utilization of limits under Bankers Acceptance FacilityBAFh Inter bank term depositsterm borrowing liabilities of original maturity of 15 days and aboveand upto one year with effect from fortnight beginning August 11 2001?', 'Answer': 'liabilities', 'id': 1, 'context': 'c Amount received from DICGC towards claims and held by banks pending adjustmentsthereof.d Amount received from ECGC by invoking the guarantee.e Amount received from insurance company on adhoc settlement of claims pendingJudgment of the Court.f Amount received from the Court Receiver.g The liabilities arising on account of utilization of limits under Bankers Acceptance FacilityBAFh Inter bank term depositsterm borrowing liabilities of original maturity of 15 days and aboveand upto one year with effect from fortnight beginning August 11 2001.2.3.7  Exempted CategoriesScheduled Commercial Banks are exempted from maintaining average CRR on the followingliabilities i Liabilities to the banking system in India as computed under Clause d of theExplanation to Section 421 of the RBI Act 1934.ii Credit balances in ACU US$ Accounts.iii Transactions in Collateralized Borrowing and Lending Obligation     CBLO with Clearing Corporation of India Ltd. CCIL.iv Demand and Time Liabilities in respect of their Offshore Banking Units OBUs.Although Scheduled Commercial Banks are exempted from maintaining average CRR on theabove liabilities they are required to maintain 3 per cent statutory reserve thereon. c Amount received from DICGC towards claims and held by banks pending adjustmentsthereof.d Amount received from ECGC by invoking the guarantee.e Amount received from insurance company on adhoc settlement of claims pendingJudgment of the Court.f Amount received from the Court Receiver.g The liabilities arising on account of utilization of limits under Bankers Acceptance FacilityBAFh Inter bank term depositsterm borrowing liabilities of original maturity of 15 days and aboveand upto one year with effect from fortnight beginning August 11 2001.2.3.7  Exempted CategoriesScheduled Commercial Banks are exempted from maintaining average CRR on the followingliabilities i Liabilities to the banking system in India as computed under Clause d of theExplanation to Section 421 of the RBI Act 1934.ii Credit balances in ACU US$ Accounts.iii Transactions in Collateralized Borrowing and Lending Obligation     CBLO with Clearing Corporation of India Ltd. CCIL.iv Demand and Time Liabilities in respect of their Offshore Banking Units OBUs.Although Scheduled Commercial Banks are exempted from maintaining average CRR on theabove liabilities they are required to maintain 3 per cent statutory reserve thereon. c Amount received from DICGC towards claims and held by banks pending adjustmentsthereof.d Amount received from ECGC by invoking the guarantee.e Amount received from insurance company on adhoc settlement of claims pendingJudgment of the Court.f Amount received from the Court Receiver.g The liabilities arising on account of utilization of limits under Bankers Acceptance FacilityBAFh Inter bank term depositsterm borrowing liabilities of original maturity of 15 days and aboveand upto one year with effect from fortnight beginning August 11 2001.2.3.7  Exempted CategoriesScheduled Commercial Banks are exempted from maintaining average CRR on the followingliabilities i Liabilities to the banking system in India as computed under Clause d of theExplanation to Section 421 of the RBI Act 1934.ii Credit balances in ACU US$ Accounts.iii Transactions in Collateralized Borrowing and Lending Obligation     CBLO with Clearing Corporation of India Ltd. CCIL.iv Demand and Time Liabilities in respect of their Offshore Banking Units OBUs.Although Scheduled Commercial Banks are exempted from maintaining average CRR on theabove liabilities they are required to maintain 3 per cent statutory reserve thereon.'}]}\n",
            "Generating Multiple Choice Questions .....\n",
            "\n",
            "\n"
          ]
        },
        {
          "output_type": "stream",
          "name": "stderr",
          "text": [
            "Token indices sequence length is longer than the specified maximum sequence length for this model (882 > 512). Running this sequence through the model will result in indexing errors\n"
          ]
        },
        {
          "output_type": "stream",
          "name": "stdout",
          "text": [
            "Running model for generation\n",
            " Sense2vec_distractors successful for word :  liabilities\n",
            "context : Loans out of Foreign Currency Non ŒResident Accounts Banks FCNR [B] Deposits Schemeand InterBank Foreign Currency IBFC Deposits should be included as part of bank credit whilereporting in Form ™A™. For the purpose of reporting banks should convert their FCNR B DepositsOverseas foreign currency assets and bank credit in India in foreign currency in 4 major currenciesinto rupees at FEDAI noon mean rate on the reporting Friday.2.3.9  Assets with the Banking SystemAssets with banking system include balances with banks in current accounts balances with banksand notified financial institutions in other accounts funds made available to banking system byway of loans or deposits repayable at call or short notice of a fortnight or less and loans other thanmoney at call and short notice made available to the Banking System. Any other amounts duefrom banking system which cannot be classified under any of the above items are also to be takenas assets with the banking system.2.3.10  Procedure for calculation of CRRIn order to improve the cash management by banks as a measure of simplification a lag of onefortnight in the maintenance of stipulated CRR by banks has been introduced with effect from thefortnight beginning 6th November  1999.   Thus  all  Scheduled   Commercial Banks  arerequired   tomaintain the prescribed Cash Reserve Ratio  4.50 per cent with effect from the fortnightbeginning June 14 2003 based on their NDTL as on the last Friday of the second precedingfortnight.2.3.11 Maintenance of CRR  on daily basisWith a view to providing flexibility to banks in choosing an optimum strategy of holding reservesdepending upon their intra period cash flows all Scheduled Commercial Banks are required tomaintain minimum CRR balances upto 70 per cent of the total CRR requirement on all days of thefortnight with effect from the fortnight beginning December 28 2002.  If any ScheduledCommercial Bank fails to observe the minimum level of CRR on any days during the relevant\n",
            "\n",
            "\n",
            "Remove HTML tags ......\n",
            "\n",
            "\n",
            "cleaned_text : Loans out of Foreign Currency Non ŒResident Accounts Banks FCNR [B] Deposits Schemeand InterBank Foreign Currency IBFC Deposits should be included as part of bank credit whilereporting in Form ™A™. For the purpose of reporting banks should convert their FCNR B DepositsOverseas foreign currency assets and bank credit in India in foreign currency in 4 major currenciesinto rupees at FEDAI noon mean rate on the reporting Friday.2.3.9  Assets with the Banking SystemAssets with banking system include balances with banks in current accounts balances with banksand notified financial institutions in other accounts funds made available to banking system byway of loans or deposits repayable at call or short notice of a fortnight or less and loans other thanmoney at call and short notice made available to the Banking System. Any other amounts duefrom banking system which cannot be classified under any of the above items are also to be takenas assets with the banking system.2.3.10  Procedure for calculation of CRRIn order to improve the cash management by banks as a measure of simplification a lag of onefortnight in the maintenance of stipulated CRR by banks has been introduced with effect from thefortnight beginning 6th November  1999.   Thus  all  Scheduled   Commercial Banks  arerequired   tomaintain the prescribed Cash Reserve Ratio  4.50 per cent with effect from the fortnightbeginning June 14 2003 based on their NDTL as on the last Friday of the second precedingfortnight.2.3.11 Maintenance of CRR  on daily basisWith a view to providing flexibility to banks in choosing an optimum strategy of holding reservesdepending upon their intra period cash flows all Scheduled Commercial Banks are required tomaintain minimum CRR balances upto 70 per cent of the total CRR requirement on all days of thefortnight with effect from the fortnight beginning December 28 2002.  If any ScheduledCommercial Bank fails to observe the minimum level of CRR on any days during the relevant\n",
            "\n",
            "\n",
            "Remove punctuations from the text........\n",
            "\n",
            "\n",
            "cleaned texts :Loans out of Foreign Currency Non ŒResident Accounts Banks FCNR [B] Deposits Schemeand InterBank Foreign Currency IBFC Deposits should be included as part of bank credit whilereporting in Form ™A™. For the purpose of reporting banks should convert their FCNR B DepositsOverseas foreign currency assets and bank credit in India in foreign currency in 4 major currenciesinto rupees at FEDAI noon mean rate on the reporting Friday.2.3.9  Assets with the Banking SystemAssets with banking system include balances with banks in current accounts balances with banksand notified financial institutions in other accounts funds made available to banking system byway of loans or deposits repayable at call or short notice of a fortnight or less and loans other thanmoney at call and short notice made available to the Banking System. Any other amounts duefrom banking system which cannot be classified under any of the above items are also to be takenas assets with the banking system.2.3.10  Procedure for calculation of CRRIn order to improve the cash management by banks as a measure of simplification a lag of onefortnight in the maintenance of stipulated CRR by banks has been introduced with effect from thefortnight beginning 6th November  1999.   Thus  all  Scheduled   Commercial Banks  arerequired   tomaintain the prescribed Cash Reserve Ratio  4.50 per cent with effect from the fortnightbeginning June 14 2003 based on their NDTL as on the last Friday of the second precedingfortnight.2.3.11 Maintenance of CRR  on daily basisWith a view to providing flexibility to banks in choosing an optimum strategy of holding reservesdepending upon their intra period cash flows all Scheduled Commercial Banks are required tomaintain minimum CRR balances upto 70 per cent of the total CRR requirement on all days of thefortnight with effect from the fortnight beginning December 28 2002.  If any ScheduledCommercial Bank fails to observe the minimum level of CRR on any days during the relevant\n",
            "\n",
            "\n",
            "Genearting payload ................\n",
            "\n",
            "\n",
            "Generating boolean questions ......\n",
            "\n",
            "\n",
            "Generating short questions .........\n",
            "\n",
            "\n",
            "ZERO\n",
            "Generating Multiple Choice Questions .....\n",
            "\n",
            "\n",
            "context : fortnight the bank will not be paid interest to the extent of one fourteenth of the eligible amount ofinterest even if there is no shortfall in the CRR on average basis.2.3.12 Payment of interest on eligible cash balances maintained by SCBs with RBI underCRRi  All Scheduled Commercial Banks are paid interest on all eligible cash balances maintainedwith RBI under proviso to Section 42 1 and Section 42 1A of the RBI Act 1934 at BankRate   from the fortnight   beginning November 3 2001. The rate of interest on CRRbalances has been linked to Bank Rate as announced by RBI from time to timeii The Scheduled Commercial Banks were paid 100 per cent interest on CRR balances onreceipt of the quarterly interest claim statements in a prescribed proforma. From themonth of April 2003 onwards Scheduled Commercial Banks were paid interest on CRRbalances on monthly basis on receipt of interest claim statements. With effect fromAugust 2004 interest on CRR balances would be paid without obtaining interest claimstatements from Scheduled Commercial Banks.iii The amount of interest payable at Bank Rate is to be worked out on the  eligible portion ofCRR balances for a period of 14 days. In case the CRR balances held with RBI is lessthan the amount required to be maintained for  any of  the fortnights eligible  interestwill be  paid for  that  defaultedfortnight only after working out cost of shortfall  at the rate  of  25 per cent per annum andsubtracting the amount so worked out from interest payable amount.2.3.13  PenaltiesShortfall if any observed in the maintenance of the CRR is reckoned against the eligible cashbalances required to be maintained on the NDTL. The total amount of interest payable so arrivedat is being reduced by an amount calculated at the rate of 25 per cent per annum on the amount ofshortfall. In a situation where shortfall exceeds the level at which no interest becomes payable oneligible balances held by a bank on net basis i.e. after interest deduction on the amount of CRRshortfall the penal interest under subsection 3 of Section 42 of the RBI Act 1934 is madeapplicable.\n",
            "\n",
            "\n",
            "Remove HTML tags ......\n",
            "\n",
            "\n",
            "cleaned_text : fortnight the bank will not be paid interest to the extent of one fourteenth of the eligible amount ofinterest even if there is no shortfall in the CRR on average basis.2.3.12 Payment of interest on eligible cash balances maintained by SCBs with RBI underCRRi  All Scheduled Commercial Banks are paid interest on all eligible cash balances maintainedwith RBI under proviso to Section 42 1 and Section 42 1A of the RBI Act 1934 at BankRate   from the fortnight   beginning November 3 2001. The rate of interest on CRRbalances has been linked to Bank Rate as announced by RBI from time to timeii The Scheduled Commercial Banks were paid 100 per cent interest on CRR balances onreceipt of the quarterly interest claim statements in a prescribed proforma. From themonth of April 2003 onwards Scheduled Commercial Banks were paid interest on CRRbalances on monthly basis on receipt of interest claim statements. With effect fromAugust 2004 interest on CRR balances would be paid without obtaining interest claimstatements from Scheduled Commercial Banks.iii The amount of interest payable at Bank Rate is to be worked out on the  eligible portion ofCRR balances for a period of 14 days. In case the CRR balances held with RBI is lessthan the amount required to be maintained for  any of  the fortnights eligible  interestwill be  paid for  that  defaultedfortnight only after working out cost of shortfall  at the rate  of  25 per cent per annum andsubtracting the amount so worked out from interest payable amount.2.3.13  PenaltiesShortfall if any observed in the maintenance of the CRR is reckoned against the eligible cashbalances required to be maintained on the NDTL. The total amount of interest payable so arrivedat is being reduced by an amount calculated at the rate of 25 per cent per annum on the amount ofshortfall. In a situation where shortfall exceeds the level at which no interest becomes payable oneligible balances held by a bank on net basis i.e. after interest deduction on the amount of CRRshortfall the penal interest under subsection 3 of Section 42 of the RBI Act 1934 is madeapplicable.\n",
            "\n",
            "\n",
            "Remove punctuations from the text........\n",
            "\n",
            "\n",
            "cleaned texts :fortnight the bank will not be paid interest to the extent of one fourteenth of the eligible amount ofinterest even if there is no shortfall in the CRR on average basis.2.3.12 Payment of interest on eligible cash balances maintained by SCBs with RBI underCRRi  All Scheduled Commercial Banks are paid interest on all eligible cash balances maintainedwith RBI under proviso to Section 42 1 and Section 42 1A of the RBI Act 1934 at BankRate   from the fortnight   beginning November 3 2001. The rate of interest on CRRbalances has been linked to Bank Rate as announced by RBI from time to timeii The Scheduled Commercial Banks were paid 100 per cent interest on CRR balances onreceipt of the quarterly interest claim statements in a prescribed proforma. From themonth of April 2003 onwards Scheduled Commercial Banks were paid interest on CRRbalances on monthly basis on receipt of interest claim statements. With effect fromAugust 2004 interest on CRR balances would be paid without obtaining interest claimstatements from Scheduled Commercial Banks.iii The amount of interest payable at Bank Rate is to be worked out on the  eligible portion ofCRR balances for a period of 14 days. In case the CRR balances held with RBI is lessthan the amount required to be maintained for  any of  the fortnights eligible  interestwill be  paid for  that  defaultedfortnight only after working out cost of shortfall  at the rate  of  25 per cent per annum andsubtracting the amount so worked out from interest payable amount.2.3.13  PenaltiesShortfall if any observed in the maintenance of the CRR is reckoned against the eligible cashbalances required to be maintained on the NDTL. The total amount of interest payable so arrivedat is being reduced by an amount calculated at the rate of 25 per cent per annum on the amount ofshortfall. In a situation where shortfall exceeds the level at which no interest becomes payable oneligible balances held by a bank on net basis i.e. after interest deduction on the amount of CRRshortfall the penal interest under subsection 3 of Section 42 of the RBI Act 1934 is madeapplicable.\n",
            "\n",
            "\n",
            "Genearting payload ................\n",
            "\n",
            "\n",
            "Generating boolean questions ......\n",
            "\n",
            "\n",
            "Generating short questions .........\n",
            "\n",
            "\n",
            "Running model for generation\n",
            "{'questions': [{'Question': 'What is the RBI under proviso to Section 42 1 and Section 42 1A of the RBI Act 1934?', 'Answer': 'rbi', 'id': 1, 'context': 'fortnight the bank will not be paid interest to the extent of one fourteenth of the eligible amount ofinterest even if there is no shortfall in the CRR on average basis.2.3.12 Payment of interest on eligible cash balances maintained by SCBs with RBI underCRRi  All Scheduled Commercial Banks are paid interest on all eligible cash balances maintainedwith RBI under proviso to Section 42 1 and Section 42 1A of the RBI Act 1934 at BankRate   from the fortnight   beginning November 3 2001. fortnight the bank will not be paid interest to the extent of one fourteenth of the eligible amount ofinterest even if there is no shortfall in the CRR on average basis.2.3.12 Payment of interest on eligible cash balances maintained by SCBs with RBI underCRRi  All Scheduled Commercial Banks are paid interest on all eligible cash balances maintainedwith RBI under proviso to Section 42 1 and Section 42 1A of the RBI Act 1934 at BankRate   from the fortnight   beginning November 3 2001. fortnight the bank will not be paid interest to the extent of one fourteenth of the eligible amount ofinterest even if there is no shortfall in the CRR on average basis.2.3.12 Payment of interest on eligible cash balances maintained by SCBs with RBI underCRRi  All Scheduled Commercial Banks are paid interest on all eligible cash balances maintainedwith RBI under proviso to Section 42 1 and Section 42 1A of the RBI Act 1934 at BankRate   from the fortnight   beginning November 3 2001.'}]}\n",
            "Generating Multiple Choice Questions .....\n",
            "\n",
            "\n",
            "Running model for generation\n",
            " Sense2vec_distractors successful for word :  rbi\n",
            "context : The Scheduled Commercial Banks are required to furnish the particulars such as date amountpercentage reason for default in maintenance of requisite CRR and also action taken to avoidrecurrence of such default.2.3.14  Fortnightly return in Form ‚A™Under section 42 2 of RBI Act 1934 all Scheduled Commercial Banks are required to submit toRBI a provisional return in Form 'A' within 7 days from the expiry of the relevant fortnight. It is usedfor preparing press communiqué. The final Form 'A' is required to be sent to RBI within 20 daysfrom expiry of the relevant fortnight. Based on the recommendation of the Working Group onMoney Supply Analytics and Methodology of Compilation all Scheduled Commercial Banks inIndia are required to submit from the fortnight beginning October 9 1998 Memorandum to form 'A'giving details about paidup capital reserves time deposits comprising of short term and longterm certificates of deposits NDTL total CRR requirement etc. Annexure A to form ‚A™ returnshowing all foreign currency liabilities and assets and Annexure B to form ‚A™ return giving detailsabout investment in approved securities investment in nonapproved securities memo items suchas subscription to shares debentures  bonds in primary market and subscriptions through privateplacement.For reporting in Form 'A' return banks should convert their overseas foreign currency assets andbank credit in India in foreign currency in four major currencies viz. US dollar GBP Japanese Yenand Euro at the FEDAI noon mean rate on reporting Friday.There is no change in the existing format of fortnightly returns in Form ‚A™ and the method ofcomputing DTL in Form ‚A™ i.e. if IIII is positive then [IIII plus II] otherwise only II.The explanations to item No's. I II and III of the return in form 'A' are given belowItem  I   Liabilities to the Banking System in India .Item  II  Liabilities to Others  in India.Item  III  Assets with the Banking System in India.In terms of Clause d of explanation to Section 42 1 of RBI Act 1934 the amount of net interbank liabilities is to be calculated after reducing assets with banking system from liabilities to the\n",
            "\n",
            "\n",
            "Remove HTML tags ......\n",
            "\n",
            "\n",
            "cleaned_text : The Scheduled Commercial Banks are required to furnish the particulars such as date amountpercentage reason for default in maintenance of requisite CRR and also action taken to avoidrecurrence of such default.2.3.14  Fortnightly return in Form ‚A™Under section 42 2 of RBI Act 1934 all Scheduled Commercial Banks are required to submit toRBI a provisional return in Form 'A' within 7 days from the expiry of the relevant fortnight. It is usedfor preparing press communiqué. The final Form 'A' is required to be sent to RBI within 20 daysfrom expiry of the relevant fortnight. Based on the recommendation of the Working Group onMoney Supply Analytics and Methodology of Compilation all Scheduled Commercial Banks inIndia are required to submit from the fortnight beginning October 9 1998 Memorandum to form 'A'giving details about paidup capital reserves time deposits comprising of short term and longterm certificates of deposits NDTL total CRR requirement etc. Annexure A to form ‚A™ returnshowing all foreign currency liabilities and assets and Annexure B to form ‚A™ return giving detailsabout investment in approved securities investment in nonapproved securities memo items suchas subscription to shares debentures  bonds in primary market and subscriptions through privateplacement.For reporting in Form 'A' return banks should convert their overseas foreign currency assets andbank credit in India in foreign currency in four major currencies viz. US dollar GBP Japanese Yenand Euro at the FEDAI noon mean rate on reporting Friday.There is no change in the existing format of fortnightly returns in Form ‚A™ and the method ofcomputing DTL in Form ‚A™ i.e. if IIII is positive then [IIII plus II] otherwise only II.The explanations to item No's. I II and III of the return in form 'A' are given belowItem  I   Liabilities to the Banking System in India .Item  II  Liabilities to Others  in India.Item  III  Assets with the Banking System in India.In terms of Clause d of explanation to Section 42 1 of RBI Act 1934 the amount of net interbank liabilities is to be calculated after reducing assets with banking system from liabilities to the\n",
            "\n",
            "\n",
            "Remove punctuations from the text........\n",
            "\n",
            "\n",
            "cleaned texts :The Scheduled Commercial Banks are required to furnish the particulars such as date amountpercentage reason for default in maintenance of requisite CRR and also action taken to avoidrecurrence of such default.2.3.14  Fortnightly return in Form ‚A™Under section 42 2 of RBI Act 1934 all Scheduled Commercial Banks are required to submit toRBI a provisional return in Form 'A' within 7 days from the expiry of the relevant fortnight. It is usedfor preparing press communiqué. The final Form 'A' is required to be sent to RBI within 20 daysfrom expiry of the relevant fortnight. Based on the recommendation of the Working Group onMoney Supply Analytics and Methodology of Compilation all Scheduled Commercial Banks inIndia are required to submit from the fortnight beginning October 9 1998 Memorandum to form 'A'giving details about paidup capital reserves time deposits comprising of short term and longterm certificates of deposits NDTL total CRR requirement etc. Annexure A to form ‚A™ returnshowing all foreign currency liabilities and assets and Annexure B to form ‚A™ return giving detailsabout investment in approved securities investment in nonapproved securities memo items suchas subscription to shares debentures  bonds in primary market and subscriptions through privateplacement.For reporting in Form 'A' return banks should convert their overseas foreign currency assets andbank credit in India in foreign currency in four major currencies viz. US dollar GBP Japanese Yenand Euro at the FEDAI noon mean rate on reporting Friday.There is no change in the existing format of fortnightly returns in Form ‚A™ and the method ofcomputing DTL in Form ‚A™ i.e. if IIII is positive then [IIII plus II] otherwise only II.The explanations to item No's. I II and III of the return in form 'A' are given belowItem  I   Liabilities to the Banking System in India .Item  II  Liabilities to Others  in India.Item  III  Assets with the Banking System in India.In terms of Clause d of explanation to Section 42 1 of RBI Act 1934 the amount of net interbank liabilities is to be calculated after reducing assets with banking system from liabilities to the\n",
            "\n",
            "\n",
            "Genearting payload ................\n",
            "\n",
            "\n",
            "Generating boolean questions ......\n",
            "\n",
            "\n",
            "Generating short questions .........\n",
            "\n",
            "\n",
            "Running model for generation\n",
            "{'questions': [{'Question': \"In terms of Clause d of explanation to Section 42 1 of RBI Act 1934 the amount of net interbank liabilities is to be calculated after reducing assets with banking system from liabilities to the I II and III of the return in form 'A' are given belowItem I Liabilities to the Banking System in India.Item II Liabilities to Others in India.Item III Assets with the Banking System in India.\", 'Answer': 'india', 'id': 1, 'context': \"Annexure A to form ‚A™ returnshowing all foreign currency liabilities and assets and Annexure B to form ‚A™ return giving detailsabout investment in approved securities investment in nonapproved securities memo items suchas subscription to shares debentures  bonds in primary market and subscriptions through privateplacement.For reporting in Form 'A' return banks should convert their overseas foreign currency assets andbank credit in India in foreign currency in four major currencies viz. I II and III of the return in form 'A' are given belowItem  I   Liabilities to the Banking System in India .Item  II  Liabilities to Others  in India.Item  III  Assets with the Banking System in India.In terms of Clause d of explanation to Section 42 1 of RBI Act 1934 the amount of net interbank liabilities is to be calculated after reducing assets with banking system from liabilities to the I II and III of the return in form 'A' are given belowItem  I   Liabilities to the Banking System in India .Item  II  Liabilities to Others  in India.Item  III  Assets with the Banking System in India.In terms of Clause d of explanation to Section 42 1 of RBI Act 1934 the amount of net interbank liabilities is to be calculated after reducing assets with banking system from liabilities to the\"}]}\n",
            "Generating Multiple Choice Questions .....\n",
            "\n",
            "\n",
            "Running model for generation\n",
            " Sense2vec_distractors successful for word :  india\n",
            "context : 0banking system. Inter bank deposits and borrowings within the banking system of maturity periodof 15 days and above and upto one year are totally excluded from liabilities to the bankingsystems with effect from the fortnight beginning August 11 2001. For the purpose of working outliabilities to be subjected to CRR at rates prescribed from time to time at present 4.5 per cent witheffect from the fortnight beginning June 14 2003 under section 42 1 of RBI Act 1934 if net interbank liabilities are positive they should be deducted from total net demand and time liabilities.However for the purpose of working out Statutory minimum CRR of 3 per cent on total net demandand time liabilities net interbank liabilities should be included.3.  Statutory Liquidity Ratio SLRIn terms of Section 24 2A of the B.R. Act 1949 all Scheduled Commercial Banks in addition tothe average daily balance which they are required to maintain under Section 42 of the RBI Act1934 are required to maintain in India     a in cash orb in gold valued at a price not exceeding the current market price                                or         c in unencumbered approved securities valued at a price as specified             by the RBI from time to time.an amount of which  shall not at the close of the business  on any day be less than 25 per cent orsuch other percentage not exceeding 40 per cent as the RBI may from time to time by notificationin gazette of India specify of the total of its demand and time liabilities in India as on the lastFriday of the second preceding fortnightAt present all Scheduled Commercial Banks are required to maintain a uniform SLR of 25 per centof the total of their demand and time liabilities in India as on the last Friday of the secondpreceding fortnight which is stipulated under section 24 of the B.R. Act 1949.3.1 Procedure for computation of demand and time liabilities for SLRThe procedure to compute total net demand and time liabilities for the purpose of SLR underSection 24 2 B of B.R. Act 1949 is similar to the procedure followed for CRR purpose. Howeverit is clarified that Scheduled Commercial Banks are required to include interbank term deposits\n",
            "\n",
            "\n",
            "Remove HTML tags ......\n",
            "\n",
            "\n",
            "cleaned_text : 0banking system. Inter bank deposits and borrowings within the banking system of maturity periodof 15 days and above and upto one year are totally excluded from liabilities to the bankingsystems with effect from the fortnight beginning August 11 2001. For the purpose of working outliabilities to be subjected to CRR at rates prescribed from time to time at present 4.5 per cent witheffect from the fortnight beginning June 14 2003 under section 42 1 of RBI Act 1934 if net interbank liabilities are positive they should be deducted from total net demand and time liabilities.However for the purpose of working out Statutory minimum CRR of 3 per cent on total net demandand time liabilities net interbank liabilities should be included.3.  Statutory Liquidity Ratio SLRIn terms of Section 24 2A of the B.R. Act 1949 all Scheduled Commercial Banks in addition tothe average daily balance which they are required to maintain under Section 42 of the RBI Act1934 are required to maintain in India     a in cash orb in gold valued at a price not exceeding the current market price                                or         c in unencumbered approved securities valued at a price as specified             by the RBI from time to time.an amount of which  shall not at the close of the business  on any day be less than 25 per cent orsuch other percentage not exceeding 40 per cent as the RBI may from time to time by notificationin gazette of India specify of the total of its demand and time liabilities in India as on the lastFriday of the second preceding fortnightAt present all Scheduled Commercial Banks are required to maintain a uniform SLR of 25 per centof the total of their demand and time liabilities in India as on the last Friday of the secondpreceding fortnight which is stipulated under section 24 of the B.R. Act 1949.3.1 Procedure for computation of demand and time liabilities for SLRThe procedure to compute total net demand and time liabilities for the purpose of SLR underSection 24 2 B of B.R. Act 1949 is similar to the procedure followed for CRR purpose. Howeverit is clarified that Scheduled Commercial Banks are required to include interbank term deposits\n",
            "\n",
            "\n",
            "Remove punctuations from the text........\n",
            "\n",
            "\n",
            "cleaned texts :0banking system. Inter bank deposits and borrowings within the banking system of maturity periodof 15 days and above and upto one year are totally excluded from liabilities to the bankingsystems with effect from the fortnight beginning August 11 2001. For the purpose of working outliabilities to be subjected to CRR at rates prescribed from time to time at present 4.5 per cent witheffect from the fortnight beginning June 14 2003 under section 42 1 of RBI Act 1934 if net interbank liabilities are positive they should be deducted from total net demand and time liabilities.However for the purpose of working out Statutory minimum CRR of 3 per cent on total net demandand time liabilities net interbank liabilities should be included.3.  Statutory Liquidity Ratio SLRIn terms of Section 24 2A of the B.R. Act 1949 all Scheduled Commercial Banks in addition tothe average daily balance which they are required to maintain under Section 42 of the RBI Act1934 are required to maintain in India     a in cash orb in gold valued at a price not exceeding the current market price                                or         c in unencumbered approved securities valued at a price as specified             by the RBI from time to time.an amount of which  shall not at the close of the business  on any day be less than 25 per cent orsuch other percentage not exceeding 40 per cent as the RBI may from time to time by notificationin gazette of India specify of the total of its demand and time liabilities in India as on the lastFriday of the second preceding fortnightAt present all Scheduled Commercial Banks are required to maintain a uniform SLR of 25 per centof the total of their demand and time liabilities in India as on the last Friday of the secondpreceding fortnight which is stipulated under section 24 of the B.R. Act 1949.3.1 Procedure for computation of demand and time liabilities for SLRThe procedure to compute total net demand and time liabilities for the purpose of SLR underSection 24 2 B of B.R. Act 1949 is similar to the procedure followed for CRR purpose. Howeverit is clarified that Scheduled Commercial Banks are required to include interbank term deposits\n",
            "\n",
            "\n",
            "Genearting payload ................\n",
            "\n",
            "\n",
            "Generating boolean questions ......\n",
            "\n",
            "\n",
            "Generating short questions .........\n",
            "\n",
            "\n",
            "Running model for generation\n",
            "{'questions': [{'Question': 'What are the inter bank deposits and borrowings within the banking system of maturity period of 15 days and above and upto one year totally excluded from liabilities to the bankingsystems with effect from August 11 2001?', 'Answer': 'bank deposits', 'id': 1, 'context': 'Inter bank deposits and borrowings within the banking system of maturity periodof 15 days and above and upto one year are totally excluded from liabilities to the bankingsystems with effect from the fortnight beginning August 11 2001.'}]}\n",
            "Generating Multiple Choice Questions .....\n",
            "\n",
            "\n",
            "Running model for generation\n",
            " Sense2vec_distractors successful for word :  bank deposits\n",
            "context : 1term borrowing liabilities of original maturities of 15 days and above and up to one year in'Liabilities to the Banking System'. Similarly banks should include their interbank assets of termdeposits and term lending of original maturity of 15 days and above and up to one year in 'Assetswith the Banking System' for the purpose of maintenance of SLR. However both the aboveliabilities and assets are not to be included in liabilitiesassets to the banking system forcomputationof DTLNDTL for the purpose of CRR as mentioned in paragraph 2.3.7 above.3.2  Valuation of approved securities for SLRThe entire investment portfolio of the banks including SLR Securities will be classified underthree categories viz.' Held to Maturity' 'Available for sale' and 'Held for Trading'.Investment classified under Held to Maturity category need not be marked to market and willbe carried at acquisition cost unless it is more than the face value. In such a case the premiumshould be amortised over a period remaining to maturity.Individual scrips in the Available for Sale category will be marked to market at the yearend orat more frequent intervals. The net depreciation under each classification should be recognizedand fully provided for and any appreciation should be ignored. The book value of the individualsecurities would not undergo any change after the revaluation.The individual scrips in the Held for Trading category will be revalued at monthly or at morefrequent intervals and net appreciationdepreciation under each classification will berecognized in income account. The book value of the individual scrip will be changed withrevaluation.3.3  PenaltiesIf a banking company fails to maintain the required amount of SLR it shall be liable to pay to RBIin respect of that default the penal interest for that day at the rate of 3 per cent per annum abovethe bank rate on the shortfall and if the default continues on the next succeeding working day thepenal interest may be increased to a rate of 5 percent per annum above the Bank Rate for theconcerned days of default on the shortfall.\n",
            "\n",
            "\n",
            "Remove HTML tags ......\n",
            "\n",
            "\n",
            "cleaned_text : 1term borrowing liabilities of original maturities of 15 days and above and up to one year in'Liabilities to the Banking System'. Similarly banks should include their interbank assets of termdeposits and term lending of original maturity of 15 days and above and up to one year in 'Assetswith the Banking System' for the purpose of maintenance of SLR. However both the aboveliabilities and assets are not to be included in liabilitiesassets to the banking system forcomputationof DTLNDTL for the purpose of CRR as mentioned in paragraph 2.3.7 above.3.2  Valuation of approved securities for SLRThe entire investment portfolio of the banks including SLR Securities will be classified underthree categories viz.' Held to Maturity' 'Available for sale' and 'Held for Trading'.Investment classified under Held to Maturity category need not be marked to market and willbe carried at acquisition cost unless it is more than the face value. In such a case the premiumshould be amortised over a period remaining to maturity.Individual scrips in the Available for Sale category will be marked to market at the yearend orat more frequent intervals. The net depreciation under each classification should be recognizedand fully provided for and any appreciation should be ignored. The book value of the individualsecurities would not undergo any change after the revaluation.The individual scrips in the Held for Trading category will be revalued at monthly or at morefrequent intervals and net appreciationdepreciation under each classification will berecognized in income account. The book value of the individual scrip will be changed withrevaluation.3.3  PenaltiesIf a banking company fails to maintain the required amount of SLR it shall be liable to pay to RBIin respect of that default the penal interest for that day at the rate of 3 per cent per annum abovethe bank rate on the shortfall and if the default continues on the next succeeding working day thepenal interest may be increased to a rate of 5 percent per annum above the Bank Rate for theconcerned days of default on the shortfall.\n",
            "\n",
            "\n",
            "Remove punctuations from the text........\n",
            "\n",
            "\n",
            "cleaned texts :1term borrowing liabilities of original maturities of 15 days and above and up to one year in'Liabilities to the Banking System'. Similarly banks should include their interbank assets of termdeposits and term lending of original maturity of 15 days and above and up to one year in 'Assetswith the Banking System' for the purpose of maintenance of SLR. However both the aboveliabilities and assets are not to be included in liabilitiesassets to the banking system forcomputationof DTLNDTL for the purpose of CRR as mentioned in paragraph 2.3.7 above.3.2  Valuation of approved securities for SLRThe entire investment portfolio of the banks including SLR Securities will be classified underthree categories viz.' Held to Maturity' 'Available for sale' and 'Held for Trading'.Investment classified under Held to Maturity category need not be marked to market and willbe carried at acquisition cost unless it is more than the face value. In such a case the premiumshould be amortised over a period remaining to maturity.Individual scrips in the Available for Sale category will be marked to market at the yearend orat more frequent intervals. The net depreciation under each classification should be recognizedand fully provided for and any appreciation should be ignored. The book value of the individualsecurities would not undergo any change after the revaluation.The individual scrips in the Held for Trading category will be revalued at monthly or at morefrequent intervals and net appreciationdepreciation under each classification will berecognized in income account. The book value of the individual scrip will be changed withrevaluation.3.3  PenaltiesIf a banking company fails to maintain the required amount of SLR it shall be liable to pay to RBIin respect of that default the penal interest for that day at the rate of 3 per cent per annum abovethe bank rate on the shortfall and if the default continues on the next succeeding working day thepenal interest may be increased to a rate of 5 percent per annum above the Bank Rate for theconcerned days of default on the shortfall.\n",
            "\n",
            "\n",
            "Genearting payload ................\n",
            "\n",
            "\n",
            "Generating boolean questions ......\n",
            "\n",
            "\n",
            "Generating short questions .........\n",
            "\n",
            "\n",
            "Running model for generation\n",
            "{'questions': [{'Question': 'What are the above liabilities and assets not to be included in liabilitiesassets to?', 'Answer': 'banking system', 'id': 1, 'context': \"However both the aboveliabilities and assets are not to be included in liabilitiesassets to the banking system forcomputationof DTLNDTL for the purpose of CRR as mentioned in paragraph 2.3.7 above.3.2  Valuation of approved securities for SLRThe entire investment portfolio of the banks including SLR Securities will be classified underthree categories viz.' Similarly banks should include their interbank assets of termdeposits and term lending of original maturity of 15 days and above and up to one year in 'Assetswith the Banking System' for the purpose of maintenance of SLR. 1term borrowing liabilities of original maturities of 15 days and above and up to one year in'Liabilities to the Banking System'.\"}, {'Question': 'What is the name of the securities that a bank fails to maintain the required amount of?', 'Answer': 'slr', 'id': 2, 'context': \"The book value of the individual scrip will be changed withrevaluation.3.3  PenaltiesIf a banking company fails to maintain the required amount of SLR it shall be liable to pay to RBIin respect of that default the penal interest for that day at the rate of 3 per cent per annum abovethe bank rate on the shortfall and if the default continues on the next succeeding working day thepenal interest may be increased to a rate of 5 percent per annum above the Bank Rate for theconcerned days of default on the shortfall. However both the aboveliabilities and assets are not to be included in liabilitiesassets to the banking system forcomputationof DTLNDTL for the purpose of CRR as mentioned in paragraph 2.3.7 above.3.2  Valuation of approved securities for SLRThe entire investment portfolio of the banks including SLR Securities will be classified underthree categories viz.' Similarly banks should include their interbank assets of termdeposits and term lending of original maturity of 15 days and above and up to one year in 'Assetswith the Banking System' for the purpose of maintenance of SLR.\"}, {'Question': 'What is the value of investment classified under Held to Maturity category?', 'Answer': 'face value', 'id': 3, 'context': \"Held to Maturity' 'Available for sale' and 'Held for Trading'.Investment classified under Held to Maturity category need not be marked to market and willbe carried at acquisition cost unless it is more than the face value.\"}]}\n",
            "Generating Multiple Choice Questions .....\n",
            "\n",
            "\n",
            "Running model for generation\n",
            " Sense2vec_distractors successful for word :  banking system\n",
            " Sense2vec_distractors successful for word :  slr\n",
            " Sense2vec_distractors successful for word :  face value\n",
            "context : 23.4 Return in Form VIII SLR to be submitted to RBIi Banks should submit to the RBI before 20th day of every month a return in form VIIIshowing the amounts of SLR held on alternate Fridays during immediate precedingmonth with particulars of their DTL in India held on such Fridays or if any such Friday isa public holiday under the Negotiable Instruments Act 1881 at the close of business onthe preceding working day.ii Banks should also submit a statement as annexure to form VIII giving daily  position  ofa  value  of   securities  held  for  the  purpose   ofcompliance with SLR and b the excess cash balances maintained by them with RBI inthe prescribed format.3.5 Correctness of computation of demand and time liabilities to be certified by StatutoryAuditors.The Statutory Auditors should verify and certify that all items of outside liabilities as per the bank'sbooks had been duly compiled by the bank and correctly reflected under DTLNDTL in thefortnightlymonthly statutory returns submitted to RBI for the financial year.\n",
            "\n",
            "\n",
            "Remove HTML tags ......\n",
            "\n",
            "\n",
            "cleaned_text : 23.4 Return in Form VIII SLR to be submitted to RBIi Banks should submit to the RBI before 20th day of every month a return in form VIIIshowing the amounts of SLR held on alternate Fridays during immediate precedingmonth with particulars of their DTL in India held on such Fridays or if any such Friday isa public holiday under the Negotiable Instruments Act 1881 at the close of business onthe preceding working day.ii Banks should also submit a statement as annexure to form VIII giving daily  position  ofa  value  of   securities  held  for  the  purpose   ofcompliance with SLR and b the excess cash balances maintained by them with RBI inthe prescribed format.3.5 Correctness of computation of demand and time liabilities to be certified by StatutoryAuditors.The Statutory Auditors should verify and certify that all items of outside liabilities as per the bank'sbooks had been duly compiled by the bank and correctly reflected under DTLNDTL in thefortnightlymonthly statutory returns submitted to RBI for the financial year.\n",
            "\n",
            "\n",
            "Remove punctuations from the text........\n",
            "\n",
            "\n",
            "cleaned texts :23.4 Return in Form VIII SLR to be submitted to RBIi Banks should submit to the RBI before 20th day of every month a return in form VIIIshowing the amounts of SLR held on alternate Fridays during immediate precedingmonth with particulars of their DTL in India held on such Fridays or if any such Friday isa public holiday under the Negotiable Instruments Act 1881 at the close of business onthe preceding working day.ii Banks should also submit a statement as annexure to form VIII giving daily  position  ofa  value  of   securities  held  for  the  purpose   ofcompliance with SLR and b the excess cash balances maintained by them with RBI inthe prescribed format.3.5 Correctness of computation of demand and time liabilities to be certified by StatutoryAuditors.The Statutory Auditors should verify and certify that all items of outside liabilities as per the bank'sbooks had been duly compiled by the bank and correctly reflected under DTLNDTL in thefortnightlymonthly statutory returns submitted to RBI for the financial year.\n",
            "\n",
            "\n",
            "Genearting payload ................\n",
            "\n",
            "\n",
            "Generating boolean questions ......\n",
            "\n",
            "\n",
            "Generating short questions .........\n",
            "\n",
            "\n"
          ]
        },
        {
          "output_type": "stream",
          "name": "stderr",
          "text": [
            "Token indices sequence length is longer than the specified maximum sequence length for this model (708 > 512). Running this sequence through the model will result in indexing errors\n"
          ]
        },
        {
          "output_type": "stream",
          "name": "stdout",
          "text": [
            "Running model for generation\n",
            "{'questions': [{'Question': 'What is the public holiday under the Negotiable Instruments Act 1881 at the close of business on the preceding working day?', 'Answer': 'fridays', 'id': 1, 'context': \"23.4 Return in Form VIII SLR to be submitted to RBIi Banks should submit to the RBI before 20th day of every month a return in form VIIIshowing the amounts of SLR held on alternate Fridays during immediate precedingmonth with particulars of their DTL in India held on such Fridays or if any such Friday isa public holiday under the Negotiable Instruments Act 1881 at the close of business onthe preceding working day.ii Banks should also submit a statement as annexure to form VIII giving daily  position  ofa  value  of   securities  held  for  the  purpose   ofcompliance with SLR and b the excess cash balances maintained by them with RBI inthe prescribed format.3.5 Correctness of computation of demand and time liabilities to be certified by StatutoryAuditors.The Statutory Auditors should verify and certify that all items of outside liabilities as per the bank'sbooks had been duly compiled by the bank and correctly reflected under DTLNDTL in thefortnightlymonthly statutory returns submitted to RBI for the financial year. 23.4 Return in Form VIII SLR to be submitted to RBIi Banks should submit to the RBI before 20th day of every month a return in form VIIIshowing the amounts of SLR held on alternate Fridays during immediate precedingmonth with particulars of their DTL in India held on such Fridays or if any such Friday isa public holiday under the Negotiable Instruments Act 1881 at the close of business onthe preceding working day.ii Banks should also submit a statement as annexure to form VIII giving daily  position  ofa  value  of   securities  held  for  the  purpose   ofcompliance with SLR and b the excess cash balances maintained by them with RBI inthe prescribed format.3.5 Correctness of computation of demand and time liabilities to be certified by StatutoryAuditors.The Statutory Auditors should verify and certify that all items of outside liabilities as per the bank'sbooks had been duly compiled by the bank and correctly reflected under DTLNDTL in thefortnightlymonthly statutory returns submitted to RBI for the financial year.\"}, {'Question': 'Who should submit the return in Form VIII SLR to be submitted to?', 'Answer': 'rbi', 'id': 2, 'context': \"23.4 Return in Form VIII SLR to be submitted to RBIi Banks should submit to the RBI before 20th day of every month a return in form VIIIshowing the amounts of SLR held on alternate Fridays during immediate precedingmonth with particulars of their DTL in India held on such Fridays or if any such Friday isa public holiday under the Negotiable Instruments Act 1881 at the close of business onthe preceding working day.ii Banks should also submit a statement as annexure to form VIII giving daily  position  ofa  value  of   securities  held  for  the  purpose   ofcompliance with SLR and b the excess cash balances maintained by them with RBI inthe prescribed format.3.5 Correctness of computation of demand and time liabilities to be certified by StatutoryAuditors.The Statutory Auditors should verify and certify that all items of outside liabilities as per the bank'sbooks had been duly compiled by the bank and correctly reflected under DTLNDTL in thefortnightlymonthly statutory returns submitted to RBI for the financial year. 23.4 Return in Form VIII SLR to be submitted to RBIi Banks should submit to the RBI before 20th day of every month a return in form VIIIshowing the amounts of SLR held on alternate Fridays during immediate precedingmonth with particulars of their DTL in India held on such Fridays or if any such Friday isa public holiday under the Negotiable Instruments Act 1881 at the close of business onthe preceding working day.ii Banks should also submit a statement as annexure to form VIII giving daily  position  ofa  value  of   securities  held  for  the  purpose   ofcompliance with SLR and b the excess cash balances maintained by them with RBI inthe prescribed format.3.5 Correctness of computation of demand and time liabilities to be certified by StatutoryAuditors.The Statutory Auditors should verify and certify that all items of outside liabilities as per the bank'sbooks had been duly compiled by the bank and correctly reflected under DTLNDTL in thefortnightlymonthly statutory returns submitted to RBI for the financial year. 23.4 Return in Form VIII SLR to be submitted to RBIi Banks should submit to the RBI before 20th day of every month a return in form VIIIshowing the amounts of SLR held on alternate Fridays during immediate precedingmonth with particulars of their DTL in India held on such Fridays or if any such Friday isa public holiday under the Negotiable Instruments Act 1881 at the close of business onthe preceding working day.ii Banks should also submit a statement as annexure to form VIII giving daily  position  ofa  value  of   securities  held  for  the  purpose   ofcompliance with SLR and b the excess cash balances maintained by them with RBI inthe prescribed format.3.5 Correctness of computation of demand and time liabilities to be certified by StatutoryAuditors.The Statutory Auditors should verify and certify that all items of outside liabilities as per the bank'sbooks had been duly compiled by the bank and correctly reflected under DTLNDTL in thefortnightlymonthly statutory returns submitted to RBI for the financial year.\"}]}\n",
            "Generating Multiple Choice Questions .....\n",
            "\n",
            "\n"
          ]
        },
        {
          "output_type": "stream",
          "name": "stderr",
          "text": [
            "Token indices sequence length is longer than the specified maximum sequence length for this model (708 > 512). Running this sequence through the model will result in indexing errors\n"
          ]
        },
        {
          "output_type": "stream",
          "name": "stdout",
          "text": [
            "Running model for generation\n",
            " Sense2vec_distractors successful for word :  fridays\n"
          ]
        },
        {
          "output_type": "stream",
          "name": "stderr",
          "text": [
            "Token indices sequence length is longer than the specified maximum sequence length for this model (562 > 512). Running this sequence through the model will result in indexing errors\n"
          ]
        },
        {
          "output_type": "stream",
          "name": "stdout",
          "text": [
            " Sense2vec_distractors successful for word :  rbi\n",
            "context : 3AppendixMaster CircularCash Reserve Ratio CRR and Statutory Liquidity Ratio SLRList of circulars consolidated by the Master CircularSr.No.Circular NoDateSubjectCorrespondingparagraphnumber in thismaster circular1DBOD.No.Leg.BC. 34C.233A8523031985Demand Liabilities Timeliability ODTL2.3.1 2.3.22.3.5 3.4 i2DBOD.No.BC.11112.02.0019713101997Borrowings under paragraph5.B.81 of Exchange ControlManual Maintenance ofreserve requirement2.3.33DBOD.No.Ret.BC.1412.01.00120030421082003Computation of Net Demandand Time Liabilities NDTLfor the purpose ofmaintenance of CRRSLR2.3.44DBOD.No.149C.236G7127121971Participation Certificate to beincluded in ODTL2.3.55DBOD.No.BC.5812.02.001949513051995Margin money on billspurchased2.3.56DBOD.No.Ret.BC.40c.236GSpl8627031986Amount received from DICGC2.3.6 c7DBOD.No.RetBC.98C.96Ret8612091986Exclusion from NDTLReceiptfrom Court ReceiverInsurance and ECGC2.3.6 d e f8DBOD.No.BC.19112.01.001932111993Rediscounting of Export Billsabroad2.3.6 g9DBOD.No.BC.512.01.0012001027082001Reporting of Interbankliabilities in Form A2.3.6h 2.3.710DBOD.No.BC.8212.01.0012001200226032002Maintenance of CRRACUDollar FundsExemption of2.3.7ii11DBOD.No.Ret.BC.6312.01.00120030414012004Maintenance of CRRSLR ontransaction in CollateralisedBorrowing and LendingObligation CBLO2.3.7iii12DBOD.IBS.BC.8823.13.00420020327032003Offshore Banking UnitsOBUs in Special EconomicZones SEZs2.3.7 iv      –2\n",
            "\n",
            "\n",
            "Remove HTML tags ......\n",
            "\n",
            "\n",
            "cleaned_text : 3AppendixMaster CircularCash Reserve Ratio CRR and Statutory Liquidity Ratio SLRList of circulars consolidated by the Master CircularSr.No.Circular NoDateSubjectCorrespondingparagraphnumber in thismaster circular1DBOD.No.Leg.BC. 34C.233A8523031985Demand Liabilities Timeliability ODTL2.3.1 2.3.22.3.5 3.4 i2DBOD.No.BC.11112.02.0019713101997Borrowings under paragraph5.B.81 of Exchange ControlManual Maintenance ofreserve requirement2.3.33DBOD.No.Ret.BC.1412.01.00120030421082003Computation of Net Demandand Time Liabilities NDTLfor the purpose ofmaintenance of CRRSLR2.3.44DBOD.No.149C.236G7127121971Participation Certificate to beincluded in ODTL2.3.55DBOD.No.BC.5812.02.001949513051995Margin money on billspurchased2.3.56DBOD.No.Ret.BC.40c.236GSpl8627031986Amount received from DICGC2.3.6 c7DBOD.No.RetBC.98C.96Ret8612091986Exclusion from NDTLReceiptfrom Court ReceiverInsurance and ECGC2.3.6 d e f8DBOD.No.BC.19112.01.001932111993Rediscounting of Export Billsabroad2.3.6 g9DBOD.No.BC.512.01.0012001027082001Reporting of Interbankliabilities in Form A2.3.6h 2.3.710DBOD.No.BC.8212.01.0012001200226032002Maintenance of CRRACUDollar FundsExemption of2.3.7ii11DBOD.No.Ret.BC.6312.01.00120030414012004Maintenance of CRRSLR ontransaction in CollateralisedBorrowing and LendingObligation CBLO2.3.7iii12DBOD.IBS.BC.8823.13.00420020327032003Offshore Banking UnitsOBUs in Special EconomicZones SEZs2.3.7 iv      –2\n",
            "\n",
            "\n",
            "Remove punctuations from the text........\n",
            "\n",
            "\n",
            "cleaned texts :3AppendixMaster CircularCash Reserve Ratio CRR and Statutory Liquidity Ratio SLRList of circulars consolidated by the Master CircularSr.No.Circular NoDateSubjectCorrespondingparagraphnumber in thismaster circular1DBOD.No.Leg.BC. 34C.233A8523031985Demand Liabilities Timeliability ODTL2.3.1 2.3.22.3.5 3.4 i2DBOD.No.BC.11112.02.0019713101997Borrowings under paragraph5.B.81 of Exchange ControlManual Maintenance ofreserve requirement2.3.33DBOD.No.Ret.BC.1412.01.00120030421082003Computation of Net Demandand Time Liabilities NDTLfor the purpose ofmaintenance of CRRSLR2.3.44DBOD.No.149C.236G7127121971Participation Certificate to beincluded in ODTL2.3.55DBOD.No.BC.5812.02.001949513051995Margin money on billspurchased2.3.56DBOD.No.Ret.BC.40c.236GSpl8627031986Amount received from DICGC2.3.6 c7DBOD.No.RetBC.98C.96Ret8612091986Exclusion from NDTLReceiptfrom Court ReceiverInsurance and ECGC2.3.6 d e f8DBOD.No.BC.19112.01.001932111993Rediscounting of Export Billsabroad2.3.6 g9DBOD.No.BC.512.01.0012001027082001Reporting of Interbankliabilities in Form A2.3.6h 2.3.710DBOD.No.BC.8212.01.0012001200226032002Maintenance of CRRACUDollar FundsExemption of2.3.7ii11DBOD.No.Ret.BC.6312.01.00120030414012004Maintenance of CRRSLR ontransaction in CollateralisedBorrowing and LendingObligation CBLO2.3.7iii12DBOD.IBS.BC.8823.13.00420020327032003Offshore Banking UnitsOBUs in Special EconomicZones SEZs2.3.7 iv      –2\n",
            "\n",
            "\n",
            "Genearting payload ................\n",
            "\n",
            "\n",
            "Generating boolean questions ......\n",
            "\n",
            "\n",
            "Generating short questions .........\n",
            "\n",
            "\n"
          ]
        },
        {
          "output_type": "stream",
          "name": "stderr",
          "text": [
            "Token indices sequence length is longer than the specified maximum sequence length for this model (1436 > 512). Running this sequence through the model will result in indexing errors\n"
          ]
        },
        {
          "output_type": "stream",
          "name": "stdout",
          "text": [
            "Running model for generation\n",
            "{'questions': [{'Question': 'What is the purpose of the computation of net demandand time liabilities?', 'Answer': 'ret', 'id': 1, 'context': '34C.233A8523031985Demand Liabilities Timeliability ODTL2.3.1 2.3.22.3.5 3.4 i2DBOD.No.BC.11112.02.0019713101997Borrowings under paragraph5.B.81 of Exchange ControlManual Maintenance ofreserve requirement2.3.33DBOD.No.Ret.BC.1412.01.00120030421082003Computation of Net Demandand Time Liabilities NDTLfor the purpose ofmaintenance of CRRSLR2.3.44DBOD.No.149C.236G7127121971Participation Certificate to beincluded in ODTL2.3.55DBOD.No.BC.5812.02.001949513051995Margin money on billspurchased2.3.56DBOD.No.Ret.BC.40c.236GSpl8627031986Amount received from DICGC2.3.6 c7DBOD.No.RetBC.98C.96Ret8612091986Exclusion from NDTLReceiptfrom Court ReceiverInsurance and ECGC2.3.6 d e f8DBOD.No.BC.19112.01.001932111993Rediscounting of Export Billsabroad2.3.6 g9DBOD.No.BC.512.01.0012001027082001Reporting of Interbankliabilities in Form A2.3.6h 2.3.710DBOD.No.BC.8212.01.0012001200226032002Maintenance of CRRACUDollar FundsExemption of2.3.7ii11DBOD.No.Ret.BC.6312.01.00120030414012004Maintenance of CRRSLR ontransaction in CollateralisedBorrowing and LendingObligation CBLO2.3.7iii12DBOD.IBS.BC.8823.13.00420020327032003Offshore Banking UnitsOBUs in Special EconomicZones SEZs2.3.7 iv      –2 34C.233A8523031985Demand Liabilities Timeliability ODTL2.3.1 2.3.22.3.5 3.4 i2DBOD.No.BC.11112.02.0019713101997Borrowings under paragraph5.B.81 of Exchange ControlManual Maintenance ofreserve requirement2.3.33DBOD.No.Ret.BC.1412.01.00120030421082003Computation of Net Demandand Time Liabilities NDTLfor the purpose ofmaintenance of CRRSLR2.3.44DBOD.No.149C.236G7127121971Participation Certificate to beincluded in ODTL2.3.55DBOD.No.BC.5812.02.001949513051995Margin money on billspurchased2.3.56DBOD.No.Ret.BC.40c.236GSpl8627031986Amount received from DICGC2.3.6 c7DBOD.No.RetBC.98C.96Ret8612091986Exclusion from NDTLReceiptfrom Court ReceiverInsurance and ECGC2.3.6 d e f8DBOD.No.BC.19112.01.001932111993Rediscounting of Export Billsabroad2.3.6 g9DBOD.No.BC.512.01.0012001027082001Reporting of Interbankliabilities in Form A2.3.6h 2.3.710DBOD.No.BC.8212.01.0012001200226032002Maintenance of CRRACUDollar FundsExemption of2.3.7ii11DBOD.No.Ret.BC.6312.01.00120030414012004Maintenance of CRRSLR ontransaction in CollateralisedBorrowing and LendingObligation CBLO2.3.7iii12DBOD.IBS.BC.8823.13.00420020327032003Offshore Banking UnitsOBUs in Special EconomicZones SEZs2.3.7 iv      –2 34C.233A8523031985Demand Liabilities Timeliability ODTL2.3.1 2.3.22.3.5 3.4 i2DBOD.No.BC.11112.02.0019713101997Borrowings under paragraph5.B.81 of Exchange ControlManual Maintenance ofreserve requirement2.3.33DBOD.No.Ret.BC.1412.01.00120030421082003Computation of Net Demandand Time Liabilities NDTLfor the purpose ofmaintenance of CRRSLR2.3.44DBOD.No.149C.236G7127121971Participation Certificate to beincluded in ODTL2.3.55DBOD.No.BC.5812.02.001949513051995Margin money on billspurchased2.3.56DBOD.No.Ret.BC.40c.236GSpl8627031986Amount received from DICGC2.3.6 c7DBOD.No.RetBC.98C.96Ret8612091986Exclusion from NDTLReceiptfrom Court ReceiverInsurance and ECGC2.3.6 d e f8DBOD.No.BC.19112.01.001932111993Rediscounting of Export Billsabroad2.3.6 g9DBOD.No.BC.512.01.0012001027082001Reporting of Interbankliabilities in Form A2.3.6h 2.3.710DBOD.No.BC.8212.01.0012001200226032002Maintenance of CRRACUDollar FundsExemption of2.3.7ii11DBOD.No.Ret.BC.6312.01.00120030414012004Maintenance of CRRSLR ontransaction in CollateralisedBorrowing and LendingObligation CBLO2.3.7iii12DBOD.IBS.BC.8823.13.00420020327032003Offshore Banking UnitsOBUs in Special EconomicZones SEZs2.3.7 iv      –2'}, {'Question': 'What is the Master CircularSr.No.Circular NoDateSubjectCorrespondingparagraphnumber in thismaster circular1DBOD.No.Leg.BC?', 'Answer': 'circulars', 'id': 2, 'context': '3AppendixMaster CircularCash Reserve Ratio CRR and Statutory Liquidity Ratio SLRList of circulars consolidated by the Master CircularSr.No.Circular NoDateSubjectCorrespondingparagraphnumber in thismaster circular1DBOD.No.Leg.BC.'}]}\n",
            "Generating Multiple Choice Questions .....\n",
            "\n",
            "\n"
          ]
        },
        {
          "output_type": "stream",
          "name": "stderr",
          "text": [
            "Token indices sequence length is longer than the specified maximum sequence length for this model (1436 > 512). Running this sequence through the model will result in indexing errors\n"
          ]
        },
        {
          "output_type": "stream",
          "name": "stdout",
          "text": [
            "Running model for generation\n",
            " Sense2vec_distractors successful for word :  ret\n"
          ]
        },
        {
          "output_type": "stream",
          "name": "stderr",
          "text": [
            "Token indices sequence length is longer than the specified maximum sequence length for this model (521 > 512). Running this sequence through the model will result in indexing errors\n"
          ]
        },
        {
          "output_type": "stream",
          "name": "stdout",
          "text": [
            " Sense2vec_distractors successful for word :  circulars\n",
            "context : 413DBOD.No.BC5012.01.0012000017112000Collection of Data fromScheduled Commercial Banksin Annexure A and B2.3.814DBOD.No.Ret.BC.9912.01.00120020329042003Maintenance of Cash ReserveRatio CRR2.3.1015DBOD.No.BC.5412.01.00120020327122002Relaxation in Daily MinimumCash Reserve MaintenanceRequirement2.3.1116DBOD.No.BC.3412.01.00120010222102001Maintenance of Cash ReserveRatioCRR2.3.1217DBOD.No.BC.3412.01.00120010222102001Maintenance of Cash ReserveRatio CRR2.3.12118DBOD.Ret.BC.No.7912.01.001200220037032004Payment of interest on eligibleCRR balances on monthlybasisRevision in the format forsubmission of interest claimIntroduction of New software forForm A2.3.12 ii19DBOD.No.Ret.BC.9812.01.00120030418062004Revision of procedure forpayment of interest on theeligible CRR balances onmonthly basis2.3.12 ii20DBOD.No.Ret.BC.61C.96 Ret9024121990Shortfall in the maintenance ofCash Reserve Ratio CRRScheme of Graduated InterestRates2.3.12iii21DBOD.BC.8912.01.001989924081998Return in Form 'A'2.3.1422DBOD.No.BC.11712.02.01979821101997Rationalisation of StatutoryLiquidity Ratio SLR323DBOD.No.BP.BC.3221.04.0482000200116102000Guidelines for Classificationand Valuation of Investmentsby banks3.224DBOD.No.BC.8712.02.0012001200210042002Valuation of Securities for thepurpose of SLR3.225CPC.BC.69279A8420101984Provisional data onmaintenance of StatutoryLiquidity RequirementSupplemental information to thespecial Return3.4ii\n",
            "\n",
            "\n",
            "Remove HTML tags ......\n",
            "\n",
            "\n",
            "cleaned_text : 413DBOD.No.BC5012.01.0012000017112000Collection of Data fromScheduled Commercial Banksin Annexure A and B2.3.814DBOD.No.Ret.BC.9912.01.00120020329042003Maintenance of Cash ReserveRatio CRR2.3.1015DBOD.No.BC.5412.01.00120020327122002Relaxation in Daily MinimumCash Reserve MaintenanceRequirement2.3.1116DBOD.No.BC.3412.01.00120010222102001Maintenance of Cash ReserveRatioCRR2.3.1217DBOD.No.BC.3412.01.00120010222102001Maintenance of Cash ReserveRatio CRR2.3.12118DBOD.Ret.BC.No.7912.01.001200220037032004Payment of interest on eligibleCRR balances on monthlybasisRevision in the format forsubmission of interest claimIntroduction of New software forForm A2.3.12 ii19DBOD.No.Ret.BC.9812.01.00120030418062004Revision of procedure forpayment of interest on theeligible CRR balances onmonthly basis2.3.12 ii20DBOD.No.Ret.BC.61C.96 Ret9024121990Shortfall in the maintenance ofCash Reserve Ratio CRRScheme of Graduated InterestRates2.3.12iii21DBOD.BC.8912.01.001989924081998Return in Form 'A'2.3.1422DBOD.No.BC.11712.02.01979821101997Rationalisation of StatutoryLiquidity Ratio SLR323DBOD.No.BP.BC.3221.04.0482000200116102000Guidelines for Classificationand Valuation of Investmentsby banks3.224DBOD.No.BC.8712.02.0012001200210042002Valuation of Securities for thepurpose of SLR3.225CPC.BC.69279A8420101984Provisional data onmaintenance of StatutoryLiquidity RequirementSupplemental information to thespecial Return3.4ii\n",
            "\n",
            "\n",
            "Remove punctuations from the text........\n",
            "\n",
            "\n",
            "cleaned texts :413DBOD.No.BC5012.01.0012000017112000Collection of Data fromScheduled Commercial Banksin Annexure A and B2.3.814DBOD.No.Ret.BC.9912.01.00120020329042003Maintenance of Cash ReserveRatio CRR2.3.1015DBOD.No.BC.5412.01.00120020327122002Relaxation in Daily MinimumCash Reserve MaintenanceRequirement2.3.1116DBOD.No.BC.3412.01.00120010222102001Maintenance of Cash ReserveRatioCRR2.3.1217DBOD.No.BC.3412.01.00120010222102001Maintenance of Cash ReserveRatio CRR2.3.12118DBOD.Ret.BC.No.7912.01.001200220037032004Payment of interest on eligibleCRR balances on monthlybasisRevision in the format forsubmission of interest claimIntroduction of New software forForm A2.3.12 ii19DBOD.No.Ret.BC.9812.01.00120030418062004Revision of procedure forpayment of interest on theeligible CRR balances onmonthly basis2.3.12 ii20DBOD.No.Ret.BC.61C.96 Ret9024121990Shortfall in the maintenance ofCash Reserve Ratio CRRScheme of Graduated InterestRates2.3.12iii21DBOD.BC.8912.01.001989924081998Return in Form 'A'2.3.1422DBOD.No.BC.11712.02.01979821101997Rationalisation of StatutoryLiquidity Ratio SLR323DBOD.No.BP.BC.3221.04.0482000200116102000Guidelines for Classificationand Valuation of Investmentsby banks3.224DBOD.No.BC.8712.02.0012001200210042002Valuation of Securities for thepurpose of SLR3.225CPC.BC.69279A8420101984Provisional data onmaintenance of StatutoryLiquidity RequirementSupplemental information to thespecial Return3.4ii\n",
            "\n",
            "\n",
            "Genearting payload ................\n",
            "\n",
            "\n",
            "Generating boolean questions ......\n",
            "\n",
            "\n",
            "Generating short questions .........\n",
            "\n",
            "\n"
          ]
        },
        {
          "output_type": "stream",
          "name": "stderr",
          "text": [
            "Token indices sequence length is longer than the specified maximum sequence length for this model (1538 > 512). Running this sequence through the model will result in indexing errors\n"
          ]
        },
        {
          "output_type": "stream",
          "name": "stdout",
          "text": [
            "Running model for generation\n",
            "{'questions': [{'Question': 'What is the name of the data collection system for the purpose of calculating the interest on the eligible CRR balances?', 'Answer': 'ret', 'id': 1, 'context': \"413DBOD.No.BC5012.01.0012000017112000Collection of Data fromScheduled Commercial Banksin Annexure A and B2.3.814DBOD.No.Ret.BC.9912.01.00120020329042003Maintenance of Cash ReserveRatio CRR2.3.1015DBOD.No.BC.5412.01.00120020327122002Relaxation in Daily MinimumCash Reserve MaintenanceRequirement2.3.1116DBOD.No.BC.3412.01.00120010222102001Maintenance of Cash ReserveRatioCRR2.3.1217DBOD.No.BC.3412.01.00120010222102001Maintenance of Cash ReserveRatio CRR2.3.12118DBOD.Ret.BC.No.7912.01.001200220037032004Payment of interest on eligibleCRR balances on monthlybasisRevision in the format forsubmission of interest claimIntroduction of New software forForm A2.3.12 ii19DBOD.No.Ret.BC.9812.01.00120030418062004Revision of procedure forpayment of interest on theeligible CRR balances onmonthly basis2.3.12 ii20DBOD.No.Ret.BC.61C.96 Ret9024121990Shortfall in the maintenance ofCash Reserve Ratio CRRScheme of Graduated InterestRates2.3.12iii21DBOD.BC.8912.01.001989924081998Return in Form 'A'2.3.1422DBOD.No.BC.11712.02.01979821101997Rationalisation of StatutoryLiquidity Ratio SLR323DBOD.No.BP.BC.3221.04.0482000200116102000Guidelines for Classificationand Valuation of Investmentsby banks3.224DBOD.No.BC.8712.02.0012001200210042002Valuation of Securities for thepurpose of SLR3.225CPC.BC.69279A8420101984Provisional data onmaintenance of StatutoryLiquidity RequirementSupplemental information to thespecial Return3.4ii 413DBOD.No.BC5012.01.0012000017112000Collection of Data fromScheduled Commercial Banksin Annexure A and B2.3.814DBOD.No.Ret.BC.9912.01.00120020329042003Maintenance of Cash ReserveRatio CRR2.3.1015DBOD.No.BC.5412.01.00120020327122002Relaxation in Daily MinimumCash Reserve MaintenanceRequirement2.3.1116DBOD.No.BC.3412.01.00120010222102001Maintenance of Cash ReserveRatioCRR2.3.1217DBOD.No.BC.3412.01.00120010222102001Maintenance of Cash ReserveRatio CRR2.3.12118DBOD.Ret.BC.No.7912.01.001200220037032004Payment of interest on eligibleCRR balances on monthlybasisRevision in the format forsubmission of interest claimIntroduction of New software forForm A2.3.12 ii19DBOD.No.Ret.BC.9812.01.00120030418062004Revision of procedure forpayment of interest on theeligible CRR balances onmonthly basis2.3.12 ii20DBOD.No.Ret.BC.61C.96 Ret9024121990Shortfall in the maintenance ofCash Reserve Ratio CRRScheme of Graduated InterestRates2.3.12iii21DBOD.BC.8912.01.001989924081998Return in Form 'A'2.3.1422DBOD.No.BC.11712.02.01979821101997Rationalisation of StatutoryLiquidity Ratio SLR323DBOD.No.BP.BC.3221.04.0482000200116102000Guidelines for Classificationand Valuation of Investmentsby banks3.224DBOD.No.BC.8712.02.0012001200210042002Valuation of Securities for thepurpose of SLR3.225CPC.BC.69279A8420101984Provisional data onmaintenance of StatutoryLiquidity RequirementSupplemental information to thespecial Return3.4ii 413DBOD.No.BC5012.01.0012000017112000Collection of Data fromScheduled Commercial Banksin Annexure A and B2.3.814DBOD.No.Ret.BC.9912.01.00120020329042003Maintenance of Cash ReserveRatio CRR2.3.1015DBOD.No.BC.5412.01.00120020327122002Relaxation in Daily MinimumCash Reserve MaintenanceRequirement2.3.1116DBOD.No.BC.3412.01.00120010222102001Maintenance of Cash ReserveRatioCRR2.3.1217DBOD.No.BC.3412.01.00120010222102001Maintenance of Cash ReserveRatio CRR2.3.12118DBOD.Ret.BC.No.7912.01.001200220037032004Payment of interest on eligibleCRR balances on monthlybasisRevision in the format forsubmission of interest claimIntroduction of New software forForm A2.3.12 ii19DBOD.No.Ret.BC.9812.01.00120030418062004Revision of procedure forpayment of interest on theeligible CRR balances onmonthly basis2.3.12 ii20DBOD.No.Ret.BC.61C.96 Ret9024121990Shortfall in the maintenance ofCash Reserve Ratio CRRScheme of Graduated InterestRates2.3.12iii21DBOD.BC.8912.01.001989924081998Return in Form 'A'2.3.1422DBOD.No.BC.11712.02.01979821101997Rationalisation of StatutoryLiquidity Ratio SLR323DBOD.No.BP.BC.3221.04.0482000200116102000Guidelines for Classificationand Valuation of Investmentsby banks3.224DBOD.No.BC.8712.02.0012001200210042002Valuation of Securities for thepurpose of SLR3.225CPC.BC.69279A8420101984Provisional data onmaintenance of StatutoryLiquidity RequirementSupplemental information to thespecial Return3.4ii\"}]}\n",
            "Generating Multiple Choice Questions .....\n",
            "\n",
            "\n"
          ]
        },
        {
          "output_type": "stream",
          "name": "stderr",
          "text": [
            "Token indices sequence length is longer than the specified maximum sequence length for this model (1538 > 512). Running this sequence through the model will result in indexing errors\n"
          ]
        },
        {
          "output_type": "stream",
          "name": "stdout",
          "text": [
            "Running model for generation\n",
            " Sense2vec_distractors successful for word :  ret\n",
            "Time taken to complete the entire task in seconds : 360.8422350883484\n"
          ]
        }
      ]
    },
    {
      "cell_type": "markdown",
      "metadata": {
        "id": "qeL0oZpmUXmC"
      },
      "source": [
        "## Verifying the results"
      ]
    },
    {
      "cell_type": "code",
      "metadata": {
        "id": "2lIsXteMUrnn",
        "colab": {
          "base_uri": "https://localhost:8080/"
        },
        "outputId": "4a215c39-459e-4b62-c60b-fb6b827dcc35"
      },
      "source": [
        "len(mcq_questions_list),len(short_questions_list),len(boolean_questions_list)"
      ],
      "execution_count": 84,
      "outputs": [
        {
          "output_type": "execute_result",
          "data": {
            "text/plain": [
              "(12, 12, 12)"
            ]
          },
          "metadata": {},
          "execution_count": 84
        }
      ]
    },
    {
      "cell_type": "code",
      "metadata": {
        "colab": {
          "base_uri": "https://localhost:8080/"
        },
        "id": "y9XeCPNCS1Qf",
        "outputId": "b23a86d0-02ff-4770-c0da-f7af19b56b5b"
      },
      "source": [
        "len(document_list)"
      ],
      "execution_count": 85,
      "outputs": [
        {
          "output_type": "execute_result",
          "data": {
            "text/plain": [
              "12"
            ]
          },
          "metadata": {},
          "execution_count": 85
        }
      ]
    },
    {
      "cell_type": "code",
      "metadata": {
        "id": "lHkDDrJ-VOlW"
      },
      "source": [
        "df = pd.DataFrame({'Context':document_list,'mcq_question':mcq_questions_list,'short_question':short_questions_list,'boolean_question':boolean_questions_list})"
      ],
      "execution_count": 86,
      "outputs": []
    },
    {
      "cell_type": "code",
      "metadata": {
        "colab": {
          "base_uri": "https://localhost:8080/",
          "height": 287
        },
        "id": "ueaNPbE0USQx",
        "outputId": "bb3df5d1-2e4f-4b34-bbd2-8eece088eba9"
      },
      "source": [
        "df.head()"
      ],
      "execution_count": 87,
      "outputs": [
        {
          "output_type": "execute_result",
          "data": {
            "text/html": [
              "<div>\n",
              "<style scoped>\n",
              "    .dataframe tbody tr th:only-of-type {\n",
              "        vertical-align: middle;\n",
              "    }\n",
              "\n",
              "    .dataframe tbody tr th {\n",
              "        vertical-align: top;\n",
              "    }\n",
              "\n",
              "    .dataframe thead th {\n",
              "        text-align: right;\n",
              "    }\n",
              "</style>\n",
              "<table border=\"1\" class=\"dataframe\">\n",
              "  <thead>\n",
              "    <tr style=\"text-align: right;\">\n",
              "      <th></th>\n",
              "      <th>Context</th>\n",
              "      <th>mcq_question</th>\n",
              "      <th>short_question</th>\n",
              "      <th>boolean_question</th>\n",
              "    </tr>\n",
              "  </thead>\n",
              "  <tbody>\n",
              "    <tr>\n",
              "      <th>0</th>\n",
              "      <td>Master Circular    Cash  Reserve Ratio CRR and...</td>\n",
              "      <td>[What is the RBI's statutory return for the ye...</td>\n",
              "      <td>[What is the RBI's statutory return for the ye...</td>\n",
              "      <td>[Is the cash reserve ratio the same as the liq...</td>\n",
              "    </tr>\n",
              "    <tr>\n",
              "      <th>1</th>\n",
              "      <td>defined under Section 42 of RBI Act 1934 or to...</td>\n",
              "      <td>[What is the name of the Reserve Bank of India...</td>\n",
              "      <td>[What is the name of the Reserve Bank of India...</td>\n",
              "      <td>[Is there a difference between demand and time...</td>\n",
              "    </tr>\n",
              "    <tr>\n",
              "      <th>2</th>\n",
              "      <td>correspondent bank under the remittance facili...</td>\n",
              "      <td>[]</td>\n",
              "      <td>[]</td>\n",
              "      <td>[Is there a difference between other demand an...</td>\n",
              "    </tr>\n",
              "    <tr>\n",
              "      <th>3</th>\n",
              "      <td>c Amount received from DICGC towards claims an...</td>\n",
              "      <td>[What are the liabilities arising on account o...</td>\n",
              "      <td>[What are the liabilities arising on account o...</td>\n",
              "      <td>[Do commercial banks have to maintain statutor...</td>\n",
              "    </tr>\n",
              "    <tr>\n",
              "      <th>4</th>\n",
              "      <td>Loans out of Foreign Currency Non ŒResident Ac...</td>\n",
              "      <td>[]</td>\n",
              "      <td>[]</td>\n",
              "      <td>[Is cash reserve ratio the same as crr?, Is th...</td>\n",
              "    </tr>\n",
              "  </tbody>\n",
              "</table>\n",
              "</div>"
            ],
            "text/plain": [
              "                                             Context  ...                                   boolean_question\n",
              "0  Master Circular    Cash  Reserve Ratio CRR and...  ...  [Is the cash reserve ratio the same as the liq...\n",
              "1  defined under Section 42 of RBI Act 1934 or to...  ...  [Is there a difference between demand and time...\n",
              "2  correspondent bank under the remittance facili...  ...  [Is there a difference between other demand an...\n",
              "3  c Amount received from DICGC towards claims an...  ...  [Do commercial banks have to maintain statutor...\n",
              "4  Loans out of Foreign Currency Non ŒResident Ac...  ...  [Is cash reserve ratio the same as crr?, Is th...\n",
              "\n",
              "[5 rows x 4 columns]"
            ]
          },
          "metadata": {},
          "execution_count": 87
        }
      ]
    },
    {
      "cell_type": "code",
      "metadata": {
        "colab": {
          "base_uri": "https://localhost:8080/"
        },
        "id": "n55f8ST8f4WF",
        "outputId": "83cf0b92-8454-439d-96bc-f8a898445ced"
      },
      "source": [
        "import textwrap\n",
        "wrapper = textwrap.TextWrapper(width=200)\n",
        "word_list = wrapper.wrap(text=document_list[2])\n",
        "for element in word_list:\n",
        "  print(element)"
      ],
      "execution_count": 92,
      "outputs": [
        {
          "output_type": "stream",
          "name": "stdout",
          "text": [
            "correspondent bank under the remittance facilities scheme and remaining unpaid should bereflected in the accepting bank's books as an outside liability and the same should also be takeninto account\n",
            "for computation of NDTL for CRRSLR purpose.The amount received by correspondent banks has to be shown as 'Liability to the Banking System'by them and not as 'Liability to others' and this liability\n",
            "could be netted off by the correspondentbanks against the interbank assets. Likewise sums placed by banks issuingdraftsinterestdividend warrants are to be treated as 'Assets with Banking System' in\n",
            "their booksand can be netted off from their interbank liabilities.2.3.5 Other Demand and Time Liabilities ODTLOther Demand and Time Liabilities ODTL include interest accrued on deposits bills\n",
            "payableunpaid dividends suspense account balances representing amounts due to other banks or publicnet credit balances in branch adjustment account any amounts due to the Banking Systemwhich are not\n",
            "in the nature of deposits or borrowing. Such liabilities may arise due to items like icollection of bills on behalf of other banks ii interest due to other banks and so on. If a bankcannot segregate\n",
            "from the total of Other Demand and Time Liabilities ODTL the liabilities to thebanking system the entire 'Other Demand and Time Liabilities' may be shown against item II  c 'Other Demand  and  Time\n",
            "Liabilities' of  the  return  in  Form 'A'  and average  CRR  isrequired to be maintained on it by all Scheduled Commercial Banks Participation Certificateissued to other banks the balances\n",
            "outstanding in the blocked account pertaining to segregatedoutstanding credit entries for more than  5 years  in  inter branch  adjustment  account the  marginmoney on  billspurchased  discounted and\n",
            "gold borrowed by banks from abroad also should be included inODTL.2.3.6 Liabilities not to be included for DTLNDTL computationThe undernoted liabilities will not form part of liabilities for the\n",
            "purpose of CRR a Paid up capital reserves any credit balance in the Profit & Loss Account of   the bankamount availed of as refinance from the RBI and apex financial institutions like Exim BankIDBI\n",
            "NABARD NHB SIDBI etc.b Amount of provision for income tax in excess of the actual estimated liabilities.\n"
          ]
        }
      ]
    },
    {
      "cell_type": "code",
      "metadata": {
        "colab": {
          "base_uri": "https://localhost:8080/"
        },
        "id": "-r6cYGE6OllN",
        "outputId": "b5d795b3-74e0-4ba7-a8c8-5062ca9ca5c5"
      },
      "source": [
        "word_list"
      ],
      "execution_count": 93,
      "outputs": [
        {
          "output_type": "execute_result",
          "data": {
            "text/plain": [
              "[\"correspondent bank under the remittance facilities scheme and remaining unpaid should bereflected in the accepting bank's books as an outside liability and the same should also be takeninto account\",\n",
              " \"for computation of NDTL for CRRSLR purpose.The amount received by correspondent banks has to be shown as 'Liability to the Banking System'by them and not as 'Liability to others' and this liability\",\n",
              " \"could be netted off by the correspondentbanks against the interbank assets. Likewise sums placed by banks issuingdraftsinterestdividend warrants are to be treated as 'Assets with Banking System' in\",\n",
              " 'their booksand can be netted off from their interbank liabilities.2.3.5 Other Demand and Time Liabilities ODTLOther Demand and Time Liabilities ODTL include interest accrued on deposits bills',\n",
              " 'payableunpaid dividends suspense account balances representing amounts due to other banks or publicnet credit balances in branch adjustment account any amounts due to the Banking Systemwhich are not',\n",
              " 'in the nature of deposits or borrowing. Such liabilities may arise due to items like icollection of bills on behalf of other banks ii interest due to other banks and so on. If a bankcannot segregate',\n",
              " \"from the total of Other Demand and Time Liabilities ODTL the liabilities to thebanking system the entire 'Other Demand and Time Liabilities' may be shown against item II  c 'Other Demand  and  Time\",\n",
              " \"Liabilities' of  the  return  in  Form 'A'  and average  CRR  isrequired to be maintained on it by all Scheduled Commercial Banks Participation Certificateissued to other banks the balances\",\n",
              " 'outstanding in the blocked account pertaining to segregatedoutstanding credit entries for more than  5 years  in  inter branch  adjustment  account the  marginmoney on  billspurchased  discounted and',\n",
              " 'gold borrowed by banks from abroad also should be included inODTL.2.3.6 Liabilities not to be included for DTLNDTL computationThe undernoted liabilities will not form part of liabilities for the',\n",
              " 'purpose of CRR a Paid up capital reserves any credit balance in the Profit & Loss Account of   the bankamount availed of as refinance from the RBI and apex financial institutions like Exim BankIDBI',\n",
              " 'NABARD NHB SIDBI etc.b Amount of provision for income tax in excess of the actual estimated liabilities.']"
            ]
          },
          "metadata": {},
          "execution_count": 93
        }
      ]
    },
    {
      "cell_type": "code",
      "metadata": {
        "id": "4tvvVFHejWEO"
      },
      "source": [
        "df.to_csv('questions.csv',index=False)"
      ],
      "execution_count": 94,
      "outputs": []
    }
  ]
}