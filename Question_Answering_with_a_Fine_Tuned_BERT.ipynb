{
  "nbformat": 4,
  "nbformat_minor": 0,
  "metadata": {
    "colab": {
      "name": " Question Answering with a Fine-Tuned BERT.ipynb",
      "provenance": [],
      "collapsed_sections": [],
      "toc_visible": true,
      "machine_shape": "hm",
      "include_colab_link": true
    },
    "kernelspec": {
      "name": "python3",
      "display_name": "Python 3"
    },
    "widgets": {
      "application/vnd.jupyter.widget-state+json": {
        "581430f017044d6d8c5465461a2d7ed0": {
          "model_module": "@jupyter-widgets/controls",
          "model_name": "HBoxModel",
          "model_module_version": "1.5.0",
          "state": {
            "_view_name": "HBoxView",
            "_dom_classes": [],
            "_model_name": "HBoxModel",
            "_view_module": "@jupyter-widgets/controls",
            "_model_module_version": "1.5.0",
            "_view_count": null,
            "_view_module_version": "1.5.0",
            "box_style": "",
            "layout": "IPY_MODEL_414da5e4180c44c0a3e91086ffdd4369",
            "_model_module": "@jupyter-widgets/controls",
            "children": [
              "IPY_MODEL_6e0faa303848460ca80ad7bda08ba265",
              "IPY_MODEL_a131f1e2521749b6872501562635a17b",
              "IPY_MODEL_6deca14bc86d4e058d35085a3ae36112"
            ]
          }
        },
        "414da5e4180c44c0a3e91086ffdd4369": {
          "model_module": "@jupyter-widgets/base",
          "model_name": "LayoutModel",
          "model_module_version": "1.2.0",
          "state": {
            "_view_name": "LayoutView",
            "grid_template_rows": null,
            "right": null,
            "justify_content": null,
            "_view_module": "@jupyter-widgets/base",
            "overflow": null,
            "_model_module_version": "1.2.0",
            "_view_count": null,
            "flex_flow": null,
            "width": null,
            "min_width": null,
            "border": null,
            "align_items": null,
            "bottom": null,
            "_model_module": "@jupyter-widgets/base",
            "top": null,
            "grid_column": null,
            "overflow_y": null,
            "overflow_x": null,
            "grid_auto_flow": null,
            "grid_area": null,
            "grid_template_columns": null,
            "flex": null,
            "_model_name": "LayoutModel",
            "justify_items": null,
            "grid_row": null,
            "max_height": null,
            "align_content": null,
            "visibility": null,
            "align_self": null,
            "height": null,
            "min_height": null,
            "padding": null,
            "grid_auto_rows": null,
            "grid_gap": null,
            "max_width": null,
            "order": null,
            "_view_module_version": "1.2.0",
            "grid_template_areas": null,
            "object_position": null,
            "object_fit": null,
            "grid_auto_columns": null,
            "margin": null,
            "display": null,
            "left": null
          }
        },
        "6e0faa303848460ca80ad7bda08ba265": {
          "model_module": "@jupyter-widgets/controls",
          "model_name": "HTMLModel",
          "model_module_version": "1.5.0",
          "state": {
            "_view_name": "HTMLView",
            "style": "IPY_MODEL_598b3d07b77a410c8deda79699304f1c",
            "_dom_classes": [],
            "description": "",
            "_model_name": "HTMLModel",
            "placeholder": "​",
            "_view_module": "@jupyter-widgets/controls",
            "_model_module_version": "1.5.0",
            "value": "Downloading: 100%",
            "_view_count": null,
            "_view_module_version": "1.5.0",
            "description_tooltip": null,
            "_model_module": "@jupyter-widgets/controls",
            "layout": "IPY_MODEL_ea4aa9fb73c7489aa0103446dec5beee"
          }
        },
        "a131f1e2521749b6872501562635a17b": {
          "model_module": "@jupyter-widgets/controls",
          "model_name": "FloatProgressModel",
          "model_module_version": "1.5.0",
          "state": {
            "_view_name": "ProgressView",
            "style": "IPY_MODEL_ff333e5554594347933c56391855bb6e",
            "_dom_classes": [],
            "description": "",
            "_model_name": "FloatProgressModel",
            "bar_style": "success",
            "max": 443,
            "_view_module": "@jupyter-widgets/controls",
            "_model_module_version": "1.5.0",
            "value": 443,
            "_view_count": null,
            "_view_module_version": "1.5.0",
            "orientation": "horizontal",
            "min": 0,
            "description_tooltip": null,
            "_model_module": "@jupyter-widgets/controls",
            "layout": "IPY_MODEL_b18df944c8ac4e1494ebb877c89be817"
          }
        },
        "6deca14bc86d4e058d35085a3ae36112": {
          "model_module": "@jupyter-widgets/controls",
          "model_name": "HTMLModel",
          "model_module_version": "1.5.0",
          "state": {
            "_view_name": "HTMLView",
            "style": "IPY_MODEL_0eedc39de7054088bb6c40c2e77f94df",
            "_dom_classes": [],
            "description": "",
            "_model_name": "HTMLModel",
            "placeholder": "​",
            "_view_module": "@jupyter-widgets/controls",
            "_model_module_version": "1.5.0",
            "value": " 443/443 [00:00&lt;00:00, 17.2kB/s]",
            "_view_count": null,
            "_view_module_version": "1.5.0",
            "description_tooltip": null,
            "_model_module": "@jupyter-widgets/controls",
            "layout": "IPY_MODEL_c242e51d1c054c1589ed72b25c3e1131"
          }
        },
        "598b3d07b77a410c8deda79699304f1c": {
          "model_module": "@jupyter-widgets/controls",
          "model_name": "DescriptionStyleModel",
          "model_module_version": "1.5.0",
          "state": {
            "_view_name": "StyleView",
            "_model_name": "DescriptionStyleModel",
            "description_width": "",
            "_view_module": "@jupyter-widgets/base",
            "_model_module_version": "1.5.0",
            "_view_count": null,
            "_view_module_version": "1.2.0",
            "_model_module": "@jupyter-widgets/controls"
          }
        },
        "ea4aa9fb73c7489aa0103446dec5beee": {
          "model_module": "@jupyter-widgets/base",
          "model_name": "LayoutModel",
          "model_module_version": "1.2.0",
          "state": {
            "_view_name": "LayoutView",
            "grid_template_rows": null,
            "right": null,
            "justify_content": null,
            "_view_module": "@jupyter-widgets/base",
            "overflow": null,
            "_model_module_version": "1.2.0",
            "_view_count": null,
            "flex_flow": null,
            "width": null,
            "min_width": null,
            "border": null,
            "align_items": null,
            "bottom": null,
            "_model_module": "@jupyter-widgets/base",
            "top": null,
            "grid_column": null,
            "overflow_y": null,
            "overflow_x": null,
            "grid_auto_flow": null,
            "grid_area": null,
            "grid_template_columns": null,
            "flex": null,
            "_model_name": "LayoutModel",
            "justify_items": null,
            "grid_row": null,
            "max_height": null,
            "align_content": null,
            "visibility": null,
            "align_self": null,
            "height": null,
            "min_height": null,
            "padding": null,
            "grid_auto_rows": null,
            "grid_gap": null,
            "max_width": null,
            "order": null,
            "_view_module_version": "1.2.0",
            "grid_template_areas": null,
            "object_position": null,
            "object_fit": null,
            "grid_auto_columns": null,
            "margin": null,
            "display": null,
            "left": null
          }
        },
        "ff333e5554594347933c56391855bb6e": {
          "model_module": "@jupyter-widgets/controls",
          "model_name": "ProgressStyleModel",
          "model_module_version": "1.5.0",
          "state": {
            "_view_name": "StyleView",
            "_model_name": "ProgressStyleModel",
            "description_width": "",
            "_view_module": "@jupyter-widgets/base",
            "_model_module_version": "1.5.0",
            "_view_count": null,
            "_view_module_version": "1.2.0",
            "bar_color": null,
            "_model_module": "@jupyter-widgets/controls"
          }
        },
        "b18df944c8ac4e1494ebb877c89be817": {
          "model_module": "@jupyter-widgets/base",
          "model_name": "LayoutModel",
          "model_module_version": "1.2.0",
          "state": {
            "_view_name": "LayoutView",
            "grid_template_rows": null,
            "right": null,
            "justify_content": null,
            "_view_module": "@jupyter-widgets/base",
            "overflow": null,
            "_model_module_version": "1.2.0",
            "_view_count": null,
            "flex_flow": null,
            "width": null,
            "min_width": null,
            "border": null,
            "align_items": null,
            "bottom": null,
            "_model_module": "@jupyter-widgets/base",
            "top": null,
            "grid_column": null,
            "overflow_y": null,
            "overflow_x": null,
            "grid_auto_flow": null,
            "grid_area": null,
            "grid_template_columns": null,
            "flex": null,
            "_model_name": "LayoutModel",
            "justify_items": null,
            "grid_row": null,
            "max_height": null,
            "align_content": null,
            "visibility": null,
            "align_self": null,
            "height": null,
            "min_height": null,
            "padding": null,
            "grid_auto_rows": null,
            "grid_gap": null,
            "max_width": null,
            "order": null,
            "_view_module_version": "1.2.0",
            "grid_template_areas": null,
            "object_position": null,
            "object_fit": null,
            "grid_auto_columns": null,
            "margin": null,
            "display": null,
            "left": null
          }
        },
        "0eedc39de7054088bb6c40c2e77f94df": {
          "model_module": "@jupyter-widgets/controls",
          "model_name": "DescriptionStyleModel",
          "model_module_version": "1.5.0",
          "state": {
            "_view_name": "StyleView",
            "_model_name": "DescriptionStyleModel",
            "description_width": "",
            "_view_module": "@jupyter-widgets/base",
            "_model_module_version": "1.5.0",
            "_view_count": null,
            "_view_module_version": "1.2.0",
            "_model_module": "@jupyter-widgets/controls"
          }
        },
        "c242e51d1c054c1589ed72b25c3e1131": {
          "model_module": "@jupyter-widgets/base",
          "model_name": "LayoutModel",
          "model_module_version": "1.2.0",
          "state": {
            "_view_name": "LayoutView",
            "grid_template_rows": null,
            "right": null,
            "justify_content": null,
            "_view_module": "@jupyter-widgets/base",
            "overflow": null,
            "_model_module_version": "1.2.0",
            "_view_count": null,
            "flex_flow": null,
            "width": null,
            "min_width": null,
            "border": null,
            "align_items": null,
            "bottom": null,
            "_model_module": "@jupyter-widgets/base",
            "top": null,
            "grid_column": null,
            "overflow_y": null,
            "overflow_x": null,
            "grid_auto_flow": null,
            "grid_area": null,
            "grid_template_columns": null,
            "flex": null,
            "_model_name": "LayoutModel",
            "justify_items": null,
            "grid_row": null,
            "max_height": null,
            "align_content": null,
            "visibility": null,
            "align_self": null,
            "height": null,
            "min_height": null,
            "padding": null,
            "grid_auto_rows": null,
            "grid_gap": null,
            "max_width": null,
            "order": null,
            "_view_module_version": "1.2.0",
            "grid_template_areas": null,
            "object_position": null,
            "object_fit": null,
            "grid_auto_columns": null,
            "margin": null,
            "display": null,
            "left": null
          }
        },
        "bd330fe7f1e54f18be8a563f496cf463": {
          "model_module": "@jupyter-widgets/controls",
          "model_name": "HBoxModel",
          "model_module_version": "1.5.0",
          "state": {
            "_view_name": "HBoxView",
            "_dom_classes": [],
            "_model_name": "HBoxModel",
            "_view_module": "@jupyter-widgets/controls",
            "_model_module_version": "1.5.0",
            "_view_count": null,
            "_view_module_version": "1.5.0",
            "box_style": "",
            "layout": "IPY_MODEL_9b60fc582b09442b9129b8701e9f80c3",
            "_model_module": "@jupyter-widgets/controls",
            "children": [
              "IPY_MODEL_aae4fb6747b64826b8911d1e25779f24",
              "IPY_MODEL_c152a2399abb4bc986651f8de6fc8149",
              "IPY_MODEL_2785e177d06e4f04a07e98ab2bc2669a"
            ]
          }
        },
        "9b60fc582b09442b9129b8701e9f80c3": {
          "model_module": "@jupyter-widgets/base",
          "model_name": "LayoutModel",
          "model_module_version": "1.2.0",
          "state": {
            "_view_name": "LayoutView",
            "grid_template_rows": null,
            "right": null,
            "justify_content": null,
            "_view_module": "@jupyter-widgets/base",
            "overflow": null,
            "_model_module_version": "1.2.0",
            "_view_count": null,
            "flex_flow": null,
            "width": null,
            "min_width": null,
            "border": null,
            "align_items": null,
            "bottom": null,
            "_model_module": "@jupyter-widgets/base",
            "top": null,
            "grid_column": null,
            "overflow_y": null,
            "overflow_x": null,
            "grid_auto_flow": null,
            "grid_area": null,
            "grid_template_columns": null,
            "flex": null,
            "_model_name": "LayoutModel",
            "justify_items": null,
            "grid_row": null,
            "max_height": null,
            "align_content": null,
            "visibility": null,
            "align_self": null,
            "height": null,
            "min_height": null,
            "padding": null,
            "grid_auto_rows": null,
            "grid_gap": null,
            "max_width": null,
            "order": null,
            "_view_module_version": "1.2.0",
            "grid_template_areas": null,
            "object_position": null,
            "object_fit": null,
            "grid_auto_columns": null,
            "margin": null,
            "display": null,
            "left": null
          }
        },
        "aae4fb6747b64826b8911d1e25779f24": {
          "model_module": "@jupyter-widgets/controls",
          "model_name": "HTMLModel",
          "model_module_version": "1.5.0",
          "state": {
            "_view_name": "HTMLView",
            "style": "IPY_MODEL_4f85f439309b48308b5b3f5b73883658",
            "_dom_classes": [],
            "description": "",
            "_model_name": "HTMLModel",
            "placeholder": "​",
            "_view_module": "@jupyter-widgets/controls",
            "_model_module_version": "1.5.0",
            "value": "Downloading: 100%",
            "_view_count": null,
            "_view_module_version": "1.5.0",
            "description_tooltip": null,
            "_model_module": "@jupyter-widgets/controls",
            "layout": "IPY_MODEL_30e58935bdd54422864fe8ac51a3d47d"
          }
        },
        "c152a2399abb4bc986651f8de6fc8149": {
          "model_module": "@jupyter-widgets/controls",
          "model_name": "FloatProgressModel",
          "model_module_version": "1.5.0",
          "state": {
            "_view_name": "ProgressView",
            "style": "IPY_MODEL_16693cdc3b5e4947acd56c948bd8639a",
            "_dom_classes": [],
            "description": "",
            "_model_name": "FloatProgressModel",
            "bar_style": "success",
            "max": 1340675298,
            "_view_module": "@jupyter-widgets/controls",
            "_model_module_version": "1.5.0",
            "value": 1340675298,
            "_view_count": null,
            "_view_module_version": "1.5.0",
            "orientation": "horizontal",
            "min": 0,
            "description_tooltip": null,
            "_model_module": "@jupyter-widgets/controls",
            "layout": "IPY_MODEL_3e575e822f3c4aa9b6c6a74f80aaa596"
          }
        },
        "2785e177d06e4f04a07e98ab2bc2669a": {
          "model_module": "@jupyter-widgets/controls",
          "model_name": "HTMLModel",
          "model_module_version": "1.5.0",
          "state": {
            "_view_name": "HTMLView",
            "style": "IPY_MODEL_5f0651e46403444781cd7772a430852e",
            "_dom_classes": [],
            "description": "",
            "_model_name": "HTMLModel",
            "placeholder": "​",
            "_view_module": "@jupyter-widgets/controls",
            "_model_module_version": "1.5.0",
            "value": " 1.25G/1.25G [00:23&lt;00:00, 57.7MB/s]",
            "_view_count": null,
            "_view_module_version": "1.5.0",
            "description_tooltip": null,
            "_model_module": "@jupyter-widgets/controls",
            "layout": "IPY_MODEL_7fef74505e734b0c9ee6827f7a028af9"
          }
        },
        "4f85f439309b48308b5b3f5b73883658": {
          "model_module": "@jupyter-widgets/controls",
          "model_name": "DescriptionStyleModel",
          "model_module_version": "1.5.0",
          "state": {
            "_view_name": "StyleView",
            "_model_name": "DescriptionStyleModel",
            "description_width": "",
            "_view_module": "@jupyter-widgets/base",
            "_model_module_version": "1.5.0",
            "_view_count": null,
            "_view_module_version": "1.2.0",
            "_model_module": "@jupyter-widgets/controls"
          }
        },
        "30e58935bdd54422864fe8ac51a3d47d": {
          "model_module": "@jupyter-widgets/base",
          "model_name": "LayoutModel",
          "model_module_version": "1.2.0",
          "state": {
            "_view_name": "LayoutView",
            "grid_template_rows": null,
            "right": null,
            "justify_content": null,
            "_view_module": "@jupyter-widgets/base",
            "overflow": null,
            "_model_module_version": "1.2.0",
            "_view_count": null,
            "flex_flow": null,
            "width": null,
            "min_width": null,
            "border": null,
            "align_items": null,
            "bottom": null,
            "_model_module": "@jupyter-widgets/base",
            "top": null,
            "grid_column": null,
            "overflow_y": null,
            "overflow_x": null,
            "grid_auto_flow": null,
            "grid_area": null,
            "grid_template_columns": null,
            "flex": null,
            "_model_name": "LayoutModel",
            "justify_items": null,
            "grid_row": null,
            "max_height": null,
            "align_content": null,
            "visibility": null,
            "align_self": null,
            "height": null,
            "min_height": null,
            "padding": null,
            "grid_auto_rows": null,
            "grid_gap": null,
            "max_width": null,
            "order": null,
            "_view_module_version": "1.2.0",
            "grid_template_areas": null,
            "object_position": null,
            "object_fit": null,
            "grid_auto_columns": null,
            "margin": null,
            "display": null,
            "left": null
          }
        },
        "16693cdc3b5e4947acd56c948bd8639a": {
          "model_module": "@jupyter-widgets/controls",
          "model_name": "ProgressStyleModel",
          "model_module_version": "1.5.0",
          "state": {
            "_view_name": "StyleView",
            "_model_name": "ProgressStyleModel",
            "description_width": "",
            "_view_module": "@jupyter-widgets/base",
            "_model_module_version": "1.5.0",
            "_view_count": null,
            "_view_module_version": "1.2.0",
            "bar_color": null,
            "_model_module": "@jupyter-widgets/controls"
          }
        },
        "3e575e822f3c4aa9b6c6a74f80aaa596": {
          "model_module": "@jupyter-widgets/base",
          "model_name": "LayoutModel",
          "model_module_version": "1.2.0",
          "state": {
            "_view_name": "LayoutView",
            "grid_template_rows": null,
            "right": null,
            "justify_content": null,
            "_view_module": "@jupyter-widgets/base",
            "overflow": null,
            "_model_module_version": "1.2.0",
            "_view_count": null,
            "flex_flow": null,
            "width": null,
            "min_width": null,
            "border": null,
            "align_items": null,
            "bottom": null,
            "_model_module": "@jupyter-widgets/base",
            "top": null,
            "grid_column": null,
            "overflow_y": null,
            "overflow_x": null,
            "grid_auto_flow": null,
            "grid_area": null,
            "grid_template_columns": null,
            "flex": null,
            "_model_name": "LayoutModel",
            "justify_items": null,
            "grid_row": null,
            "max_height": null,
            "align_content": null,
            "visibility": null,
            "align_self": null,
            "height": null,
            "min_height": null,
            "padding": null,
            "grid_auto_rows": null,
            "grid_gap": null,
            "max_width": null,
            "order": null,
            "_view_module_version": "1.2.0",
            "grid_template_areas": null,
            "object_position": null,
            "object_fit": null,
            "grid_auto_columns": null,
            "margin": null,
            "display": null,
            "left": null
          }
        },
        "5f0651e46403444781cd7772a430852e": {
          "model_module": "@jupyter-widgets/controls",
          "model_name": "DescriptionStyleModel",
          "model_module_version": "1.5.0",
          "state": {
            "_view_name": "StyleView",
            "_model_name": "DescriptionStyleModel",
            "description_width": "",
            "_view_module": "@jupyter-widgets/base",
            "_model_module_version": "1.5.0",
            "_view_count": null,
            "_view_module_version": "1.2.0",
            "_model_module": "@jupyter-widgets/controls"
          }
        },
        "7fef74505e734b0c9ee6827f7a028af9": {
          "model_module": "@jupyter-widgets/base",
          "model_name": "LayoutModel",
          "model_module_version": "1.2.0",
          "state": {
            "_view_name": "LayoutView",
            "grid_template_rows": null,
            "right": null,
            "justify_content": null,
            "_view_module": "@jupyter-widgets/base",
            "overflow": null,
            "_model_module_version": "1.2.0",
            "_view_count": null,
            "flex_flow": null,
            "width": null,
            "min_width": null,
            "border": null,
            "align_items": null,
            "bottom": null,
            "_model_module": "@jupyter-widgets/base",
            "top": null,
            "grid_column": null,
            "overflow_y": null,
            "overflow_x": null,
            "grid_auto_flow": null,
            "grid_area": null,
            "grid_template_columns": null,
            "flex": null,
            "_model_name": "LayoutModel",
            "justify_items": null,
            "grid_row": null,
            "max_height": null,
            "align_content": null,
            "visibility": null,
            "align_self": null,
            "height": null,
            "min_height": null,
            "padding": null,
            "grid_auto_rows": null,
            "grid_gap": null,
            "max_width": null,
            "order": null,
            "_view_module_version": "1.2.0",
            "grid_template_areas": null,
            "object_position": null,
            "object_fit": null,
            "grid_auto_columns": null,
            "margin": null,
            "display": null,
            "left": null
          }
        },
        "c0ef38c4988447a2907a747260124f22": {
          "model_module": "@jupyter-widgets/controls",
          "model_name": "HBoxModel",
          "model_module_version": "1.5.0",
          "state": {
            "_view_name": "HBoxView",
            "_dom_classes": [],
            "_model_name": "HBoxModel",
            "_view_module": "@jupyter-widgets/controls",
            "_model_module_version": "1.5.0",
            "_view_count": null,
            "_view_module_version": "1.5.0",
            "box_style": "",
            "layout": "IPY_MODEL_d9393939a2f34c099a871474cff92249",
            "_model_module": "@jupyter-widgets/controls",
            "children": [
              "IPY_MODEL_b7c58be1f8fa46dc9987de2c4559a025",
              "IPY_MODEL_6b944e3b731e4626a63cd59c2d4c5fe3",
              "IPY_MODEL_aab9f43b5fa849fbaf49382698f2ac3f"
            ]
          }
        },
        "d9393939a2f34c099a871474cff92249": {
          "model_module": "@jupyter-widgets/base",
          "model_name": "LayoutModel",
          "model_module_version": "1.2.0",
          "state": {
            "_view_name": "LayoutView",
            "grid_template_rows": null,
            "right": null,
            "justify_content": null,
            "_view_module": "@jupyter-widgets/base",
            "overflow": null,
            "_model_module_version": "1.2.0",
            "_view_count": null,
            "flex_flow": null,
            "width": null,
            "min_width": null,
            "border": null,
            "align_items": null,
            "bottom": null,
            "_model_module": "@jupyter-widgets/base",
            "top": null,
            "grid_column": null,
            "overflow_y": null,
            "overflow_x": null,
            "grid_auto_flow": null,
            "grid_area": null,
            "grid_template_columns": null,
            "flex": null,
            "_model_name": "LayoutModel",
            "justify_items": null,
            "grid_row": null,
            "max_height": null,
            "align_content": null,
            "visibility": null,
            "align_self": null,
            "height": null,
            "min_height": null,
            "padding": null,
            "grid_auto_rows": null,
            "grid_gap": null,
            "max_width": null,
            "order": null,
            "_view_module_version": "1.2.0",
            "grid_template_areas": null,
            "object_position": null,
            "object_fit": null,
            "grid_auto_columns": null,
            "margin": null,
            "display": null,
            "left": null
          }
        },
        "b7c58be1f8fa46dc9987de2c4559a025": {
          "model_module": "@jupyter-widgets/controls",
          "model_name": "HTMLModel",
          "model_module_version": "1.5.0",
          "state": {
            "_view_name": "HTMLView",
            "style": "IPY_MODEL_26b36f0791ea4963a8fc0efddc70241d",
            "_dom_classes": [],
            "description": "",
            "_model_name": "HTMLModel",
            "placeholder": "​",
            "_view_module": "@jupyter-widgets/controls",
            "_model_module_version": "1.5.0",
            "value": "Downloading: 100%",
            "_view_count": null,
            "_view_module_version": "1.5.0",
            "description_tooltip": null,
            "_model_module": "@jupyter-widgets/controls",
            "layout": "IPY_MODEL_78e22f572c4d467c9177800259124b7c"
          }
        },
        "6b944e3b731e4626a63cd59c2d4c5fe3": {
          "model_module": "@jupyter-widgets/controls",
          "model_name": "FloatProgressModel",
          "model_module_version": "1.5.0",
          "state": {
            "_view_name": "ProgressView",
            "style": "IPY_MODEL_a31c3a6369e94ed49f1a3fdaa2b6e3e3",
            "_dom_classes": [],
            "description": "",
            "_model_name": "FloatProgressModel",
            "bar_style": "success",
            "max": 231508,
            "_view_module": "@jupyter-widgets/controls",
            "_model_module_version": "1.5.0",
            "value": 231508,
            "_view_count": null,
            "_view_module_version": "1.5.0",
            "orientation": "horizontal",
            "min": 0,
            "description_tooltip": null,
            "_model_module": "@jupyter-widgets/controls",
            "layout": "IPY_MODEL_8e013f4438cc4d2dbc6fd6dbc24f8522"
          }
        },
        "aab9f43b5fa849fbaf49382698f2ac3f": {
          "model_module": "@jupyter-widgets/controls",
          "model_name": "HTMLModel",
          "model_module_version": "1.5.0",
          "state": {
            "_view_name": "HTMLView",
            "style": "IPY_MODEL_86b5efa73fb642c69ef16f7511f4d1c6",
            "_dom_classes": [],
            "description": "",
            "_model_name": "HTMLModel",
            "placeholder": "​",
            "_view_module": "@jupyter-widgets/controls",
            "_model_module_version": "1.5.0",
            "value": " 226k/226k [00:00&lt;00:00, 659kB/s]",
            "_view_count": null,
            "_view_module_version": "1.5.0",
            "description_tooltip": null,
            "_model_module": "@jupyter-widgets/controls",
            "layout": "IPY_MODEL_978327dfa110408eb19728e04bae16ab"
          }
        },
        "26b36f0791ea4963a8fc0efddc70241d": {
          "model_module": "@jupyter-widgets/controls",
          "model_name": "DescriptionStyleModel",
          "model_module_version": "1.5.0",
          "state": {
            "_view_name": "StyleView",
            "_model_name": "DescriptionStyleModel",
            "description_width": "",
            "_view_module": "@jupyter-widgets/base",
            "_model_module_version": "1.5.0",
            "_view_count": null,
            "_view_module_version": "1.2.0",
            "_model_module": "@jupyter-widgets/controls"
          }
        },
        "78e22f572c4d467c9177800259124b7c": {
          "model_module": "@jupyter-widgets/base",
          "model_name": "LayoutModel",
          "model_module_version": "1.2.0",
          "state": {
            "_view_name": "LayoutView",
            "grid_template_rows": null,
            "right": null,
            "justify_content": null,
            "_view_module": "@jupyter-widgets/base",
            "overflow": null,
            "_model_module_version": "1.2.0",
            "_view_count": null,
            "flex_flow": null,
            "width": null,
            "min_width": null,
            "border": null,
            "align_items": null,
            "bottom": null,
            "_model_module": "@jupyter-widgets/base",
            "top": null,
            "grid_column": null,
            "overflow_y": null,
            "overflow_x": null,
            "grid_auto_flow": null,
            "grid_area": null,
            "grid_template_columns": null,
            "flex": null,
            "_model_name": "LayoutModel",
            "justify_items": null,
            "grid_row": null,
            "max_height": null,
            "align_content": null,
            "visibility": null,
            "align_self": null,
            "height": null,
            "min_height": null,
            "padding": null,
            "grid_auto_rows": null,
            "grid_gap": null,
            "max_width": null,
            "order": null,
            "_view_module_version": "1.2.0",
            "grid_template_areas": null,
            "object_position": null,
            "object_fit": null,
            "grid_auto_columns": null,
            "margin": null,
            "display": null,
            "left": null
          }
        },
        "a31c3a6369e94ed49f1a3fdaa2b6e3e3": {
          "model_module": "@jupyter-widgets/controls",
          "model_name": "ProgressStyleModel",
          "model_module_version": "1.5.0",
          "state": {
            "_view_name": "StyleView",
            "_model_name": "ProgressStyleModel",
            "description_width": "",
            "_view_module": "@jupyter-widgets/base",
            "_model_module_version": "1.5.0",
            "_view_count": null,
            "_view_module_version": "1.2.0",
            "bar_color": null,
            "_model_module": "@jupyter-widgets/controls"
          }
        },
        "8e013f4438cc4d2dbc6fd6dbc24f8522": {
          "model_module": "@jupyter-widgets/base",
          "model_name": "LayoutModel",
          "model_module_version": "1.2.0",
          "state": {
            "_view_name": "LayoutView",
            "grid_template_rows": null,
            "right": null,
            "justify_content": null,
            "_view_module": "@jupyter-widgets/base",
            "overflow": null,
            "_model_module_version": "1.2.0",
            "_view_count": null,
            "flex_flow": null,
            "width": null,
            "min_width": null,
            "border": null,
            "align_items": null,
            "bottom": null,
            "_model_module": "@jupyter-widgets/base",
            "top": null,
            "grid_column": null,
            "overflow_y": null,
            "overflow_x": null,
            "grid_auto_flow": null,
            "grid_area": null,
            "grid_template_columns": null,
            "flex": null,
            "_model_name": "LayoutModel",
            "justify_items": null,
            "grid_row": null,
            "max_height": null,
            "align_content": null,
            "visibility": null,
            "align_self": null,
            "height": null,
            "min_height": null,
            "padding": null,
            "grid_auto_rows": null,
            "grid_gap": null,
            "max_width": null,
            "order": null,
            "_view_module_version": "1.2.0",
            "grid_template_areas": null,
            "object_position": null,
            "object_fit": null,
            "grid_auto_columns": null,
            "margin": null,
            "display": null,
            "left": null
          }
        },
        "86b5efa73fb642c69ef16f7511f4d1c6": {
          "model_module": "@jupyter-widgets/controls",
          "model_name": "DescriptionStyleModel",
          "model_module_version": "1.5.0",
          "state": {
            "_view_name": "StyleView",
            "_model_name": "DescriptionStyleModel",
            "description_width": "",
            "_view_module": "@jupyter-widgets/base",
            "_model_module_version": "1.5.0",
            "_view_count": null,
            "_view_module_version": "1.2.0",
            "_model_module": "@jupyter-widgets/controls"
          }
        },
        "978327dfa110408eb19728e04bae16ab": {
          "model_module": "@jupyter-widgets/base",
          "model_name": "LayoutModel",
          "model_module_version": "1.2.0",
          "state": {
            "_view_name": "LayoutView",
            "grid_template_rows": null,
            "right": null,
            "justify_content": null,
            "_view_module": "@jupyter-widgets/base",
            "overflow": null,
            "_model_module_version": "1.2.0",
            "_view_count": null,
            "flex_flow": null,
            "width": null,
            "min_width": null,
            "border": null,
            "align_items": null,
            "bottom": null,
            "_model_module": "@jupyter-widgets/base",
            "top": null,
            "grid_column": null,
            "overflow_y": null,
            "overflow_x": null,
            "grid_auto_flow": null,
            "grid_area": null,
            "grid_template_columns": null,
            "flex": null,
            "_model_name": "LayoutModel",
            "justify_items": null,
            "grid_row": null,
            "max_height": null,
            "align_content": null,
            "visibility": null,
            "align_self": null,
            "height": null,
            "min_height": null,
            "padding": null,
            "grid_auto_rows": null,
            "grid_gap": null,
            "max_width": null,
            "order": null,
            "_view_module_version": "1.2.0",
            "grid_template_areas": null,
            "object_position": null,
            "object_fit": null,
            "grid_auto_columns": null,
            "margin": null,
            "display": null,
            "left": null
          }
        },
        "99abb77000fd4937b1f9094cd96355f1": {
          "model_module": "@jupyter-widgets/controls",
          "model_name": "HBoxModel",
          "model_module_version": "1.5.0",
          "state": {
            "_view_name": "HBoxView",
            "_dom_classes": [],
            "_model_name": "HBoxModel",
            "_view_module": "@jupyter-widgets/controls",
            "_model_module_version": "1.5.0",
            "_view_count": null,
            "_view_module_version": "1.5.0",
            "box_style": "",
            "layout": "IPY_MODEL_024e6bfa97364a9488fb0d0d02590a26",
            "_model_module": "@jupyter-widgets/controls",
            "children": [
              "IPY_MODEL_c686748529124b12a1591f80f0e210da",
              "IPY_MODEL_06284b650c144e248790aa44db3b84be",
              "IPY_MODEL_49f9ce1362e7408eba017f9f5608c0b3"
            ]
          }
        },
        "024e6bfa97364a9488fb0d0d02590a26": {
          "model_module": "@jupyter-widgets/base",
          "model_name": "LayoutModel",
          "model_module_version": "1.2.0",
          "state": {
            "_view_name": "LayoutView",
            "grid_template_rows": null,
            "right": null,
            "justify_content": null,
            "_view_module": "@jupyter-widgets/base",
            "overflow": null,
            "_model_module_version": "1.2.0",
            "_view_count": null,
            "flex_flow": null,
            "width": null,
            "min_width": null,
            "border": null,
            "align_items": null,
            "bottom": null,
            "_model_module": "@jupyter-widgets/base",
            "top": null,
            "grid_column": null,
            "overflow_y": null,
            "overflow_x": null,
            "grid_auto_flow": null,
            "grid_area": null,
            "grid_template_columns": null,
            "flex": null,
            "_model_name": "LayoutModel",
            "justify_items": null,
            "grid_row": null,
            "max_height": null,
            "align_content": null,
            "visibility": null,
            "align_self": null,
            "height": null,
            "min_height": null,
            "padding": null,
            "grid_auto_rows": null,
            "grid_gap": null,
            "max_width": null,
            "order": null,
            "_view_module_version": "1.2.0",
            "grid_template_areas": null,
            "object_position": null,
            "object_fit": null,
            "grid_auto_columns": null,
            "margin": null,
            "display": null,
            "left": null
          }
        },
        "c686748529124b12a1591f80f0e210da": {
          "model_module": "@jupyter-widgets/controls",
          "model_name": "HTMLModel",
          "model_module_version": "1.5.0",
          "state": {
            "_view_name": "HTMLView",
            "style": "IPY_MODEL_cef6efe7832b49b481f6f5ac66f80e69",
            "_dom_classes": [],
            "description": "",
            "_model_name": "HTMLModel",
            "placeholder": "​",
            "_view_module": "@jupyter-widgets/controls",
            "_model_module_version": "1.5.0",
            "value": "Downloading: 100%",
            "_view_count": null,
            "_view_module_version": "1.5.0",
            "description_tooltip": null,
            "_model_module": "@jupyter-widgets/controls",
            "layout": "IPY_MODEL_5dad9526848445678bf1610471d1fcd2"
          }
        },
        "06284b650c144e248790aa44db3b84be": {
          "model_module": "@jupyter-widgets/controls",
          "model_name": "FloatProgressModel",
          "model_module_version": "1.5.0",
          "state": {
            "_view_name": "ProgressView",
            "style": "IPY_MODEL_6410fed17a6d45edb1cc66f22face36c",
            "_dom_classes": [],
            "description": "",
            "_model_name": "FloatProgressModel",
            "bar_style": "success",
            "max": 28,
            "_view_module": "@jupyter-widgets/controls",
            "_model_module_version": "1.5.0",
            "value": 28,
            "_view_count": null,
            "_view_module_version": "1.5.0",
            "orientation": "horizontal",
            "min": 0,
            "description_tooltip": null,
            "_model_module": "@jupyter-widgets/controls",
            "layout": "IPY_MODEL_c965da5ff5e54304ad7543548181016d"
          }
        },
        "49f9ce1362e7408eba017f9f5608c0b3": {
          "model_module": "@jupyter-widgets/controls",
          "model_name": "HTMLModel",
          "model_module_version": "1.5.0",
          "state": {
            "_view_name": "HTMLView",
            "style": "IPY_MODEL_14a0a148b3d14c889e41442a764c1953",
            "_dom_classes": [],
            "description": "",
            "_model_name": "HTMLModel",
            "placeholder": "​",
            "_view_module": "@jupyter-widgets/controls",
            "_model_module_version": "1.5.0",
            "value": " 28.0/28.0 [00:00&lt;00:00, 1.02kB/s]",
            "_view_count": null,
            "_view_module_version": "1.5.0",
            "description_tooltip": null,
            "_model_module": "@jupyter-widgets/controls",
            "layout": "IPY_MODEL_037497c09e9949bcb51764cc2f95f028"
          }
        },
        "cef6efe7832b49b481f6f5ac66f80e69": {
          "model_module": "@jupyter-widgets/controls",
          "model_name": "DescriptionStyleModel",
          "model_module_version": "1.5.0",
          "state": {
            "_view_name": "StyleView",
            "_model_name": "DescriptionStyleModel",
            "description_width": "",
            "_view_module": "@jupyter-widgets/base",
            "_model_module_version": "1.5.0",
            "_view_count": null,
            "_view_module_version": "1.2.0",
            "_model_module": "@jupyter-widgets/controls"
          }
        },
        "5dad9526848445678bf1610471d1fcd2": {
          "model_module": "@jupyter-widgets/base",
          "model_name": "LayoutModel",
          "model_module_version": "1.2.0",
          "state": {
            "_view_name": "LayoutView",
            "grid_template_rows": null,
            "right": null,
            "justify_content": null,
            "_view_module": "@jupyter-widgets/base",
            "overflow": null,
            "_model_module_version": "1.2.0",
            "_view_count": null,
            "flex_flow": null,
            "width": null,
            "min_width": null,
            "border": null,
            "align_items": null,
            "bottom": null,
            "_model_module": "@jupyter-widgets/base",
            "top": null,
            "grid_column": null,
            "overflow_y": null,
            "overflow_x": null,
            "grid_auto_flow": null,
            "grid_area": null,
            "grid_template_columns": null,
            "flex": null,
            "_model_name": "LayoutModel",
            "justify_items": null,
            "grid_row": null,
            "max_height": null,
            "align_content": null,
            "visibility": null,
            "align_self": null,
            "height": null,
            "min_height": null,
            "padding": null,
            "grid_auto_rows": null,
            "grid_gap": null,
            "max_width": null,
            "order": null,
            "_view_module_version": "1.2.0",
            "grid_template_areas": null,
            "object_position": null,
            "object_fit": null,
            "grid_auto_columns": null,
            "margin": null,
            "display": null,
            "left": null
          }
        },
        "6410fed17a6d45edb1cc66f22face36c": {
          "model_module": "@jupyter-widgets/controls",
          "model_name": "ProgressStyleModel",
          "model_module_version": "1.5.0",
          "state": {
            "_view_name": "StyleView",
            "_model_name": "ProgressStyleModel",
            "description_width": "",
            "_view_module": "@jupyter-widgets/base",
            "_model_module_version": "1.5.0",
            "_view_count": null,
            "_view_module_version": "1.2.0",
            "bar_color": null,
            "_model_module": "@jupyter-widgets/controls"
          }
        },
        "c965da5ff5e54304ad7543548181016d": {
          "model_module": "@jupyter-widgets/base",
          "model_name": "LayoutModel",
          "model_module_version": "1.2.0",
          "state": {
            "_view_name": "LayoutView",
            "grid_template_rows": null,
            "right": null,
            "justify_content": null,
            "_view_module": "@jupyter-widgets/base",
            "overflow": null,
            "_model_module_version": "1.2.0",
            "_view_count": null,
            "flex_flow": null,
            "width": null,
            "min_width": null,
            "border": null,
            "align_items": null,
            "bottom": null,
            "_model_module": "@jupyter-widgets/base",
            "top": null,
            "grid_column": null,
            "overflow_y": null,
            "overflow_x": null,
            "grid_auto_flow": null,
            "grid_area": null,
            "grid_template_columns": null,
            "flex": null,
            "_model_name": "LayoutModel",
            "justify_items": null,
            "grid_row": null,
            "max_height": null,
            "align_content": null,
            "visibility": null,
            "align_self": null,
            "height": null,
            "min_height": null,
            "padding": null,
            "grid_auto_rows": null,
            "grid_gap": null,
            "max_width": null,
            "order": null,
            "_view_module_version": "1.2.0",
            "grid_template_areas": null,
            "object_position": null,
            "object_fit": null,
            "grid_auto_columns": null,
            "margin": null,
            "display": null,
            "left": null
          }
        },
        "14a0a148b3d14c889e41442a764c1953": {
          "model_module": "@jupyter-widgets/controls",
          "model_name": "DescriptionStyleModel",
          "model_module_version": "1.5.0",
          "state": {
            "_view_name": "StyleView",
            "_model_name": "DescriptionStyleModel",
            "description_width": "",
            "_view_module": "@jupyter-widgets/base",
            "_model_module_version": "1.5.0",
            "_view_count": null,
            "_view_module_version": "1.2.0",
            "_model_module": "@jupyter-widgets/controls"
          }
        },
        "037497c09e9949bcb51764cc2f95f028": {
          "model_module": "@jupyter-widgets/base",
          "model_name": "LayoutModel",
          "model_module_version": "1.2.0",
          "state": {
            "_view_name": "LayoutView",
            "grid_template_rows": null,
            "right": null,
            "justify_content": null,
            "_view_module": "@jupyter-widgets/base",
            "overflow": null,
            "_model_module_version": "1.2.0",
            "_view_count": null,
            "flex_flow": null,
            "width": null,
            "min_width": null,
            "border": null,
            "align_items": null,
            "bottom": null,
            "_model_module": "@jupyter-widgets/base",
            "top": null,
            "grid_column": null,
            "overflow_y": null,
            "overflow_x": null,
            "grid_auto_flow": null,
            "grid_area": null,
            "grid_template_columns": null,
            "flex": null,
            "_model_name": "LayoutModel",
            "justify_items": null,
            "grid_row": null,
            "max_height": null,
            "align_content": null,
            "visibility": null,
            "align_self": null,
            "height": null,
            "min_height": null,
            "padding": null,
            "grid_auto_rows": null,
            "grid_gap": null,
            "max_width": null,
            "order": null,
            "_view_module_version": "1.2.0",
            "grid_template_areas": null,
            "object_position": null,
            "object_fit": null,
            "grid_auto_columns": null,
            "margin": null,
            "display": null,
            "left": null
          }
        },
        "0c2b1a0b15dc4d37a6847f320aeaa8c0": {
          "model_module": "@jupyter-widgets/controls",
          "model_name": "HBoxModel",
          "model_module_version": "1.5.0",
          "state": {
            "_view_name": "HBoxView",
            "_dom_classes": [],
            "_model_name": "HBoxModel",
            "_view_module": "@jupyter-widgets/controls",
            "_model_module_version": "1.5.0",
            "_view_count": null,
            "_view_module_version": "1.5.0",
            "box_style": "",
            "layout": "IPY_MODEL_c410b669ecc147979cfc7e6fe98011de",
            "_model_module": "@jupyter-widgets/controls",
            "children": [
              "IPY_MODEL_191a272c406b4d1d815c58d4e53d5a0b",
              "IPY_MODEL_108338aefc444397bc3248309a62cec9",
              "IPY_MODEL_22e3d6d89e624b8d918cb3868b661af5"
            ]
          }
        },
        "c410b669ecc147979cfc7e6fe98011de": {
          "model_module": "@jupyter-widgets/base",
          "model_name": "LayoutModel",
          "model_module_version": "1.2.0",
          "state": {
            "_view_name": "LayoutView",
            "grid_template_rows": null,
            "right": null,
            "justify_content": null,
            "_view_module": "@jupyter-widgets/base",
            "overflow": null,
            "_model_module_version": "1.2.0",
            "_view_count": null,
            "flex_flow": null,
            "width": null,
            "min_width": null,
            "border": null,
            "align_items": null,
            "bottom": null,
            "_model_module": "@jupyter-widgets/base",
            "top": null,
            "grid_column": null,
            "overflow_y": null,
            "overflow_x": null,
            "grid_auto_flow": null,
            "grid_area": null,
            "grid_template_columns": null,
            "flex": null,
            "_model_name": "LayoutModel",
            "justify_items": null,
            "grid_row": null,
            "max_height": null,
            "align_content": null,
            "visibility": null,
            "align_self": null,
            "height": null,
            "min_height": null,
            "padding": null,
            "grid_auto_rows": null,
            "grid_gap": null,
            "max_width": null,
            "order": null,
            "_view_module_version": "1.2.0",
            "grid_template_areas": null,
            "object_position": null,
            "object_fit": null,
            "grid_auto_columns": null,
            "margin": null,
            "display": null,
            "left": null
          }
        },
        "191a272c406b4d1d815c58d4e53d5a0b": {
          "model_module": "@jupyter-widgets/controls",
          "model_name": "HTMLModel",
          "model_module_version": "1.5.0",
          "state": {
            "_view_name": "HTMLView",
            "style": "IPY_MODEL_afdca550ae3a4481b065b1968c924180",
            "_dom_classes": [],
            "description": "",
            "_model_name": "HTMLModel",
            "placeholder": "​",
            "_view_module": "@jupyter-widgets/controls",
            "_model_module_version": "1.5.0",
            "value": "Downloading: 100%",
            "_view_count": null,
            "_view_module_version": "1.5.0",
            "description_tooltip": null,
            "_model_module": "@jupyter-widgets/controls",
            "layout": "IPY_MODEL_e2c9a117d24f4483bfeeb1a5775f3804"
          }
        },
        "108338aefc444397bc3248309a62cec9": {
          "model_module": "@jupyter-widgets/controls",
          "model_name": "FloatProgressModel",
          "model_module_version": "1.5.0",
          "state": {
            "_view_name": "ProgressView",
            "style": "IPY_MODEL_1028005f29c44f4aba9a62757fb208c2",
            "_dom_classes": [],
            "description": "",
            "_model_name": "FloatProgressModel",
            "bar_style": "success",
            "max": 466062,
            "_view_module": "@jupyter-widgets/controls",
            "_model_module_version": "1.5.0",
            "value": 466062,
            "_view_count": null,
            "_view_module_version": "1.5.0",
            "orientation": "horizontal",
            "min": 0,
            "description_tooltip": null,
            "_model_module": "@jupyter-widgets/controls",
            "layout": "IPY_MODEL_c3f91ca5535546a9a63bcbd88795c773"
          }
        },
        "22e3d6d89e624b8d918cb3868b661af5": {
          "model_module": "@jupyter-widgets/controls",
          "model_name": "HTMLModel",
          "model_module_version": "1.5.0",
          "state": {
            "_view_name": "HTMLView",
            "style": "IPY_MODEL_e51e6403370046419523646407991d3f",
            "_dom_classes": [],
            "description": "",
            "_model_name": "HTMLModel",
            "placeholder": "​",
            "_view_module": "@jupyter-widgets/controls",
            "_model_module_version": "1.5.0",
            "value": " 455k/455k [00:00&lt;00:00, 960kB/s]",
            "_view_count": null,
            "_view_module_version": "1.5.0",
            "description_tooltip": null,
            "_model_module": "@jupyter-widgets/controls",
            "layout": "IPY_MODEL_c4e009d03de9486390fd706b8db4d26a"
          }
        },
        "afdca550ae3a4481b065b1968c924180": {
          "model_module": "@jupyter-widgets/controls",
          "model_name": "DescriptionStyleModel",
          "model_module_version": "1.5.0",
          "state": {
            "_view_name": "StyleView",
            "_model_name": "DescriptionStyleModel",
            "description_width": "",
            "_view_module": "@jupyter-widgets/base",
            "_model_module_version": "1.5.0",
            "_view_count": null,
            "_view_module_version": "1.2.0",
            "_model_module": "@jupyter-widgets/controls"
          }
        },
        "e2c9a117d24f4483bfeeb1a5775f3804": {
          "model_module": "@jupyter-widgets/base",
          "model_name": "LayoutModel",
          "model_module_version": "1.2.0",
          "state": {
            "_view_name": "LayoutView",
            "grid_template_rows": null,
            "right": null,
            "justify_content": null,
            "_view_module": "@jupyter-widgets/base",
            "overflow": null,
            "_model_module_version": "1.2.0",
            "_view_count": null,
            "flex_flow": null,
            "width": null,
            "min_width": null,
            "border": null,
            "align_items": null,
            "bottom": null,
            "_model_module": "@jupyter-widgets/base",
            "top": null,
            "grid_column": null,
            "overflow_y": null,
            "overflow_x": null,
            "grid_auto_flow": null,
            "grid_area": null,
            "grid_template_columns": null,
            "flex": null,
            "_model_name": "LayoutModel",
            "justify_items": null,
            "grid_row": null,
            "max_height": null,
            "align_content": null,
            "visibility": null,
            "align_self": null,
            "height": null,
            "min_height": null,
            "padding": null,
            "grid_auto_rows": null,
            "grid_gap": null,
            "max_width": null,
            "order": null,
            "_view_module_version": "1.2.0",
            "grid_template_areas": null,
            "object_position": null,
            "object_fit": null,
            "grid_auto_columns": null,
            "margin": null,
            "display": null,
            "left": null
          }
        },
        "1028005f29c44f4aba9a62757fb208c2": {
          "model_module": "@jupyter-widgets/controls",
          "model_name": "ProgressStyleModel",
          "model_module_version": "1.5.0",
          "state": {
            "_view_name": "StyleView",
            "_model_name": "ProgressStyleModel",
            "description_width": "",
            "_view_module": "@jupyter-widgets/base",
            "_model_module_version": "1.5.0",
            "_view_count": null,
            "_view_module_version": "1.2.0",
            "bar_color": null,
            "_model_module": "@jupyter-widgets/controls"
          }
        },
        "c3f91ca5535546a9a63bcbd88795c773": {
          "model_module": "@jupyter-widgets/base",
          "model_name": "LayoutModel",
          "model_module_version": "1.2.0",
          "state": {
            "_view_name": "LayoutView",
            "grid_template_rows": null,
            "right": null,
            "justify_content": null,
            "_view_module": "@jupyter-widgets/base",
            "overflow": null,
            "_model_module_version": "1.2.0",
            "_view_count": null,
            "flex_flow": null,
            "width": null,
            "min_width": null,
            "border": null,
            "align_items": null,
            "bottom": null,
            "_model_module": "@jupyter-widgets/base",
            "top": null,
            "grid_column": null,
            "overflow_y": null,
            "overflow_x": null,
            "grid_auto_flow": null,
            "grid_area": null,
            "grid_template_columns": null,
            "flex": null,
            "_model_name": "LayoutModel",
            "justify_items": null,
            "grid_row": null,
            "max_height": null,
            "align_content": null,
            "visibility": null,
            "align_self": null,
            "height": null,
            "min_height": null,
            "padding": null,
            "grid_auto_rows": null,
            "grid_gap": null,
            "max_width": null,
            "order": null,
            "_view_module_version": "1.2.0",
            "grid_template_areas": null,
            "object_position": null,
            "object_fit": null,
            "grid_auto_columns": null,
            "margin": null,
            "display": null,
            "left": null
          }
        },
        "e51e6403370046419523646407991d3f": {
          "model_module": "@jupyter-widgets/controls",
          "model_name": "DescriptionStyleModel",
          "model_module_version": "1.5.0",
          "state": {
            "_view_name": "StyleView",
            "_model_name": "DescriptionStyleModel",
            "description_width": "",
            "_view_module": "@jupyter-widgets/base",
            "_model_module_version": "1.5.0",
            "_view_count": null,
            "_view_module_version": "1.2.0",
            "_model_module": "@jupyter-widgets/controls"
          }
        },
        "c4e009d03de9486390fd706b8db4d26a": {
          "model_module": "@jupyter-widgets/base",
          "model_name": "LayoutModel",
          "model_module_version": "1.2.0",
          "state": {
            "_view_name": "LayoutView",
            "grid_template_rows": null,
            "right": null,
            "justify_content": null,
            "_view_module": "@jupyter-widgets/base",
            "overflow": null,
            "_model_module_version": "1.2.0",
            "_view_count": null,
            "flex_flow": null,
            "width": null,
            "min_width": null,
            "border": null,
            "align_items": null,
            "bottom": null,
            "_model_module": "@jupyter-widgets/base",
            "top": null,
            "grid_column": null,
            "overflow_y": null,
            "overflow_x": null,
            "grid_auto_flow": null,
            "grid_area": null,
            "grid_template_columns": null,
            "flex": null,
            "_model_name": "LayoutModel",
            "justify_items": null,
            "grid_row": null,
            "max_height": null,
            "align_content": null,
            "visibility": null,
            "align_self": null,
            "height": null,
            "min_height": null,
            "padding": null,
            "grid_auto_rows": null,
            "grid_gap": null,
            "max_width": null,
            "order": null,
            "_view_module_version": "1.2.0",
            "grid_template_areas": null,
            "object_position": null,
            "object_fit": null,
            "grid_auto_columns": null,
            "margin": null,
            "display": null,
            "left": null
          }
        }
      }
    },
    "accelerator": "GPU"
  },
  "cells": [
    {
      "cell_type": "markdown",
      "metadata": {
        "id": "view-in-github",
        "colab_type": "text"
      },
      "source": [
        "<a href=\"https://colab.research.google.com/github/plaban1981/POCs/blob/main/Question_Answering_with_a_Fine_Tuned_BERT.ipynb\" target=\"_parent\"><img src=\"https://colab.research.google.com/assets/colab-badge.svg\" alt=\"Open In Colab\"/></a>"
      ]
    },
    {
      "cell_type": "markdown",
      "metadata": {
        "id": "W-1zl5XdYInf"
      },
      "source": [
        "# Question Answering with a Fine-Tuned BERT\n"
      ]
    },
    {
      "cell_type": "markdown",
      "metadata": {
        "id": "X2bUvKUffHNY"
      },
      "source": [
        "# Part 1: How BERT is applied to Question Answering"
      ]
    },
    {
      "cell_type": "markdown",
      "metadata": {
        "id": "Su7fixBdiUex"
      },
      "source": [
        "## The SQuAD v1.1 Benchmark"
      ]
    },
    {
      "cell_type": "markdown",
      "metadata": {
        "id": "bT5ESKDxfnLf"
      },
      "source": [
        "When someone mentions \"Question Answering\" as an application of BERT, what they are really referring to is applying BERT to the Stanford Question Answering Dataset (SQuAD).\n",
        "\n",
        "The task posed by the SQuAD benchmark is a little different than you might think. Given a question, and *a passage of text containing the answer*, BERT needs to highlight the \"span\" of text corresponding to the correct answer. \n",
        "\n",
        "The SQuAD homepage has a fantastic tool for exploring the questions and reference text for this dataset, and even shows the predictions made by top-performing models.\n",
        "\n",
        "For example, here are some [interesting examples](https://rajpurkar.github.io/SQuAD-explorer/explore/1.1/dev/Super_Bowl_50.html?model=r-net+%20(ensemble)%20(Microsoft%20Research%20Asia)&version=1.1) on the topic of Super Bowl 50.\n"
      ]
    },
    {
      "cell_type": "markdown",
      "metadata": {
        "id": "_xN5f1bxf6K_"
      },
      "source": [
        "## BERT Input Format"
      ]
    },
    {
      "cell_type": "markdown",
      "metadata": {
        "id": "Ctum5SK6f9uP"
      },
      "source": [
        "To feed a QA task into BERT, we pack both the question and the reference text into the input.\n"
      ]
    },
    {
      "cell_type": "markdown",
      "metadata": {
        "id": "EaPCFHgSOO37"
      },
      "source": [
        "\n",
        "[![Input format for QA](https://drive.google.com/uc?export=view&id=1dfgTaE_SABpr2blqwTjq9PTyhYabO8_m)](https://drive.google.com/uc?export=view&id=1dfgTaE_SABpr2blqwTjq9PTyhYabO8_m)\n"
      ]
    },
    {
      "cell_type": "markdown",
      "metadata": {
        "id": "9-SS0PucOQdt"
      },
      "source": [
        "\n",
        "The two pieces of text are separated by the special `[SEP]` token. \n",
        "\n",
        "BERT also uses \"Segment Embeddings\" to differentiate the question from the reference text. These are simply two embeddings (for segments \"A\" and \"B\") that BERT learned, and which it adds to the token embeddings before feeding them into the input layer. "
      ]
    },
    {
      "cell_type": "markdown",
      "metadata": {
        "id": "Kl6BECEXu4jH"
      },
      "source": [
        "[![BERT eBook Display Ad](https://drive.google.com/uc?export=view&id=1d6L584QYqpREpRIwAZ55Wsq8AUs5qSk1)](https://bit.ly/3isUyCt)"
      ]
    },
    {
      "cell_type": "markdown",
      "metadata": {
        "id": "xs31dcrPg5Tg"
      },
      "source": [
        "## Start & End Token Classifiers"
      ]
    },
    {
      "cell_type": "markdown",
      "metadata": {
        "id": "lvOdUa9Wg-Uv"
      },
      "source": [
        "BERT needs to highlight a \"span\" of text containing the answer--this is represented as simply predicting which token marks the start of the answer, and which token marks the end.\n",
        "\n",
        "![Start token classification](http://www.mccormickml.com/assets/BERT/SQuAD/start_token_classification.png)\n",
        "\n",
        "For every token in the text, we feed its final embedding into the start token classifier. The start token classifier only has a single set of weights (represented by the blue \"start\" rectangle in the above illustration) which it applies to every word.\n",
        "\n",
        "After taking the dot product between the output embeddings and the 'start' weights, we apply the softmax activation to produce a probability distribution over all of the words. Whichever word has the highest probability of being the start token is the one that we pick.\n",
        "\n",
        "We repeat this process for the end token--we have a separate weight vector this.\n",
        "\n",
        "![End token classification](http://www.mccormickml.com/assets/BERT/SQuAD/end_token_classification.png)"
      ]
    },
    {
      "cell_type": "markdown",
      "metadata": {
        "id": "457VPa20fZzY"
      },
      "source": [
        "# Part 2: Example Code"
      ]
    },
    {
      "cell_type": "markdown",
      "metadata": {
        "id": "9wpCLgVCkki5"
      },
      "source": [
        "In the example code below, we'll be downloading a model that's *already been fine-tuned* for question answering, and try it out on our own text.\n",
        "\n",
        "If you do want to fine-tune on your own dataset, it is possible to fine-tune BERT for question answering yourself. See [run_squad.py](https://github.com/huggingface/transformers/blob/master/examples/run_squad.py) in the `transformers` library. However,you may find that the below \"fine-tuned-on-squad\" model already does a good job, even if your text is from a different domain. \n",
        "\n",
        "> Note: The example code in this Notebook is a commented and expanded version of the short example provided in the `transformers` documentation [here](https://huggingface.co/transformers/model_doc/bert.html?highlight=bertforquestionanswering#transformers.BertForQuestionAnswering)."
      ]
    },
    {
      "cell_type": "markdown",
      "metadata": {
        "id": "gVq-TuylYRDW"
      },
      "source": [
        "## 1. Install huggingface transformers library"
      ]
    },
    {
      "cell_type": "markdown",
      "metadata": {
        "id": "f9nhy3PzGQ44"
      },
      "source": [
        "This example uses the `transformers` [library](https://github.com/huggingface/transformers/) by huggingface. We'll start by installing the package."
      ]
    },
    {
      "cell_type": "code",
      "metadata": {
        "id": "aQl0MMrOGIup",
        "colab": {
          "base_uri": "https://localhost:8080/"
        },
        "outputId": "ee77fec2-4d7b-4582-c1a1-b8acdf58d62a"
      },
      "source": [
        "!pip install --quiet transformers"
      ],
      "execution_count": 1,
      "outputs": [
        {
          "output_type": "stream",
          "name": "stdout",
          "text": [
            "\u001b[K     |████████████████████████████████| 3.1 MB 6.6 MB/s \n",
            "\u001b[K     |████████████████████████████████| 596 kB 89.0 MB/s \n",
            "\u001b[K     |████████████████████████████████| 895 kB 86.5 MB/s \n",
            "\u001b[K     |████████████████████████████████| 61 kB 599 kB/s \n",
            "\u001b[K     |████████████████████████████████| 3.3 MB 76.5 MB/s \n",
            "\u001b[?25h"
          ]
        }
      ]
    },
    {
      "cell_type": "code",
      "metadata": {
        "id": "-ONLrgJK99TQ"
      },
      "source": [
        "import torch"
      ],
      "execution_count": 2,
      "outputs": []
    },
    {
      "cell_type": "markdown",
      "metadata": {
        "id": "1WThOUtpYvG-"
      },
      "source": [
        "## 2. Load Fine-Tuned BERT-large"
      ]
    },
    {
      "cell_type": "markdown",
      "metadata": {
        "id": "AaweLnNXGhTY"
      },
      "source": [
        "For Question Answering we use the `BertForQuestionAnswering` class from the `transformers` library.\n",
        "\n",
        "This class supports fine-tuning, but for this example we will keep things simpler and load a BERT model that has already been fine-tuned for the SQuAD benchmark.\n",
        "\n",
        "The `transformers` library has a large collection of pre-trained models which you can reference by name and load easily. The full list is in their documentation [here](https://huggingface.co/transformers/pretrained_models.html).\n",
        "\n",
        "For Question Answering, they have a version of BERT-large that has already been fine-tuned for the SQuAD benchmark. \n",
        "\n",
        "BERT-large is really big... it has 24-layers and an embedding size of 1,024, for a total of 340M parameters! Altogether it is 1.34GB, so expect it to take a couple minutes to download to your Colab instance. \n",
        "\n",
        "(Note that this download is not using your own network bandwidth--it's between the Google instance and wherever the model is stored on the web).\n",
        "\n",
        "Note: I believe this model was trained on version 1 of SQuAD, since it's not outputting whether the question is \"impossible\" to answer from the text (which is part of the task in v2 of SQuAD).\n"
      ]
    },
    {
      "cell_type": "code",
      "metadata": {
        "id": "-Mnv95sX-U9K",
        "colab": {
          "base_uri": "https://localhost:8080/",
          "height": 81,
          "referenced_widgets": [
            "581430f017044d6d8c5465461a2d7ed0",
            "414da5e4180c44c0a3e91086ffdd4369",
            "6e0faa303848460ca80ad7bda08ba265",
            "a131f1e2521749b6872501562635a17b",
            "6deca14bc86d4e058d35085a3ae36112",
            "598b3d07b77a410c8deda79699304f1c",
            "ea4aa9fb73c7489aa0103446dec5beee",
            "ff333e5554594347933c56391855bb6e",
            "b18df944c8ac4e1494ebb877c89be817",
            "0eedc39de7054088bb6c40c2e77f94df",
            "c242e51d1c054c1589ed72b25c3e1131",
            "bd330fe7f1e54f18be8a563f496cf463",
            "9b60fc582b09442b9129b8701e9f80c3",
            "aae4fb6747b64826b8911d1e25779f24",
            "c152a2399abb4bc986651f8de6fc8149",
            "2785e177d06e4f04a07e98ab2bc2669a",
            "4f85f439309b48308b5b3f5b73883658",
            "30e58935bdd54422864fe8ac51a3d47d",
            "16693cdc3b5e4947acd56c948bd8639a",
            "3e575e822f3c4aa9b6c6a74f80aaa596",
            "5f0651e46403444781cd7772a430852e",
            "7fef74505e734b0c9ee6827f7a028af9"
          ]
        },
        "outputId": "19a2c687-ea9e-4086-ecbf-b16250de077a"
      },
      "source": [
        "from transformers import BertForQuestionAnswering\n",
        "\n",
        "model = BertForQuestionAnswering.from_pretrained('bert-large-uncased-whole-word-masking-finetuned-squad',return_dict=False)\n"
      ],
      "execution_count": 3,
      "outputs": [
        {
          "output_type": "display_data",
          "data": {
            "application/vnd.jupyter.widget-view+json": {
              "model_id": "581430f017044d6d8c5465461a2d7ed0",
              "version_minor": 0,
              "version_major": 2
            },
            "text/plain": [
              "Downloading:   0%|          | 0.00/443 [00:00<?, ?B/s]"
            ]
          },
          "metadata": {}
        },
        {
          "output_type": "display_data",
          "data": {
            "application/vnd.jupyter.widget-view+json": {
              "model_id": "bd330fe7f1e54f18be8a563f496cf463",
              "version_minor": 0,
              "version_major": 2
            },
            "text/plain": [
              "Downloading:   0%|          | 0.00/1.25G [00:00<?, ?B/s]"
            ]
          },
          "metadata": {}
        }
      ]
    },
    {
      "cell_type": "markdown",
      "metadata": {
        "id": "8imoOxoqGZ0h"
      },
      "source": [
        "Load the tokenizer as well. \n",
        "\n",
        "Side note: Apparently the vocabulary of this model is identicaly to the one in bert-base-uncased. You can load the tokenizer from `bert-base-uncased` and that works just as well."
      ]
    },
    {
      "cell_type": "code",
      "metadata": {
        "id": "SFQ5f7gv-RBH",
        "colab": {
          "base_uri": "https://localhost:8080/",
          "height": 113,
          "referenced_widgets": [
            "c0ef38c4988447a2907a747260124f22",
            "d9393939a2f34c099a871474cff92249",
            "b7c58be1f8fa46dc9987de2c4559a025",
            "6b944e3b731e4626a63cd59c2d4c5fe3",
            "aab9f43b5fa849fbaf49382698f2ac3f",
            "26b36f0791ea4963a8fc0efddc70241d",
            "78e22f572c4d467c9177800259124b7c",
            "a31c3a6369e94ed49f1a3fdaa2b6e3e3",
            "8e013f4438cc4d2dbc6fd6dbc24f8522",
            "86b5efa73fb642c69ef16f7511f4d1c6",
            "978327dfa110408eb19728e04bae16ab",
            "99abb77000fd4937b1f9094cd96355f1",
            "024e6bfa97364a9488fb0d0d02590a26",
            "c686748529124b12a1591f80f0e210da",
            "06284b650c144e248790aa44db3b84be",
            "49f9ce1362e7408eba017f9f5608c0b3",
            "cef6efe7832b49b481f6f5ac66f80e69",
            "5dad9526848445678bf1610471d1fcd2",
            "6410fed17a6d45edb1cc66f22face36c",
            "c965da5ff5e54304ad7543548181016d",
            "14a0a148b3d14c889e41442a764c1953",
            "037497c09e9949bcb51764cc2f95f028",
            "0c2b1a0b15dc4d37a6847f320aeaa8c0",
            "c410b669ecc147979cfc7e6fe98011de",
            "191a272c406b4d1d815c58d4e53d5a0b",
            "108338aefc444397bc3248309a62cec9",
            "22e3d6d89e624b8d918cb3868b661af5",
            "afdca550ae3a4481b065b1968c924180",
            "e2c9a117d24f4483bfeeb1a5775f3804",
            "1028005f29c44f4aba9a62757fb208c2",
            "c3f91ca5535546a9a63bcbd88795c773",
            "e51e6403370046419523646407991d3f",
            "c4e009d03de9486390fd706b8db4d26a"
          ]
        },
        "outputId": "322dd96d-8ab8-45af-9045-c8498f0b397e"
      },
      "source": [
        "from transformers import BertTokenizer\n",
        "\n",
        "tokenizer = BertTokenizer.from_pretrained('bert-large-uncased-whole-word-masking-finetuned-squad')"
      ],
      "execution_count": 4,
      "outputs": [
        {
          "output_type": "display_data",
          "data": {
            "application/vnd.jupyter.widget-view+json": {
              "model_id": "c0ef38c4988447a2907a747260124f22",
              "version_minor": 0,
              "version_major": 2
            },
            "text/plain": [
              "Downloading:   0%|          | 0.00/226k [00:00<?, ?B/s]"
            ]
          },
          "metadata": {}
        },
        {
          "output_type": "display_data",
          "data": {
            "application/vnd.jupyter.widget-view+json": {
              "model_id": "99abb77000fd4937b1f9094cd96355f1",
              "version_minor": 0,
              "version_major": 2
            },
            "text/plain": [
              "Downloading:   0%|          | 0.00/28.0 [00:00<?, ?B/s]"
            ]
          },
          "metadata": {}
        },
        {
          "output_type": "display_data",
          "data": {
            "application/vnd.jupyter.widget-view+json": {
              "model_id": "0c2b1a0b15dc4d37a6847f320aeaa8c0",
              "version_minor": 0,
              "version_major": 2
            },
            "text/plain": [
              "Downloading:   0%|          | 0.00/455k [00:00<?, ?B/s]"
            ]
          },
          "metadata": {}
        }
      ]
    },
    {
      "cell_type": "markdown",
      "metadata": {
        "id": "I__1ubvcZYow"
      },
      "source": [
        "## 3. Ask a Question"
      ]
    },
    {
      "cell_type": "markdown",
      "metadata": {
        "id": "o8MQ7b-GJIcM"
      },
      "source": [
        "Now we're ready to feed in an example!\n",
        "\n",
        "A QA example consists of a question and a passage of text containing the answer to that question.\n",
        "\n",
        "Let's try an example using the text in this tutorial!"
      ]
    },
    {
      "cell_type": "code",
      "metadata": {
        "id": "kWzZP4EN-Zxg"
      },
      "source": [
        "question = \"How many parameters does BERT-large have?\"\n",
        "answer_text = \"BERT-large is really big... it has 24-layers and an embedding size of 1,024, for a total of 340M parameters! Altogether it is 1.34GB, so expect it to take a couple minutes to download to your Colab instance.\""
      ],
      "execution_count": 4,
      "outputs": []
    },
    {
      "cell_type": "code",
      "metadata": {
        "id": "GHh58ho5y3YJ"
      },
      "source": [
        "question = \"When was the first battle of panipat fought\"\n",
        "answer_text = \"The First Battle of Panipat, on 21 April 1526, was fought between the invading forces of Babur and the Lodi dynasty. It took place in North India and marked the beginning of the Mughal Empire and the end of the Delhi Sultanate. This was one of the earliest battles involving gunpowder firearms and field artillery in the Indian subcontinent which were introduced by Mughals in this battle.\""
      ],
      "execution_count": 29,
      "outputs": []
    },
    {
      "cell_type": "markdown",
      "metadata": {
        "id": "llLvxhScKLZn"
      },
      "source": [
        "We'll need to run the BERT tokenizer against both the `question` and the `answer_text`. To feed these into BERT, we actually concatenate them together and place the special [SEP] token in between.\n"
      ]
    },
    {
      "cell_type": "code",
      "metadata": {
        "id": "tYoX33CfKGsr",
        "colab": {
          "base_uri": "https://localhost:8080/"
        },
        "outputId": "e3a5758f-6ba9-4b04-ea9a-1fd922eac0f5"
      },
      "source": [
        "# Apply the tokenizer to the input text, treating them as a text-pair.\n",
        "input_ids = tokenizer.encode(question, answer_text)\n",
        "\n",
        "print('The input has a total of {:} tokens.'.format(len(input_ids)))"
      ],
      "execution_count": 5,
      "outputs": [
        {
          "output_type": "stream",
          "name": "stdout",
          "text": [
            "The input has a total of 70 tokens.\n"
          ]
        }
      ]
    },
    {
      "cell_type": "code",
      "metadata": {
        "colab": {
          "base_uri": "https://localhost:8080/"
        },
        "id": "G2gCO4XWlFo4",
        "outputId": "ae40ef20-9520-4027-f9bf-9c65eb4e9259"
      },
      "source": [
        "# Apply the tokenizer to the input text, treating them as a text-pair.\n",
        "encoded_dict = tokenizer.encode_plus(text=question,text_pair=answer_text)\n",
        "print('The input has a total of {:} tokens.'.format(len(encoded_dict['input_ids'])))"
      ],
      "execution_count": 6,
      "outputs": [
        {
          "output_type": "stream",
          "name": "stdout",
          "text": [
            "The input has a total of 91 tokens.\n"
          ]
        }
      ]
    },
    {
      "cell_type": "markdown",
      "metadata": {
        "id": "pNRVuaKSNFG8"
      },
      "source": [
        "Just to see exactly what the tokenizer is doing, let's print out the tokens with their IDs."
      ]
    },
    {
      "cell_type": "code",
      "metadata": {
        "id": "wKfzhkIJ4uJf"
      },
      "source": [
        "input_ids = encoded_dict['input_ids']\n",
        "segment_ids = encoded_dict['token_type_ids']\n",
        "# There should be a segment_id for every input token.\n",
        "assert len(segment_ids) == len(input_ids)"
      ],
      "execution_count": 7,
      "outputs": []
    },
    {
      "cell_type": "code",
      "metadata": {
        "id": "Iow838yPNDTv",
        "colab": {
          "base_uri": "https://localhost:8080/"
        },
        "outputId": "3cb61407-50de-4857-d1aa-61474f40b174"
      },
      "source": [
        "# BERT only needs the token IDs, but for the purpose of inspecting the \n",
        "# tokenizer's behavior, let's also get the token strings and display them.\n",
        "tokens = tokenizer.convert_ids_to_tokens(input_ids)\n",
        "\n",
        "# For each token and its id...\n",
        "for token, id in zip(tokens, input_ids):\n",
        "    \n",
        "    # If this is the [SEP] token, add some space around it to make it stand out.\n",
        "    if id == tokenizer.sep_token_id:\n",
        "        print('')\n",
        "    \n",
        "    # Print the token string and its ID in two columns.\n",
        "    print('{:<12} {:>6,}'.format(token, id))\n",
        "\n",
        "    if id == tokenizer.sep_token_id:\n",
        "        print('')\n",
        "    "
      ],
      "execution_count": 8,
      "outputs": [
        {
          "output_type": "stream",
          "name": "stdout",
          "text": [
            "[CLS]           101\n",
            "when          2,043\n",
            "was           2,001\n",
            "the           1,996\n",
            "first         2,034\n",
            "battle        2,645\n",
            "of            1,997\n",
            "pan           6,090\n",
            "##ip         11,514\n",
            "##at          4,017\n",
            "fought        4,061\n",
            "\n",
            "[SEP]           102\n",
            "\n",
            "the           1,996\n",
            "first         2,034\n",
            "battle        2,645\n",
            "of            1,997\n",
            "pan           6,090\n",
            "##ip         11,514\n",
            "##at          4,017\n",
            ",             1,010\n",
            "on            2,006\n",
            "21            2,538\n",
            "april         2,258\n",
            "152          15,017\n",
            "##6           2,575\n",
            ",             1,010\n",
            "was           2,001\n",
            "fought        4,061\n",
            "between       2,090\n",
            "the           1,996\n",
            "invading     17,657\n",
            "forces        2,749\n",
            "of            1,997\n",
            "babu         20,948\n",
            "##r           2,099\n",
            "and           1,998\n",
            "the           1,996\n",
            "lo            8,840\n",
            "##di          4,305\n",
            "dynasty       5,321\n",
            ".             1,012\n",
            "it            2,009\n",
            "took          2,165\n",
            "place         2,173\n",
            "in            1,999\n",
            "north         2,167\n",
            "india         2,634\n",
            "and           1,998\n",
            "marked        4,417\n",
            "the           1,996\n",
            "beginning     2,927\n",
            "of            1,997\n",
            "the           1,996\n",
            "mughal       17,877\n",
            "empire        3,400\n",
            "and           1,998\n",
            "the           1,996\n",
            "end           2,203\n",
            "of            1,997\n",
            "the           1,996\n",
            "delhi         6,768\n",
            "sultanate    21,308\n",
            ".             1,012\n",
            "this          2,023\n",
            "was           2,001\n",
            "one           2,028\n",
            "of            1,997\n",
            "the           1,996\n",
            "earliest      5,700\n",
            "battles       7,465\n",
            "involving     5,994\n",
            "gunpowder    22,220\n",
            "firearms     13,780\n",
            "and           1,998\n",
            "field         2,492\n",
            "artillery     4,893\n",
            "in            1,999\n",
            "the           1,996\n",
            "indian        2,796\n",
            "subcontinent 26,125\n",
            "which         2,029\n",
            "were          2,020\n",
            "introduced    3,107\n",
            "by            2,011\n",
            "mughal       17,877\n",
            "##s           2,015\n",
            "in            1,999\n",
            "this          2,023\n",
            "battle        2,645\n",
            ".             1,012\n",
            "\n",
            "[SEP]           102\n",
            "\n"
          ]
        }
      ]
    },
    {
      "cell_type": "markdown",
      "metadata": {
        "id": "zm208EApN16k"
      },
      "source": [
        "We've concatenated the `question` and `answer_text` together, but BERT still needs a way to distinguish them. BERT has two special \"Segment\" embeddings, one for segment \"A\" and one for segment \"B\". Before the word embeddings go into the BERT layers, the segment A embedding needs to be added to the `question` tokens, and the segment B embedding needs to be added to each of the `answer_text` tokens. \n",
        "\n",
        "These additions are handled for us by the `transformer` library, and all we need to do is specify a '0' or '1' for each token. \n",
        "\n",
        "Note: In the `transformers` library, huggingface likes to call these `token_type_ids`, but I'm going with `segment_ids` since this seems clearer, and is consistent with the BERT paper."
      ]
    },
    {
      "cell_type": "code",
      "metadata": {
        "colab": {
          "base_uri": "https://localhost:8080/"
        },
        "id": "erio8yEM3xh7",
        "outputId": "d1b13bd7-e099-4602-c086-73015b792332"
      },
      "source": [
        "encoded_dict"
      ],
      "execution_count": 9,
      "outputs": [
        {
          "output_type": "execute_result",
          "data": {
            "text/plain": [
              "{'input_ids': [101, 2043, 2001, 1996, 2034, 2645, 1997, 6090, 11514, 4017, 4061, 102, 1996, 2034, 2645, 1997, 6090, 11514, 4017, 1010, 2006, 2538, 2258, 15017, 2575, 1010, 2001, 4061, 2090, 1996, 17657, 2749, 1997, 20948, 2099, 1998, 1996, 8840, 4305, 5321, 1012, 2009, 2165, 2173, 1999, 2167, 2634, 1998, 4417, 1996, 2927, 1997, 1996, 17877, 3400, 1998, 1996, 2203, 1997, 1996, 6768, 21308, 1012, 2023, 2001, 2028, 1997, 1996, 5700, 7465, 5994, 22220, 13780, 1998, 2492, 4893, 1999, 1996, 2796, 26125, 2029, 2020, 3107, 2011, 17877, 2015, 1999, 2023, 2645, 1012, 102], 'token_type_ids': [0, 0, 0, 0, 0, 0, 0, 0, 0, 0, 0, 0, 1, 1, 1, 1, 1, 1, 1, 1, 1, 1, 1, 1, 1, 1, 1, 1, 1, 1, 1, 1, 1, 1, 1, 1, 1, 1, 1, 1, 1, 1, 1, 1, 1, 1, 1, 1, 1, 1, 1, 1, 1, 1, 1, 1, 1, 1, 1, 1, 1, 1, 1, 1, 1, 1, 1, 1, 1, 1, 1, 1, 1, 1, 1, 1, 1, 1, 1, 1, 1, 1, 1, 1, 1, 1, 1, 1, 1, 1, 1], 'attention_mask': [1, 1, 1, 1, 1, 1, 1, 1, 1, 1, 1, 1, 1, 1, 1, 1, 1, 1, 1, 1, 1, 1, 1, 1, 1, 1, 1, 1, 1, 1, 1, 1, 1, 1, 1, 1, 1, 1, 1, 1, 1, 1, 1, 1, 1, 1, 1, 1, 1, 1, 1, 1, 1, 1, 1, 1, 1, 1, 1, 1, 1, 1, 1, 1, 1, 1, 1, 1, 1, 1, 1, 1, 1, 1, 1, 1, 1, 1, 1, 1, 1, 1, 1, 1, 1, 1, 1, 1, 1, 1, 1]}"
            ]
          },
          "metadata": {},
          "execution_count": 9
        }
      ]
    },
    {
      "cell_type": "markdown",
      "metadata": {
        "id": "1ORa5G3iz0ig"
      },
      "source": [
        "## Not Required"
      ]
    },
    {
      "cell_type": "code",
      "metadata": {
        "id": "uJ7PRx2dKqFN"
      },
      "source": [
        "# Search the input_ids for the first instance of the `[SEP]` token.\n",
        "sep_index = input_ids.index(tokenizer.sep_token_id)\n",
        "\n",
        "# The number of segment A tokens includes the [SEP] token istelf.\n",
        "num_seg_a = sep_index + 1\n",
        "\n",
        "# The remainder are segment B.\n",
        "num_seg_b = len(input_ids) - num_seg_a\n",
        "\n",
        "# Construct the list of 0s and 1s.\n",
        "segment_ids = [0]*num_seg_a + [1]*num_seg_b\n",
        "\n",
        "# There should be a segment_id for every input token.\n",
        "assert len(segment_ids) == len(input_ids)"
      ],
      "execution_count": null,
      "outputs": []
    },
    {
      "cell_type": "markdown",
      "metadata": {
        "id": "a30sBTcqQv6X"
      },
      "source": [
        ">*Side Note: Where's the padding?*\n",
        ">\n",
        "> The original [example code](https://huggingface.co/transformers/model_doc/bert.html?highlight=bertforquestionanswering#transformers.BertForQuestionAnswering) does not perform any padding. I suspect that this is because we are only feeding in a *single example*. If we instead fed in a batch of examples, then we would need to pad or truncate all of the samples in the batch to a single length, and supply an attention mask to tell BERT to ignore the padding tokens. "
      ]
    },
    {
      "cell_type": "markdown",
      "metadata": {
        "id": "CNwhEw0kQPBN"
      },
      "source": [
        "We're ready to feed our example into the model!\n",
        "\n",
        "Note: The result object is of type [QuestionAnsweringModelOutput](https://huggingface.co/transformers/main_classes/output.html#transformers.modeling_outputs.QuestionAnsweringModelOutput)\n",
        "\n"
      ]
    },
    {
      "cell_type": "code",
      "metadata": {
        "id": "DQiKr6Aw-YTg"
      },
      "source": [
        "# Run our example through the model.\n",
        "import torch\n",
        "outputs = model(torch.tensor([input_ids]), # The tokens representing our input text.\n",
        "                             token_type_ids=torch.tensor([segment_ids]), # The segment IDs to differentiate question from answer_text\n",
        "                             return_dict=True) \n",
        "\n",
        "start_scores = outputs.start_logits\n",
        "end_scores = outputs.end_logits\n"
      ],
      "execution_count": 10,
      "outputs": []
    },
    {
      "cell_type": "code",
      "metadata": {
        "colab": {
          "base_uri": "https://localhost:8080/"
        },
        "id": "z2GPaxbt6DTN",
        "outputId": "ede65421-4b48-4ecc-8cbe-6e78c6f95b9f"
      },
      "source": [
        "start_scores"
      ],
      "execution_count": 11,
      "outputs": [
        {
          "output_type": "execute_result",
          "data": {
            "text/plain": [
              "tensor([[-6.1921, -7.8888, -8.4645, -8.1532, -8.2352, -8.0632, -8.7318, -8.1105,\n",
              "         -8.2547, -9.1396, -9.1980, -6.1920,  3.5754,  1.0137, -0.6775, -3.4296,\n",
              "         -0.8084, -4.3873, -4.1665, -2.1391,  3.9576,  7.3590,  1.6369,  2.0753,\n",
              "         -1.1646, -4.4231, -1.2428, -0.2542, -1.3991, -3.7001, -2.8558, -4.5216,\n",
              "         -6.7074, -2.1165, -6.4115, -6.9660, -5.0379, -4.0100, -7.1945, -4.9442,\n",
              "         -6.1919,  0.7952, -1.8639, -3.8503, -1.9429, -1.1616, -2.0966, -5.1343,\n",
              "         -0.8202, -3.3836, -3.6776, -6.0500, -4.4275, -3.2622, -5.4394, -6.8803,\n",
              "         -4.3243, -4.4168, -7.5424, -6.5254, -3.7600, -5.2122, -5.6785, -0.5037,\n",
              "         -6.0402, -2.5273, -6.6063, -6.3269, -4.0668, -4.5432, -6.2146, -4.8752,\n",
              "         -5.8722, -8.2681, -6.3960, -6.5612, -7.8046, -7.5089, -4.3424, -6.7015,\n",
              "         -7.7564, -7.8805, -4.9072, -7.8354, -4.7692, -8.0552, -6.0533, -4.6642,\n",
              "         -4.3043, -8.7412, -6.1921]], grad_fn=<CloneBackward0>)"
            ]
          },
          "metadata": {},
          "execution_count": 11
        }
      ]
    },
    {
      "cell_type": "code",
      "metadata": {
        "colab": {
          "base_uri": "https://localhost:8080/"
        },
        "id": "igs_IhEx6GSQ",
        "outputId": "ccb6e041-bf15-47aa-cd6c-63c1f941fbe2"
      },
      "source": [
        "end_scores"
      ],
      "execution_count": 12,
      "outputs": [
        {
          "output_type": "execute_result",
          "data": {
            "text/plain": [
              "tensor([[-1.2906, -7.6076, -7.6274, -7.9695, -7.5565, -7.5547, -7.5955, -7.6814,\n",
              "         -6.9985, -6.2216, -8.6514, -1.2904, -4.4938, -3.8245, -4.1108, -5.8563,\n",
              "         -4.6906, -4.2343,  2.3269,  0.4567, -2.3111, -1.1959, -0.0603, -0.8008,\n",
              "          8.3731,  4.1742, -2.9604, -1.5729, -4.1726, -6.0517, -4.4152, -1.9234,\n",
              "         -6.3897, -5.9848, -1.9510, -6.2458, -7.0643, -6.8189, -3.5232,  1.4079,\n",
              "         -1.2904, -5.2609, -5.9797, -2.1445, -5.8484, -5.1173,  1.1486, -4.9378,\n",
              "         -5.5935, -7.0867, -4.9104, -6.6911, -7.2202, -4.7570, -1.4974, -7.0718,\n",
              "         -7.1866, -5.3730, -6.6655, -7.3449, -4.7993, -0.6807,  0.2394, -6.3728,\n",
              "         -7.3108, -7.4306, -7.5641, -7.9508, -5.7352, -5.9379, -7.4450, -5.9270,\n",
              "         -3.3975, -7.5637, -7.2660, -2.6211, -7.5153, -7.7844, -5.4956, -1.4396,\n",
              "         -6.3828, -7.7750, -6.2637, -8.0213, -7.1848, -4.2321, -7.5771, -7.5525,\n",
              "         -1.8090, -2.9398, -1.2907]], grad_fn=<CloneBackward0>)"
            ]
          },
          "metadata": {},
          "execution_count": 12
        }
      ]
    },
    {
      "cell_type": "markdown",
      "metadata": {
        "id": "mBdS_QkIbDzh"
      },
      "source": [
        "Now we can highlight the answer just by looking at the most probable start and end words. "
      ]
    },
    {
      "cell_type": "code",
      "metadata": {
        "id": "LeUQ44hAJmn9",
        "colab": {
          "base_uri": "https://localhost:8080/"
        },
        "outputId": "d7b4e4d1-a62c-425c-cca5-fabcd5d5753d"
      },
      "source": [
        "# Find the tokens with the highest `start` and `end` scores.\n",
        "answer_start = torch.argmax(start_scores)\n",
        "answer_end = torch.argmax(end_scores)\n",
        "\n",
        "# Combine the tokens in the answer and print it out.\n",
        "answer = ' '.join(tokens[answer_start:answer_end+1])\n",
        "\n",
        "print('Answer: \"' + answer + '\"')"
      ],
      "execution_count": 13,
      "outputs": [
        {
          "output_type": "stream",
          "name": "stdout",
          "text": [
            "Answer: \"21 april 152 ##6\"\n"
          ]
        }
      ]
    },
    {
      "cell_type": "markdown",
      "metadata": {
        "id": "twMUWmr2brRw"
      },
      "source": [
        "It got it right! Awesome :)"
      ]
    },
    {
      "cell_type": "markdown",
      "metadata": {
        "id": "cERYCGKMbOXX"
      },
      "source": [
        "> *Side Note: It's a little naive to pick the highest scores for start and end--what if it predicts an end word that's before the start word?! The correct implementation is to pick the highest total score for which end >= start.*"
      ]
    },
    {
      "cell_type": "markdown",
      "metadata": {
        "id": "N6j2znkwXYsn"
      },
      "source": [
        "With a little more effort, we can reconstruct any words that got broken down into subwords."
      ]
    },
    {
      "cell_type": "code",
      "metadata": {
        "id": "Khral6HZXCuI",
        "colab": {
          "base_uri": "https://localhost:8080/"
        },
        "outputId": "42d6ec51-e840-4ae2-b5d2-4fb665f6e9e4"
      },
      "source": [
        "# Start with the first token.\n",
        "answer = tokens[answer_start]\n",
        "\n",
        "# Select the remaining answer tokens and join them with whitespace.\n",
        "for i in range(answer_start + 1, answer_end + 1):\n",
        "    \n",
        "    # If it's a subword token, then recombine it with the previous token.\n",
        "    if tokens[i][0:2] == '##':\n",
        "        answer += tokens[i][2:]\n",
        "    \n",
        "    # Otherwise, add a space then the token.\n",
        "    else:\n",
        "        answer += ' ' + tokens[i]\n",
        "\n",
        "print('Answer: \"' + answer + '\"')"
      ],
      "execution_count": 14,
      "outputs": [
        {
          "output_type": "stream",
          "name": "stdout",
          "text": [
            "Answer: \"21 april 1526\"\n"
          ]
        }
      ]
    },
    {
      "cell_type": "markdown",
      "metadata": {
        "id": "-hh6nkIdXq-O"
      },
      "source": [
        "## 4. Visualizing Scores"
      ]
    },
    {
      "cell_type": "markdown",
      "metadata": {
        "id": "-hG2YCHYXtg-"
      },
      "source": [
        "I was curious to see what the scores were for all of the words. The following cells generate bar plots showing the start and end scores for every word in the input."
      ]
    },
    {
      "cell_type": "code",
      "metadata": {
        "id": "gkKFa73eJkPE"
      },
      "source": [
        "import matplotlib.pyplot as plt\n",
        "import seaborn as sns\n",
        "\n",
        "# Use plot styling from seaborn.\n",
        "sns.set(style='darkgrid')\n",
        "\n",
        "# Increase the plot size and font size.\n",
        "#sns.set(font_scale=1.5)\n",
        "plt.rcParams[\"figure.figsize\"] = (16,8)"
      ],
      "execution_count": 15,
      "outputs": []
    },
    {
      "cell_type": "markdown",
      "metadata": {
        "id": "W7kazkb2iEuQ"
      },
      "source": [
        "Retrieve all of the start and end scores, and use all of the tokens as x-axis labels."
      ]
    },
    {
      "cell_type": "code",
      "metadata": {
        "id": "C56AtMg2UBxN"
      },
      "source": [
        "# Pull the scores out of PyTorch Tensors and convert them to 1D numpy arrays.\n",
        "s_scores = start_scores.detach().numpy().flatten()\n",
        "e_scores = end_scores.detach().numpy().flatten()\n",
        "\n",
        "# We'll use the tokens as the x-axis labels. In order to do that, they all need\n",
        "# to be unique, so we'll add the token index to the end of each one.\n",
        "token_labels = []\n",
        "for (i, token) in enumerate(tokens):\n",
        "    token_labels.append('{:} - {:>2}'.format(token, i))\n"
      ],
      "execution_count": 16,
      "outputs": []
    },
    {
      "cell_type": "markdown",
      "metadata": {
        "id": "NIaW7RyTiLeu"
      },
      "source": [
        "Create a bar plot showing the score for every input word being the \"start\" word."
      ]
    },
    {
      "cell_type": "code",
      "metadata": {
        "id": "y6OAV1dL3-UB",
        "colab": {
          "base_uri": "https://localhost:8080/",
          "height": 589
        },
        "outputId": "47ff9a4f-f679-4ab1-bc0d-ade5aff50488"
      },
      "source": [
        "# Create a barplot showing the start word score for all of the tokens.\n",
        "ax = sns.barplot(x=token_labels, y=s_scores, ci=None)\n",
        "\n",
        "# Turn the xlabels vertical.\n",
        "ax.set_xticklabels(ax.get_xticklabels(), rotation=90, ha=\"center\")\n",
        "\n",
        "# Turn on the vertical grid to help align words to scores.\n",
        "ax.grid(True)\n",
        "\n",
        "plt.title('Start Word Scores')\n",
        "\n",
        "plt.show()"
      ],
      "execution_count": 17,
      "outputs": [
        {
          "output_type": "display_data",
          "data": {
            "image/png": "[encoded data removed]",
            "text/plain": [
              "<Figure size 1152x576 with 1 Axes>"
            ]
          },
          "metadata": {}
        }
      ]
    },
    {
      "cell_type": "markdown",
      "metadata": {
        "id": "zIwrF7y6iS1l"
      },
      "source": [
        "Create a second bar plot showing the score for every input word being the \"end\" word."
      ]
    },
    {
      "cell_type": "code",
      "metadata": {
        "id": "6tXEqIp-Tzou",
        "colab": {
          "base_uri": "https://localhost:8080/",
          "height": 589
        },
        "outputId": "052541ab-7950-4cb9-ac7b-ac176433bfb8"
      },
      "source": [
        "# Create a barplot showing the end word score for all of the tokens.\n",
        "ax = sns.barplot(x=token_labels, y=e_scores, ci=None)\n",
        "\n",
        "# Turn the xlabels vertical.\n",
        "ax.set_xticklabels(ax.get_xticklabels(), rotation=90, ha=\"center\")\n",
        "\n",
        "# Turn on the vertical grid to help align words to scores.\n",
        "ax.grid(True)\n",
        "\n",
        "plt.title('End Word Scores')\n",
        "\n",
        "plt.show()"
      ],
      "execution_count": 18,
      "outputs": [
        {
          "output_type": "display_data",
          "data": {
            "image/png": "[encoded data removed]",
            "text/plain": [
              "<Figure size 1152x576 with 1 Axes>"
            ]
          },
          "metadata": {}
        }
      ]
    },
    {
      "cell_type": "markdown",
      "metadata": {
        "id": "awgi7Z_a9KSq"
      },
      "source": [
        "**Alternate View**\n",
        "\n",
        "I also tried visualizing both the start and end scores on a single bar plot, but I think it may actually be more confusing then seeing them separately. "
      ]
    },
    {
      "cell_type": "code",
      "metadata": {
        "id": "m4VUk6R05uXS"
      },
      "source": [
        "import pandas as pd\n",
        "\n",
        "# Store the tokens and scores in a DataFrame. \n",
        "# Each token will have two rows, one for its start score and one for its end\n",
        "# score. The \"marker\" column will differentiate them. A little wacky, I know.\n",
        "scores = []\n",
        "for (i, token_label) in enumerate(token_labels):\n",
        "\n",
        "    # Add the token's start score as one row.\n",
        "    scores.append({'token_label': token_label, \n",
        "                   'score': s_scores[i],\n",
        "                   'marker': 'start'})\n",
        "    \n",
        "    # Add  the token's end score as another row.\n",
        "    scores.append({'token_label': token_label, \n",
        "                   'score': e_scores[i],\n",
        "                   'marker': 'end'})\n",
        "    \n",
        "df = pd.DataFrame(scores)\n"
      ],
      "execution_count": 19,
      "outputs": []
    },
    {
      "cell_type": "code",
      "metadata": {
        "id": "07xyo-I97Ntt",
        "colab": {
          "base_uri": "https://localhost:8080/",
          "height": 333
        },
        "outputId": "c94e5d70-9f61-4443-fda5-4ffdd93d51c9"
      },
      "source": [
        "# Draw a grouped barplot to show start and end scores for each word.\n",
        "# The \"hue\" parameter is where we tell it which datapoints belong to which\n",
        "# of the two series.\n",
        "g = sns.catplot(x=\"token_label\", y=\"score\", hue=\"marker\", data=df,\n",
        "                kind=\"bar\", height=6, aspect=4)\n",
        "\n",
        "# Turn the xlabels vertical.\n",
        "g.set_xticklabels(g.ax.get_xticklabels(), rotation=90, ha=\"center\")\n",
        "\n",
        "# Turn on the vertical grid to help align words to scores.\n",
        "g.ax.grid(True)\n"
      ],
      "execution_count": 20,
      "outputs": [
        {
          "output_type": "display_data",
          "data": {
            "image/png": "[encoded data removed]",
            "text/plain": [
              "<Figure size 1793.47x432 with 1 Axes>"
            ]
          },
          "metadata": {}
        }
      ]
    },
    {
      "cell_type": "markdown",
      "metadata": {
        "id": "8UyBYNmeegGf"
      },
      "source": [
        "## 5. More Examples"
      ]
    },
    {
      "cell_type": "markdown",
      "metadata": {
        "id": "MWtcRpPef-Ce"
      },
      "source": [
        "Turn the QA process into a function so we can easily try out other examples."
      ]
    },
    {
      "cell_type": "code",
      "metadata": {
        "id": "rH8NbBlsfxZ_"
      },
      "source": [
        "def answer_question(question, answer_text):\n",
        "    '''\n",
        "    Takes a `question` string and an `answer_text` string (which contains the\n",
        "    answer), and identifies the words within the `answer_text` that are the\n",
        "    answer. Prints them out.\n",
        "    '''\n",
        "    # ======== Tokenize ========\n",
        "    # Apply the tokenizer to the input text, treating them as a text-pair.\n",
        "    encoded_dict = tokenizer.encode_plus(text=question,text_pair=answer_text)\n",
        "    input_ids = encoded_dict['input_ids']\n",
        "    segment_ids = encoded_dict['token_type_ids']\n",
        "    # There should be a segment_id for every input token.\n",
        "    assert len(segment_ids) == len(input_ids)\n",
        "    # Report how long the input sequence is.\n",
        "    print('Query has {:,} tokens.\\n'.format(len(input_ids)))\n",
        "    # ======== Evaluate ========\n",
        "    # Run our example through the model.\n",
        "    outputs = model(torch.tensor([input_ids]), # The tokens representing our input text.\n",
        "                    token_type_ids=torch.tensor([segment_ids]), # The segment IDs to differentiate question from answer_text\n",
        "                    return_dict=True) \n",
        "\n",
        "    start_scores = outputs.start_logits\n",
        "    end_scores = outputs.end_logits\n",
        "\n",
        "    # ======== Reconstruct Answer ========\n",
        "    # Find the tokens with the highest `start` and `end` scores.\n",
        "    answer_start = torch.argmax(start_scores)\n",
        "    answer_end = torch.argmax(end_scores)\n",
        "\n",
        "    # Get the string versions of the input tokens.\n",
        "    tokens = tokenizer.convert_ids_to_tokens(input_ids)\n",
        "\n",
        "    # Start with the first token.\n",
        "    answer = tokens[answer_start]\n",
        "\n",
        "    # Select the remaining answer tokens and join them with whitespace.\n",
        "    for i in range(answer_start + 1, answer_end + 1):\n",
        "        \n",
        "        # If it's a subword token, then recombine it with the previous token.\n",
        "        if tokens[i][0:2] == '##':\n",
        "            answer += tokens[i][2:]\n",
        "        \n",
        "        # Otherwise, add a space then the token.\n",
        "        else:\n",
        "            answer += ' ' + tokens[i]\n",
        "\n",
        "    print('Answer: \"' + answer + '\"')\n",
        "    return answer"
      ],
      "execution_count": 30,
      "outputs": []
    },
    {
      "cell_type": "code",
      "metadata": {
        "colab": {
          "base_uri": "https://localhost:8080/",
          "height": 88
        },
        "id": "-G189uW81Kog",
        "outputId": "bc452117-876c-46cf-a5bf-3c95bc69803a"
      },
      "source": [
        "answer_question(question, answer_text)"
      ],
      "execution_count": 31,
      "outputs": [
        {
          "output_type": "stream",
          "name": "stdout",
          "text": [
            "Query has 91 tokens.\n",
            "\n",
            "Answer: \"21 april 1526\"\n"
          ]
        },
        {
          "output_type": "execute_result",
          "data": {
            "application/vnd.google.colaboratory.intrinsic+json": {
              "type": "string"
            },
            "text/plain": [
              "'21 april 1526'"
            ]
          },
          "metadata": {},
          "execution_count": 31
        }
      ]
    },
    {
      "cell_type": "markdown",
      "metadata": {
        "id": "DVlKTK-njWrX"
      },
      "source": [
        "As our reference text, I've taken the Abstract of the [BERT paper](https://arxiv.org/pdf/1810.04805.pdf).\n"
      ]
    },
    {
      "cell_type": "code",
      "metadata": {
        "id": "y4VPq6FdjxyX",
        "colab": {
          "base_uri": "https://localhost:8080/"
        },
        "outputId": "45222d8e-9d5b-41e1-ae0f-db5b5b087dac"
      },
      "source": [
        "import textwrap\n",
        "\n",
        "# Wrap text to 80 characters.\n",
        "wrapper = textwrap.TextWrapper(width=80) \n",
        "\n",
        "bert_abstract = \"We introduce a new language representation model called BERT, which stands for Bidirectional Encoder Representations from Transformers. Unlike recent language representation models (Peters et al., 2018a; Radford et al., 2018), BERT is designed to pretrain deep bidirectional representations from unlabeled text by jointly conditioning on both left and right context in all layers. As a result, the pre-trained BERT model can be finetuned with just one additional output layer to create state-of-the-art models for a wide range of tasks, such as question answering and language inference, without substantial taskspecific architecture modifications. BERT is conceptually simple and empirically powerful. It obtains new state-of-the-art results on eleven natural language processing tasks, including pushing the GLUE score to 80.5% (7.7% point absolute improvement), MultiNLI accuracy to 86.7% (4.6% absolute improvement), SQuAD v1.1 question answering Test F1 to 93.2 (1.5 point absolute improvement) and SQuAD v2.0 Test F1 to 83.1 (5.1 point absolute improvement).\"\n",
        "\n",
        "print(wrapper.fill(bert_abstract))"
      ],
      "execution_count": 23,
      "outputs": [
        {
          "output_type": "stream",
          "name": "stdout",
          "text": [
            "We introduce a new language representation model called BERT, which stands for\n",
            "Bidirectional Encoder Representations from Transformers. Unlike recent language\n",
            "representation models (Peters et al., 2018a; Radford et al., 2018), BERT is\n",
            "designed to pretrain deep bidirectional representations from unlabeled text by\n",
            "jointly conditioning on both left and right context in all layers. As a result,\n",
            "the pre-trained BERT model can be finetuned with just one additional output\n",
            "layer to create state-of-the-art models for a wide range of tasks, such as\n",
            "question answering and language inference, without substantial taskspecific\n",
            "architecture modifications. BERT is conceptually simple and empirically\n",
            "powerful. It obtains new state-of-the-art results on eleven natural language\n",
            "processing tasks, including pushing the GLUE score to 80.5% (7.7% point absolute\n",
            "improvement), MultiNLI accuracy to 86.7% (4.6% absolute improvement), SQuAD v1.1\n",
            "question answering Test F1 to 93.2 (1.5 point absolute improvement) and SQuAD\n",
            "v2.0 Test F1 to 83.1 (5.1 point absolute improvement).\n"
          ]
        }
      ]
    },
    {
      "cell_type": "markdown",
      "metadata": {
        "id": "tEB654YCknYv"
      },
      "source": [
        "-----------------------------\n",
        "Ask BERT what its name stands for (the answer is in the first sentence of the abstract)."
      ]
    },
    {
      "cell_type": "code",
      "metadata": {
        "id": "wfntqRCBegGj",
        "colab": {
          "base_uri": "https://localhost:8080/"
        },
        "outputId": "6339073a-07da-4e4e-b228-8af755d7402b"
      },
      "source": [
        "question = \"What does the 'B' in BERT stand for?\"\n",
        "\n",
        "answer_question(question, bert_abstract)"
      ],
      "execution_count": 24,
      "outputs": [
        {
          "output_type": "stream",
          "name": "stdout",
          "text": [
            "Query has 258 tokens.\n",
            "\n",
            "Answer: \"bidirectional encoder representations from transformers\"\n"
          ]
        }
      ]
    },
    {
      "cell_type": "markdown",
      "metadata": {
        "id": "B6HcijzxkTO9"
      },
      "source": [
        "---------------------\n",
        "Ask BERT about example applications of itself :)\n",
        "\n",
        "The answer to the question comes from this passage from the abstract: \n",
        "\n",
        "> \"...BERT model can be finetuned with just one additional output\n",
        "layer to create state-of-the-art models for **a wide range of tasks, such as\n",
        "question answering and language inference,** without substantial taskspecific\n",
        "architecture modifications.\""
      ]
    },
    {
      "cell_type": "code",
      "metadata": {
        "id": "MVNVGN5-gI06",
        "colab": {
          "base_uri": "https://localhost:8080/"
        },
        "outputId": "3686bf5e-19cc-454d-cd93-11f072ad1b20"
      },
      "source": [
        "question = \"What are some example applications of BERT?\"\n",
        "\n",
        "answer_question(question, bert_abstract)"
      ],
      "execution_count": 25,
      "outputs": [
        {
          "output_type": "stream",
          "name": "stdout",
          "text": [
            "Query has 255 tokens.\n",
            "\n",
            "Answer: \"question answering and language inference\"\n"
          ]
        }
      ]
    },
    {
      "cell_type": "markdown",
      "metadata": {
        "id": "ql6i1Iiz1X-g"
      },
      "source": [
        "## Building a prtotype using Gradio Web APP"
      ]
    },
    {
      "cell_type": "code",
      "metadata": {
        "colab": {
          "base_uri": "https://localhost:8080/"
        },
        "id": "oYUuy8nd1ghE",
        "outputId": "b0168641-57cb-4b56-fb41-4f61486202bf"
      },
      "source": [
        "! pip install --quiet gradio"
      ],
      "execution_count": 26,
      "outputs": [
        {
          "output_type": "stream",
          "name": "stdout",
          "text": [
            "\u001b[K     |████████████████████████████████| 979 kB 9.0 MB/s \n",
            "\u001b[K     |████████████████████████████████| 2.0 MB 81.1 MB/s \n",
            "\u001b[K     |████████████████████████████████| 206 kB 69.5 MB/s \n",
            "\u001b[K     |████████████████████████████████| 63 kB 3.0 MB/s \n",
            "\u001b[K     |████████████████████████████████| 961 kB 34.2 MB/s \n",
            "\u001b[K     |████████████████████████████████| 3.6 MB 63.4 MB/s \n",
            "\u001b[?25h  Building wheel for ffmpy (setup.py) ... \u001b[?25l\u001b[?25hdone\n",
            "  Building wheel for flask-cachebuster (setup.py) ... \u001b[?25l\u001b[?25hdone\n"
          ]
        }
      ]
    },
    {
      "cell_type": "code",
      "metadata": {
        "colab": {
          "base_uri": "https://localhost:8080/",
          "height": 643
        },
        "id": "HBfQQlT21jzD",
        "outputId": "7c5fe7e5-e4c5-43fc-d6f1-27336a951a5b"
      },
      "source": [
        "import gradio as gr\n",
        "interface = gr.Interface(fn=answer_question,inputs=[\"text\",\"text\"],outputs=\"text\")\n",
        "interface.launch()"
      ],
      "execution_count": 35,
      "outputs": [
        {
          "output_type": "stream",
          "name": "stdout",
          "text": [
            "Colab notebook detected. To show errors in colab notebook, set `debug=True` in `launch()`\n",
            "Running on public URL: https://57997.gradio.app\n",
            "\n",
            "This share link will expire in 72 hours. To get longer links, send an email to: support@gradio.app\n"
          ]
        },
        {
          "output_type": "display_data",
          "data": {
            "text/html": [
              "\n",
              "        <iframe\n",
              "            width=\"900\"\n",
              "            height=\"500\"\n",
              "            src=\"https://57997.gradio.app\"\n",
              "            frameborder=\"0\"\n",
              "            allowfullscreen\n",
              "        ></iframe>\n",
              "        "
            ],
            "text/plain": [
              "<IPython.lib.display.IFrame at 0x7f0106ff8bd0>"
            ]
          },
          "metadata": {}
        },
        {
          "output_type": "execute_result",
          "data": {
            "text/plain": [
              "(<Flask 'gradio.networking'>,\n",
              " 'http://127.0.0.1:7860/',\n",
              " 'https://57997.gradio.app')"
            ]
          },
          "metadata": {},
          "execution_count": 35
        }
      ]
    },
    {
      "cell_type": "markdown",
      "metadata": {
        "id": "0JEn_ctj7f0f"
      },
      "source": [
        "![image.png](data:image/png;base64,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)"
      ]
    },
    {
      "cell_type": "markdown",
      "metadata": {
        "id": "HZo90noe7pn0"
      },
      "source": [
        "![image.png](data:image/png;base64,iVBORw0KGgoAAAANSUhEUgAAB3MAAAGBCAYAAAB8VZvDAAAgAElEQVR4nOzdeXxU9bn48c85Z/aQAEmAkARkXypLxIoKokWoomXztvaKqK1LewG1FnG5tj+5vxvb4gpqK2ivS6si/mp7ZasFy9KKgKDVEEB2wYRAkCyEJDOZ5Zzz+2Myw0wyWZlJIDxvX/OSzJw555mzn/Oc7/NVTNM0EUIIIYQQQgghhBBCCCGEEEIIcU6xtHcA4twU0HUCAR1d1zFNM/hq76CEEEIIIYQQQgghhBBCCHHBUQBFUVAUBU3TsFg0LJrW3mEJ0SYUaZkrQkzTpMbnw+8PtHcoQgghhBBCCCGEEEIIIYQQjbJZLdhtNhRFae9QhEgYSeYKSeIKIYQQQgghhBBCCCGEEOK8JUld0ZFJMvcCZ5gm1W4PshoIIYQQQgghhBBCCCGEEOJ8pSgKSS4nqiR0z3mmaUYl3gMBL4YZQDf8KBr4dD9WTSOgGyg6WDU7qmrFanW0Y9TtR5K5FzDDMKj21EgiVwghhBBCCCGEEEIIIYQQ5z1FUUhyOlBVtb1DEU0wTROvt5LqqjI0i0JNZRl5H2/G7uqEqhl8fbCA6/7t30ju3h1VUampqcGiOXA6O2PR7KGxEOxRuWOztHcAon3ohkG129PeYQghhBBCCCGEEEIIIYQQQsSFaZpUuT10cjkloXsOC+g+vDWn0E0/CgZff5nP55u38vknOwj4fHgDOjZNobr0Gy4dfw0jxl2Pw2HFaXcR0APoBiiKBVXR2vuntAlJ5l6gPJ6a9g5BCCGEEEIIIYQQQgghhBAi7tyeGjoluRI+HcMwWvydCz3JHNC9+AMeXEkp+AJe/vzKq3zw/mqcScl8XXicSd/5Nt2ye2Ax4bPPdrJt2w7ud3Rm5Jjx1NT4QVFw2O0EdC8oJqpqqVe2uaO5sNeYC5TbU4MhpZWFEEIIIYQQQgghhBBCCNEBGaaJO8GN2kzTRFXVFr8u5K4vDUMHwGqxYZoaOz/9jP15n9O1Sxf69c7gxomX071XNmldO2H4PPTvl43TYWf9n/7IN4VFWKw2DMPA661BU4PtVQ1d79CJXJCWuRccnz9AQNfbOwwhhBBCCCGEEEIIIYQQQogoBw4eZOCAAXEZV0DX8fkD2KyJSYUpisLRo0epqKgIvxcrURuZaExJSaFXr14Jiacpbrebj7d8QkHBUa6bOJ7evds2DtM0MQwdTbPgqfHidNo5uGsnKBp9+mZx+HAhvS/KItVp8smmzyn+5jRXXjWSMeMu54tPP+frg7vp2esiFFMFTHw+H3abnYCho6LSkfvObfEa7Ha7efKZRZSUlLL4twsTEVNcbPznJpwOB5eOysFqtbZ3OLjdbj5ct5GPN2+lpLQ0/H56WhqjLhnJ9Knfw+U60+R/0+atdEtPY8jgQXGNw+vzxnV8QgghhBBCCCGEEEIIIYQ4f5SWlvHcs89y/aRJXHPN1e0dTlhpaRmLf/cSv/7Nr6PyJWfD6/MlJJlbVVXFsmXL2Lp1K4FAAEVRwqV+IxO6oURu6D1N07j88suZOXMmycnJcY+rMe+vXM3f120E4PMv8sj9r1+Snp7WZtP3B3zYrHa8NW40VcPv93PyxHF27T2Mqaqkp3blT6s3c2DEQDS/jw+2fclXpWVcMmQQNVUeTpcWE5yNJopiAipenxe73Ynf78VqtSf8N4RypAWFR+ndK5v/fHhu3NbVxrRoDY4Msld2VqJiigun00FlZRX/+jyv3RO6mzZvZdm77+H2eADolZ2Fy+XC7XZTeLSID9dt4OPNW5lxy82MG3slmzZv5bU33uQ/H54b1zhqfD4u4Nb7F6SSFXOY8Hhf3sp/mBHtHYwQQgghhBBCCCGEEEKIhDt6tIjdu3Zy8ODB8HvTpt9Edm1ep6y8DI/Hw/L33+dYURHTpk9rk4RUUz7dvh2Aj/75EZNumBSXcZqmSY3Ph8Nmi9v4TNPkD3/4A9u3b8fn86FpGqZpoteW+43sEzc0vKqqKIqC1+tl69atAPzkJz8Jv98WCgqOhv/t9ngoKS1ts2SurgewWe3UeKuA4HyxKBY++zQfu0PDH9D4x7Z8St06u1dvwK5Yye7WmWSLit9zikDAR/VpL6qiYZgmigkKJqDg9Xqw250Yho6qagn9HQWFRykoPBr173g3yoyl2cncuoncxx55MJFxnbVLL8nhX1/ktXtCN5SYBZg25XuMG3tl1MZRUlLK2nXr+fu6jbz2xpvs23eAj7dsTUgsfn8gbuNyu93886OPOXjwEFlZmUy6/rtx3dkHk5Bb6r0/5ol1LJmWDiUrmX3tfOoPUWtsLuuXTCU9ODZWzJ7I/M2hD2fGTm7mP8PI25bWn1bMcdSLjNwNiwkPfo6S5K4QQgghhBBCCCGEEEJ0XNu3bWfZsmVkZWbicDZ+z/7qa67m0+2fUlRUxC0zZoSTve3l00+31/7/07glcyGYG4lHMtcwDFRV5fDhw2zZsiXcEtftdqOqKi6Xi0AggNvtDid4rVYrmqbh8/nQdR2bzYbP52PTpk3ccMMNXHTRReHxxNveffuJLD3sqW1wGBJMSp75PD0tNWHJ3YDuR9MUwEA3A2CqWC12Bg4cQEW5i17ZPememca+I8VUV1dxxeUjuGbsKPBU07NfX1773euY6GCawYhNQDExzVB/uToB3Y8twclcl9PZ6N+J0qxkbqxE7rnwlEZjrFZruyd09+7bz2tvvInT6eCB+2bHzM6np6cx85YfMm7MlSx4ZmHCErm6YcStU223280zzz6Pw2Fn+PDh7Ny5k507d/PwQz+P73oRlZCtI30qS/Knxvggn6dH3AGzQ98L/r105pvsWBJMX5asmMOEEc9EJTSDSU7I3ZBXm5DN5+kRE5lNKKGbzrQleUyLNcWncridWed8IlcIIYQQQgghhBBCCCFEx7Z8+XKuvuZqbrrppnqflZaWsWvXLg7VttgdNnw4V199DW+89hqLX3qJGbfewvDh7dMMaPu27ZSVlZOa2pWysjJ27syPWyymaaIbBlpEi9mzcfLkSQzDIBAIUFNTQ48ePRg2bBipqakEAgEOHTrE/v376dmzJxkZGTidTnRd59ChQxw/fhyr1YrVauXkyZMJS+YuffdP4ZLKDXnn3fei/nY5nQkpvazrARRFx1NTgYEZ/M80AEjLzMDu8HLjv0/h+ho/pqmhmwY9MnviN1QqT1XSrVc2005V4+zkwlRMFBUUxcQwDXTdi2JRUQLUtto1UJX4LOdYevfuxc/u/Q++LjjK0CGD2qzf4SZ/0fmYyA0JJXSTkztRWRVM6Pr9/jab/vsrVgNw6y0/bLKZ9deFR/F4ahIWiz8Qv1a527Z/honJo4/M48YbruPRR+ZhYrJt+2dxm0Zr5T91B0vH5nJX7T6+ZMXLLB2by/pHz+z006flkjt2KUtWlIS+xeuPb2Hm25Eta0fwyNsz2fL4G+Q3OsFnuH3pGHLvPj/auaZPW8wOaZUrhBBCCCGEEEIIIYQQHc6BgwfxeDxcffU1Ue+73W6WvbOMXz3xBGvXrMHt9jBs2DCyMjNJS0tlzn33Mmz4MF5/7Q2Wv/9+u8S+ffunANxy661AsNRyPAXikCOJTLjquo7dbqd3795cddVVZGdnoygKnTt35sorr2Ts2LF0794dq9WKw+GgV69eTJgwgT59+oSTu6F8VSJa5UaWVG6uUOnlePP5q1HUAF6fFwBVVfB63fj0U/TIzqRXv6F0Su5Gl+5ZZPYbRFpmX/yKC1O1EzBNqk6VM2rsNQwYMgyf342p6MHWvYqBZtUwDJ1AwIvFouD3u+Mef12jLsnhpmmT26S8ckijLXPP50RuSHu10C0oKGTf/gP0ys5i3NgrGx02shRzohi6EbdxlZWXkZWZGfXegAH9KTp2LG7TOLZ3C/SZFbtVboPyWbMUZr59przy5jWxxpPO2EljmL9mCyXTppKev5aljCE3s87oRlzPTO5gTf7DjGgg+5n/t6Uw801plSuEEEIIIYQQQgghhBDinJCWlhr+t9vtZvFLiykrK2PGjBmMvnx0veFdLhe33norZaXl/POfH/Hty0YntOTygYMHUQiW/T1WVATAoUMHGTZsGAMHDGDYsGHs2rWLtWvWAJCZlYWztpztgAEDWjVN3Tj7HEmoBW2ofPK4cePo2rUrlZWVHDlyBIDU1FRSUlLo3bs3n3/+OadOncI0TVwuF+np6Vx11VUcP36cvLw8jNqYElVm+VyhGzoaGlabDUVRMAwDr+c0J6tKGD06B93nZeen29i8bSe9+/Vn3NWjCeheXvvdmwwY2J+J3xtP14x+KKoFj6cKVQu2Uw31T6yYCroZwOOtwu83sNs6tfMvjr9Gk7kLnl5I4dEiXE4nN02bQkFhUbNH3LtXVkITv36/n6qq6mYP369vX3Z/uSfcQveKyy9LWGwA//piBwBXNZHILSgo5OPNWxk8aGC9z+JZa9uIU4nlAwcPUePxUl5ezoGDh8LvKygUFRVx4OAhBg7oH5dptVTJipdZykzeam6z0837OAZNJowPHy6BETGGKlnJkqUw8+2mJ1i3D+AxT7zJpDV3ML/Pm+yobTUcLNf8JjtuWFvbd2+ob9/aUtGRI5x55nuR8UT1Izw2l7fqdCvQUJ+59fsobqBf4Ua/U6ff4JKVzL52DZM2LKbvazncHvEDZr6dxyPhkdeWxn47j7sO151Pkf0WCyGEEEIIIYQQQgghhGiJtWvXUlZWxpx77w0naI8eLaKmxhOVGH3nnXc4dOggMxLYd26oP9+GjK7N24y+/DJ27drFmjVrYw7XUFK6MYYRnxwJBFv52u12kpOTcbvd+Hw+qqurOXLkCH369GHIkCFYLBbS0tLYtWsXFRUVdO3aFU3TcDqdpKSkkJycHLeuMc91fr8Hw7SgahqmaWAYJharlWMFe3C4Ukjv3ptuvbIZerqGnf/6jIxUOwMuzuGySwZy2TUTSMvuRyDg53RpEQ5XJ+x2JwG/D9Vix+5wgKJg6iYBMxDX5dyQpe/+icLCInr3yubWW25O+PSgkWTu+ytWU3g0mLx1ezy8+NLLLRrxtCnf46Zpk88uukYUFB7lq8NHWvXdyqoqDn11mP79+sY5qvouaqJedu/evXjskQcTHkc8dgob//ER7y9fGf77t79bUm+Y3/5uCTdNn8r471x9FlMq4fARYPMdjAwnAOskCusJlkoe80RuRAIynb59gCNHKGFEVNL22N4tQO3yzxzMGJayr25mt+QIhxuJMv+1+WwZm8sTTeRy85/K4falM3krf3FtbCWsmD2R+ZuBPnUGPvIys/82ix35D58JY8XL8HYeO8Id/K5k9rV3MHtIRKIz/xlG3raUmW/nsSRcYjqUGG1sPQ/FEhlfbcwjDjcyz/N5fc0k1ucvDs+y/KdyuP3aZ+hbJwm85vEc+s7OY8ejEXHdlgNRCV04vGQOj0/KZUd+5G+K7LdYCCGEEEIIIYQQQgghRHOVlpbx0T8/YsaMGTidTtauWcP27Z9SVlYGwLyHHiI1tWu45e6c++5lYCtbvjbH6MtH0zUtlTdeex2Px0NWVhbTbppOatfUqNbEw4ePYNHziygtLaOsvIwV//s+RceO4XQ6ufPuu1oVYzwTp4qiUFlZidcbLBusaRpVVVUUFhaiaRr9+vXDbrfTpUsXjh07RmlpabgVLkB5eTkFBQUJ7Rb0qrFXMmTwID7espXS0rJmf6+g8CigkJ6WGre+cz2nT6BZHBimgQKYJng8FQS8NZScKsHv83BRv+H0zOzNlWMvw57UleS0TNJ69AQUTAN0nw/DW4NXN6guLwF0Oqf3wjRB1VRUQi2c9bjE3JC9+/aH+yLeu28/oy4Z2SbllhtM5l56yciohRyr5WhDXC4nl14y8uyja0S3bulUVlYR0Jtf57y8/BQAToeDbt0urORQPHZUze3T9+z7/k1n2pI8pkW8E0wU5rCvTgLwzABrg61y6yT9Rtydy5hr5zPhqT5nWrLmP8OSI2MiJjeV2TPnc/ttcxgcTl6WsOLxNTC2oRjrlnRuQMlKliwdQ+6Gh6OSzNOWvMm+uq1tATb3ZfaS6B+YPm0xj0S9URvv3mMEgy1hxZKljHliXdS8SZ+2mLf2RreIrf8z3qhN5EYnYEc8uo7cIxOZ/1o+0+q2AA4OwSN14hxxdy5jlq4huiHzFpjUQFxLVnLXkjPzb0ufWeyIXH4jHmb9E4eZ8Pgb5E+Tfn6FEEIIIYQQQgghhBCiJXbt3InT6cTj8fDcs8/idDoYNnw4qV1TWb58OeXlpby7bFm9lruJNHDAAObcey+LX3qJoqIiVry/nDn3zok5rNPpYMXry8OJ3LOJMd7JXK/Xy6lTp+jSpQsAVVVVAJw+fZrq6mqSkpJwuVz88Ic/xGKxoGka3bt3R9M0XC4X/fv3Jzs7Ozy+eAt1/3nTtMkseHoh+/YfaNb33nn3PSBYOfY/H55L7yYaLDZHSfERFExURcXERA/48fk8dO3Rh+Qu6ZQUHaL8xNckde6BrVNXVIsN3dBBsxPwegkEqjB0H16PBwUvmt2GxW7F56nECNQACiYmphnACATonJxx1jGfaxpM5vbu3YsH7p3FgmcW4vHU0C09nXvuuqMtY2tUSnIyOSOHN3v4XV/uAcBisTBixDBSkpMTFVqUrwsK27QT5IaE6rifr0Y8msdb1E8AhoT6rq2X8EufypINMPvaiFa+M99kx+y1jNwcY/zX5jAfCLYEzmXS4xNZEyugUPK4iQxjyeY1bKEvs+tlfDMZHCtRPHYwdbvurR3Tmda84WFrWxyXbGHN5jFMeqJ+WjlzyJh670VqcL7V9ivM42vJf3REw4nU2hbBkfpGtXAew6SxDcS1NLrM9cwbYkTRty9wmIYqXQshhBBCCCGEEEIIIYSIbefOXXg8HpYvX87111/PpBuC/fIdOHgQgNdfe4OszEzmPfRQVMvYRMvOzmLeQw/xxmuvUVRUxOKXFjPn3jlRXXeG+votKioiKzOTOffde1Zde8Y7Yerz+Thx4gSpqakYhkFKSgq6ruP3+/H7/VitVq655hrS02Pf2L7iiiuorq5OSGx1XTX2ymYnc0PcHg9r123gJ3f96Kyn32vAaE4W7aXy1DFcSV1IcnXF2TUNW1IXFAPSM/pQXlKI95uvcLhSqCgvw56UQueu3fH7anA4HJSdKMbv89Mtqzd2Vycqy4o5VVKAoilYVSuKoWGxWrCnJHY9HjJ4EN+dOJ6CgqMMGTyozfJ/amMf9u7di8cefhCn08HHW7by6utvtklQ8bbryz0cP16MxWLh0lE5bZLIDbVM3rzlkxZ9b8HTC5n/37+OezwdofPszCFjwv3cRgn1XRsjGQgEE7r5eewIvR4dQcnhw/USpyMejRgmfzHT0o+xbzP07Vt3ZxtsCcvM65tsLXps75ZGErQx9OlTP1H9VA4jR0xkzaR14fjemhk5kX1soTVqy1m36qsrmT0ih5G3wVuhebYhl8ZTx0IIIYQQQgghhBBCCCHaSo3HjdPpZN5DD4UTuQBOhxMgnCR1Oh243e42jS0tLZU5991LampXioqKYg5TVFREamrXs07kQvxzJLquc/LkSfx+Pz6fj9TUVLp06YLL5eL06dN0796d9PR03G43hYWFFBQUUFxcHP5+IBBIaJnlSAWFha36Xu9e2XGZfufOmQwaNoEu3friq3GjaiqmruP1VOL31aBoNjSbC3dlBYWH93B4/5eUFhVQXLAPT+VJjh3Zh+6tIaPXRbhSuqBqGildu5GS1hObzYmh+zHMAK6u3UhJi0/MjZl5yw957JEHE9rVbF0NtswNCSV0FzyzkI+3bAU4p1roNqU9ErkQnG+DBw1k3/4DbNq8NdykvTFr/76effsPtKikdXOpioLR9GDnp2P72MJMZje7Dm8Jm9dsYcyk3MZLJDfY+jaY5J3Z/Am2Xv4z3L60if6CMwczptHefRtS26dwi5Ww4vH5bJn55pnS1a3R7CR3X+rl04UQQgghhBBCCCGEEEI06vobriczM7teq9vs7CxmzJjBsOHDcLlc/O63LzFgQP+ohG9bcLlclJWVk5WZGU7Wbt+2ndGXj8blcpGa2pWysvKzTuQCqGp8k7lWq5WioiJKSkro1KkThmEwZMgQPB4PxcXFaJqGaZr8/e9/57PPPsPhcKAoClOnTiU7O5suXbqgqo22t4yLTZu3snlz8xsd9srOwuVy0bt3Ntd/d0JcYjD0AKpqI6vPSA5Vl3PymwLsNidWuxOb1YmiqtgtFlTNAqZJWrd0UHS698zkRFEhui9AzwEDURUNn8eNiQl6AE21omo2TM1Hp65ZpPUYjKG3TYK8rTVrTTlfW+i2VyI3JJSVX/bue+zdt7/RYT//Io8VK/8KwMxbbo57LKqW+J1CYgUTsLFawwZLBTfdSvbMF95g/ubY5X8jp9dg69vaJO+kZkxwxA0zYfMaNpfUHf0W1myO+ZVmCPbXG5beh75sYU39iQTnWSOC5Y7Xkl/vk4bnd0OCJaXraiSuOq2Ql/6tfhT5f1vaspbNQgghhBBCCCGEEEIIIQAYPnxEg+WTQwnT9hQq95yZncXRo0U8+8yzLFu2jGefeZajR4voP2AAAEePxm652xJaHBKnoda9pmliGAY+n4+dO3disViw2Wy4XC46deqEoihUV1eH/6/rOqZpYpomS5cuZffu3QAYRuKa4C14eiE/vmc2r73xJm6Pp9nfmzkj2Op05i0/jFssiqYRCPiwWB1k9RuF3e4CxcTjqaTiVDGlJQWUfFOAogGoBLw+KkvL2PnJZioryumRlY3PV03V6RI8FbWv06WcLv0GxYCvD39NaekpFEUFtLjF3ZDPv8hj+cq/8vkXeQmfVkiz1966Cd2l7/4pkXGdtX37D7RrIheCtbPvvvMO3B4PTz6ziOUr/0pJSWnUMCUlpbz6+pu8+NIruD0e7r7zjrh0KF2X1dJkI+xzSD5PPxWd2Mt/aiLzN48h9+56qVzWLIUxQxpI95Ws5OkVJVF/z75tKWOeyI1q6Zr/1DNRCc3g9GbyVoyWp40nGPN5ekQOI0Pxj7iT3LFbmH9t5PhrW7bGjjha5mDG1EmI5j91B9G91I7grifGsOXxiTwd8SNKVsyP7mM3hvRpueSOXcrtI5r4/fnPMHJETu34a1v0RiaBS1by+OOxf9GWx+cTuQgaXJZL76gT/xxuXwozZ9fvI1kIIYQQQgghhBBCCCFEtNSuwcTtzp31G840xO12c+xYEU6nM1FhNehYbZL20MFDPPfss+GyykVFRTz37LMcOnio9vODZz0tSxxyJKZphv8fCARQVZXCwkI+/fRTNE2jc+fO4dLKodLRkf3o+v1+unTpgsPhANq+e0yn08F3J47n7jvvSEiF2IZoqophGFhUK52Se9C1+0WoikpychccziRU1UqNx4fndDXOJBdWuwPFYsEwdewOO2VlJzhx7CtOlR6l+vQJvJ5KzICOw+HENE2Wr1hFRtZFmKaOpiU2mVtQUMiLL73C8pWrefGlVygoaF0J65Zq0dobWXL57+s2xjUzH28FhUfbNZEbEiqv/M67f2L5ytUsX7ma3r2ycblcFBQUhp+IcDod3HrLD5tVjrk1NFVFUZTwzqY1nE5HXIdr1NI7GBmZsRyby/r8GEm9kiMcJla/tmccfnwiIx8P/TWG3A15MUoWL+X2ERETnPkmO/JjtUmt7Wc2Rt+2saUzbck6mD0xYvxjyN2wjtzHJzK/ya9PZcnb+xh525nfMPPtPN4ih9sj+rtNn7aY9cxhwm054UTvmCfWsf6J+Ux4vN5Y68SXR9+ncqJ/f0Pzu9aIR9eReyTiN43NZf2GXB6/tu4vGkPuhlnsuzaHkeH3ZvJW/sP1WvzOfHsdg5fkMHJz5HdjLSshhBBCCCGEEEIIIYQQdaWlpdK//wCWvfMu3Ko0K0H70T8/AuCy0ZclOrx6DtYmacvKykhN7cr0m6YzfPgIdu7MZ/n7yykrKwsPd813rmn1dBRFiWvL3LS0NCCYqNU0jb1791JYWEiXLl0IBAJ89dVXXHHFFQBkZWVRXl6OzWZDVVWmTJlCWloaPp+vTcosR4rMQY0beyXzHv0lpaVlbTBlBYvFBijoAT/dsgZTeaqUqopyXJ1ScDhdYJpUl5XjqanEYnVhdTix40AxTapOl6OpGqrmQtM0VBQChk6vrAye+tWTuJxdSEvrhc9Xg80Wh/xUI+q2cm5Jq+ezoZityO4VFBSyZ9/+uNXLToSCgkK6dO3SroncSG63m7V/38DHW7ZGbRy9srMYdUkO13/32oSXNKjxevH5A2c1jvydOzl69HiDn2dn92TE8OFnNY0LQwkrZk9kzaR1LOmo2cqSlcy+dg2TGuvvFwi2Zr4D3s7jkTbohlgIIYQQQgghhBBCCCE6KrfbzbJ3lrFr165mDZ+a2pU777qb7OysBEdW3xO5uZSVlXP99ddz9TVXR+VI3G43H/3zI9auXUtqaiqPz2+01VKjbFYLDrs9HiED4Pf7+e///m8+/vhjDMNAUZRwKWWLxUJZWRkPPvggd955J4FAAMMwME0Tq9UaTuCWlZWRkpISlxbDsSx4eiH79h+Ieu8Pry6J+vv9FatZseqvUe/958NzGTJ4UEJi8vlrsFkd+PweAoEadn/6V6oqTmBRNVRUArpOwOfF6kwCxYrfb6CaBn5fFU5nEg5XEhaHk85dU+iUlMyf/7yG1199lRV/20TPPoNQDBMlwQlyt9vNgqcXUni0iMGDBvLAfbPapFx5q9aS3r17JaQUcDyda/G5XC5umjY53I9ue3DY7WedzB0xfLgka+Ohts/cvrM7aCJXCCGEEEIIIYQQQgghRJtzuVzcfc/dwJk+aRuSlZnZbv3mlpaW0bVrWoOJZJfLxaQbJjFs+HCWv7+c0tKyBvv/bUo8E7kAVquVe++9F7/fz9atW8MJXVVVUVUV0zSx106zbrK2urqa08nWpv0AACAASURBVKdP43K5EpbIBZh5y80sffe9RodJT0+LKrfcu3d2whK5ADaLjUDAj0WzYJh2vvXtG6mqOMH2DSvxVHyDRVNQNA2zvAKrzYnV1ZmaygrcFSVYrRacSUm4uqbw9w2H2b3ra7xeH6+98y6ZfQai6zoWLfHdjbpcLp74v/8n4dOpq1Utc8X5y+vz4/X52juMC0g+T88+wl1LIksWB1uiLp35Jjti9MnbYUjLXCGEEEIIIYQQQgghhBAxuN3uFiWSWzp8iN1mw26ztvh7zeH3+/niiy84efIkEOxLV1EU/H4/2dnZZGRkhN+HYJlmi8VCWloaVmtiYjrX6bqOogBKAJ/Pj6JZCBheKssK2fHPv1F67DA11W5QVFSHDb+nBsU0SEnpQkqXzuBIYfeRU3z7irFcc813MAC/F+z29nkooa0kPk0tzil2m5VAIIBuGO0dygUik8HcwYQR0X3JjnliHTs6anllIYQQQgghhBBCCCGEEKIRLU3MtiaRq6lqwhK5obLJo0ePbvX3Q33wXihM00TTNHQjgKEHcNjtVLnLOXm8kJMnjoOzM/sKTvDpZ19ysqQCr9+Py2HD4bDSrWsyoy4ewGVjruC2f5+EYrGw87ON9B10BZ1S0jCBjjw3pWXuBcg0TardHgxZ9EIIIYQQQgghhBBCCCGE6GBURSHJ5SLR+VKjgYZziqJccMnaljBMHZ+/GnflNxza8TGffrKZitIKvtz/NR/9az/flFTgD4CqKfTK7MyIfpmMuXQIl15+KV26Z9Gj97fonvUtrDYXmCYJX9DtTJK5FyjDNKmqdrd3GEIIIYQQQgghhBBCCCGEEHHVKcmF2sETfB2Br6YKd/Vxqk8XU3P6BHv/9S8OHNhPdY2PqqoaHA4bQwb2oVOnZJLTMsgaMIz0nkPonJoNXDgtnCWZewEzTZNqjwfDkFVACCGEEEIIIYQQQgghhBDnN1VVSXI6LogEX0dSXVVOZflxDu/Jw11dhsOhUnW6GpvDRefUDHTFQc9eA8i+aHB7h9ouJJkrcNfUEAjo7R1G2IXyJIUQQgghhBBCCCGEEEIIUZfcI28di6bhcjraOwwh4k6SuQIAfyBAjdfHubA6KICJAsSuNS+EEEIIIYQQQgghhBBCdEwqCibtf6f+/KEoCg67DavF0t6hCJEQkswVUWq8Pnx+f3uHIYQQQgghhBBCCCGEEEII0Sib1YrDbmvvMIRIKEnmipgCuk4goKPrOqZpBl/tHZQQQgghhBBCCCGEEEIIIS44CsEWuIqioGkaFouGRdPaOywh2oQkc4UQQgghhBBCCCGEEEIIIYQQ4hyktncAQgghhBBCCCGEEEIIIYQQQggh6pNkrhBCCCGEEEIIIYQQQgghhBBCnIMkmSuEEEIIIYQQQgghhBBCCCGEEOcgSeYKIYQQQgghhBBCCCGEEEIIIcQ5yNKcgfx+P4FAgEAggGEYmKaJaZqJji3uFEVBVVVUVUXTNGw2G5qmtXdYQgghhBBCCCGEEEIIIYQQQghRj2I2kJU1DAOv14vP58MwjLaOq82EkroOh6O9QxFCCCGEEEIIIYQQQgghhBBCiLCYyVyPx0NNTU17xNNuVFXF4XBgt9vbOxQhhBBCCCGEEEIIIYQQQgghhIhO5uq6TnV1Nbqut2dM7cpms+FyuVAUpb1DEUIIIYQQQgghhBBCCCGEEEJcwMLJXL/fT3V19XnZF268aZpGUlKS9KcrhBBCCCGEEEIIIYQQQgghhGg3KgQTuVVVVZLIrRVqodyR+woWQgghhBBCCCGEEEIIIYQQQpzblEAgYFZWVkoiNwZN00hJSWnvMIQQQgghhBBCCCGEEEIIIYRAr6yk/M1X8e7bg+Fx48y5lNR75qDa7e0dmkgQpaKiwryQ+8htit1ux+VytXcYQgghhBBCCCGEEEIIIYQQ4gKmV1Zy6OpLY3424JOdktDtoCySyG2c1+vFarVitVpb9f0x9/wWEwXTBFUxUEzwKxo+wwqmiqaZWFU/FlNHNxV004JuqOiYWFUDixJAwcQwVVQFtrx6X5x/oRBCCBFk6DqYBqZhotS+ZwKqqqJoGihKY18X4ryjYxIwK/DvWIW/+DNMuwLdhmGmjiItc1R7hyeEEEIIIYQQooW+2JHPJSNHtHcYQjRLa9bX8j/+T4OfHf/dItLum8uRIwXNGlfvXlnSmPE8YWnoA6W8DNfTC/CrCnbAPfIS9B/OAMD69AJs5WUA+Lqm4n/kMQC0Py3DteMLvIDVMHE/8hhm19SE/4hE83g8rU7mmigopomiQMDU8BpW0mxV9O90hKGdCunlOIlFMTFN8KoOigPdOOLJ4Kg7hW88yfgCGigmau0wQnQ0gdquqS1q+8Yhzo5pmrj9BpU+g5qAjqYGF6huGDgsGsk2FZc1+F6NXoNb9+A3/Ki1wxmGgVW14tKcODQHiiQN25RpmiimiaFq+NHQLGCr/cwH+EywAhbTxARZPuL8ZpqgKBiGl0DBF5ib34OaY9hHXoN20WUozixUW6f2jlKIFjFNHUXR8JWsx+bZQEWlD9No+KFdRQk+bGq3qeDoiyP7LhTVETweyD6+VWQZNI/Mp/iS+dlyMs86Jlmu8SHzUVzoZBsQ5wvPjs8b/Kxm/x4cdjtPPrOwWeO6JGcED9w3O16hiQRqMJlLTQ223Tux6jqKzYqalERo16Xm/QtbVRUAgU5nbnapB/dj+XIXms+Pomm4a2oSGXub0XUdv9/fuoSuaWIAfsOGQ/VxcfJBxnTdw7dcR0izVuLHRrEvlXJ/J7y6BRNIstaQ5TTBVDju6UyNbsWCjgVpRS06DsMAVYU/fRrcT9x6uSP8njj/KIrC/rIaVh06xZ5TAcxAIPi+xcK3ulj5Xv/OjMpIAqDQc5RPTn1GobcQQw9m81VNJduWzZjU0QzsNKDdfseFxjRNME0UVQVFwVJRDvv3Ejh2lOqqSjBNtKRkrJlZWAYNga5pKPJkkTjfmQYoGoGyQwQ2/S/OpR/gm5aDln0llm4j0do7PiFaJbhvDri/xuYoIMXojqIBNHATyTSDn+l+MDYQqL4aS/IwwADZClpJlkHzyHyKL5mfLSfzrGOS5RofMh/FhU62AXH+02ofJBg8aGCjw7ndbgqPFuF2e9oiLBEHDSdzFQVd1/GqKi5dB7sj/JHpcKJXVIT/HWZ3gK7jUVXsut6hyjGGyi23mAIB00KSpYZhSUeYmr6ZUSkH0E2Vg+5sdlQPYL87m5O+ZHymHV3RsFl0Omk+FAW62qtw+23U6DYMU7JcouNQVdANeGtrNQD/fpkDTVbx81aJO8CWoire/bKMPZWQpgWTuaW6hW+lKHR1aPTubMNq8fBl1R42nvwHR41jJAWCZTyqLW6ylJ50tibT3d6NztbO7flzLghmbVLWVBQUQ8d/8AC+Tz7Ct30rgYN7McrLwTBQu3TFMmAQ1svHYh83AWv/geHvy5Om4nxm+j0YlZWYVRbUUzb0snLochpsSaAqgByUxHlIsUCNEyVpJBg1NHjjKcQEvbwQ0zRCI0h0hB2fLIPmkfkUXzI/W07mWcckyzU+ZD6KC51sA+Ic5xw5Cs9n22N+1mlYsGTzY4882Og49u7bz5PPLIp7bCJxGr5LpShoycmoLhckp4DNduYjpxMtORktORnFGZHMtdkgOQXV5UJLTj6rZG7ZmseYPP0x1n3T6lHEld/vD9/4bgkDFVAYlXyA23t8yLVdPqfM14l3TkzguaM/4PWi61hXOor8qn7sq87mYGUGX5b35POybA5XpTHAeYxLUg6RZq3AZzace48p73nGjZ8Y9Zq3srjFv6HlivlgTvR0x81ZRWlcxr2DF8dPZNzCHXEZWyLtXjiRcePv54NYszzv+TjOk0jnx/wxjODDa/lH/ew5obDnhEL+UT+mGfzsrBWvYl6ddT8x8yQ4v1/MS8Comy24vbXNtt2w5fvL+GdBJQHD5DsZFn51dRa/ujqL8RnBigMfH61i5cFSPjq5jR0Vu9BNg+G2b3HXRXdw10V3MNx2MaCw6/SXbCnd1rKJx9qeateB0HwJbo8t2R/GaVtK2LYeH4oCqmEQOLSfygX/RfWbrxLYuxs0K1qPnmg9s8BmJ3BgH5733sHzx1fAG2xNr0CrjotNCS6r59ndRt87W6Ur7294Xx9yjq8HTcp7vl3mbSKZuh+lx1CMKbdTfuslONf+E/2D53Ef3Y6pqKEHspuvkWW8e2H8j0Gx9mlte67XMu21fV6YTDD8YNRgBNyYuqfBF0YNhu4OtlZv7Q2nWOdcZ7m/K115//m9z2zrZUAD+4TQfifGNWH0Pil4Ltn257NtP5/C6pwntlT0Pu3cOBdv1/l53mqvbbXx88Zz+pgZa3/SwLZUf7/UxPly3Mi2EB/tOR/Pgfta8br+KV7FvLrjqbcdnaPb+wWvnbaBGOfWzTvHaKPzkTa7N3BunF+dy9clqT/6SYOfpdw5K/zvvfv2s3ffgahXQUHhWU//iycG0rdf9OtHfz551uNtaprhaZz8Cz9K+DRP8ucfn5nGyT/fRd9+d5Hgn9moBrODZo8eVLz1LgBeheCNrVq+F5bgC93kithHGXPuo3r2bEwTqgGs9laG9Q2fb4BRg/bz0effMHFS91aOJ74CgUCLW+e6TTujk/czPW0TOa59HHBn8to3U9heMZTTfgd2zUeKpQpMUEyCfeMCpqHyjb8L/W2F9HUew8nFHKnJbHnQQx9g+eIppAHBE6LbeLH3On6W0/JRNUvxKubNeIHtU55j0+KR4bd3L5zI9PGHeHnjz7m4BaMrXXk/0w/ew6YHQ+Mayc82ruNncQ06kfawIHcVl4eXQevVnxexnJvzRzdq74ubZrCxE8GyvG994sFf+5DCW594uKS3FdM0MQwwgh1zokArW+xOjljfivlgzm3MW/k2z03NOPsfJOpZfvAUW4uqUFGYMrALdw5PB2B3iYdP8k5y+JSP0ho3oy7exr7qfEDlytTLmdTjOgC+9hTwZfFeir0nOOWr4IaM684imh28OOMFmBu9vEdH/R3cH86joXXi3NyW4so0MUwV49ABKp78P5hlZeCtQRs6Avv4iVj7D8ZUVQIH9+H9xzoUp4NO9z+MqVmCh/7a7TPeLn5wHZsiHh5s3r6v/vfaStrU37JpattPV7SWAaqG9+h2/JUFYHFim3gH/j15mP0uhaRMfLofu8XW9KgSqKn1PnJ9371wIq8POJePbztYv2ooo4euZn3ez7k4Ueeg4gxFARQURUVRYp9EmbUl4RRFrX12IXRx15qHdCZHnePvXjiR6XOIuAZpzA5eHP8qA5b9lhvP1VW4Ndp8GdQ9z6kj6poweF48buFzTR5bE64d5hNA6fYPYehQtq/5lNKpLb9Oa69zjia10/w8r7XLPNvDgnd2cGOs7a94Fa+vauVo20rU/gRC11Xj1tR9v85+Ke95xs14notaeE+oVWRbiI/2mo95G3lv6FBGr9rI7gdHJn59aUOlK+9n+qL+vLxxXfh3la58nm3FcHFHOg9qoYKCQnr37gUEy7663R7S08/2LmoctPE2EFw/9nDzonU8F75mqt3HHow+b2vufRLRcanJyQz46F/se24BtmNHsZkGzpGjcNz6Y7bvyOeqMVcAxGx5O3jQwCZb7TbH1U9v4Y8/6Fb7Vx65/cbwIyLfS6Bu3+ePX30/8dOJnOQPXufwD5oz5En+/OMxfPnAAeZfEt8YGkmRKBhWW/BlsWFqZ/K+pkXDtNa+LGfqv+uaFZ/Fgd/qwGd1YLb2Nu83X/AR3+Hnd1zH5xu+oKx1Y4m7QG0fkC2RotZwZaedDHUe4ht/Z5aXjmNbxVCqdTs2NRCsnm8GF4SJQo1u5bQ/iSrDyYhOX3FZpy/JtJZgEOxQ/eyMZMIUeG9Dop5uK+aD3GACpe7B5OIH1/HylNXMOsdbjMbb6LkPcPOeF/hNuz+p3b40FSwqWDQFVQ2+jpTorNnpBT34WrPTy5ESPfy5RVOwqK1N5NaVweWTam/YxGN0oh7dgIBhYpommqJg01Rsmsr3B6eyYHw2T13Ti7tHdkNVDAKmXjucilW1YFUtjEsby0/73MlP+/yYyT1vOItIivlgzjy+buyGJgAjmTl3KNsPnjiLaZ2/DEMnYKio/kICBz5ELzyBfrIcx0230OneB3FePxnLsBFoQ4djm/g9kub9H5LufRizSxoGKoYZcYkifeiKc4xhGJimWftwUG25h9B6qht4infi++xV9EA1amYOHNqKN82FOvoq6Kqhl+S3X/AdUd5G3ptyD7+YNDSB56DiXHLxg89x854P2XZhn/6ewzK4cf4DwZvk7R1Kuyhm2xqYMP8eWU9Fuxg9ZXKD21/p9g/ZPnQoo9s8qrMxkp9tfJvHaOK+R854bmY169u1qpU4H+zesJqbf/pLJgztaOtLMdvW7GH03FuiEtRpU3/esR5oa6G1f1/P/NzfsHfffgD+5/U/Mv+/f43b7W7nyNpY8Sp+swgeW1a3AdZIfrbxOW5eNa+dqwKKc5GanEzanLn0//2b9Pqft0m/70G+qTjNyZMl4WGmTflevddVY69MQDQ5zH56HB/tKUrAuEVIg2mSKr+bN/f9jbf2/I23Dq1lU9GZPcY7u1ReybPxSp6Nd3apZ26QHV+N88hTsP8ZLAeeAn9Fq4Iq+/wfcO0lpA67imn7f89fdtX5fM1jTH5kLWW7XmHy9O/Xvl5hb3iIb1j3yPeZv+Yb9i75/plhluyuP57w95su6Wy0ov5rb/sJLnYdwoafHdUD+Pj0cCoDDtRgehafbqFGt1KjW/AaVlTFJMtRwne6fsFdPf9Kb+c3FHh7cMDdC4uit3j6sYwe0CP4j+JVzKtX6mYHL4bei1k6oZEyXMWfsn7PZO5qIIFy8a0PMHrVq7XTO1MuIar8TjjZG/x8+qI9sGpeRFmJOmUWQjFGlilZuIO6pZ4j441ZIiGqPGJoGjsixhE5T1pSQu4yfrZoMtsX/brpUkp1Et2lK++P+i3150WoxG9tCZrxz7P7HClDEanKa/LHLW5+t8HNk3+r4uH3TjNn6Wnu/sMpKjxmsAyJaVDhMbn7D6eYs/Q0D793mif/VsXvNrj54xY3Vd44JYsG9I56UjhYHrXx0iXNGeaM2mVRu26E1rXdEeOIXHYxy03VLakStV7EWuZ1hdb90GeR00pcqaIqn44nYBAwTeyagqIEH2L8Tu9k/iOnOz8ensqEPin4jRpqAl4ArIoFpfa/nM4jmJxxI5N6XMdlXS9tdRy7F97GggHPxaGFWt1tKTTvG963AHVKJsUuPRNdcuzMMLsX1tmv1K4LCTlhNw38BlC9G5UVOMcUYxuViuPa8VhHjkJJTUd1JWFJcmFNT8M+cBC2AQPRrBY0i4qqmK0ss9z0fDyzj27qOBDaRwe3oVj79uh53ZySdrFjanTZxDpWnsV6EFOdUlyh2Bo/dkBD8ztqPxaKP2rf03QZvBbF38ZUVUVRFBRFQVVrT3UVBRMTvxbA2Loc+8Z8rAcOoB/4BJZtwL+5BmXtX2HzO+hFiU84NnxsaWi9b6G6x5KI9Tdm2eeoEnDNPG7kPd+8dWXDam6+diRpo6+LOA+kgfPQuvveOl13RG6HMdfd+uti3fPM3Qvrz9OG1+cGjrsNbJMi0h4OFjexvuU9z7jx83iPPSyYEWP5NXHe3dh+u7nrx4XtEF+fO5cMbaf4U9ZzHZdnjGTClGALyfrD1Dkm5kWXyWyy5F6dffC5dG0WN3Wvw+tcx9ffdoP70ch5ETwWPs/uRj/rgAaMZ8LQ1bxeb73YwdJF8NhPY1UoqnNsrjNvwutko/vNuueDO2Lc22l8Og3L4MafTm7Gw9NDGdDhklYNrPNN3W+jgeXWnGXbUbcNIFjRZTITcoIP5L/3+7rrcSuvy6Pu+cXqLquJLgfO+j4NQAYXDeCCfaC8IZdekoPT6eDF371MQUEh48Zeidvj4clnFl1QCd3S7R+yfco9DST2g40RgttD09eLkefI9c5BGjlHqXsPs9Hzl6buHzRyPdqiYc4MHH2vsxX5gPrdQkZuq7HvM9UVuo4PjreRa9U29Nof3uLH98wOPxDRr28fbpo2Ofz5TdMm13uNS0gyN4baUsgNlWGOLtVcv3xx1OdP1NvRk9tvILlfhAb+FX37/Yovoqb5K76g8XFGlW5uSmgadWKIivHkX/hRvzE8/BG88f3Yv+tsNFhmucJbxTvHNqB7A1i7OPm20odxWcFHQ5Z8YcHtTALA5anm1qF+0DTUoj/h0FZjLwPFAeWZPwRr5xaGtJu/vAxX/7470J1x18NDm3bzk2F1Cmvs/z13bMpl9fL/AIKJ2Tumv8Kzy/+DIbWDfP7ybHr96i+sng3BBO9sJi/JZfXsi2HXK9zxch+eXb4gOPyutaxrIrLWtD7q6zxOprWMykAndlf35bg3DYfqw6YEcGh+LJgYCmiYJFvc9LCVM8hZSE6nA/R3FHHA04t/nBrFoZpMbKq/xdOPkvc8s1ZN5uWNzTx7zhnPzcyLLokXStjGKpFXfIjtQ/vzi4bGl3EZE4a+wMFioDaE7Ytu46JFoTJV0SW/bly8jsvrlY2IdSBZzawNz7Fp489ryzzPY9wquHnROjbl1JaemPs8E1pYzmf7oleZsGwdmzKCB8JZMyayYOgDLN+4jjR28OL4efxm5WVNJ41yfs7LUyYyq6FSSk3KaGBeBE8A35u7kZfD5WCL+boVU0gU0wS7RaGyxuSpDTZMTcP0eVAUBVPXgcjW7iZ7T6rsK7NgmiaKzYmi6zx6rQ+7JdgyvdXdcIefcIsu/T3r4AMs3/jbqDLkkWV3mzNMxET4YM483ptypvRJKcCeF3h90tts2pgRPNmYexvjFg3lsch1K6IUd+n2Q0xYto7nMkLTm8eL10Y/mdfYMt+98DYW8ADLN04hLaKV6qapGcEYVybmwuHyzE7U6AbHK30crPDzUWElpqmgaQqdrQrZKTZS7TaGJA+iMlBJub+CY75i8it2YSommqrhUlx0s6WRbE1uVQzFK+8PLq/FzdjOYqwTzfHe3F+Hl129fUve84ybe4jHlq2rPQEPLj+GPhD+/u6FE5nFc2zaWLuOrLyf6XNWsXzxlGBLpvHzWJo3hZ/lwO53gpUOElMW30RVwfQcRE3ahv07Glb/dLS+vQh1Xq0rKl8W6Rh6cHgAahNjDiv06KzS2QmGYaJpLds4G52PYQ3t+4LHgch9NBDzJn9w+60t95a3ig9iRhM89iwYcGa5BI8lE3lxUXDba3TZxLpxcBbrQb1iUsWrmBc5vuJVLe5vLHJ+x96PrWZWbuj4VvsbZtwPDZQ9bVH8bcwwTcpKS6muriIlOYnyU5V065ZGUnIyut9N9bEdqKs+5HBeBdbKraR1+QLX2gI8FgVt3QcYl/fBHHNRQmNs6tgSe71vgYh18LmMM9MMlb29+NrJMDe6bF3o5sFzLTluZPRnNIcaj6V4Fa+vmsxdDwIEzwPXby/mxqkZ4fPC8N9w5jxzce2059zG+klvs2nxmePy9IW9I+ZL5LobHH7WwvHhz+vvB55n3FwYPfdMiM1Zn6OOu3HYJju84gK+ZigTMmh8fcsZyaaN4+uVWQ6dP00Pnd/XO+9uer8d1Pj6cUErPsR2+nNXh0uqNG33Oy/ApLdJA9JirJ+hboMuCpc4DK4725nMXc2ZQPEq5s34sM75fIK7Omo3EdfhQFP77Z8tmsy4ue+ye+rPuTiUuFwWPP+7uJHPOp4e3PjTySz4fZ0y33kbeW/odSzPgPWRg0esk5tq16HSlfczffzz0d1YNXe/uTjieLcHbm7pdBqS0Z/Rew5RDDHPB3cvrL1W7mD7ndDDxKH5untlC+tkRy235izbFi6X80zpyld5b8o9wXOu0dcxetGHbCueUu+a5Gyvy1scV4vv08R28a0PMHrGPMYdrF+W/EKVnp7GYw8/yPzc3/DiS6+Q+1+/YMa//4Bl/+/PvPrGm/zs3llNj6QDKD6450zjqxjSRl/H6EWHKGZKE/dJIu6z5z3PuLm/5oPRvw1ftzR5jhJ5D7NBTdw/aOJ69Mx1WRPDRIi+1xkRR0vyAcWfcrDOOUrda4NG7zPlPc/02tbTN2bEYf+fIJs2b6W0tIzpU78HwPsrVqPUuaGelpYa/4Tuyb/w0CPwzLac8N8/uvyvTNl2gD92g1AZ5tz+odLDeaziPQ5/FRz+5J/vYvTDf+GaP3yfbgSTrv926Em2fxX8my9+Rd/vw9VPNxbEH/m3h59k+1cH6FZb6vjfnpjM4ceD02jdOBv8wfz5xzdz6OktHP5Bt+Dffy6qLf98dduXWdZUDbVax+HXUKsCJFtd4c+6uUwsHh8Wj49urjMZFsPaBbPSToU/meoqO4raYK64Ybs+ZsWg7zCqtpvcIeOug7UfR7S6DbmOZ2efOW1JnXQb0/iQTZGteK/P5SfDQn90Z+IddcY1qA/h3niHXc/EJrrmbU0yN9VSTpLmx204KQ90wjBVTEOhi83Nt1KOMbb7Aa7utp+JGXuYkfkx9/Rcw/S0j+lurWD9qW/zyvGpbK24GAUDq9ryMs/seYHpoSdE5q7m5kUtOdmrX5Y5ePNlfMxxlBYcqtfysUlTnos4+Qk+zUmLS35N5uXQjjdjCndNiR5v2tR7uLkVT56PnvvL8Anjxbc+wGiG8tj80EGjZSVaL34wcSUx6pZoOZcoClg1uO/aJF69xaCLcgoz4EHTK1EMX1QPEiagGD40vRIz4KGLcopXbzG479okrFprErmrmRVa92e8ABHLM3hzOXJ5AgRvMISfJm7OMBHCJxZ1bxAOfYBfhG5S59zCY0NjrFu1F71Qt8ROcBv8uiB65W1omZeuvD/4wEadE5+LeodGmMGNUxNzA/PZa3vxq3HZDEh18O7BKr7z/75i/J8OMW55Mbeu/IqVB05hmhr39Pkxd/f5ge74EwAAIABJREFUEdnOnvyjYhMP7nuMeXt+wUMFv+SJfU+ypWwbutmKKgR7XmDWoj3c/NOGL4i2L7rtzBNzufCLjS3vny9y2UXvW4r54Peroz4PrS9htUmNlyPWkbSpkSX+gsO/9/tVlIYSIAnrA9PEbgHDVwFeD4ppwXrJlSjOpOC2qKl4/SY/e7OGn7zmYdYbXma94eWnr3q4+3/c/N//9fGvrwIoihns37qFGp6PLdDgU6ucmdeR20JO/ZsAAOS9y4I90cuFjCn8Ym5kSdjmLpt4rAex9Oei8GY8hRtbeDO4bjwz59YtO19nX5dzC48N3cP67TECalX8bcM0TcrLK1i5cjm/ffEpPvzwf3nu2d+wO38bpeUnKPpyK8XvPs3J9cd5Yddx/vJeHp4/7CLgUeG76QRGj0YdfQu2QRNaF0DkOVfEa1bkNV0Ljy0tF2sdrFP2tl6Zw2DJt5uvPbNMm3XcyJjCc03sR6PPG+t2eVC/C4So4fPeZQERx1BCVV4izxMj52XteeTBgoaP4zk/5+UpkbOreetz/ePu2W2THVuw25Vwy4JmrG+xRS6XOvutZu23odH1owOKOs9ptMX4Dl6cu/qcvoZInGAf3hNGh87N65d93f3OC2yve406/4Fml70NPvBV/7jbMcvMD+WxWyO2w6b22zk/5+UpwRapoYRNeD419llHlHMLj/ECSyP2jR/8fnXMa5n66ySkTf0lj9UrQRtjvxm6XxFjvxkcR2um05joc/rI/dKsOsfbjiQyAXNxi/vhjnEeUq8cdXOG6QjqnCNkXMaEBq5Jzuq6vBXO5j5NlIwpPFdblnx6YxVwLjDp6Wmkp6VRUlqK2+1h6OBBAPx/9u49PIr67P/4Z3ZzgoBGAQmVQyIeoGgJtkJCGyVIFVtQIEUN+OBDbRXtryKeEcQLJGJVDtanSn1aqT5CVAygUEVUUFESaAuhSqEKJgqURc7HnHd+f8wm2XN2N5tkgffrurg0u3P47szs7Nxzz/f+fvPtzlZuWcv5Zrt7DNYE7udxr7g+tGuUUO5DBbt/EEI8GtI0DQLd6ww7H5A6XHe7X6MM9hMbBLr+cCzXfZNWaPRcz/i3aef/5vHpZ0Va9vaK+r/fWv5XLXt7hce/Tz8risq6PnlwYEOv1AekZ75+SXXD5W6a/7D01O/UMHyuVYZ5wYqS+r+nPdpw0dHpqp/ryk+2apck7SvUvAXZevppV9JVkvpN1ZLxjbXIfZ5O+sXEW6UdO7SvScsMrmfPuqV10i9+0fw3BgJmW2udTlXGOVVbWan4uDY6UVNR/96hCkMVtgTX/1fXl1k2ak7IiK9UgrNSbROlQ87wb8hvW7tKlw9+QefWvXDpT3SDpmntF3eo16VuE7onYiVJnZR+sVTq9srl6V6DLZ+XpstV1rDcL6dp3IgXdcPMQrekb2DeTzGEIs5VTtluOBVnOK1RhG2mKp1xOlSVrDjDVHJcpZxOQ9uqztdXzs46VpukbyrP09cnu6jCtFuJXBmqrbU3tjpfvT2f9toyZ4iyV88O+Yl0z6fp656QDTLv9m91QH1DPnn5PHUUSi+PSJYbFW437sJm/UBG0kO4MVH5sW9mtU7p2ksTdW6yobsWHdd/jtgls1I2GfUJXZusG/E1ZqLOTzH1/Jh2uiI9QbXOSMfNHebxpKpVLuQa6/sQqDeC+9PEoUzjeumbF3+rCQr9ycrG9tmWOZ43/917EAWcf2W+Rmzt6fV0rnWjfNakIVrcu3mf/KxxmjIldWufqD4na5UcH684m6F/HzqqpPgEHSiv0X+OV6lr+3hJUsfETupa3VVt4pNkk027jv1HiUmJOlp9VPurDqhzYiNP13jrPVHLbt+hEZN+69G7x13/unF0XU+d1/WyDIfvtt/qqjawV9u3Sj1uD7JvHTu0QSu0IWeFz1uj6yoWZNysybpFI/Kspwmb+yarIUOmachpSPE1NQo2mIBhSG3jJbvNUFK84XrAwpAUfjY38HYMfRnBzvPWeGPXBK4U4T7ttzuk3tf4rLpD957SSrfftJD2TZSOA3eu3osTclY0HMNh8t7eHbr39JrC+/fNKgHmV7jtb0GGUat3331PhYUF2v/ddn391T9VfmynPv0oQQWvvKSNH6/V94yTusi06+N21Sqpqlb71PYafUNPJd89RTWJhuLb9FBi0vmRNSDAedbq+ekSxm9LZAIdg511Ye+675l1A2rC6s26O6Nv/c33ZRlSdH83XDfkbne7+ejVw8Lzb8/pD3y7Q9q6QiNynvVabm9d7ZDrO+jn2qyx33GPJoZ2PHt8h6LwnWxtdQ+o1o0tbf1/XdwWSRmUFZrgtg371/fslupuePo/3oLo3TPg6STk83aw4yO0D9Zsor8PFPx43Pqsx3dpdH2v09gW9e3k1vPR4nV8yqFvtkv9h0YaS1rzb1h+i7Lner3VO7w4uTlE/7jz/I41et5OtZK7yrtFIzRM89d43lcI9l5raY7vqsX1e1t37LlXQPMafsD/MWldq334rUPKcO0Ef+dN1/0ZBThvRrSeoDyPCc/zklWC9sO5rd9LPZr7tc/gYdow6RZlzx0WWU9Zn/3WWRf2lraHO00riPr3w6cSoOt7stKrF7uaGJdHKKL7NH5ZlXh+5urhm708wmPnNPLs/8zX/gMHdNv4cWrbto2mTc9XmzZJmhjjvXKj/R34JuRzbWCB75M0fo1i/X/ga/AGwe4fhBKPhjKN6yW/9zoDazQfUDJP2ZPcYj+vHvv+51+lJ/K2qofX71eTz//N5Cc/zlIv1wMRkjVmrreOHaNzRXrlU+v08i86uXrhPqwXNuW6eqLu044d0icLBir9Qe+Zfq59yrASqq75Pql/81bdI0m7tuoTXaB7vFJ7jbtAPb3ncSWIO0W8zEA66aph2Xog9yItuPJJbfiLW5K4GQVM5nZqm6LnBk6S6TRlxBk6y9bQM3f+z2pVbZ6QJMUbtZLdSjLaek9WpXm7nLVSuSGpTbgnoC1a+560UXdq2Hyvt/yVWm6SPvr1skL9+rv3NO32XA3TNR4lmv2JJJlrM0xV1Np0lv24eiTtVZK9UlW1Nh2raquTNQkqPdFRcTZTNtMp05BM01Ct06Yq166pro1TvK1WyfEVahdXGeFnbWCV9PAqJRVMxs2a3Dtf3zikPg7v4NdTQ8mHADdIgpVoPgN0uH6KJq+8RS+9fbNmd2/t1rQsu02qrZWuSE/QG3ecrZtfPKZdhxNkmNX1Q24bhmQaieqaYui129srvWOcahtOL03W4fpfafTcP1k3jKXQLlBCuohx2eq//E94rIv5xcMbygZumTNEL4Uw5wZJ/bXCsyy6pA7XP6e117vKleQ822w3nuNshgb3aK8fnNdWhytqVO00ZTcMPbPBofdLj+jFkn369miVZud0V7+z++qC5HQdrzmhGrNGdsOmN3Yv0d8O/kPvfLdKuyr+o0kX/r/wG5Fxj5ZN+q1G5M1Tj2AXUqnDNXvuDmVH/eGKUMaAauwiz3URvDVqjfLLkKGqWsluT5YzLk7xNpv+fvg/6nVOtZJljRGfGG/T78clqbrGKqO8/5ip5f+o0ZbdtUqKcyopIUFyVkmKb97GRiqcShEhTRvqvonGceC53oZgv65Me/i9yqMrtoKVOmVle7Wk8E1t/MffVV1Tpc+3HdSoa9po+bsrVPttudqePKZDHeN0/KR0sMrU95JMpfdoo+T+F0rnpshc9SdVdbhM9gHjFC+7jGj9AHkL57clshU0egz2GTNR/WdYQbtj9Qr1d5UclaL4u+H4mz7cKm2YNESLvd/zKrW83SFJfq4TgyWUQ+kJHtK2Dvd4jsXvZHgMw5DT6bTGl7bFy7TZZMbVDXEQQbmFRrZhsOMtYuFWA4ox0d8HjWjmh/qaS7S305bVK6St8pNs9IyPm/qwbKw+6NEix11jx1pqd/WQFbuE9V4rac5t1uH6X2l0zp/0zpjn1MM1hEeg82hUHuAO4bzZlPU0/jCl6wH3+ocnWk9U92vGPVq75h5X6eMh0vDQO0+c6qL9/TiwYZU2aKvfh+zCu9cS7bGZI79PE1xf3b3mVV14l+s+YQz+brSE997/UP/+8iv9eGCmsn+cpWf/5wWdLC/XbePHqXv3bq3dvKCi+R0YMLS3Zm3fq0BPRzcMi9M0wa5Role9JpTvYGjf00D3OiNhPZAxTPPXfNBQkv3FEGbcKqm3VbnU4/crRs//3uWT3cfPbTadcvVy4Val587U8K+nqq6ycH2y1499b/5S/R+Unq4rw7yvULcOcLvhdmVvdY12O6O8zE6/eEmlv7DKN/e/4OGgnzdaAvZ3S7DF6/tn9VCflDR9v10PdW3b0JBLzqnVpedW6dJzq3TJOQ29b6uTLtTRxAEqbztAx9sMkGxJ4bXmi0/11sW365VlhVrh/u/F23X5e6/qg++CzbxPpV9erPRgnbm+K9NG7x69512rGcsK9cy1q7RoZdAVyGYLv3vg/poUHXG2VXv7CX2/Tan6tftStYrT8doknahpo+M1iTpS1UYHq5N1qLqdDta201FnW1XUxquiNk61TpsuSN6nK84tVcfE42GvPyhXsOTB8a3XmKupGjBU+nCDQ1tWr1D/oVcECcyu0NW9rdJI/lhle/yXaG5YvzXubnNewvj2SHI9RdzsrBJdmpuvd771eufC3j5TO7Y3czanhdlsppxOU+e0tcmmasmweuXaDOufKUmGZFO1zmlrl9NpymZrhptZkqsHlJ+SoO7HXyjTuPS4/TktmyTNypsXZolwLyVrrJ5QEfz49x86RbPnDtPiSb/1O3Zfn3s/0NqCidLc15rWxgC2HSjXlv3lOlherc7J8ep7Xltd2qmNuraPV0WNqa+PVGrL/pPaceJblZ38Rseqj+nc+BRdmHyB0tumqVNiR1WZ1fpP+R59ezLyUjodrn9O84ev0IS7lge/EM24WZODnK/CZz1B6F0CyuPc4qo8ELSccMk8a3zHupK+UWqdN6cMmbVSdfIF2pxwheYf664F3/xL/z7yHxmSbDa77DZDl3WL0+Xp8erbPU5dU+J16IRTNbWGunWwK/Ucm2Q2rU9Cc+nQvWfIJfsDTeszdEBI+yZKx4FffXX3mg+sc80iqwxSpL8djQ+L4Ahc5ini9je/pUsXqbZyp7IGXqprrs7SgC7SkH3xSt6+T+VHD+v8NnG6oTpZbSqkru0M9U9oox/sNGT76w4l/v5/lfzBR0rY51Ctvbb5Erlh/LZExv8xaD0h7RYwp16hq7VK6x1eJUfdNPV3w7rhMFtr13zg+W/uMG2oX6bV42Lx6s06sGGV5FaerkP3nvW9KCPid1tbx7bHNBEfz77fyVOFaZoyDEOmaarqxE6Vnzyhqv2rZdaeVJDwMHIhHG/hCPm8HcNafB+coqK7nazjb3KB1zlpzatu14TWg1s+JZEdO0JMMFrzhzoUT0tr7uMulPP2ljnWuOx1JZVDfa+1NO8266urh2/VhxuWBzk3Bjgmg12r+eH/vGn1jIrOejZrYSND3sSS5tivHa5/TmvXzNbo5X+y4vGQ7rf543XNFvE0zS+629FVoWWu9zn6A80fvjWMa60Q4jFXz2ZP7t8HL024T9P470eQikhniB/2y1DeTb/Qr395qyTp2p9erbt/c0f0x/NsBtH8DnTof436150/fLjOsY0OUxJMc16juP9WhBKPhhizqvF7naGruw6MpILCNXrkeWv4xPv8XJ/4nP9b2drPirTs7b/W/730rRVa9vZfPf6tjVKZZQ/97tDTV76seW/uk9RJPXtKn2zdHWDiffp4xVqNL3xJfnOfXXvryk/+qo/3ec6zoynpm+ZYpku/R79S6fonpQf/qE1NX1xQAc8sVbXV2rTvS5Xs/0olB77St8cajkbnoY0yD3wm88Bnch7aWP+6/eRXSjr2qeKOrFP8kU8lZ3g9ST94ZZUuH9yvocRynfP66cqLv9QnG92SrV++qHluyddtL0zTW9fe4jHu7cb5c90SwFv0v1NX6YZx1+pcSQdX/tHtve+0y70+cwBxceGPAby9oqv21nSQaUg9E3fr2pS/qVfbXWofVy674VSivVYJthol2KqVaKtWG1uVEmzV1mtGjXq1363sDtvUp/0uVdQ2tfdT3RhWdQlV6+TZcFHket9rrg79r5FW5uulRm++1CUrb/E5udU//eJ18bNhbr7bic4av8knAIj22FapPdV/q9v4NI7lemJuCyVOU4frl8O3atZczycNreDK7aRfMs9zjL06YW8Lq5RR/ZhZJfOUndOQcNwyp+XG6HA6JZvN0Oe7q7XriE12s0qmKZlxydY/U7KbVdp1xKbPd1fLZjPkDFbzNUxb5tynxb2v0YBUNeyHGe4JGa/jL5Rp3NQnEXOakND1vvEc6DgIJOMeV1K57iJns37vvn9DvhEVvsXbDmrOBoeeWe/QO9sP179eXWvKMKQku00JcaY+3V+kwv8s1eu7l2j9wb/VT1fjrJEhQ/G2eMXbmnau63OvawyaoAlda+w8z3NQU7jGfnRPenifW/weUw69M6fub7fjyzWO1hPNdCPLsNkUZ5PM5D76NmW0Xjp+gVbvd+idb9bp799t0b7yQzpedVJHK09qX/khbd6zR+/+y6HteyXDcKpPV7tSz5Zki5fN1gLp3HDPfa5k/QT3479kuf997W9ax3I9MVdu48CFum+icRx4KZnnMe6he7I21N+OxZPmebVHnmPcyfPzH3g7X7M0UWP9PfnaaPsdeueuIQ3XAY7lui+nIfCySt43z4MKlZWHNWrkUI25JU+DB2Xpyp7t1XabUz1r2qjvWe01wJasaw8k6sKaeN0Q10aDatrpnLIaVa75t+wr35OMTqpq302SXSdPRvkBujrh/LZEdP3j/9y2Zc59XuMPuh7Wm/Gnht/GuraE+rvhtW89Bbnh4DVGZYfrf6XRy/+kJ1bK8zrT33fTu33BuMZZc7/5d+DtfM1yv+QL9/soBf1Oeh7fwb8Lrcm68WRXbdURHfvu76q2nae2Ne+rct/7rkpEEYxdH1Sg462Oq5xaqEI6b8e2lt8Hp6ZobqcDbwc6/jzH7+4zeJjnb6vrHB0qa4zY+zzHLPY6b7SWZj/uGjtvl8zThOXWWHx9xrgecva4hgnwXitq7m1mfdZng44R7O+YCnqt5o/rt9c9Sb5lzn0elTMiXo9jue7LsRLxQcsnu66Jm5aMiI5o7lePawaPZG1o99u01TOu8L1mC3GaVhDV74drXOer/RxD1nk5tAd1Q4rH6h5ecHtA1/v74LnIyO/TbFntPka9Q+/c5XW/yLE8hHutp7eOHTvo2p9eXf93r0su1uX9To2SjlH9DqQO1yMe9/PqNPQM9znHhhkvRu8aJdj9g1Di0VBjVhefe52R8E4gh3d9J/XV3QXuOQ9HkPN/62rJMXM9WWPUfvLgQ3pzn9RvwpO6csFozXDPbm6a6frbSvY2jJ+7T28+4FZuudOVGn7lWj0wv+Hg3PfmQ3rgE0Uu6sss0YzH3b48u7bKe1E7duxTtAXMTu4rP6SHN/9RtRU1ik9po8z4nnpswK9lmlLc32/W2Yn7JUlHKjvK+dMvJUnmtny1N99W1SEpIVE6+KN/yEhOD7kxn3x5sa6831/X2vN0+eCLNW/1Jh0ceq310sW3a4zmatiIL+v/fuUpz2crLp9wi/RMroZ9Wff3C5rhGhv33K7SvNtzNU9u7w0NPkZjJMncHSe76uuKbkpP2qNz4o4qs92/FG84tfLwFfriRLqO1baVDFnlrE3D6hFl1Ois+Er1bLtHN3T5mzokntC6g7207ej3wl6/9/hInl3+reTrh3n3KXu5JPXW5ILZGp33J89lpF6hq/WsZg2frdmNXV+kDtfsNVfonbu8avC7lSNx13/Sr6QZQ5S9te7vVz3Gb7JK497nVuYvtI/dWBsfmbRKI+rK/vW2elqNCKW0QhT0udd6msfjQjHjHs0fPkQT8oZoliQNn61lk3ZohFvvkWbZFi2orkz5l3trZSS0U03FcRk2m2641Lq4WbY5QTWmU3GJ7fTl3lplXxRZafMGnuO3eZf86nPvB5rvKiFZZ7T3+AchTOOuz72vavL2WzQhZ4cmFzynAeE2ue7YdDsO5g9fEVb5ng7XP6f5261jafvcV3Xh9luUnVP3bvOVRi3afVyf7T4uQ4bOTorTL3pZmfhqpylDphJsNtkNp7ad+Le2ntgsmTa1i0/Wlc6fSJJqzVoZMhRnxCmhicnchnPbsxpxl7Ts+eH+J8u4WZN736JZM5ZrQBRKD3a4/jktk6u8iuT33NLn3lc1+a5bfI6pn8mhd+5ylW6quwCeNlEf5t2i33eP/rhShmGT3W6qje0C9el2vS7ctUN7Kw5q8Vfv6l8Htuvq7gPVKyVdhmFT6bEyrf16p7aUdlJK++v1vRSbftDNprbxktNpNHsyN7JzX6p+9vyr0l3ex3+o07qXTW1k3/i0tynHgb/m9dQ3eUOUXfe3++94CL8d1rJz9GFOw7ito+d+4BUgDdP8wWuUnXOf27YK/J0Iq/0t6OGHpkmmXZv/9S8t/HS+tpRV67MjFep+rqFhzmRlHE3U1yeq1TchSZn72siWYOjrrk7ph2eramB/7U2/TEfs5ymuaLPOPSdevXo1z02EUH5bfI/7MG7wZNyjtXPnKbvuuJD8lnzq0P8aae6zGj33Obd93Tk6vxsla7RYwzTf7yb0HqPS6pk0YftEPeI19tLPnp+t7Tl116lS3XczNL7f7f6TXtX84bd4/K6GfTwH+06eIgzDkGnY5HRWy+mUzv7eIKl8nWqrrNsR1o2p6K7T//Em1ZfdnDTEOmbW3BNCD/XGztuxrzX2QWMWe5dEj4FjO5rbaf3Kreo/dIrf3zaP8bt9zqHDNL9gor7JC/Gx/frhPNy2Z++JWvZ8aLM3p+Y/7oKctx3Ldd+kFRo911XasD7umaceBT31UqD3WnlYh2bfZqlX6OrevXV1sAdRUodrdoF0n/tvT9il0/vq7jWzXcMDWK+MnmvFrvWXjaGux/sek9xKVnrZMNfzvlCwWLolRXO/9pD79nD/LQrxflvvifql8pWds7X+72XP9w1/mlYQze24ZfUKafhs/9/3jByN1n0hl1kNLR6brdE599XvO5/vg7uw79M49M5dt1gPEA6frbX11/Gp6nGh132qU+z6BZ6i/RvR4frntLb/ct3nHsfJOneuzfCeNoL7JFG7Rmnk/kEo8WiIMWsdz3udvvdhGtdwH8f6XRqm+XOHaXE4uYD67XeLsrfP1vyA5//WNfbm0TpZXl7/98MPTPKZpm2bNs2z8n536OkrB+qBBwp11V/qSi9fpAV171/5pDb8xTXpo4s1/oLRSl8gSdl6uvBJXflJ3YM3nfSLv6yT/nug0i9wzfrUOi0ZP7A+lxe+aC/zfH1/R8OypFu1pL7EtJXYfiB3oNIfzNbT6wP0QI6AcfDgQb91TB0n9uu2j5+UzWlIbey66pxLdf/lt0iSbB8PVGKV9bxBZUIPOa9aZ820+W6dc7RQR07GK8GoVsVPiqS20R8c9ODKyRq3epBeeepa3168kqTv9MGDd+qTwY0naEMVHx+vdu3ahT3fpb98SZln/Ut5532ozPZbdKy6jWQY2l3TSV+Vd9dX5V21u7KjDla3U6KtWucmnFCXxINKa7Nffc7apfOSjmr1/su0aNdP9M3JDvrngl9H5fOEx7oQ2X57NC+8rWV+ODQ2xxNC87njlSN6Z8dZuuTsw5o0pK1+/oNESdJf/1mpuR+c1L+PpOhnPY/qj+PObuWWIhyb9p7UW18d0vKvjuhwZY1+2NkaZ/3vjhM6O9GuYRem6IaLz1L7dvtVdOAzFR3coOO1J3VxslX2/MsT29XW3lZZ5/TXjztk6ZL2F7Xmxzkj1AUWtaZT2w9/o2lFz2rH0V0yDENJ9gTZDavMbK3pVGVtpVSbrPTE/po+8DZd1DlJdpsp02zqQxdoXtZTvAp246xknrInKSbHwA1XbU2NDJuhb0u/1Esvv6Qnn3pOQ7sk6jpnknadrNInFeWqSjLVo61dVVV29ehuU7tuCdp4tL0ysobq4zX/1He7SpXZ/yL96vZfatDgca39kZqXY7nuy9uhX54G+z50zXFNGxtMs0aGEaeTO19W29qPpLZZctaclGH4FmIyTVOGLV7V5Xt1bO96dUgfIVX+TeW2q9Sm67j6ZUXVGXC8xfw+iBGn5HYqmafsF3vG5LjDp+T2bGVsszqb9fucP+nCGLn53FSn4n498PZvNWLlNUHPLaFME02n4nYMxYG3f6sR23/V6g8poeVs2vxP9ev7g7DnO12/A4htkR6vkjTrqTn695df6eEHJqnXJReHNe+2f3+pJ5+eq0suvkiTH7w3ovWf2vbpzf8eqH9N/ErT+jU+dSwIeEapNZ064jxp9cxNStTRqhOSJNOUnOWHlWSzMvzl5Q3lNFV1UjLLZassV1KiVGFGsUZqK0tMTIxsPqNaW46n6f34K5QcV6nL2pSqVjZ1t32nDvHHdWm7Mh2tSVa5mSSbzVT7uEqdk1Cu9nHlcho2rT3wfa367gf6T8U5SrJVR/lThcYqSReodwUQuhOVprZ/V6v/N7BCd16VorOSrLElJOnnP0hU9sUJeuHjCq36vFYnKk0lJ5IkOlX07pCkjY4EHa+u0dfO9ip1lVo2k1N0Sc1x9Tg7UZd2bCfDlqTtxzup3Fmhg8kHtfaINV5H/Nnxsp2wqXNSZ6Ul+4wuhGZjyG7YddE56ZqeebfW/ucfWufYpG2Hvtbe8gOSKaUknqULU3poYOrlyjk/Wxd1TJLNJJGL2GNKstvsOnKsSrsdh9U2sVKTKs7RqqPVWm2v1sG2TqUmJOiQJEdVjRx7avW9hCQln3+Byr7aqS82/0sdz65Wevp5+tEVQ1r74zSzuqE3Zmt2azelBZ0Z17SGZIuXbEmEkErnAAAgAElEQVSyxbn+9p1CMuJkj0uy/rK3kQy7TFfsZsqM8njoZ9rxFov7IBadKtvJKsPXf9KrMZfI9XSqbM9YcmZvM2sYooladhokcj2d2fs1ek6j7VhX4nsuiVyE4zT6DuCMsOi1xWrbtm1Y85w8ebKZWnNqsMos36olf2ntloQuYDI3Jam97uo9UoYMKc5QWpLVw9UwpPg+96m81rpRH29PUV2K0Z6Wq5rK3jKq7aowamUkniu/3X5PMXa7XfHxkZX9jDdqVO5M1IajvVSjOB1KOVsXtd2lc+KOqaP9qM4zjsgpu0zDJhmGTMOucrON9lSeo5KjF+iDfT/QVydSrRuURgtvzZJ5yp60Qs1ZmhVnlhqn9IexZ6lXF+vU4zQlmysZ5DSls5IMPXRtG93wg3jVnD7PgpwRkuJs+vH57fTggC7aedIpsyZBkmTExal7cnsNPD9ZSXE2SQm67Ow+shk27avdL2eytaNtcTZ1PKeDLj3r+0q0JbTiJzlzuCdibTLU69yeSj37PF123sXaedSho1XHJVNql9BW32vfWb069FSn+BRZIQmJXMQewzBkmtKhQwdk03HdMPSH+tGJWm35+06ddahKyXZDPzJt6pZg1/sd7PriZKWqD9r137kDVFsbr4PfOXTxRefrup/fpKrqpNb+OM1my5wh1jhfMVBCtXm5lbir03uilgUpIX5aMGukpHKZJzbLsJvyd+NJMiXDLnvtcbVPtksnNkvxJ2WY1u+vTb49DyJ15hxvbmJsH8SsWN1O9TFwg9FzP/AYCigmxer2jGVn1DZzjbno/tLw2VobA6V6o+6M2q/N6BTejgfe/q1GeIyR21uTC7yHmQEacQp/B3BmadvWKpn87c5dTV7G6c3qhesxRu6VT2rD17mKUgXkFhGwzLJMyVbptM5VpmTaDZnx1onrSLlNNa4xvOPs0tltrJvxxysMVdYYdbMopa1T9tPgvNWuXbuIk7lZv/ofmTJU7kxUoq1GFyfv0o/P+kJpbffq3PijSjSqZdjqNrNNR2uTtbPyPG05lqaNRy+Q4+TZks1Ukr1aTqeh9X/+TXQ/HNAKnKZ1zHvngkzTOnc08xCcALw4TacMw5DhlFRjSnE21ccdTllPYtgNOW11312+pIg9VqUHQ5s3b9AXn3+mnt1T1PfAN9q+/GNt/rxUJ8or1ScxSReff57e6p6i9/adUHKbTpr20D2Ka9NJ/9qyTmk9euri3pnatWu/0tK6tfZHAkJmmrUyDLuq9n+ohPLVOnKsSqazNtgckmGTzZ4gm1klI76D2nS/TbaEznKVXmixtp8u2AehYTtFF9szfGyz0xP7NTrYjjhdRF5mme8AWl5TyiyfPHmySYlcSererWvYvXrROowjR46YtbXBTkpntsTExCYdzJm3PSebaUo2Q9Wyq8KZqHb2CnVL/E7fS9yvdnEn5XTGSYbkNA0drG6vbys66T9VHWXIVKJRJZthFWYw5FTxn34bxU8HtLxQrmW43jk1maZU6yq/684wJLth1O9TU6acptPq31k3rSEZMmQzbFZFCLQKp+mU0zTl9ApWDMOQ3WaXzc84MUDMMZ2SYchpGqoyjil+4+uyr10p7fpOtcnJMq/8iQ5+r6/2VpiKi2ur3n2ulIx4WU8ucIwDAAAAwKmsKckxoKVxvCJURk1NjXns2LH6cSvRwG6366yzzmrtZgAAAAAAAAAAAAA4A9nsdruSk5Nbux0xx263q127dq3dDAAAAAAAAAAAAABnKJskxcfHq127doyB51KX4LbZKLUHAAAAAAAAAAAAoHUYplt95draWp04cUJn8hi6CQkJatu2LYltAAAAAAAAAAAAAK3KI5lbp7y8XBUVFa3RnlZjs9mUlJSkxMTE1m4KAAAAAAAAAAAAAPhP5kqS0+lUZWWlqqqq5HQ6W7pdLcZutyshIUFJSUmt3RQAAAAAAAAAAAAAqBcwmeuuurpaNTU1qqmpkdPplGmaCmG2mGMYhmw2m2w2W30S1263t3azAAAAAAAAAAAAAMBHSMlcAAAAAAAAAAAAAEDLsrV2AwAAAAAAAAAAAAAAvkjmAgAAAAAAAAAAAEAMIpkLAAAAAAAAAAAAADGIZC4AAAAAAAAAAAAAxKC47Tu+bu02AAAAAAAAAAAAAAC8GKZpmq3dCAAAAAAAAAAAAACAJ8osAwAAAAAAAAAAAEAMIpkLAAAAAAAAAAAAADGIZC4AAAAAAAAAAAAAxCCSuQAAAAAAAAAAAAAQg0jmAgAAAAAAAAAAAEAMIpkLAAAAAAAAAAAAADGIZC4AAAAAAAAAAAAAxCCSuQAAAAAAAAAAAAAQg0jmAgAAAAAAAAAAAEAMIpkLAAAAAAAAAAAAADGIZC4AAAAAAAAAAAAAxCCSuQAAAAAAAAAAAAAQg0jmAgAAAAAAAAAAAEAMIpkLAAAAAAAAAAAAADGIZC4AAAAAAAAAAAAAxCCSuQAAAAAAAAAAAAAQg0jmAgAAAAAAAAAAAEAMigv0hmlKTtMpp9Mp02zJJgEAAAAAziSGIdlsNtkMmwwjussmtgUAAAAAtJTmiG8N0/QNZ01TqqmtlZ+3AAAAAABoFoZhKM5uj1rAS2wLAAAAAGgN0Yxv/ZZZdppOgl0AAAAAQIsyTVNO0xm15RHbAgAAAABaQzTjW//JXGf0gmcAAAAAAEIVzXiU2BYAAAAA0FqiFZP6Teby4DIAAAAAoDVEMx4ltgUAAAAAtJZoxaR+k7kAAAAAAAAAAAAAgNZFMhcAAAAAAAAAAAAAYhDJXAAAAAAAAAAAAACIQSRzAQAAAAAAAAAAACAGkcwFAAAAAAAAAAAAgBhEMhcAAAAAAAAAAAAAYhDJXAAAAAAAAAAAAACIQSRzAQAAAAAAAAAAACAGkcwFAAAAAAAAAAAAgBjU5GTu3o9e0MS8bF2SEK/EhG7qO/Juzf/I4TVVsZ5MiFdifrHv/K/fqMSEG/XabtcLuwt0U0K8Er3+3fR6wzIPb1mqJ39dt854JfbO1mMrDzesJ9C/vALtlaT1s5SYEK8n13s15vA2Lcu/Xdf261a/3An5S7XtsNd0rvkTs2eppMLrvbr2+/msAAAAAIDYZMWZ16hvdyt+vCT7dj351jZ5hoMOvZbnFlu684gzw4tN6/91v0w3TC7wiEF9YuZ67nG2q10B1zlLRKgAAAAAcGqKi3zWChX/7nrd+OgaqU+e8maNUhcd0rb3FmjiNUu19PHFeuuhTCVFuPRBU97Q5KtS6v9Oucj1/5vn6oYrHlTpoPG69/8eUUbnCpV+vEbbKisk9dKIVauUKUk6rDVP3agnNVmvP5ijFElq31tnB1rhN0s1YeiNWrAjTSPuu1e/u0XS/iK9MP1GLXh1vF5f+aJG9PCaZ/00Tfzjdfp4YkaEnxIAAAAA0NrKCm/XtXkLVNZzpO6Z+JTGS9rz9+f12OgFWnDrG3rvf0cqLawlhhebjn9ulW6+RDq8pUAv/G6c+n7q0Pq1kxR6pJminPtX6b07rL+2vX6NJv55vJ5dladekqQurv8CAAAAwKmpOD9eV02v+2ukXi59Qzef39R5ivVkQrYe85lzhj6umuyK6VpfxMncivVzNfHRNUp/bK3empKp+rTrfffqv/OH66pHH9D8oWt1T9/Ilp/SK0uDBqX6vF6yco6KdafeWvJ7DW1nvTZo0Mj693sNynEFqQ45/ihJvZU1KEedg67NodcevlELTuTp5a9e0c31SdtJumdCgW7NHqebHs7RtwV5HsvJHJCp4gemacGwtzW+Z2SfEwAAAADQinYX6KG8BSof+4r+/b95SquPkifpzoXjdOX4G/XQkJ16/Sbf+DSwlLBi07SMHA0aIGlQjgZ1lTqPnqOV6ycpY0Co60tS5x82LDvpM0lKV8agnJi5+QAAAAAAkSrOj9dVX7yib6usPN3e129U9/QbpYAJXYdey+umW9Uwj9bPUmKAeaavrdbDIcdfLS/CMssVKl42TSWpkzX9PrdEriQpRZkTH9EEFWvOm2vkXYU4Ohw6fCCKi9tcoLmF0tDHZ7glcl165GnylBypcIHe2eH51nVTntbDfd/VhKkFKoticwAAAAAALaPkzTlapus0fap7IteSNvYRPTJEWvbyuy0W86Vk5GiEHNpU5j18EQAAAACcgXYXaO70kXr5mYYOl51v+r1ezl2qW/8SYECZ9Qt0a+EMfezeSXPAZH38WJB5YliEydxtKl4oaWyOMv3VUW7XT1m50t5/lCna4WfGzU/p5tSlujX7Gj30crH21jR9mXu3b1KJcjTiJ/4LZ/XKyJG0RttKvVLT52Rq8qxJ6lz4oOb+1XtgXQAAAABAbHOorKREGjJSOX6rLfVSxo8lfbBVZc3zpLKvXVu1TFKvruH0BAYAAACA09PeT5dqWe5I5Xj0pk1VzoiR0vQ18peaLf5gmpSbpnSv1zOHzPCcZ3epNmmk0ro2R8ujJ+KeuXJIatcmwJi4qUq7VNIHjoiTucv+q5sSE+Jd/27Ua7tdb/TI08sb3tb0jFLN+3W2ul92o+Z91sREak2FpBS1CTTAb9c0jZBUdsB3PUlDHtGLd0jz73xCHx1vWjMAAAAAAC2rokLS2UlqE+D99AtHSiqTI5rVoQLZX6x5v5slpU5Wzg9bYH0AAAAAENMcWrNsqXRpus+QNZ3T+knapLLd/uYLJvx59r5+o1vOMl6JeQXaG+5qmyDCZK7L8fIAZZQdKvtC0g1pivRZ4kFT3tB7q1a5/j2inA5ub6Zep4ff/kp7//aK7ulWpIdyLtPEJveMPazyQE9a7yoL8mR0ioY+/HvdrLl6aHZxM5WVBgAAAAA0myMVKg/wVun2pZJ6Kc3vOEzR8Vi264bA97L1UMl1+t3yRzQo0MPGAAAAAHCGGXGhn8q6ro6Y/qRfOFIqLFOp1+t7yzZ5vrCrTMu0VLemuyVq8z37+u59/UZ1/69++riqWpVV1aqs2qmXL434o0QkwmRuL2XcIWnhGhX7y14e36SiQqlzRrqszZukpL6SSkp9xhnaU1YkKU2pHTxfT+mVpUGDclz/MtTZTyCb0jdPv1v1vp4d4tD8v0Q+hlHnXlnK0Bot+9T/EraVrJE0Ur39V2GWzh+p6bNGqiT/Ac3zu0EAAAAAALEnVb0yM6QPlmrNDn/vb1PJZ5Jye7vKcyUppaOkwq2+NwV2bZWUo84dw2/F+OdcDzKv/Vx7v35b9/RtCIAT26VKWqqt3uGqY4+2ShqUSjlmAAAAAGeqpSrb5ftq55vu1XRN01XuPWh3F+juZfJMAA+Y7ErQuv6VvqIR07M9et6Wbl8qPZajzPqZUnXzlDyfnsLNKcJkbooG5U5WZ8csPTa7WJ59Yg+r+NknNF+ZundY3UfrpYwhkt4q8AyQjxdr6ZsOaWhvpUX81HGSUpIlnWhCErXvSE0YKq18dJpe+8brvW8KNCt/jTrfMV5DgzyJnTb2Kc0fWqzHXl5K71wAAAAAOEVkDLtLQ/WuHptZoLIaz/fKFj6hJz5I1YRbrnMF6inqlZEjaYGWfuAe+ZVpzZsFUmqm0iPowZuW4XqQeUAvpcR5vpfSq58GSVqwYo1HrFn2YYFeU6oye5LMBQAAAHCmCjTebaYerlqr6YXj1L2ux+390u+fGRl8cefn6fXSVzSicJwWrLdeSr9wpDQ9Wze9HunAsk0X1/gk/iUNekRvPLZGV03P1g8+Hq/x1/bWOdqjTa8W6LUt0s3/t1b39K2fWoNufkqZsx/UhJxrtP6269Sr3SFte2+BFmzO1PT/yZN3p9fD24r00UcpDS906adBl6So5NnrteDwdcoa0EupcqjkrQWa85Y09IUcn2WELk3jn3tFH2WP063Zm/Tu2F+qX0fpUNkavfbHd1U2YIY+nnWdUhpbxuNP6S9XPKiVEbcDAAAAANCieo7Xs/+3Rlf+1zhdWfKu8m7ppy46pNKPCzR/ZZkyH1ur3/28IRpMu2GSJky/XvN+dpnK7rtLWR2lPX9/XvMKU3Xz//0y+uWRe47UpDum6YbZ16hv2STd+aMu0v4ivTB7qTqPfUXjqccMAAAA4DS3bHuZ5D2wq2uI1MDp2Uw9XFWth91fWj9Ly9RPk4I9hHt+uvpJ2lTmkAakqvNNb6gybZYSs7sp8b8k5b6ibwtatmduxMlcKUmZU9bq2x+/oCeefV4LJi/QXqUpc0CSpAodLivV3po0da5bQ99JemtTqmZNfUIF+Q9qgVLV6+cj9eyaGZowwDf4/Cj/Rn2U7/bCY2tVOSVTKV3T5Pjr83owf5v2KlW9Bl2nuxZ/rntuiDyVK0nqkaeX/9lP1/1uml5Y9qBe2yF17pOjn816Ww/fcZ3S2oWwjL536tnHl2jAo8WNTwsAAAAAiAlpN72if156nWbNfF7LJheozBVr/u7tRzRhaJo8ItaO1+nZDauU/ug0vTD7QS2TlDZgvKYvvrfpcalfKRo69296L22aHvvTXD1UKKlnpsY/9obumTiyCQ81AwAAAECsS1XapZK+KNVeZXokUK3xb/spLYzqSMUfTJMeW+tWMjlEAyarsmqypGI9mZCt7gll+rhqcvjLiZBhmqbp/WJVdY2/aUO296NZun3cNK1MHqlnX31RE34YvE8rAAAAAAB1EuKb8Nyxm6bGtgAAAACAVrZ+lhKzN+nl0jd0c33i1qHX8rrp1kutjqAh2V2gm9LHqd/aaj08INz1eS9nqUYGet9LNOLbCMfMDa7zoMl669tqVW59g0QuAAAAAAAAAAAAgPANGK+Xc5fq1vsLtNf10t7X79athTP0cX0it1hPJsQrMb+44e989yq6xXoyfZyWPbbWI5G79/VZem2322S7C3RT9jTpsXvrE7XF+bPkvqS9ny7VsjB7BDdVdB53BgAAAAAAAAAAAICoStXNBTulvG7qnjDO9dqMxsscT89W4nS3P9dWq9KnR+4m3Zoer1vlOd3rHtNN01UJ09z+DmHdUdYsZZYBAAAAAIgUZZYBAAAAAKeDmC2zDAAAAAAAAAAAAABoGpK5AAAAAAAAAAAAABCDSOYCAAAAAAAAAAAAQAwimQsAAAAAAAAAAAAAMYhkLgAAAAAAAAAAAADEIJK5AAAAAAAAAAAAABCD4poys91uk81mkxGt1gAAAAAATjumJKfTqdpaZ2s3JSDiWwAAAABAMK0V20aczI2Ps8swCHMBAAAAAMEZkuw2m2yGoeqa2tZujg/iWwAAAABAY1orto2ozLLdbiPQBQAAAACExTAM2e2xNdoP8S0AAAAAIBwtHdtGtCabLbaCbwAAAADAqSHW4slYaw8AAAAAIPa1ZCwZ0Zp4ZhkAAAAAEIlYiydjrT0AAAAAgNjXkrEkjyADAAAAAAAAAAAAQAwimQsAAAAAAAAAAAAAMYhkLgAAAAAAAAAAAADEIJK5AAAAAAAAAAAAABCDSOYCAAAAAAAAAAAAQAyKqWSuoyBXxo2L5GjudRj5KorK0oqUbxjKLYigxbsWKdfI1aJdUWnIaaPocUPG49HZOwAAAAAQW5oQQwZa4mkXQ1nbKL84hClPu88OAAAAAL6ilsxddKMRMBFrJVADBGPF+YHfQxNYAbARSsJ41yLlGoH3H1pH3fem/h/7BwAAAECEih4npgAAAACAU1HUkrmDR46SFhdqtZ/EYen2JZKkjaW+YaOjdKOkmRqcGa2WxJ6W6HEc2BKNXRD8SeWiBWO1pIVaU4+eyY0o0p+33y/TNF3/9mihxqoLN18AAAAAAAAAAADOGFFL5qZm52qUlqjUJzlXpNXTrP9bsnS1VyLKodVLl0ij05UerYbAw6jRo6Rpq4OUlbb2z6jRo1qwVWhclqY8muX2d6rG3DtTWlyq0lZrEwAAAIBTVdajpsw3xii1tRsCAAAAAAhL9MbM7ZquyyVNfd8rbVi8WlM1SjNnjPKTiCpV6WJp1MjBBJTNZWSuZmqqngkwJpOj4BlNHb1QuZe1eN9chMnqxQ4AAAAAAAAAAIAzRfSSucrS4Bny6QXqKN0ojc7VbeNzNUpTtdp9bFxXojc32zuVWzfeq+vf4/76lTqscXobnS40RY97LsvfGL6hTOPBNRZtlzFLpMVj1SXAGLaey83324s27HXXG6zBM/z1ipakIv15zBKNGjnYT89oP9vXq8Rv0eOube4a97ih7cHmdb3XbayWaInGdrPez/VONteN42sEeN/7GAlx//uMQ+u9P+rLPzd8htwCh9/X3dfpuVy3Zbo+h7/9Zc3jf3/72LVIvxmzRKMW3aasxqcGAAAA0CS+MY17TNJoXOESUhxXH08Fmc5nGj9xRCMxlPuYuQHHz3WPXwLFRqG22e92CjH+CTC/b1wY2mdvtL3F+f73YZB4DgAAAABaShSTuVLWT2dK2uhWatkqozxq5GCldh2s3NGePXetnoaXK72r20IWj1UXY7UG140VunOhRk0b6BmM7VqkXKOLxl62zm1M0XWaOW1gBGPTWoHpwM8Xak/dsopmamqWe8DmZxpznZQ1UFODLbrrGBWapvYsGiWNrpu3UGPqP6+VzFz9U7dxUUdP1UCPzxBK+4LLGr9QoxaP1Z99bgis1lTN1P15fvpFF/9ZhSP3eG7fxWPVxTth+vkzyn1/sGuaKVaiMei8qRrzhmu/apQW7rSmKXRvw7SBMu6V/uD2eZeM6eLxeR0Fz0hFZsM6/B0nPor056W5bvvQ1LoZSzS2m+8NhcJ7fyPN8W7bEo3t1vC6WTRTmjZQuTfmqovb+LYey/Rz3Ne3JdTkbHG+jG5jpUV7PLcTAAAAgGbg0KIbveLNnQt1ef37ocQVocaQDi2aI61zW9aeRaM0NcstsVicLyNrY33sZK3Pq8khxFDusn46U1pcqNVeyUvH2kIt0UwNzmx4zTc2CqHNrs/fZczlHtOtmzFVAwMkvr1tnJOr3+gPDfvA9Zl8Yr5GP3so7QUAAACAGGb6UVlVHfRfYOvMmZI5atEe68+dC81RkjmzyPXuDJkavdC03t1jLhwtUzPW1c+9Z9EoUxplLtzptVSP+Vx/u81Xz2t9/ljrmGnWz100s/F1Fs30nMdrffWfN9g63dofdF7v9oTSPr8894Xv9J7bv/Hl+X6OdTPkf7uEMK/1+QN8Lp9l+h4r/gQ8LoLxbkeg/eL3dVe7vNvrfRz624cB9qufT+X5nQIAAABOA5HHnNFdj/91WdfgweJKH95xRZNiSM/1+40n3acOMYbyjPn8xRnWPN7xfGixiNc2C/T5Q4rtrGX5m8Y7no88fvTXXj/xWQj3GAAAAACcuSKLOcMX1Z65UrrSR0tLtrtGxt1V6vFUr+fTv9Z4uTN/6tUvcXSuBnf1fCn9Qvfxdou0epqf+aQgvSADK3p/qjTjfrfesr7rtKYZ7NuD0jVOcOT8lJjumq5RWlLfuzmU9oXC58nrXatVuHiUFo4P3i/UvSyYVS7aa52j0/2UaA5x3kB8tnWq0i+T9HmpV69rz9JnA6f5m8YP9xJbrnLPpV5PZF+e7q8HrPf+crUryDaQJGUO1kwtUeHahpYF2q++bQ3SexoAAABAM7Di2kZ7bgaJK8KOIT3KBFu9dzeWWvFDavrlVgWrYMPKhBxD1cnSbYtGacmYPzf0JnbFiN4xqv/YKHibA35+pWrwyFE+wzP54y/mT02/XJ7VwBT6Zw/SXgAAAACIZVFO5noGZj4BnCupVbpL9ePlpjeWzPK2q1Qbo9Zeh0o/l1WWyWv8nC5jlnhO0ypCaV+IMm/TwtFLNHaBFTIXLRirJUGSiXVjEw3UOo9SVD4uS5d3aB/yvE1gJYq7eJRz9ik15q0ueM9yK7G1c6F8WxbBcRlUlte4xUEeSPBro0+yGQAAAEBzsYaGsUon+xmDtdG4IpwYskj5hiGjW6FydzaUY57pPknmlPphZSIZdzbgp8zO1ShN1WpXOeKiBWO1xOfhan+xUWNtbs0Y2p8QtjEAAAAAxLC4aC/QCgjHanXxYGmaNGqRe59F6wnnse8XabCmSqMX+vTCbVSTe8N6tNZ6YveydTIfDZJYuyxqKwxTiO0LcVmDR46SxqxW0fhSPTNNmlkUYJm7Fuk3Y5ZoZpGpKZn+JwmoKfOGqjhfA6eN0sKdhY33bK3n0KJ7x2rJjGhsy/BljV+oUd0KtXrXGI3ZZfW2XRfK9smcItNs9uYBAAAA8JL1qCnzUbnGrO0iY/s6mY+mhxBXuOK4EBQ9PlBTRy/UnjfG+Dwk66HrGBWaY1Q3nu9AY2OY8ZC/ZVqVrca+X6QpmbIeOC1qpB0htTn0zx+Zy8N6+Dakbdw1XaOi+Ng4AAAAAERTlHvmqj7ZuvH91dropyzt4JGjpM9Xa/Xn0qiRgxsNFH25Sl75K6W8a7UK/ZVuDra0Cxsv8RRwmuLVmhrymiITSvtClZp3v2Zqqp65t1BLRi/UbWElWx1avTTM3sBRmTdUVm/XcDnWFqq5WybJdaNkiQrXFmnRnKkateg2PyXHAAAAAMSczClWpaEgQ7p4xxVNiiGDTpOqMW+sa6h41SSpGnPvTKudruFdBkf6QK5XmwPHsa7Y0G8JZk/+Yv6i96c2PsxNKPxuY99t2mLxIgAAAAAEEf1kbl1J2WlT/ZRocvXcXTxVUxcHGXsnqFSNmeMqMeUxZlCR8rtZT0iH0yO0LsE58MZFnoF5cb7yi4NNU6T8rNBSudYYR27j1YYhlPaFzjUu0uIlwRPproS8e/DsKPiNxi4OYRWhzts1XZd7jSMbMte4wh5j0D4+sJGbIq6nw91vKLh6EbcM60GGJUuf8TsOVUCuEm4eZd0AAAAANKMi5XvEmq4E5GXpSg0xrgg1hky/cJRXrOg7jaMg33Ps3kiHLPInc7DVzqzQHzgNpc2peX/QwtFTNdCrJHTR4100dvFMrQulWtK0gR4xr6MgVwOnSTPvbbz3cLjtreulPDUrv5XiRQAAAAAIrBmSuVLWT12jz/Gjaf0AACAASURBVPgZT7WhTHITnvrtOkaF5jrN9BhLdqA2LtoTQQndLE0x92ihxqqL+7i0c9Ldeq5maYq5TjMXu0+zWoNDHWenbrzaboYMI9czEI9K+0JnlcGeqfvzgoW/WZriMSaTod/oDyGOexvqvK7E8pguvmNQNabrGBUWzayf1zAMrf5p42PmZj26x3VDwbUN75X+4HfM3OaRmne/Zi5e4vchBwAAAAAxxCPW7KKxbkPfhBZXhBZDpuYVeozN6z/O3Oj2viEjKwollt3aOXiGJJ+qWoGF1ua6cYfdtpNhaODnC7XHnBJS0nhm0R6lz2mYt8sYaeHO8IfzCb2966zEdivFiwAAAAAQiGGaviNyVlXXBJ0pIT7qQ+0CZ4Ai5RsDpeYcTxgAAAA4BbRUzNnYeqK5LgAAAADAmaWlYk6iVqCFOAqe0VTN1DoSuQAAAAAAAAAAAAhBs5RZBuCtSH8esyTkcagAAAAAAAAAAAAAkrlAsypSvtuYzoVBxyoGAAAAAAAAAAAAGjBmLgAAAACgRTFmLgAAAADgVNdSMSc9cwEAAAAAAAAAAAAgBpHMBQAAAAAAAAAAAIAYFFEy16cuMwAAAAAAIYi1eDLW2gMAAAAAiH0tGUtGlMx1Op3RbgcAAAAA4AwQa/FkrLUHAAAAABD7WjKWjCiZW1vrlGny/DIAAAAAIHSmaaq2NraSp8S3AAAAAIBwtHRsG/GYudU1tap1OilJBQAAAAAIypRU63Squqa2tZviF/EtAAAAAKAxrRXbxjVl5tpaZ8w9VQ0AAAAAQLiIbwEAAAAAsSjinrkAAAAAAAAAAAAAgOZDMhcAAAAAAAAAAAAAYhDJXAAAAAAAAAAAAACIQSRzAQAAAACnJcNo7RYAAAAAAM5U0YpJSeYCAAAAAE5LNhshLwAAAACgdUQrJiWyBQAAAACclmyGTQbdcwEAAAAALcwwDNmM6KRh46KyFAAAAAAAYoxhSHF2u5ymU06nU6bZ2i0CAAAAAJzODMPqkWs9XBydZZLMBQAAAACctgxDshs22Sm5DAAAAAA4BRHNAgAAAAAAAAAAAEAMIpkLAAAAAAAAAAAAADGIZC4AAAAAAAAAAAAAxCCSuQAAAAAAAAAAAAAQg0jmAgAAAAAAAAAAAEAMikIy97CW/TpeiQnxuuHlMt+3dxfopoR4JXYfp2W7vd8s1pMJ8UrMK9Bet1f3fvSCJo68TN0TrOV273e9FmxxW9bkNarwaMK7mpgQr8Tus1Ti/nrFGj3kPn3d/F7/bnrdYU2/fpbXe93Ud+Tdmv/Z4QCf3aHX8nyX1/BvloobXe9hrfxtNyUmXKEn13t8KpU8m13/+t7Xbwyynng9uT7oTgIAAAAAAAAAAABwiolr8hL2r9HKl6XOqala+foald06Xmn+pnMU6O4n8zToueuUEmRxh/96t64Y+YLa5E7S9MW/V3qiQ9s+fldHKiSdn6WhQ6RlC4u1bVaOMupm+neJlkqSY4027ZisjJ4Nr38kaURGbyW5rWPQlDc0+aqGVqRc5Nmi8c+t0s2XSDqyTa/94QlNzNmkir+t1T19vVubopz7V+m9O6y/tr1+jSb+ebyeXZWnXpKkLq7/Bltvkobe/5RG/HGcHpu3VOML8tRZknYXaNYDxep83yrdMyBJ6vqI3lt1p+tzFeja3y5oaKek1J4CAAAAAAAAAAAAcBppcjJ374cFWqA7Nf9xacKvn9eyzeP9JD2ljAGZ2vPH2zXrhq/0uyFJvhNIkhz66M0XtHfI77W54M76ROigoXmu/0tT7x+nSh9s0rZvpIwe1qslxUu0t2ea0nasUcm2w1JPK2Fa9kWRSpSjCT9K9VhLSq8sDRrk+Zq7tIwcDRogSTkalJGiQxeNU9E2h+7p6z1Pkjr/MMdKvkpK+kyS0pUxKEeZfpYbcL098jT56ee17IE5WrB+pB4eIBX/ZY6Wpebp9f+XYyWiz8/QoPNd07cp9monAAAAAAAAAAAAgNNNE8ssl+mdhUulO67TyBuu0wSVqOCjEr9Tpk14Wk/lOjRv8hMqPt7IYvft0eEA02QMyJO0VEVf1JU+LtOm90qUMeER3dlXmv/pJlcJ5gqVfbFU6nud+jWl12rFYR2WlNouUAI6OjJue1oP9y3RY/kFKttRoFnTSzT0sRkacX7j8wIAAAAAAAAAAAA4/TQtmbtjjZatlEb8pJ9SUvopK1cqeXWN/KZz49J088wXNXTzLD30/9u7/yipyztP9O/id3KdCdnJvTYzMtvc6Kon64hOstJMXMHxB85sEoFFA2TiZUwU404mOhkNAXFACOr4K+Yak8w6XLMDqFxAZzajMa6Q64RuNzsGr5MTvTEHEs3S7GY2ZuImKNB1/6hqurq6uru6qaYLfL3OqXOg+ltPPd9fz/Ot7+f7PJ8Hagd8k5bMWbo6M55fl/Ped1nueWJPqrPVTnrv7CxNsm3Xi6U3ftyeJ55qydwZSzLj0pbkqV0p/eXFdGxIcsH0XlMd12PPru3ZsWN7djx2f5Z+7JP53u/fmyW/O9Dk0A1wwoxc92fX5MQnvpgr/o+VeeKc27PqypoTVgMAAAAAAABvAUcUzN2zY1OeyNzMfX9LkpbMvnRu8vzG7Hi+nw+8e0lW/fmMdPzpyqz/Qe1FJp2zLI995ytZMqk9N37wlPzWRTfkoZf29yxQDhrv+9b3sifJa7va82gWZsaZ5VG7z7fnxR8m+eH38p3OZOn7z0r1mNpH/2BqJk4YX35dlod+3Pvv6//oolx80UW5eMEX88ulL+T/23ZNpjdgYO5g3zv54kX5xKm70vFsZ+Z8bG5PTmAAAAAAAADgLecIgrm78uiXticXXJIZ5amAT3zvJZmVXbnrP3b0+6npV38hq855PEtXbMqefpaZ/J4l+dJ3vp8fPXl72l65O1eccWHuORwgbsmMC2YnT23Prs7kxf9yfzL/rJw+KZl0+lm5tDwF82v/0J5HMzdt0/uOqJ21/JF8/ckny6/PZvav9f77qmcO5I1fvJLHbpych5Z9Lo/+cMgbp6bBvnfPw3fl5pcuyZw5yRP/518OPh01AAAAAAAAcNwafjD3+e3Z9HySp67Kqd2jTU+/KjuS7Pvy32bH/n4+N2l6PnXrskzfckNu3rJ7gC+YlBNnXZeHv/3XWZqO3PhoT4C4dfrsnJhNaf+HjnT8x2TWBW05MUl+oy1zLki+9F++kxd3besVaK40+bS2zJo1u/yanhNrjbod15I5N67Op7IpV3xmU/bVu10GMOD3/nBTblyyLdNv/mwevuX2zBhwOmoAAAAAAADgeDfsYO6upzZmV6bnU+ufrBht+mQeXj476Vyf7R39RXOTSb/z2dz2J8lD121K+wWDfNEJ78zkJNn/yxwu8T0zsjDJjgfuyuPPT88l7+3OLduasy6envzH+3P3tzpz4u+cniPKOnvC7FxzyyXJlhty11P9r8+R68yjf3ZDHm25JquunpFJZ16TVX/Sko4//VweatCoYAAAAAAAAODYMm54H+vIE5/flZx5exYunt07t+vUPZmz9qrc+vX2LJs1u0++2pJJmfUnX8nSDR/Ml55KMr/7/c48+kcr097alrbfbs3kn+3J4w99LvekJZ/63baesiadldlXJ/d8eVuS67Ls1J6Sp7/3kuRP1+XRJJ+6vnbW2ddebM+OHRXTL085K7NO7Tsdc5K0Xn5dPnPTRbl11f1ZeMF1R5THtr/vfe1rn8snN3Rmzv3XZ867kmRSZn1sdebceVVuuOPxzPnCJaldOwAAAAAAAOB4NayRuft3/G2+2JnMWjq3b3Dz3bNz6Zwkd27LjtcGKORdl+Szdy8sTY982KS0nJzsevRzufyii3Lxgs+lI5fk89tfyG0XVIaFJ+es988t/fPq2Zle+af3tGVpkuSazH5v7VDyjrWX5eKLLup5/d8v9l/PSbPziT+fmzx7Q9Y93DnACg2u5ve+vj3rrrk/+85cnWWLK8YRv3thlt08Pfu+fFXWjeioYAAAAAAAAKAZFYrFYrH6zTcPHByNugAAAEAmjB/mJFIAAABwnPELGQAAgONWsZh0FbvS1dWVvo8yA8BbR6GQjBkzJmMKY1IoNK5cfS0A9BiJ/lYwFwAAgONSsZgcPHQoNSakAoC3nGIxOXSoK12FYsaNHduQG8z6WgDobST622HlzAUAAIBm11XscnMZAKoUi8V0FbsaUpa+FgBqa2R/K5gLAADAcamrqzE/nAHgeNOoPlJfCwD9a1Q/KZgLAADAcclAIQCorVF9pL4WAPrXqH5SMBcAAAAAAACgCQnmAgAAAAAAADQhwVwAAAAAAACAJiSYCwAAAAAAANCExh3Jh8eOHZMxY8ak0KjaAAAAcNwpJunq6sqhQ12jXRUAAAA4pgw7mDt+3NgUCsK4AAAADKyQZOyYMRlTKOTAwUOjXR0AAAA4ZgxrmuWxY8cI5AIAADAkhUIhY8fK9gMAAAD1Gtav6DFj/PgGAABg6PyeBAAAgPoN61e0MbkAAAAMh9+TAAAAUD+PRAMAAAAAAAA0IcFcAAAAAAAAgCYkmAsAAAAAAADQhARzAQAAAAAAAJqQYC4AAAAAAABAEzrqwdz2Wwop3NJ+tL92dOrQsTaFwvxsfHXkv2o4OjfNT6GwNkd9b3SsTaFQSKFQyNqOo/3lJEle3Zj5I3hsjtqxBbzldG6an8JlG9M52hUZRc1wbXWsab+l8JY9bo7e8dKZjZeVrveO7rZuz9pCIfM3dfb6/4hcc47w9RQA/fjxplw+YXwmLtyUfaNdFwAYFZ15aOH4TJxwWR768WjXBTgaGhbMPXyzpr/XiN/E6Wx4HY7Ojb7SDaY+dT1eb8p2rE2h7blseKWYYrGY5TNqL1YKBvbdLiMV/H0r39RlBHSsreMc7m6z6g96C9iUtkF1O9B+y8Btf992o7rdHeBGfF37ciT00zeMVDv16sbM94DNCKu+Tqk69ysedKr5aspzv3ycVtetfDz1u66pPm9HOhhWHdxrsPL6jlj5x6TObLxsShafsTPFYjHFRxalpdZiAxz3R789GuHjBGCkdW7Pl/7oslx81tRMnDA+EydMzZkXXZV7nn1ttGsGAAzRvocvK/fnfV+3PjvatQNGQ8OCuYseKQXnisViiq9syLwka9or3uvvJk7DtDRBHYZv3sa9veu+cuYwbtz2N/JgBEckDFH7N1YkC+bn/JPqWXpNdhYr9l/7mqxoOxZvsg1h+xvhccxrv6WQQtuKwRfseCCLN498fY4fpfNo5sq+f2m7qaKdqHjt3TgvWbAhV1Y+NPLqxswvzMxzlW1ucUsW1WiT6t6XQzDUUaS9+obi3mzI4kw5Bke9H6+jZ+tfr/asLVQEtorF7N34XGZW7ssZy2sex6XrmXnZsKRtRNdlONpvmZkVq3emeFNF3TrWpjB1cc6uvP4qLk9br88VMvOFDdl7eFski6cew33fSYuy5ZUNyaJrm2sdRvOa4tWns2VzsubCeo7beYcf8qs87p9rG9oDT8eF4+w60ENocPTsf3ZdLv5XF+WPv7wt38vpmXXB7MyaNTk/3bE+7Xv2j3b1jhH7s++p9bnx4+fmHjfJAWgW755R6tcrXpPHjXalgNHg1B9A203FFEfji09alPs2bsnWRU+n/aa2NN/t21EyY3l2rl6RmdueTufCxgbmR21fc9zo3DQ/UxZtrXfpbLyrsUHC41d5dNdQA9+vbsy1i7ZmTfuWiraiPWunLk427s2Whf23IEPbl0dTSxbdtSFbNi/O0x3L09bPzAbDctKibCkuamCBVOrcdEdWLNiQvRVBz5aF92XDtim5Y9OVAxyPndl4/eJsXb0zW+p6COooenVj7lg5Lxteaev13vy2FVnT3v/MGz2f6+nHu7fF4vXtWXTTSFz1tGV5cYR7+ZMW5dOrF2fmiK3DW8xJi7KleH42XjYlMy+blr1H5YHMo3CcAIyIPdm0dmV2dCaX/sX38/AVrT1/6nw863eNXs2OLa9l+wNX5Z4tyaqPjXZdAKDsI3+er/f7Axt4KznqOXPhSLRduCbZvDu7R7siUGX3y1uT1aVRdztXD7JwxwNZnA3ZuXHeUanbsW13dm/unmVhZ9bU+anOZ7Zka/Wo3I6nsyJr8ukBArnJEPfl0XbS+Zm/IHlu9/E2xvV41pmnt21NzphWFYxqyflz52Xrtqf7H9n76tPZsrk5R+WWzrHeM23UPO/q+Fz3tsjKp4/pUZhtF6455tehubRk0fVrks1b8vRxMlIVYGR0Zt8TSTI3c2e19v5TyyVZMqdZ5ycDAADqNXrB3Kp8ajWnzq3OudboKRoHqUN1HtXD0yke/lzlNGjV+Q2PbFq43S9vTRZMy7SK9/rmke35/lLuuZlZkWRFW09+vf7eH0h1/sn6pmeukbO48nvK22zmyiSbF2dKQ/ZnjZySVet2eHq34e7rOvbrcPZLX+XtN3VxtmZrFk+tVc++61t7yulB9kV/uvPWDbBf+tue9ezLgbbTwMv13ubDOz4HL7dyOuzey9Y33WHbTcXeU432qz1r21ZkzfWLep3fw1NjX1fti36P5V7HRH95Asvl11i2rvPucC7EZVnVp5yyQXO1lkZKDe0hxPY8sGhr5s09v1fwrP0bK5LV5w8620H9+7JKjdyPh9ervJ5TFm3taQMbMJXmoOdVxZSdvc+dquO/z37o73yodZwMcEw0YL3rbTvq7YcHbQs61tb+jspt1Mj9OcADSu3rF9cIfNajp20o7dOe/dnrOOhuL6qO3cHb1VKAuvc5Vuu92p/rG9hOWqadneS57O5vGx4+lqvavfKxNnC7XW8u1MGOob5tbq8yZ5yfNVmRpwfcfkPsa/q0K32X67fNHfCaIvVdi9cySJ3ab+n+7p5rn2Gn+phxftZka7Y8U+O67YivBYZ7nNRWV536vX7q7zrw/63RD+fwPuj9HaUyKutfT50Ga+PrvZauVb+ZK5OsnJlCoTDgtgOOVGta5yfJttz/Vx0ZNENuObfueaeXc++dfm4uf+DFJJ15aOH4TJxwWR764WvZsfaDObVXXr7X0nHfJ/Ohck7e3zzroiy9c3v2HawsfH9efGxdlp57Sk/ZyzblxcOV6v0du+67qlyPU3Lex+/PrtcrinrtxTy69qpe9Vy6YU+f1fnla7vypY+fm1MnjM/E3zwjV9zZdxvs/+HjuefjF+XM3xxfu+7PrsvECVNzxZbSf28+t7Tc5Q97gBKAY8lrefGxu/PHC8v94oTxOfXcq3LPt6p6xoOd2XFndx87NWf+wbrs+GFHbp0wPhMnrEsTZGoEahidYO7KmSlcn9xXkQt166IpvW8w9Mm5Vs4V2KiAbj11qGlLrj38uXKexVo5GNuTmcPNtdixNjNXzsuGuxb1mh70gW3zD+eXK40Y25rFU0s3Gks5I0uj1g7nCb6prd/3ayvdBKrMY9edp3bA7fLqxsyvygVYLO7MmpUze25SnbQoW7pHuS0olz+MKfNKOXdLQe7OTXck7b3zq81bObPvzaUj2deFp3N+Zb7KBSt65zgc5n7pq5zzuTs3Yjl33OGpNzvWplB9jL2yIVk0pUbQfJB9UUvH2hTaVpTycw62X164I/Mrt2dxZ9ZsHuzcHHg7HV7qlkKmLEqv3Hk9IyOHeXyWPzdl0dm9cjDvXL0iM2vcFF/RVsi1uW/Aeh6J7hyTDZkhpeOBbJm7t/e+3rw4U6pv+m5enCmVx3J/50od6j7vXrgj879xfnm5dbm6n1F3pWDVwCP5hlPHviNwO7P7hWTeydP63LhuTD7xzmy8K72Osb0b52VFW/kYK7eB3Xl89w6Qq3dA5TyUZ09rSb3nVcqBgacvrGrL6uhPn7trfq/zobv9rNzfAx4TR7ze9a5jPe310NqCAQ1pvVoy7YwkL+zus713vzzAdN6vbswdK5M11w+1r+yemryUd76yrVnRVnEcvLIh8zYvzrWXzU/hrmkV+Wsrjtt+7c7uzfMy/9yWqvdKx2bvAFLfsuadXONRlpOmZfC5CrZm8dRrk7t6jsesnJn5l83PlJc/fWTtdo1rudKx0V1OebtW9q+vbMjZvQqZlml1jpyvp68p5e1+rlefWMovXKPdqmpzbx7omiIZ9rVRPXVqu6n7u3uufYbf55W26daXux95GO61wMj271uur2xju8+jwhB+2/R3HfhbNUetd+5+rrRO36i8BiyN5C+dl/Vtp9J1V0WbWL62POJr6XIO8J2rc3imC2AkteTST9+eWS1Jx6pz81tnfTT3PLGnZlC3Mrdu5ynX5DPrbs9nLpiSztd6L73nr67KxaseT0/odE8eWnJGzrvu8Uyac31uW3d7lsxI/nbZRXnfdY+Xv2t/OtZemDMXfDG7/+XC3Lbu9tx26ZTsuvOjOfMDd6f3bM+v5fE/+0Au/7vJmfux63Lpu/ek48FP5oPLusvalXs+cEYuX/V4Js1altvW3Z7PXPDObN9T1T797PHc/IEFeXzS7FzzJ3PT2vliHlp2bq6uCMLuf3ZdLj7lg7nxwd1p/dCy3LbuuszO97J+2UV53+/dX6rXu6bntnXL8uEzS5+Zc/XtuW3d7ZnTOmlYewQARsWPH8/NC76YPe+anWvW3Z7bli9J6w/X58bZH8g9z3cvtCcPffx9uXjZ+nTkkixdfn0undyeqz/yp3l8NOsODK5YwxtvHhjwNahXNhTnJcU17X3/tHN1isma4s5e7+4tbliQYlbv7Of/g5fb+DqUl1uwobi3e4mN84rJvOKGV2qUV13XAZav+nRxTVJM1Wvexr0DfahiHSvLL5XVd51rv1+qX8V2aF/T//pVbIc+pfez/rX2wWBl9Vu3Yn3bs7oujd7X3dtywP1T936p57M99a35nVX7rO59Ufk97WvqPuZqb8++5dfaf4Ouaz/HX3/r2qtOAx1T7Wv6qUv1cVA+F4+k3amsU639UFWXurZTPeVW2LtxXv3t1uHl+juu+2mLB6lX7eOk1nfUcT7VKGPgfdHf+dLT1lb+rbR9+i+znm0+lPpW75/BPltrew1Yn+rzqnz89tke1edTn+O8/++q57it3m71r3cdqtax7va63ragv7aoRltQ93qVP9tre7avKc5b0P+2HMo269ne5XXp5/yr3p+lc7V6XYfTz1WsY61+//CyA/Rng7W1NY/lfta3n+O58rPVfUftvqTyc/X15YO3GXX2NTWvBwaoe799cz/tfx3XRn0MoU51952D9f11np8D92n19u9D7ZOK/bexfepU52+bAc6tnnqWylqzek3f/r77//Vsp372UXUbP+zjpTj4+XDEvznrNNj3eHkdN68fPVm8bX7r4XsKJ866rvjgCz+vWObbxdvOSTGZXly6+fs1ynil+OD8FJOW4omzlhUf+1HP3370H+YWk+nFz2yvLO+/Fx++IsVkdvFL3ztQ/Nkzq4vTk+Kl63uX/ey66cUkxU/97c8rviPF6cufKf6se7n/+khxSVJMrik+9t8OFN/Y/dXipUkxH/pq8aWKsvb9t/L3d/89LeVyS39/af3c0vovfqT4ozcPFN/4pyeLn2lJMZlRXPVMZd2/X3xwcUsxSXHJ5v9etf4prnqmCfanl9dReulrvbya81Xqe/vGDJLVxW++eaDY02/NLT64u/y5//b94vM/6l1Od984/c+/XXzjzQPFnz25rHhiUsyce4vP/6JnuX1/fV3p/cPle3l5NfLVCKMzMrfPNJdVo1b6yxF30rScnQblChysDv06O9N6jbxpz9MrkzUX9h1tWZoysD7zKkdcFvdm/rYptaeIrJzarjwVW79TEg5RaQrST/cZWTTt5HkDTAPZ//p353bsNWpgSFZkZsXoudLIgeqRT72nPJy5Mn334XD3dc2pLatHiJSN4H7pPdKiSq/pB4exL17dmPnlEblbBskjelitaWrrPTcH2E6lUdf9Tyc6vONzoKl1a+do7LP9GtXulLf1mvblg07zO1SVo+BK075WbY8a23Ww7TawOs67qmnik7acvzq984PWmcN2SAY6X5JkwYbcV/F9LQvvy4YFyYq7GjTrQ69pKEtTrB/JsbN10ZSKEY7lUYPVo/sHbX9qbI+TpmVeHe1U/31b9XS4dRwTR2KwdayjvR5qW9BQJy3KlvKI5cPr8Y3zs+X6/q4T6pmyuK/2W7pH5NZuZ6r357ST56XvdU29+vlc1cwDbTftzJpszeL19WzdeYPUpfpYLvfnfdqboSr3n31GQVceQ6V/DzZqubRNBzdYX1M7t3BJ24U18sgOdRsM49poyHUaAcO9FkhGsH+v1cZW1+lIfttU50p/9els2bwm5y+ZlnkV23z3yz1TmNeznfrLcV2zjR/27ybgqGqZnU9t+n5+9MxX8qk5rdm34+5cccaFufXZ/aW/P789m55NcsVns+pDrQMU1Jnfu/b69KTa7Uz7E9uS7Mqts3+lNOXxhPGZOOF/zeUPJsn27PtJ8uKOL2ZXkkeXnFKxzPics6w0JnfPP1aO/p2dpR+ZkcPjXt91VmZ9qPRdr/3PJL/WktNakjy2Mjeu3ZSOH5fWYfLkqpGyLZ/Iwgt63mudcUlmJcn+8jp/tyPrO5Nc/dksPafys6358MeWJEnWP9U++NTUADBa3j0jsy6YXfGanH7njZjcmtOyK48+eHdu/qPLcvFFZ+RfL9mWJNn1eqlvfPHZ9dmXZOnVC3PauIqPzpmXJSO6IsCRGr2cuQN5dXevfFGFqhvjo6r6Ztmru/Ncw7+kJYse2Zk1WZE7uqc56w4QtKXXVGj13TKsR2kK0lTeaK4MDvVnRNa/25peU2EWq25OlwJYU3pNM9szJe9RMuL7JeXzob7lhrYvtmZxW2mK2/saGUyrZdDtVD7+auRR7PX3oR6f3Z8bdZ3ZeP3ibG3U9MrdpZanC56Znb2mdhxJdZ93NfZl9c3+enPYDql+g+QY7RscKwfyhh3YPvzNo7eiSAAAHaFJREFUpVybU7dk/uHpR0tTrB+J3g/6VE2TejTanzqMaFvcsHVsgragPDXz4f15U1tpqtRaQbiOB7J4oIcSalk5MzNXZkQeGBmKvg8AlB7kqAz69HkgKqm/rxsJ5f7zcG77w68pWby5e6HSNLilqXmHmGN2GAacgruWfvvPxhlynRrzrdm9ufu4Gu61QBM4ot82pX6q+2Gozme2ZOvq89N20vmZv6DWA331bafdL1fm/K54DTdNDNA0TjxnSW776xfy/BfmJunIzWs3laZL3r+/NKVw65RMHrCEuZk1vfcSpdjo7Hxm05P5+pN9X5e+O9l/sNQvLvlC7WWWvb+yzMl5W6870ZOScZX/nZ1l3/hqPjUneXTVR3PetF/JqR+8IY/+sKqqv9OaKb2KmdR73Q4m+5Kk5Z1917n19FyaJD95LW8MuD0AYBR95M/z9b99suJ1Tab3s+j+Z9flvN98Xy6/dWv2ndCWuVfennuXz+69TLm/nvKuvlcDb2t03YGGGjf4IqPgpGmZl3mZ/8ow8gkebeUn6huvnHctSWUgqP98t0eq/IT9GUP8jhFb/0F05xUepWOklO/vaOyXlM+HOsK0Q94X87LhlU9n99SZmXJZsncYOYyrlfJ4VqtnO5WPv34N8/gctNyjpOOBUkBg88wUVlb/cWtmFlaUcsoNuG7dAe/yf1/dmGsXbc2a9iPJRditsr0ZwJGedzOuzIYFK7Llmc4sWri7dOO5vZHnTjkvbs3RjOVRdS/vTmod6Uc4sq/9lplZsWBDQ86j+hyl9qdf5VGZI9oWN2YdS+31ENqCetvcI9Y9+va+PsdMKcjb/0MJNa3emb0n35EpbYWkIe3CYEoj99q661g5wnBGjbPgjGlp6TWar63XepdygA53lPARKtf97Dq2W9tNxRRvSjnX/JQUXu59fJYCnp8+4ipNO3leMtoPIFQZlTqVZ3DYOSMZ/rXAKOruW47wt03LtLPLD0Odn2zbmjXXb0mSnD93Xha/vHtY26nz5HnJgvlHsd8Cjq5JOe3fzM2lf7Qtjz7Rmc4kh8fidv40ryUDB3Rr3in6ad558uzMOrP2Rw6n0W45K7NmDRwursekUxfmtr9emFU/3pUn/mplPnnT3bn8374z33xmWYZ8mVNrnfd8L48mSWtL3nHEtQWA0bYnm1atTEdm5/OPPpmlp5be3ffw+ppL//Tn+5PKMb77f5mfjnwlgSPQnCNzT5qWsw9PHdvsygGCGlMJt3/jSJ5sL41EGEjnM1saOopl2snDmWay//UvTQPXz7S/I6I0KqFhak0XWF6n2kHLkkbvlwHPh46ns+Lw9H7D2RdtWV7cmTWbF2fKZXVOM1vrGCnXYyg34au302DH3/COz4E+VwqkNHpkaE0zlvcaXdl7FG15BPqgN6YrRyf1p7xOw9RntFz5uBnYUM67ntFF7ZvuyIoa0zsekQGnWO5vKt3yNhuJUW0dTx/12SQa3f7027cNGPxucFtcpeY61tFeD60t6DsFdcPb9n5H3w5viuUkaVm4JXs3zsuKtkLWdgy+/LDVfHioxlTqSbqPh1JQvb/peI9ie1zTAP1nf2YsL7XhNaaZ7V7XI9ETvOv7t8HSEoyUo16nw6kgrjx8XAz3WmBk1bpGq+pbjvS3TTmtxu5nylMsl/vOlmlnJyufzsbdz/U6f+rZTgPtT+BYsyvrb9uefft7v7vn7x4vtQNnTirdqj1zRj7TkuTLn8uXvjWUiYVbctqM6Ul25a57yqN8ux3ck0efeDFJctr0a5Ik6++4Px2vVy70WnZ9bXtphGy9frwnew6W/jnpN6bn0hvvzarfT/L8d7LnH4dQTuU6P1u5gfbkoX+/PklLlr7/rD7TVf7y4FAqCwDNoDP7nkqSyenJSrAn25/o/atg2slzkyT3PLCtV5++Z8v9ueco1BIYvuYM5qYtV26cl62LplTdjOzMxlsalNewYVqy6Po1ycqZvafb61hbyhk4LJ3ZeNnMilyS5SfsK2/KlEfl9dbfzcj6blK2LPx01mRFZlYH9TrWDnBTuCWL7irnAbylsvz2rJ3a+GllDyvne6y8KdZ+S6On4d6axddXbovyOh0OQB3pfqmh5s2+tixvX5Oti6b0PsYO3+S8rzzKY7j7oi3LX9mQeXUHdFdkZmX55XrUys1WUt92KuUuXZGZVbmi228p/X94x+dA5ZZzSx4jo3s6N92RFem5gdsdTKk8rjo3XVsxJehQdAc6Z1Zsy/KoyMrFGnDetZw7P/M2b8kdwwxWDaQUbOt/ZN/hY+GW6m1WI4/hEJXyEFbeFG/P2hpTVTbu5nm97c8R6nVMlKb2nlmZW7TOY6Lmer+6MfMLA+UfHco6DtZeD6Et6M4x3rZ20O+te3++ujFrB2y/K5cd/KGhgbQs3JKdqzPCAd1pmbagb2Cq7abSw0HXbqo+HipyY8+4MhsW9N5fpfNwNNvjfq7l0tMHJe1Z26tvrfUgSClwPdx918uM5eUpnXufI6VzcF423FXHaMpGPxzZiDrVqXPT/BSmLk427u01vfxwrwWGWYtsvKy+6bS3Lrq21zYptSuVfUudv2363WelhyWe21aeYrn77RnnZ02ey5ZtW3s97FXXduo+F6f2bhP7tFdHoDmD73A82p99N12U3/zVqTnzooty8e9dlIvPPSWn/sGm7EtrlqxYWJqOcdLsLLl7SVrTkZtnn5Ez534yN99Zyql33p0DN6LTr/xCVp2T7Nvw0fzrsz6aG++8O/es+mQ+dMYpufzvS4Hhyb9/fR5c3JI8uzLnve+D+eNVd+eeO2/IFWedkXP+aojtyqubcuoZ3WXcnZuvuSo3fy3JnEsy4zeGUM6k2fnEF8rrfO4Z+dAfrSzX6dxcsaEzrVfcm+t+v3u8bkta/2Wpz7n1Y5flxjtvyK2PNdfdJwDo32mZfm1Lkm254eNX5eY7786NCz+Q+1/u/SvtxN+/PqvOSbKlp0+/8Q/OyMVPTSqlHwCaVpMGc0s3I4vta6ryl03J7gubcCqwGctTLAfbDtf1G+en2F5/tsReny1MyeIzdvbKEdt2097yTejyMtcn9/XJG9hzM7JQKFQE9Pp7v1pblhf3ZkOq8mfdNW3g0XMnLcqW4s6s6ZWba2ae27h35KbBO2lRtlRt86cvbHDO3AUbsvf63RXbYmZWrN6ZYsV0dEe2X2rpudnXKx/fjOUpvrIhqTxOpi7O2e1VOTSHuy9OWpQt3QHdAYMrOTyVZ2U9Mkj5dW+nR4rZubpiuUIhM9N903KYx2d/5b6wIXuLo5tbcnDlPKyFQqYsOjs7e9W3HISv2NfX5r5h58ytDACVyrs2uWtvNiyoWKgR591Ji/Lp1Vuzdaj5QOuw++Wtg4wYbcmiR/Zmwws926y0XY98iuDS9qvMh/h0zq+VM/fwzfNCCoOda4Oo77w6Mmva92baXZX5FpMNr1RMRVvvMVFjvTuf2TJgfuMhrWMd7XX9bUFP3vpBv3cI+/O5Xu13Kbfyllr5yl/dna1DnOmgWttNxZ7zecA+Z7h65/Cs+OYsL+7M2RXrWnv79m7L+7Zvo6BWP1so5I6Te0aF9s5BWr5Wq+z7ylPdnt+gh9jabipm78b0yrM6tDarn2uKUa1TLX1zyU7ZNj97q/OEl2owzGuBYRhwtodK3WkrKtqVlWv6bJP6ftv0v8/aLlyTrZu3Vs3Q0Zbzy31q7zajnu1Uu00sTN2d82u1TcNwOKhcKDSkPKA/p2XOf7g9S+efnry4PTue2p4dP2nJpVffnoe/8+186UM953Tr/K/k2e98NZ+a35r9X7s/ty67IQ/tSqa3DnLenzAjn/mbF/Lgn8zNtP2bcs+yG3LjQ9/JpAvuzdcPNyyt+fBffDtfX7cksyZ9J19ae0Nu/Pzj6XzvJ/Lwikty4lBW6aQZWfX+/dnxwA25cdkNWd+R/N7Nj+T5jUt6pouu04kf+kqe/c4jWXVFS1788rrcuOzudJxwSVZtfiHP/sXcXuXN+OO/yecvPy0n/mBb7vn849nbnInJAKCGyZlzy9/k81fMyNt2rM+t/357cunmfPnfVd0lO2FGPrPtmdx2xYy87bubcs/n/zIvnvTZPPaFT+Ss0ak4UKdCsVgsVr/55oGB55SZMN4VLce3zk3zSzcS5RHrpf2WQmbmGMpVR1NyHB0L2rO2MHNEc6+231LIHSfvrR3QpPm9ujHzp24Zdg7Q45G27TjTsTaFu6a5FhxBR+s352DfAwBvZY3ob/W1cBz48aZcPu2jefTM2/Pst68rzeoBNEwj+ltRWQCOnlc35o6VyZp2wY63tvY8vXJNPl0UIjlmnbQon169ODPXt2eR4GW5bZuXDa/YFseL9m+syJrriwK5AADAce61dPxfX8yjSaZ/eLZALjQpwVwAjpr29aU8pveN0GhPjhVtWV4U9DrWtd20M2sKM1N4q49GfXVj5pdTDhilfPxou6nY5KkYAAAAhqoj95y7Mu3TZ6St9Z3J67uz/dFteeK7nck5q/P5q4VyoVkJ5gIw4tpvKWTmypRym5qyEo4TbVleLGb5aFdjtJ20KFuKi0a7FgAAADCIlrROn5zH/259bvxyZ5Kk9Zy5WbpuYa65cm5OO2GUqwf0S85cAAAAjio5cwFg9MmZCwAjrxH97ZgG1AMAAAAAAACABhPMBQAAAAAAAGhCwwrm9pmXGQAAAOrg9yQAAADUb1jB3K6urkbXAwAAgLcAvycBAACgfsMK5h461JVi0fPUAAAA1K9YLObQIcFcAAAAqNewc+YeOHgoh7q6TJEFAADAgIpJDnV15cDBQ6NdFQAAADimjDuSDx861OWpagAAAAAAAIARMOyRuQAAAAAAAACMHMFcAAAAAAAAgCYkmAsAAAAAAADQhGoGcwuFo10NAAAAaOzvUb9tAaC2RvWR+loA6F+j+smawdwxYwzYBQAA4Ohr5O9Rv20BoLZG9ZH6WgDoX8P625pvFsak4LEqAAAAjqJCoZAxhQYGc/22BYA+Gtnf6msBoLZG9reFYrFYrPWHYjHpKnalq6srtZcAAACAI1colJ5YLt0QbmzZftsCQMlI9bf6WgDoMRL9bb/BXAAAAAAAAABGj6QGAAAAAAAAAE1IMBcAAAAAAACgCQnmAgAAAAAAADQhwVwAAAAAAACAJiSYCwAAAAAAANCEBHMBAAAAAAAAmpBgLgAAAAAAAEATEswFAAAAAAAAaEKCuQAAAAAAAABNSDAXAAAAAAAAoAkJ5gIAAAAAAAA0IcFcAAAAAAAAgCYkmAsAAAAAAADQhARzAQAAAAAAAJqQYC4AAAAAAABAExLMBQAAAAAAAGhCgrkAAAAAAAAATWhcf38oFpOuYle6urpSLB7NKgFAcykUkjFjxmRMYUwKhcaVWzzw8xx8bnUO7tmW4i86G1cwABxjCm9vybjWuRl39soUxv/KaFcHAAAAmkahWOwbqi0Wk4OHDqXGnwDgLatQKGTc2LENCegWD/w8bzw+J13/+PyRFwYAx4kxv3ZmJl7yhIAuAAAAlNWcZrmr2CWQCwBVisViuopdDSnr4HOrBXIBoErXPz6fg8+tHu1qAAAAQNOoHcztasyNagA43jSqjzy4Z1tDygGA440+EgAAAHrUDOYalAsAtTWqj5QjFwBq00cCAABAj5rBXAAAAAAAAABGl2AuAAAAAAAAQBMSzAUAAAAAAABoQoK5AAAAAAAAAE1IMBcAAAAAAACgCQnmAgAAAAAAADQhwVwAAAAAAACAJiSYCwAAAAAAANCEBHMBAAAAAAAAmpBgLgAAAAAAAEATEswFAAAAAAAAaEKCuQAAAAAAAABNSDAXAAAAAAAAoAkJ5gIAAAAAAAA0IcFcGG3PrsvECeMzcW3HaNcEAI5f7/la3rbk9bx98dcyfoS/qvC/r8yEsy5LYYS/BwAAAIDjn2AujLTOjjy09qpcfNbUUtB2wtScedFl+eMHd2X/aNcNAJpaa8b9qy2ZtPAnefsVr+ftS8qvxT/IxOmjXbf+fC4Tz70h46b/ZSb+zmjXBQAAAIBj3bjRrgAcz/Y89slcseD+lMbctuS0WbPT8svd2bFjW178tbn57BXTM2mU6wgAzak14y/+Txn/6yeW/ntof3IgyZhJyYQTUzhhVCs3gM4U30gycV+Kr3W/d17Gz16ZcS1npvjKu7L/70axegAAAAAcUwRzYYTs2/LR/OuFm7KvZXY+9ee3Z9n86Zncfca99mIeenj3qNYPAJrar6/MuHIgt/iDP8z+/+eRFJOURus+kLEjPVfysN2bNx66t+q9MzPm189JYULK6wAAAAAA9RHMhZGwf3u+eN2m7MuMrNr81/nMOVXjbyeflg9ffdro1A0AjgXvLI/IzZ4c2vVIRRB0Tw7+59/NwdGpFQAAAAAcVXLmwgh47T9ty62dyYk3rs6nqgO5ddr/0rbc+vFzc+qE8Zk44ZSct/CGPPTd13oWeO3FPHrnJ3P5uaeUc/GekvM+fnc6flJRyLPrSn9b25H9L63P0rOmZuLCTdl3ZKsHACPvlT2HR+KOnXlDvxet4+f8uJRHd959Nd9/25xP9v3Q1M9l4oKfHM7B+7YFX8v4qRV/f//fHy5z7Hu/lrd9pJyr9yP/kInvvTjJxZnwez/oyeO78O8z4bTW8oc/mYmLX8/bl/w4E9/TXdbnMnZC6a9jTnm9/3oBAAAAQBXBXBgBL+66P0my8Ly2YeXE3f/sulx8xmX54g9Pz4fX3Z7b1s1Ny667c8VZH8g9z5eW2ff1lbn83+9JywWfyG3rbs9nrpyW3Q/ekPPm3p1d1QW+vj33fOSqrP9u55GsFgAcPf90bQ69Wnr8qDBlZSZ95B8y6XeuasDF6z/PuPM+mbHjOtP1s31JV1I44byMf//XMv5XqxZ926WZ8J5zkl+8lOKBJONbM/aMOzPpQxsy7l1J18/2pNiVZNKpGffb96XmzM+vv5Sun5aXS5L/+VK6fvpSij/XJwMAAAAwONMswwh6568MI5S7vyP3/LuV6Zj/1by0aWG6x/l86oIpOed9N+TGh7Zn6ZmzM/G9q/OjF07LiYfP4rk5/Sen5IrHNmbH89dl+pkVZW74y+y5+YXsu/K0TD6yVQKAo+bAN343xX91X8afdl4K41sz5l/clUmtV+fg38/Pmy/uGV6hE1qTH/5hfvl0eermqfdl0uwrMmbSeRn7W6058HcV5U5Iuv7Le/PGC3uSX12ZSR+8IWPGt2bMO17Kwe2/nTdfSXLKlrzt/RenMGF6xpye5HtV37drUfbv+mQmLi6Nzu36r7+d/X83vKoDAAAA8NZjZC6MoF8OJ6Hfd7fni88n2fLR8hTL5df7biiNuN3TmZ8lmfzu05Lvbsv6O1fmjxdelIvPOjdXPJYku7J/f1WZJ34iSwVyATjm7MnB//z7+eWjf5gDP3ypNLp1wqkZ1/atTDyjddBP19T1fA4+XZGD95Vrc+h/lDrOwgkf7L3sLzty6IVycPefVqfrF+X3/8djpUBuknz/m+l6s/xvV9YAAAAANJiRuTACWlpmJ9meJzp2ZdXvTB/ahw+mlNP2ynvz9ctP6/v3Xzk978j+dKy9MOet6kjrOUty6aVzs+SKazLj3sty61M1yvw3bRliLQCgefzTIznw9CM58KtXZeLFd2XsCe/I2H+xMmNf+MOhl3XwtRrvvZHUSozwZmdqPZdVrFUGAAAAAIwAwVwYAa2zFmZOtueJz9+Vh/7tV/Phfz6MQg62ZPqs2bVH0/5gfW5e1ZFccG8e+9trUgr5duahB/spy5kOwPHgn76SN/Zenbefcmoy6cSBB8KOm1j7/UJ10LY1hbe/o/TPYvXUFgAAAAAwukwGByPh3QuzbPn0pHNTrphzVdY/XzWC5ye78tCXHy+NwK126vQsTZIH78qXnu19U/m1v388OzqT/KQzO5Lkf5ncM47oh9vz+LcauxoAMGreszGT5tyVce+qfPPiTPjfyk9IHdqfYpKDv/hp6f9vPy3jf7W82NT7Mvaf9ZO3fvyZGfv+iw//t3DGfRn7jiTZn+K+rzR0FWopjBnm9NAAAAAAvCUZrwcjYlJmLN+cB1+9MFc8uD5L37c+S1tOy6x/OSX5+e7seHZPMv+r+dHVNT46+ZJc9x8WZtsfbMrN556R9qsXZnbrO7N3119m08On5/bdl5QCvi3Jlx67IVdf871ccvL+tP9VezpPTNJ5tNcVAEbCO1KY8sFM+MBVmXCg/HDT2EnlRxH3p+uVe0tTIL/8n1N8d2sK48/J+A/+IGNf/2UK72hJ3txfWr7agWTMKVvy9l9/KV3Flow5oTwq96cP58CukVqXv07xl59LJiSFad/K2/7ZT1P8n1/J/m/cO1JfCAAAAMBxwshcGCnjWvPhv3ghP3ry3iydPyOtnS9mx1Pbs+MnLZl1xeo8+OlLcmI/H229/Kv59pO3Z8msSfnOl9flxmV35Yl9bfnE5tWZ8xtJJl+S2/7m3iw5Z1J2PLAu938zmfvQX+Sak4/mCgLACPrp19O1b0+KB/Yn4yeVXtmf4uvP5mDH72b/t75ZWu6//mHefOGbKR5IMv7EjHnHO5Mfr87Bn75Ru9zisznwwjdTnHBqKZDb9bMU996bN5++NodGbGX25M1vfyVd+5OMeUcK72xNwZTOAAAAANShUCwWi9Vvvnng4GjUBQCOCRPGH/nEFr9Yf0IDagIAx6e3L3l9tKsAAAAATcHIXAAAAAAAAIAmJJgLAAAAAAAA0IQEcwEAAAAAAACakGAuAAAAAAAAQBMSzAUAAAAAAABoQoK5AAAAAAAAAE1IMBcAAAAAAACgCQnmAgAAAAAAADQhwVwAAAAAAACAJiSYCwAAAAAAANCEBHMBAAAAAAAAmpBgLgAAAAAAAEATEswFAAAAAAAAaEKCuQAAAAAAAABNqGYwt1A42tUAgGNDo/rIwttbGlMQABxn9JEAAADQo2Ywd8wYA3YBoJZG9ZHjWuc2pBwAON7oIwEAAKBHoVgsFqvfLBaTg4cOpcafAOAtq1AoZNzYsQ0ZnVs88PO88ficdP3j80deGAAcJ8b82pmZeMkTKYz/ldGuCgAAADSFmsHcpBTQ7Sp2paurK2K6ALyVFQqlEbljCmMamoqgeODnOfjc6hzcsy3FX3Q2rmAAOMYU3t6Sca1zM+7slQK5AAAAUKHfYC4AAAAAAAAAo0dyXAAAAAAAAIAmJJgLAAAAAAAA0IQEcwEAAAAAAACakGAuAAAAAAAAQBMSzAUAAAAAAABoQoK5AAAAAAAAAE1IMBcAAAAAAACgCQnmAgAAAAAAADQhwVwAAAAAAACAJiSYCwAAAAAAANCEBHMBAAAAAAAAmpBgLgAAAAAAAEATEswFAAAAAAAAaEKCuQAAAAAAAABNSDAXAAAAAAAAoAkJ5gIAAAAAAAA0IcFcAAAAAAAAgCYkmAsAAAAAAADQhARzAQAAAAAAAJqQYC4AAAAAAABAExLMBQAAAAAAAGhCgrkAAAAAAAAATUgwFwAAAAAAAKAJCeYCAAAAAAAANCHBXAAAAAAAAIAmJJgLAAAAAAAA0IQEcwEAAAAAAACakGAuAAAAAAAAQBMSzAUAAAAAAABoQoK5AAAAAAAAAE1IMBcAAAAAAACgCQnmAgAAAAAAADQhwVwAAAAAAACAJiSYCwAAAAAAANCEBHMBAAAAAAAAmpBgLgAAAAAAAEATEswFAAAAAAAAaEKCuQAAAAAAAABNSDAXAAAAAAAAoAkJ5gIAAAAAAAA0IcFcAAAAAAAAgCYkmAsAAAAAAADQhARzAQAAAAAAAJqQYC4AAAAAAABAExLMBQAAAAAAAGhCgrkAAAAAAAAATUgwFwAAAAAAAKAJCeYCAAAAAAAANCHBXAAAAAAAAIAmJJgLAAAAAAAA0IQEcwEAAAAAAACakGAuAAAAAAAAQBMSzAUAAAAAAABoQoK5AAAAAAAAAE1IMBcAAAAAAACgCQnmAgAAAAAAADQhwVwAAAAAAACAJiSYCwAAAAAAANCEBHMBAAAAAAAAmpBgLgAAAAAAAEATEswFAAAAAAAAaEKCuQAAAAAAAABNSDAXAAAAAAAAoAkJ5gIAAAAAAAA0IcFcAAAAAAAAgCYkmAsAAAAAAADQhP5/HGJ7XqPiyNUAAAAASUVORK5CYII=)"
      ]
    },
    {
      "cell_type": "code",
      "metadata": {
        "id": "ZHb6Hgn92pVD"
      },
      "source": [
        ""
      ],
      "execution_count": null,
      "outputs": []
    }
  ]
}