{
  "cells": [
    {
      "cell_type": "markdown",
      "metadata": {
        "id": "view-in-github",
        "colab_type": "text"
      },
      "source": [
        "<a href=\"https://colab.research.google.com/github/plaban1981/POCs/blob/main/PDF_pre_processing_using_PyMuPDF.ipynb\" target=\"_parent\"><img src=\"https://colab.research.google.com/assets/colab-badge.svg\" alt=\"Open In Colab\"/></a>"
      ]
    },
    {
      "cell_type": "code",
      "execution_count": 1,
      "metadata": {
        "colab": {
          "base_uri": "https://localhost:8080/"
        },
        "id": "tmZOx-UMFNUB",
        "outputId": "6ccd4e99-2f59-488f-8110-e7c09c453b62"
      },
      "outputs": [
        {
          "output_type": "stream",
          "name": "stdout",
          "text": [
            "Mounted at /content/drive\n"
          ]
        }
      ],
      "source": [
        " from google.colab import drive\n",
        "drive.mount(\"/content/drive\")"
      ]
    },
    {
      "cell_type": "markdown",
      "source": [
        "## Extracting headers and paragraphs from a PDF using PyMuPDF"
      ],
      "metadata": {
        "id": "xOVvE2Bd08wH"
      }
    },
    {
      "cell_type": "code",
      "source": [
        "!pip install --quiet fitz"
      ],
      "metadata": {
        "colab": {
          "base_uri": "https://localhost:8080/"
        },
        "id": "keVLIA5Gyt3i",
        "outputId": "2cb4355c-d72e-4e6b-fb0f-861794dc42c2"
      },
      "execution_count": 2,
      "outputs": [
        {
          "output_type": "stream",
          "name": "stdout",
          "text": [
            "\u001b[K     |████████████████████████████████| 3.2 MB 11.6 MB/s \n",
            "\u001b[K     |████████████████████████████████| 78 kB 8.3 MB/s \n",
            "\u001b[K     |████████████████████████████████| 130 kB 69.2 MB/s \n",
            "\u001b[K     |████████████████████████████████| 421 kB 69.8 MB/s \n",
            "\u001b[K     |████████████████████████████████| 482 kB 77.2 MB/s \n",
            "\u001b[K     |████████████████████████████████| 5.1 MB 50.4 MB/s \n",
            "\u001b[K     |████████████████████████████████| 41 kB 693 kB/s \n",
            "\u001b[K     |████████████████████████████████| 6.4 MB 49.3 MB/s \n",
            "\u001b[?25h  Building wheel for configobj (setup.py) ... \u001b[?25l\u001b[?25hdone\n",
            "  Building wheel for pyxnat (setup.py) ... \u001b[?25l\u001b[?25hdone\n"
          ]
        }
      ]
    },
    {
      "cell_type": "code",
      "source": [
        "!pip install --quiet PyMuPDF"
      ],
      "metadata": {
        "colab": {
          "base_uri": "https://localhost:8080/"
        },
        "id": "NrjboY4yy6Sz",
        "outputId": "51fbae37-37cd-4322-d1dc-2e1a67682850"
      },
      "execution_count": 3,
      "outputs": [
        {
          "output_type": "stream",
          "name": "stdout",
          "text": [
            "\u001b[K     |████████████████████████████████| 8.8 MB 6.4 MB/s \n",
            "\u001b[?25h"
          ]
        }
      ]
    },
    {
      "cell_type": "markdown",
      "source": [
        "## Steps used\n",
        "\n",
        "* Use PyMuPDF to identify the paragraphs as text with the most used font in the document, headers as anything larger, and subscripts as anything smaller than the paragraph style.\n",
        "* Create a dictionary with HTML style element tags for the headers, paragraphs, and subscripts.\n",
        "* Annotate pieces of text with these element <tags>."
      ],
      "metadata": {
        "id": "q1gddPe7rEVM"
      }
    },
    {
      "cell_type": "markdown",
      "source": [
        "#### Create a dictionary with all the different styles and attributes and a list of [(font_size, count)] for all these styles."
      ],
      "metadata": {
        "id": "Rk7PIHIhrXOT"
      }
    },
    {
      "cell_type": "code",
      "execution_count": 4,
      "metadata": {
        "id": "DAnrO1aFFNUK"
      },
      "outputs": [],
      "source": [
        "def fonts(doc, granularity=False):\n",
        "    \"\"\"Extracts fonts and their usage in PDF documents.\n",
        "    :param doc: PDF document to iterate through\n",
        "    :type doc: <class 'fitz.fitz.Document'>\n",
        "    :param granularity: also use 'font', 'flags' and 'color' to discriminate text\n",
        "    :type granularity: bool\n",
        "    :rtype: [(font_size, count), (font_size, count}], dict\n",
        "    :return: most used fonts sorted by count, font style information\n",
        "    \"\"\"\n",
        "    styles = {}\n",
        "    font_counts = {}\n",
        "\n",
        "    for page in doc:\n",
        "        blocks = page.get_text(\"dict\")[\"blocks\"]\n",
        "        for b in blocks:  # iterate through the text blocks\n",
        "            if b['type'] == 0:  # block contains text\n",
        "                for l in b[\"lines\"]:  # iterate through the text lines\n",
        "                    for s in l[\"spans\"]:  # iterate through the text spans\n",
        "                        if granularity:\n",
        "                            identifier = \"{0}_{1}_{2}_{3}\".format(s['size'], s['flags'], s['font'], s['color'])\n",
        "                            styles[identifier] = {'size': s['size'], 'flags': s['flags'], 'font': s['font'],\n",
        "                                                  'color': s['color']}\n",
        "                        else:\n",
        "                            identifier = \"{0}\".format(s['size'])\n",
        "                            styles[identifier] = {'size': s['size'], 'font': s['font']}\n",
        "\n",
        "                        font_counts[identifier] = font_counts.get(identifier, 0) + 1  # count the fonts usage\n",
        "\n",
        "    font_counts = sorted(font_counts.items(), key=itemgetter(1), reverse=True)\n",
        "\n",
        "    if len(font_counts) < 1:\n",
        "        raise ValueError(\"Zero discriminating fonts found!\")\n",
        "\n",
        "    return font_counts, styles"
      ]
    },
    {
      "cell_type": "markdown",
      "source": [
        "#### Create Element tag dictionary"
      ],
      "metadata": {
        "id": "adkeCj13rpcQ"
      }
    },
    {
      "cell_type": "code",
      "execution_count": 5,
      "metadata": {
        "id": "GzQEzrRCFNUL"
      },
      "outputs": [],
      "source": [
        "def font_tags(font_counts, styles):\n",
        "    \"\"\"Returns dictionary with font sizes as keys and tags as value.\n",
        "    :param font_counts: (font_size, count) for all fonts occuring in document\n",
        "    :type font_counts: list\n",
        "    :param styles: all styles found in the document\n",
        "    :type styles: dict\n",
        "    :rtype: dict\n",
        "    :return: all element tags based on font-sizes\n",
        "    \"\"\"\n",
        "    p_style = styles[font_counts[0][0]]  # get style for most used font by count (paragraph)\n",
        "    p_size = p_style['size']  # get the paragraph's size\n",
        "\n",
        "    # sorting the font sizes high to low, so that we can append the right integer to each tag \n",
        "    font_sizes = []\n",
        "    for (font_size, count) in font_counts:\n",
        "        font_sizes.append(float(font_size))\n",
        "    font_sizes.sort(reverse=True)\n",
        "\n",
        "    # aggregating the tags for each font size\n",
        "    idx = 0\n",
        "    size_tag = {}\n",
        "    for size in font_sizes:\n",
        "        idx += 1\n",
        "        if size == p_size:\n",
        "            idx = 0\n",
        "            size_tag[size] = '<p>'\n",
        "        if size > p_size:\n",
        "            size_tag[size] = '<h{0}>'.format(idx)\n",
        "        elif size < p_size:\n",
        "            size_tag[size] = '<s{0}>'.format(idx)\n",
        "\n",
        "    return size_tag"
      ]
    },
    {
      "cell_type": "markdown",
      "source": [
        "#### Extracting headers and paragraphs"
      ],
      "metadata": {
        "id": "uVHXje22Rqsq"
      }
    },
    {
      "cell_type": "code",
      "execution_count": 6,
      "metadata": {
        "id": "BYWzL9lJFNUM"
      },
      "outputs": [],
      "source": [
        "#<header> --> <h>, <paragraph> --> <p> or <subscript> --> <s3>\n",
        "def headers_para(doc, size_tag):\n",
        "    \"\"\"Scrapes headers & paragraphs from PDF and return texts with element tags.\n",
        "    :param doc: PDF document to iterate through\n",
        "    :type doc: <class 'fitz.fitz.Document'>\n",
        "    :param size_tag: textual element tags for each size\n",
        "    :type size_tag: dict\n",
        "    :rtype: list\n",
        "    :return: texts with pre-prended element tags\n",
        "    \"\"\"\n",
        "    header_para = []  # list with headers and paragraphs\n",
        "    first = True  # boolean operator for first header\n",
        "    previous_s = {}  # previous span\n",
        "\n",
        "    for page in doc:\n",
        "        blocks = page.get_text(\"dict\")[\"blocks\"]\n",
        "        for b in blocks:  # iterate through the text blocks\n",
        "            if b['type'] == 0:  # this block contains text\n",
        "\n",
        "                # REMEMBER: multiple fonts and sizes are possible IN one block\n",
        "\n",
        "                block_string = \"\"  # text found in block\n",
        "                for l in b[\"lines\"]:  # iterate through the text lines\n",
        "                    for s in l[\"spans\"]:  # iterate through the text spans\n",
        "                        if s['text'].strip():  # removing whitespaces:\n",
        "                            if first:\n",
        "                                previous_s = s\n",
        "                                first = False\n",
        "                                block_string = size_tag[s['size']] + s['text']\n",
        "                            else:\n",
        "                                if s['size'] == previous_s['size']:\n",
        "\n",
        "                                    if block_string and all((c == \"|\") for c in block_string):\n",
        "                                        # block_string only contains pipes\n",
        "                                        block_string = size_tag[s['size']] + s['text']\n",
        "                                    if block_string == \"\":\n",
        "                                        # new block has started, so append size tag\n",
        "                                        block_string = size_tag[s['size']] + s['text']\n",
        "                                    else:  # in the same block, so concatenate strings\n",
        "                                        block_string += \" \" + s['text']\n",
        "\n",
        "                                else:\n",
        "                                    header_para.append(block_string)\n",
        "                                    block_string = size_tag[s['size']] + s['text']\n",
        "\n",
        "                                previous_s = s\n",
        "\n",
        "                    # new block started, indicating with a pipe\n",
        "                    block_string += \"|\"\n",
        "\n",
        "                header_para.append(block_string)\n",
        "\n",
        "    return header_para"
      ]
    },
    {
      "cell_type": "markdown",
      "source": [
        "## Function to retrieve header and text from PDFs"
      ],
      "metadata": {
        "id": "bnjUM0_cqc-s"
      }
    },
    {
      "cell_type": "code",
      "source": [
        "def getPdfHeaderText(path):\n",
        "  #1. read the document\n",
        "  doc = fitz.open(path)\n",
        "  #2. retrive the count size and style from the document\n",
        "  font_counts, styles = fonts(doc, granularity=False)\n",
        "  #3. retrieve the size of the tags (Header + Para)\n",
        "  size_tag = font_tags(font_counts, styles)\n",
        "  #4. Retrieve the header and corresponding paragraph\n",
        "  header_para = headers_para(doc, size_tag)\n",
        "  #print(header_para)\n",
        "  # segrregate the header and text with the help of <h> and <p> tags\n",
        "  header = []\n",
        "  text = []\n",
        "  for items in header_para:\n",
        "    if items.startswith('<h'):\n",
        "      hdr_txt = items.split(\"|\")[0]\n",
        "      #print(hdr_txt)\n",
        "      #header.append(items[items.index(\">\")+1:].replace(\"|\",\"\"))\n",
        "      header.append(hdr_txt[hdr_txt.index(\">\")+1:].replace(\"|\",\"\"))\n",
        "      text.append(np.nan)\n",
        "    elif items.startswith('<p'):\n",
        "      header.append(np.nan)\n",
        "      tmp = items[items.index(\">\")+1:].replace(\"|\",\"\")\n",
        "      tmp = tmp.replace(\"\\t\",\" \")\n",
        "      text.append(tmp)\n",
        "    elif items.startswith('<s'):\n",
        "      header.append(np.nan)\n",
        "      text.append(items[items.index(\">\")+1:].replace(\"|\",\"\"))\n",
        "  #Create a dataframe\n",
        "  df = pd.DataFrame({\"Header\":header,'Text': text})\n",
        "  #df.to_csv(\"headers.csv\",index=False)\n",
        "  #forward fill the dataframe to have the haeder populated with the corresponding paragraphs\n",
        "  df['Header'] = df['Header'].ffill()\n",
        "  #print(df)\n",
        "  #\n",
        "  header = df['Header'].values.tolist()\n",
        "  text = df['Text'].values.tolist()\n",
        "  #initialize dictionary to hold header and corresponding text\n",
        "  header_dict = {}\n",
        "  #filter tags\n",
        "  tag_list = [\"Sources:\", \"Source:\", \"Tags-\", \"Tags:\",\"CONTENTS\",\"ANNEX\",\"EXERCISES\",\"Project/Activity\"]\n",
        "  for h,t in zip(header,text):\n",
        "    #h = str(h)\n",
        "    #h = h.replace(\"\\t\",\" \")\n",
        "    if type(h) == str and (h != np.nan) and \\\n",
        "    (h not in tag_list) and \\\n",
        "    not h.startswith(\"Table \") and \\\n",
        "    not h.startswith(\"Figure \") and \\\n",
        "    not h.startswith(\"EXERCISES\") :\n",
        "      \n",
        "      h = h.replace(\"\\t\",\" \")\n",
        "      #print(type(h))\n",
        "      h = h.strip()\n",
        "      if h in header_dict.keys():\n",
        "        t = str(t).replace(\"\\t\",\"\")\n",
        "        header_dict[h] += str(t).replace(\"nan\",\"\")\n",
        "      else:\n",
        "        t = str(t).replace(\"\\t\",\"\")\n",
        "        header_dict[h] = str(t).replace(\"nan\",\"\")\n",
        "  # filter out the headers having empty text associated\n",
        "  filtered_dict = {k:v for k,v in header_dict.items() if len(v) > 0}\n",
        "  return filtered_dict\n"
      ],
      "metadata": {
        "id": "gL3lEOZCs0Ly"
      },
      "execution_count": 79,
      "outputs": []
    },
    {
      "cell_type": "markdown",
      "source": [
        "## Execute  the function to retrieve haeders and corresponding paragraphs"
      ],
      "metadata": {
        "id": "EObKYy6UsaGg"
      }
    },
    {
      "cell_type": "code",
      "source": [
        "import fitz\n",
        "import pandas as pd\n",
        "import numpy as np\n",
        "from operator import itemgetter\n",
        "#path = \"/content/drive/MyDrive/ZeoanAI_Poc/PDF/Economic Survey 2021-22.pdf\"\n",
        "path = \"/content/drive/MyDrive/ZeoanAI_Poc/PDF/legy101.pdf\"\n",
        "header_dict = getPdfHeaderText(path)\n",
        "print(header_dict)"
      ],
      "metadata": {
        "colab": {
          "base_uri": "https://localhost:8080/"
        },
        "id": "IkzqnWw5mrjH",
        "outputId": "aafc246f-0f23-4a46-a0d7-1c79cd9e563b"
      },
      "execution_count": 82,
      "outputs": [
        {
          "output_type": "stream",
          "name": "stdout",
          "text": [
            "{'Nature and Scope': 'You have already studied ‘Geography as a Discipline’ in Chapter I of the book, Fundamentals of Physical Geography  (NCERT, 2006). Do you recall the contents? This chapter has broadly covered and introduced you to the nature of geography. You are also acquainted with the important branches that sprout from the body of geography. If you re-read the chapter you will be able to recall the link of human geography with the mother discipline i.e. geography. As you know geography as a field of study is integrative, empirical, and practical. Thus, the reach of geography is extensive and each and every event or phenomenon which varies over space and time can be studied geographically. How do you see the earth’s surface? Do you realise that the earth comprises two major components: nature (physical environment) and life forms including human beings? Make a list of physical and human components of your surroundings. Physical geography studies physical environment and human geography studies “the relationship between the physical/natural and the human worlds, the spatial distributions of human phenomena and how they come about, the social and economic differences between different parts of the world”.1You are already aware of the fact that the core concern of geography as a discipline is to understand the earth as home of human beings and to study all those elements which have sustained them. Thus, emphasis is on study of nature and human beings. You will realise that geography got subjected to dualism and the wide-ranging debates started whether geography as a discipline should be a  law making/theorising (nomothetic)  or descriptive  (idiographic). Whether its subject matter should be organised and approach of the study should be  regional  or  systematic ? Whether geographical phenomena be interpreted theoretically or through historic- institutional approach? These have been issues for intellectual exercise but finally you will appreciate that the dichotomy between physical and human is not a very valid one because nature and human are inseparable elements and should be seen holistically. It is interesting to note that both physical and human1 Agnew J. Livingstone, David N. and Rogers, A.; (1996) Blackwell Publishing Limited, Malden, U.S.A. p. 1 and 2.', 'Chapter-1': '2021-222 Fundamentals of Human Geographyphenomena are described in metaphors using symbols from the human anatomy. We often talk of  the ‘face’ of the earth, ‘eye’ of the storm, ‘mouth’ of the river, ‘snout’ (nose) of the glacier, ‘neck’ of the isthmus and ‘profile’ of the soil. Similarly regions, villages, towns have been described as ‘organisms’. German geographers describe the ‘state/country’ as a ‘living organism’. Networks of road, railways and water ways have often been described as “arteries of circulation”. Can you collect such terms and expressions from your own language? The basic questions now arises, can we separate nature and human when they are so intricately intertwined?', 'Human Geography Defined': '• “Human geography is the synthetic study of relationship between human societies and earth’s surface”.                                  RatzelSynthesis has been emphasised in the above definition.• “Human geography is the study of “the changing relationship between the unresting man and the unstable earth.”Ellen C. SempleDynamism in the relationship is the keyword in Semple’s definition.• “Conception resulting from a more synthetic knowledge of thephysical laws governing our earth and of the relations between the living beings which inhabit it”.Paul Vidal de la BlacheHuman geography offers a new conception of the interrelationships between earth and human beings.', 'NATURE OF HUMAN GEOGRAPHY': 'Human geography studies the inter-relationship between the physical environment and socio- cultural environment created by human beings through mutual interaction with each other. Youhave already studied the elements of physical environment in class XI in the book entitled Fundamentals of Physical Geography  (NCERT 2006). You know that these elements are landforms, soils, climate, water, natural vegetation and diverse flora and fauna. Can you make a list of elements which human beings have created through their activities on the stage provided by the physical environment? Houses, villages, cities, road-rail networks, industries, farms, ports, items of our daily use and all other elements of material culture have been created by human beings using the resources provided by the physical environment. While physical environment has been greatly modified by human beings, it has also, in turn, impacted human lives.Naturalisation of Humans and Humanisation of NatureHuman beings interact with their physical environment with the help of technology. It is not important what human beings produce and create but it is extremely important ‘with the help of what tools and techniques do they produce and create’. Technology indicates the level of cultural development of society. Human beings were able to develop technology after they developed better understanding of natural laws. For example, the understanding of concepts of friction and heat helped us discover fire. Similarly, understanding of the secrets of DNA and genetics enabled us to conquer many diseases. We use the laws of aerodynamics to develop faster planes. You can see that knowledge about Nature is extremely important to develop technology and technology loosens the shackles of environment on human beings. In the early stages of their interaction with their natural environment humans were greatly influenced by it. They adapted to the dictates of Nature. This is so because the level of technology was very low and the stage of human social development was also primitive. This type of interaction between primitive human society and strong forces of nature was termed as  environmental determinism . At that stage of very low technological development we can imagine the presence of a naturalised human, who listened to Nature, was afraid of its fury and worshipped it.2021-22Human Geography: Nature and Scope3', 'The Naturalisation of Humans': 'Benda lives in the wilds of the Abujh Maad area of central India. His village consists of three huts deep in the wilds. Not even birds or stray dogs that usually crowd villages can be seen in these areas. Wearing a small loin cloth and armed with his axe he slowly surveys the  penda  (forest) where his tribe practices a primitive form of agriculture called shifting cultivation. Benda and his friends burn small patches of forest to clear them for cultivation. The ash is used for making the soil fertile. Benda is happy that the Mahua trees around him are in bloom. How lucky I am to be a part of this beautiful universe, he thinks as he looks up to see the Mahua, Palash and Sal trees that have sheltered him since childhood. Crossing the penda in a gliding motion, Benda makes his way to a stream. As he bends down to scoop up a palmful of water, he remembers to thank Loi-Lugi, the spirit of the forest for allowing him to quench his thirst. Moving on with his friends, Benda chews on succulent leaves and roots. The boys have been trying to collect Gajjhara and Kuchla, from the forest. These are special plants that Benda and his people use. He hopes the spirits of the forest will be kind and lead him to these herbs. These are needed to barter in the madhai or tribal fair coming up the next full moon. He closes his eyes and tries hard to recall what the elders had taught him about these herbs and the places they are found in. He wishes he had listened more carefully. Suddenly there is a rustling of leaves. Benda and his friends know it is the outsiders who have come searching for them in the wilds. In a single fluid motion Benda and his friends disappear behind the thick canopy of trees and become one with the spirit of the forest.The story in the box represents the direct relationship of a household belonging to an economically primitive society with nature. Read about other primitive societies which live in complete harmony with their natural environment. You will realise that in all such cases nature is a powerful force, worshipped, revered and conserved. There is direct dependence ofhuman beings on nature for resources which sustain them. The physical environment for such societies becomes the “Mother Nature”. The people begin to understand their environment and the forces of nature with the passage of time. With social and cultural development, humans develop better and more efficient technology. They move from a state of necessity to a state of freedom. They create possibilities with the resources obtained from the environment. The human activities create cultural landscape. The imprints of human activities are created everywhere; health resorts on highlands, huge urban sprawls, fields, orchards and pastures in plains and rolling hills, ports on the coasts, oceanic routes on the oceanic surface and satellites in the space. The earlier scholars termed this as  possibilism . Nature provides opportunities and human being make use of these and slowly nature gets humanised and starts bearing the imprints of human endeavour.', 'Humanisation of Nature': 'Winters in the town of Trondheim mean fierce winds and heavy snow. The skies are dark for months. Kari drives to work in the dark at 8 am. She has special tyres for the winter and keeps the headlights of her powerful car switched on. Her office is artificially heated at a comfortable 23 degrees Celsius. The campus of the university she works in is built under a huge glass dome. This dome keeps the snow out in winter and lets in the sunshine in the summer. The temperature is controlled carefully and there is adequate lighting. Even though fresh vegetables and plants don’t grow in such harsh weather, Kari keeps an orchid on her desk and enjoys eating tropical fruits like baa and kiwi. These are flown in from warmer areas regularly. With a click of the mouse, Kari can network with colleagues in New Delhi. She frequently takes a morning flight to London and returns in the evening in time to watch her favourite television serial. Though Kari is fifty-eight years old, she is fitter and looks younger than many thirty- year- olds in other parts of the world.2021-224 Fundamentals of Human GeographyCan you imagine what has made such a life style possible? It is technology that has allowed the people of Trondheim and others to overcome the constraints imposed by nature. Do you know about some other such instances? Such examples are not difficult to find. A geographer, Griffith Taylor introduced another concept which reflects a middle path (Madhyam Marg) between the two ideas of environmental determinism  and  possibilism . He termed it as  Neodeterminism  or  stop and go determinism . Those of you who live in cities and those who have visited a city, might have seen that traffic is regulated by lights on the cross-roads. Red light means ‘stop’, amber light provides a gap between red and green lights ‘to get set’ and green light means ‘go’. The concept shows that neither is there a situation of absolute necessity (environmental determinism) nor is there a condition of absolute freedom (possibilism). It means that human beings can conquer nature by obeying it.  They have to respond to the red signals and can proceed in their pursuits of development when nature permits the modifications. It means that possibilities can be created within the limits which do not damage the environment and there is no free run without accidents. The free run which the developed economies attempted to take has already resulted in the green house effect, ozone layer depletion, global warming, receding glaciers and degrading lands. The neo-determinism conceptually attempts to bring a balance nullifying the ‘either’ ‘or’ dichotomy.Human Geography through the Corridors of TimeThe process of adaptation, adjustment with and modification of the environment started with the appearance of human beings over the surface of the earth in different ecological niches. Thus, if we imagine the beginning of human geography with the interaction of environment and human beings, it has its roots deep in history. Thus, the concerns of human geography have a long temporal continuum though the approaches to articulate them have changed over time. This dynamism inapproaches and thrusts shows the vibrant nature of the discipline. Earlier there was little interaction between different societies and the knowledge about each other was limited. Travellers and explorers used to disseminate information about the areas of their visits. Navigational skills were not developed and voyages were fraught with dangers. The late fifteenth century witnessed attempts of explorations in Europe and slowly the myths and mysteries about countries and people started to open up. The colonial period provided impetus to further explorations in order to access the resources of the regions and to obtain inventorised information. The intention here is not to present an in-depth historical account but to make you aware of the processes of steady development of human geography. The summarised Table 1.1 will introduce you to the broad stages and the thrust of human geography as a sub-field of geography.• Welfare or humanistic school of thought in human geography was mainly concerned with the different aspects of social well-being of the people. These included aspects such as housing, health and education. Geographers have already introduced a paper as Geography of Social well-being in the Post Graduate curriculum’.• Radical school of thought employed Marxian theory to explain the basic cause of poverty, deprivation and social inequality. Contemporary social problems were related to the development of capitalism.• Behavioural school of thought laid great emphasis on lived experience and also on the perception of space by social categories based on ethnicity, race and religion, etc.Fields and Sub-fields of Human GeographyHuman geography, as you have seen, attempts to explain the relationship between all elements of human life and the space they occur over. Thus, human geography assumes a highly inter-disciplinary nature. It develops close2021-22Human Geography: Nature and Scope5Table 1.1: Broad Stages and Thrust of Human Geographyinterface with other sister disciplines in social sciences in order to understand and explain human elements on the surface of the earth. With the expansion of knowledge, new sub- fields emerge and it has also happened to human geography. Let us examine these fields and sub-fields of Human Geography (Table 1.2). You would have noticed that the list is large and comprehensive. It reflects theexpanding realm of human geography. The boundaries between sub-fields often overlap. What follows in this book in the form of chapters will provide you a fairly widespread coverage of different aspects of human geography. The exercises, the activities and the case studies will provide you with some empirical instances so as to have a better understanding of its subject matter.Broad FeaturesImperial and trade interests prompted the discovery and exploration of new areas. An encyclopaedic description of the area formed an important aspect of the geographer’s account.Elaborate description of all aspects of a region were undertaken. The idea was that all the regions were part of a whole, i.e. (the earth); so, understanding the parts in totality would lead to an understanding of the whole.The focus was on identifying the uniqueness of any region and understanding how and why it was different from others.Marked by the use of computers and sophisticated statistical tools. Laws of physics were often applied to map and analyse human phenomena. This phase was called the quantitative revolution. The main objective was to identify mappable patterns  for different human activities.Discontentment with the quantitative revolution and its dehumanised manner of doing geography led to the emergence of three new schools of thought of human geography in the 1970s. Human geography was made more relevant to the socio-political reality by the emergence of these schools of thought. Consult the box below to know a little bit more about these schools of thought.The grand generalisations and the applicability of universal theories to explain the human conditions were questioned. The importance of understanding each local context in its own right was emphasised.ApproachesExploration and descriptionRegional analysisAreal differentiationSpatial organisationEmergence of humanistic, radical and behavioural schoolsPost-modernism in geographyPeriodEarly Colonial periodLater Colonial period1930s through the inter-War periodLate 1950s to the late 1960s1970s1990s2021-226 Fundamentals of Human GeographyTable 1.2: Human Geography and Sister Disciplines of Social Sciences'}\n"
          ]
        }
      ]
    },
    {
      "cell_type": "code",
      "source": [
        "header_dict"
      ],
      "metadata": {
        "colab": {
          "base_uri": "https://localhost:8080/"
        },
        "id": "lkOV-z7ZZ6h2",
        "outputId": "1df7a50f-f26e-4688-a55a-c5715e673522"
      },
      "execution_count": 83,
      "outputs": [
        {
          "output_type": "execute_result",
          "data": {
            "text/plain": [
              "{'Chapter-1': '2021-222 Fundamentals of Human Geographyphenomena are described in metaphors using symbols from the human anatomy. We often talk of  the ‘face’ of the earth, ‘eye’ of the storm, ‘mouth’ of the river, ‘snout’ (nose) of the glacier, ‘neck’ of the isthmus and ‘profile’ of the soil. Similarly regions, villages, towns have been described as ‘organisms’. German geographers describe the ‘state/country’ as a ‘living organism’. Networks of road, railways and water ways have often been described as “arteries of circulation”. Can you collect such terms and expressions from your own language? The basic questions now arises, can we separate nature and human when they are so intricately intertwined?',\n",
              " 'Human Geography Defined': '• “Human geography is the synthetic study of relationship between human societies and earth’s surface”.                                  RatzelSynthesis has been emphasised in the above definition.• “Human geography is the study of “the changing relationship between the unresting man and the unstable earth.”Ellen C. SempleDynamism in the relationship is the keyword in Semple’s definition.• “Conception resulting from a more synthetic knowledge of thephysical laws governing our earth and of the relations between the living beings which inhabit it”.Paul Vidal de la BlacheHuman geography offers a new conception of the interrelationships between earth and human beings.',\n",
              " 'Humanisation of Nature': 'Winters in the town of Trondheim mean fierce winds and heavy snow. The skies are dark for months. Kari drives to work in the dark at 8 am. She has special tyres for the winter and keeps the headlights of her powerful car switched on. Her office is artificially heated at a comfortable 23 degrees Celsius. The campus of the university she works in is built under a huge glass dome. This dome keeps the snow out in winter and lets in the sunshine in the summer. The temperature is controlled carefully and there is adequate lighting. Even though fresh vegetables and plants don’t grow in such harsh weather, Kari keeps an orchid on her desk and enjoys eating tropical fruits like baa and kiwi. These are flown in from warmer areas regularly. With a click of the mouse, Kari can network with colleagues in New Delhi. She frequently takes a morning flight to London and returns in the evening in time to watch her favourite television serial. Though Kari is fifty-eight years old, she is fitter and looks younger than many thirty- year- olds in other parts of the world.2021-224 Fundamentals of Human GeographyCan you imagine what has made such a life style possible? It is technology that has allowed the people of Trondheim and others to overcome the constraints imposed by nature. Do you know about some other such instances? Such examples are not difficult to find. A geographer, Griffith Taylor introduced another concept which reflects a middle path (Madhyam Marg) between the two ideas of environmental determinism  and  possibilism . He termed it as  Neodeterminism  or  stop and go determinism . Those of you who live in cities and those who have visited a city, might have seen that traffic is regulated by lights on the cross-roads. Red light means ‘stop’, amber light provides a gap between red and green lights ‘to get set’ and green light means ‘go’. The concept shows that neither is there a situation of absolute necessity (environmental determinism) nor is there a condition of absolute freedom (possibilism). It means that human beings can conquer nature by obeying it.  They have to respond to the red signals and can proceed in their pursuits of development when nature permits the modifications. It means that possibilities can be created within the limits which do not damage the environment and there is no free run without accidents. The free run which the developed economies attempted to take has already resulted in the green house effect, ozone layer depletion, global warming, receding glaciers and degrading lands. The neo-determinism conceptually attempts to bring a balance nullifying the ‘either’ ‘or’ dichotomy.Human Geography through the Corridors of TimeThe process of adaptation, adjustment with and modification of the environment started with the appearance of human beings over the surface of the earth in different ecological niches. Thus, if we imagine the beginning of human geography with the interaction of environment and human beings, it has its roots deep in history. Thus, the concerns of human geography have a long temporal continuum though the approaches to articulate them have changed over time. This dynamism inapproaches and thrusts shows the vibrant nature of the discipline. Earlier there was little interaction between different societies and the knowledge about each other was limited. Travellers and explorers used to disseminate information about the areas of their visits. Navigational skills were not developed and voyages were fraught with dangers. The late fifteenth century witnessed attempts of explorations in Europe and slowly the myths and mysteries about countries and people started to open up. The colonial period provided impetus to further explorations in order to access the resources of the regions and to obtain inventorised information. The intention here is not to present an in-depth historical account but to make you aware of the processes of steady development of human geography. The summarised Table 1.1 will introduce you to the broad stages and the thrust of human geography as a sub-field of geography.• Welfare or humanistic school of thought in human geography was mainly concerned with the different aspects of social well-being of the people. These included aspects such as housing, health and education. Geographers have already introduced a paper as Geography of Social well-being in the Post Graduate curriculum’.• Radical school of thought employed Marxian theory to explain the basic cause of poverty, deprivation and social inequality. Contemporary social problems were related to the development of capitalism.• Behavioural school of thought laid great emphasis on lived experience and also on the perception of space by social categories based on ethnicity, race and religion, etc.Fields and Sub-fields of Human GeographyHuman geography, as you have seen, attempts to explain the relationship between all elements of human life and the space they occur over. Thus, human geography assumes a highly inter-disciplinary nature. It develops close2021-22Human Geography: Nature and Scope5Table 1.1: Broad Stages and Thrust of Human Geographyinterface with other sister disciplines in social sciences in order to understand and explain human elements on the surface of the earth. With the expansion of knowledge, new sub- fields emerge and it has also happened to human geography. Let us examine these fields and sub-fields of Human Geography (Table 1.2). You would have noticed that the list is large and comprehensive. It reflects theexpanding realm of human geography. The boundaries between sub-fields often overlap. What follows in this book in the form of chapters will provide you a fairly widespread coverage of different aspects of human geography. The exercises, the activities and the case studies will provide you with some empirical instances so as to have a better understanding of its subject matter.Broad FeaturesImperial and trade interests prompted the discovery and exploration of new areas. An encyclopaedic description of the area formed an important aspect of the geographer’s account.Elaborate description of all aspects of a region were undertaken. The idea was that all the regions were part of a whole, i.e. (the earth); so, understanding the parts in totality would lead to an understanding of the whole.The focus was on identifying the uniqueness of any region and understanding how and why it was different from others.Marked by the use of computers and sophisticated statistical tools. Laws of physics were often applied to map and analyse human phenomena. This phase was called the quantitative revolution. The main objective was to identify mappable patterns  for different human activities.Discontentment with the quantitative revolution and its dehumanised manner of doing geography led to the emergence of three new schools of thought of human geography in the 1970s. Human geography was made more relevant to the socio-political reality by the emergence of these schools of thought. Consult the box below to know a little bit more about these schools of thought.The grand generalisations and the applicability of universal theories to explain the human conditions were questioned. The importance of understanding each local context in its own right was emphasised.ApproachesExploration and descriptionRegional analysisAreal differentiationSpatial organisationEmergence of humanistic, radical and behavioural schoolsPost-modernism in geographyPeriodEarly Colonial periodLater Colonial period1930s through the inter-War periodLate 1950s to the late 1960s1970s1990s2021-226 Fundamentals of Human GeographyTable 1.2: Human Geography and Sister Disciplines of Social Sciences',\n",
              " 'NATURE OF HUMAN GEOGRAPHY': 'Human geography studies the inter-relationship between the physical environment and socio- cultural environment created by human beings through mutual interaction with each other. Youhave already studied the elements of physical environment in class XI in the book entitled Fundamentals of Physical Geography  (NCERT 2006). You know that these elements are landforms, soils, climate, water, natural vegetation and diverse flora and fauna. Can you make a list of elements which human beings have created through their activities on the stage provided by the physical environment? Houses, villages, cities, road-rail networks, industries, farms, ports, items of our daily use and all other elements of material culture have been created by human beings using the resources provided by the physical environment. While physical environment has been greatly modified by human beings, it has also, in turn, impacted human lives.Naturalisation of Humans and Humanisation of NatureHuman beings interact with their physical environment with the help of technology. It is not important what human beings produce and create but it is extremely important ‘with the help of what tools and techniques do they produce and create’. Technology indicates the level of cultural development of society. Human beings were able to develop technology after they developed better understanding of natural laws. For example, the understanding of concepts of friction and heat helped us discover fire. Similarly, understanding of the secrets of DNA and genetics enabled us to conquer many diseases. We use the laws of aerodynamics to develop faster planes. You can see that knowledge about Nature is extremely important to develop technology and technology loosens the shackles of environment on human beings. In the early stages of their interaction with their natural environment humans were greatly influenced by it. They adapted to the dictates of Nature. This is so because the level of technology was very low and the stage of human social development was also primitive. This type of interaction between primitive human society and strong forces of nature was termed as  environmental determinism . At that stage of very low technological development we can imagine the presence of a naturalised human, who listened to Nature, was afraid of its fury and worshipped it.2021-22Human Geography: Nature and Scope3',\n",
              " 'Nature and Scope': 'You have already studied ‘Geography as a Discipline’ in Chapter I of the book, Fundamentals of Physical Geography  (NCERT, 2006). Do you recall the contents? This chapter has broadly covered and introduced you to the nature of geography. You are also acquainted with the important branches that sprout from the body of geography. If you re-read the chapter you will be able to recall the link of human geography with the mother discipline i.e. geography. As you know geography as a field of study is integrative, empirical, and practical. Thus, the reach of geography is extensive and each and every event or phenomenon which varies over space and time can be studied geographically. How do you see the earth’s surface? Do you realise that the earth comprises two major components: nature (physical environment) and life forms including human beings? Make a list of physical and human components of your surroundings. Physical geography studies physical environment and human geography studies “the relationship between the physical/natural and the human worlds, the spatial distributions of human phenomena and how they come about, the social and economic differences between different parts of the world”.1You are already aware of the fact that the core concern of geography as a discipline is to understand the earth as home of human beings and to study all those elements which have sustained them. Thus, emphasis is on study of nature and human beings. You will realise that geography got subjected to dualism and the wide-ranging debates started whether geography as a discipline should be a  law making/theorising (nomothetic)  or descriptive  (idiographic). Whether its subject matter should be organised and approach of the study should be  regional  or  systematic ? Whether geographical phenomena be interpreted theoretically or through historic- institutional approach? These have been issues for intellectual exercise but finally you will appreciate that the dichotomy between physical and human is not a very valid one because nature and human are inseparable elements and should be seen holistically. It is interesting to note that both physical and human1 Agnew J. Livingstone, David N. and Rogers, A.; (1996) Blackwell Publishing Limited, Malden, U.S.A. p. 1 and 2.',\n",
              " 'The Naturalisation of Humans': 'Benda lives in the wilds of the Abujh Maad area of central India. His village consists of three huts deep in the wilds. Not even birds or stray dogs that usually crowd villages can be seen in these areas. Wearing a small loin cloth and armed with his axe he slowly surveys the  penda  (forest) where his tribe practices a primitive form of agriculture called shifting cultivation. Benda and his friends burn small patches of forest to clear them for cultivation. The ash is used for making the soil fertile. Benda is happy that the Mahua trees around him are in bloom. How lucky I am to be a part of this beautiful universe, he thinks as he looks up to see the Mahua, Palash and Sal trees that have sheltered him since childhood. Crossing the penda in a gliding motion, Benda makes his way to a stream. As he bends down to scoop up a palmful of water, he remembers to thank Loi-Lugi, the spirit of the forest for allowing him to quench his thirst. Moving on with his friends, Benda chews on succulent leaves and roots. The boys have been trying to collect Gajjhara and Kuchla, from the forest. These are special plants that Benda and his people use. He hopes the spirits of the forest will be kind and lead him to these herbs. These are needed to barter in the madhai or tribal fair coming up the next full moon. He closes his eyes and tries hard to recall what the elders had taught him about these herbs and the places they are found in. He wishes he had listened more carefully. Suddenly there is a rustling of leaves. Benda and his friends know it is the outsiders who have come searching for them in the wilds. In a single fluid motion Benda and his friends disappear behind the thick canopy of trees and become one with the spirit of the forest.The story in the box represents the direct relationship of a household belonging to an economically primitive society with nature. Read about other primitive societies which live in complete harmony with their natural environment. You will realise that in all such cases nature is a powerful force, worshipped, revered and conserved. There is direct dependence ofhuman beings on nature for resources which sustain them. The physical environment for such societies becomes the “Mother Nature”. The people begin to understand their environment and the forces of nature with the passage of time. With social and cultural development, humans develop better and more efficient technology. They move from a state of necessity to a state of freedom. They create possibilities with the resources obtained from the environment. The human activities create cultural landscape. The imprints of human activities are created everywhere; health resorts on highlands, huge urban sprawls, fields, orchards and pastures in plains and rolling hills, ports on the coasts, oceanic routes on the oceanic surface and satellites in the space. The earlier scholars termed this as  possibilism . Nature provides opportunities and human being make use of these and slowly nature gets humanised and starts bearing the imprints of human endeavour.'}"
            ]
          },
          "metadata": {},
          "execution_count": 83
        }
      ]
    }
  ],
  "metadata": {
    "kernelspec": {
      "display_name": "Python 3 (ipykernel)",
      "language": "python",
      "name": "python3"
    },
    "language_info": {
      "codemirror_mode": {
        "name": "ipython",
        "version": 3
      },
      "file_extension": ".py",
      "mimetype": "text/x-python",
      "name": "python",
      "nbconvert_exporter": "python",
      "pygments_lexer": "ipython3",
      "version": "3.8.3"
    },
    "colab": {
      "name": "PDF_pre_processing_using_PyMuPDF.ipynb",
      "provenance": [],
      "collapsed_sections": [],
      "include_colab_link": true
    },
    "accelerator": "GPU"
  },
  "nbformat": 4,
  "nbformat_minor": 0
}